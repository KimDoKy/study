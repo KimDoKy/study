{
 "cells": [
  {
   "cell_type": "code",
   "execution_count": 1,
   "metadata": {},
   "outputs": [],
   "source": [
    "image_url = \"http://www.city.kr/files/attach/images/1326/870/981/008/5a642a372ab4abf1c6ec2024b876dcfd.jpg\""
   ]
  },
  {
   "cell_type": "code",
   "execution_count": 17,
   "metadata": {},
   "outputs": [],
   "source": [
    "import requests\n",
    "\n",
    "image_binary = requests.get(image_url).content\n",
    "\n",
    "with open(\"high_image.png\", \"wb\") as f:\n",
    "    f.write(image_binary)"
   ]
  },
  {
   "cell_type": "code",
   "execution_count": 28,
   "metadata": {},
   "outputs": [],
   "source": [
    "from PIL import Image\n",
    "\n",
    "high_image = Image.open(\"high_image.png\")"
   ]
  },
  {
   "cell_type": "code",
   "execution_count": 20,
   "metadata": {},
   "outputs": [],
   "source": [
    "from pilkit.processors import Thumbnail\n",
    "\n",
    "processor = Thumbnail(width=300, height=300)"
   ]
  },
  {
   "cell_type": "code",
   "execution_count": 21,
   "metadata": {},
   "outputs": [],
   "source": [
    "thumb_image = processor.process(high_image)"
   ]
  },
  {
   "cell_type": "code",
   "execution_count": 32,
   "metadata": {},
   "outputs": [],
   "source": [
    "thumb_image.save(\"thumb-300x300.png\")\n",
    "\n",
    "# OSError: cannot write mode RGBA as JPEG 이슈로 convert 과정이 필요함.\n",
    "thumb_image = thumb_image.convert(\"RGB\")\n",
    "\n",
    "for quality in [100, 80, 60, 40, 20]:\n",
    "    thumb_image.save(\"thumb-300x300-{}.jpg\".format(quality), quality=quality)"
   ]
  },
  {
   "cell_type": "markdown",
   "metadata": {},
   "source": []
  }
 ],
 "metadata": {
  "kernelspec": {
   "display_name": "Python 3",
   "language": "python",
   "name": "python3"
  },
  "language_info": {
   "codemirror_mode": {
    "name": "ipython",
    "version": 3
   },
   "file_extension": ".py",
   "mimetype": "text/x-python",
   "name": "python",
   "nbconvert_exporter": "python",
   "pygments_lexer": "ipython3",
   "version": "3.5.2"
  }
 },
 "nbformat": 4,
 "nbformat_minor": 2
}

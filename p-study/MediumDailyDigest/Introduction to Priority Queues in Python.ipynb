{
 "cells": [
  {
   "cell_type": "markdown",
   "metadata": {},
   "source": [
    "# [Introduction to Priority Queues in Python](https://towardsdatascience.com/introduction-to-priority-queues-in-python-83664d3178c3)"
   ]
  },
  {
   "cell_type": "markdown",
   "metadata": {},
   "source": [
    "## `list`를 사용한 우선순위큐"
   ]
  },
  {
   "cell_type": "code",
   "execution_count": 1,
   "metadata": {},
   "outputs": [
    {
     "name": "stdout",
     "output_type": "stream",
     "text": [
      "(4, 'Stacy')\n"
     ]
    }
   ],
   "source": [
    "customers = []\n",
    "\n",
    "customers.append((2, \"Harry\"))\n",
    "\n",
    "customers.append((3, \"Charles\"))\n",
    "customers.sort(reverse = True)\n",
    "\n",
    "customers.append((1, \"Riya\"))\n",
    "customers.sort(reverse = True)\n",
    "\n",
    "customers.append((4, \"Stacy\"))\n",
    "customers.sort(reverse = True)\n",
    "\n",
    "print(customers.pop(0))"
   ]
  },
  {
   "cell_type": "code",
   "execution_count": 2,
   "metadata": {},
   "outputs": [
    {
     "data": {
      "text/plain": [
       "[(3, 'Charles'), (2, 'Harry'), (1, 'Riya')]"
      ]
     },
     "execution_count": 2,
     "metadata": {},
     "output_type": "execute_result"
    }
   ],
   "source": [
    "customers"
   ]
  },
  {
   "cell_type": "markdown",
   "metadata": {},
   "source": [
    "`0(n log n)`으로 항목이 추가할때마다 우선순위를 유지하기 위한 정렬로 시간이 걸리기 때문에, 삽입 횟수가 적을때만 효율적이다."
   ]
  },
  {
   "cell_type": "markdown",
   "metadata": {},
   "source": [
    "## `heapq`를 사용한 우선순위큐"
   ]
  },
  {
   "cell_type": "markdown",
   "metadata": {},
   "source": [
    "최소값을 꺼내올 때 `0(log n)`의 시간 복잡도를 가진다."
   ]
  },
  {
   "cell_type": "code",
   "execution_count": 6,
   "metadata": {},
   "outputs": [
    {
     "name": "stdout",
     "output_type": "stream",
     "text": [
      "(1, 'Riya')\n",
      "(2, 'Harry')\n",
      "(3, 'Charles')\n",
      "(4, 'Stacy')\n"
     ]
    }
   ],
   "source": [
    "import heapq\n",
    "\n",
    "customers = []\n",
    "\n",
    "heapq.heappush(customers, (2, \"Harry\"))\n",
    "heapq.heappush(customers, (3, \"Charles\"))\n",
    "heapq.heappush(customers, (1, \"Riya\"))\n",
    "heapq.heappush(customers, (4, \"Stacy\"))\n",
    "\n",
    "while customers:\n",
    "    print(heapq.heappop(customers))"
   ]
  },
  {
   "cell_type": "markdown",
   "metadata": {},
   "source": [
    "## `queue.PriorityQueue`를 사용한 우선순위큐"
   ]
  },
  {
   "cell_type": "markdown",
   "metadata": {},
   "source": [
    "`PriorityQueue`는 내부적으로 `heapq`으로 구현되어 있어서, 동일한 시간 복잡도를 갖는다.  \n",
    "\n",
    "하지만 `heapq`와 두 가지 차이점이 있다.  \n",
    "\n",
    "- 동기화하기 때문에 멀티스레딩을 지원한다.\n",
    "- `heapq`의 함수 기반 인터페이스 대신 클래스 인터페이스이다.\n",
    "\n",
    "`PriorityQueue`는 일반적으로 사용하는 OOP 스타일이다."
   ]
  },
  {
   "cell_type": "code",
   "execution_count": 1,
   "metadata": {},
   "outputs": [
    {
     "name": "stdout",
     "output_type": "stream",
     "text": [
      "(1, 'Riya')\n",
      "(2, 'Harry')\n",
      "(3, 'Charles')\n",
      "(4, 'Stacy')\n"
     ]
    }
   ],
   "source": [
    "from queue import PriorityQueue\n",
    "\n",
    "customers = PriorityQueue()\n",
    "\n",
    "customers.put((2, \"Harry\"))\n",
    "customers.put((3, \"Charles\"))\n",
    "customers.put((1, \"Riya\"))\n",
    "customers.put((4, \"Stacy\"))\n",
    "\n",
    "while not customers.empty():\n",
    "    next_item = customers.get()\n",
    "    print(next_item)"
   ]
  },
  {
   "cell_type": "markdown",
   "metadata": {},
   "source": [
    "# [Priority Queue in Python](geeksforgeeks.org/priority-queue-in-python/)"
   ]
  },
  {
   "cell_type": "markdown",
   "metadata": {},
   "source": [
    "우선 순위 큐는 다음의 특성을 가진 큐의 확장이다.\n",
    "\n",
    "- 우선 순위가 높은 요소가 우선 순위가 낮은 요소보다 먼저 큐에 대기\n",
    "- 두 요소의 우선 순위가 동일하면 대기열의 순서에 따라 리턴"
   ]
  },
  {
   "cell_type": "code",
   "execution_count": 2,
   "metadata": {},
   "outputs": [
    {
     "name": "stderr",
     "output_type": "stream",
     "text": [
      "ERROR:root:Internal Python error in the inspect module.\n",
      "Below is the traceback from this internal error.\n",
      "\n"
     ]
    },
    {
     "name": "stdout",
     "output_type": "stream",
     "text": [
      "12 1 14 7\n",
      "14\n",
      "12\n",
      "7\n",
      "1\n",
      "\n",
      "Traceback (most recent call last):\n",
      "  File \"<ipython-input-2-ffe7c7aaaef8>\", line 21, in delete\n",
      "    item = self.queue[max]\n",
      "IndexError: list index out of range\n",
      "\n",
      "During handling of the above exception, another exception occurred:\n",
      "\n",
      "Traceback (most recent call last):\n",
      "  File \"/usr/local/var/pyenv/versions/3.7.3/envs/study/lib/python3.7/site-packages/IPython/core/interactiveshell.py\", line 3319, in run_code\n",
      "    exec(code_obj, self.user_global_ns, self.user_ns)\n",
      "  File \"<ipython-input-2-ffe7c7aaaef8>\", line 37, in <module>\n",
      "    print(myQueue.delete())\n",
      "  File \"<ipython-input-2-ffe7c7aaaef8>\", line 27, in delete\n",
      "    sys.exit()\n",
      "SystemExit\n",
      "\n",
      "During handling of the above exception, another exception occurred:\n",
      "\n",
      "Traceback (most recent call last):\n",
      "  File \"/usr/local/var/pyenv/versions/3.7.3/envs/study/lib/python3.7/site-packages/IPython/core/ultratb.py\", line 1151, in get_records\n",
      "    return _fixed_getinnerframes(etb, number_of_lines_of_context, tb_offset)\n",
      "  File \"/usr/local/var/pyenv/versions/3.7.3/envs/study/lib/python3.7/site-packages/IPython/core/ultratb.py\", line 319, in wrapped\n",
      "    return f(*args, **kwargs)\n",
      "  File \"/usr/local/var/pyenv/versions/3.7.3/envs/study/lib/python3.7/site-packages/IPython/core/ultratb.py\", line 353, in _fixed_getinnerframes\n",
      "    records = fix_frame_records_filenames(inspect.getinnerframes(etb, context))\n",
      "  File \"/usr/local/var/pyenv/versions/3.7.3/lib/python3.7/inspect.py\", line 1502, in getinnerframes\n",
      "    frameinfo = (tb.tb_frame,) + getframeinfo(tb, context)\n",
      "AttributeError: 'tuple' object has no attribute 'tb_frame'\n"
     ]
    },
    {
     "ename": "SystemExit",
     "evalue": "",
     "output_type": "error",
     "traceback": [
      "An exception has occurred, use %tb to see the full traceback.\n",
      "\u001b[0;31m---------------------------------------------------------------------------\u001b[0m",
      "\nDuring handling of the above exception, another exception occurred:\n",
      "\u001b[0;31mSystemExit\u001b[0m\n"
     ]
    }
   ],
   "source": [
    "class PriorityQueue(object):\n",
    "    \n",
    "    def __init__(self):\n",
    "        self.queue = []\n",
    "        \n",
    "    def __str__(self):\n",
    "        return ' '.join([str(i) for i in self.queue])\n",
    "    \n",
    "    def isEmpty(self):\n",
    "        return len(self.queue) == []\n",
    "    \n",
    "    def insert(self, data):\n",
    "        self.queue.append(data)\n",
    "        \n",
    "    def delete(self):\n",
    "        try:\n",
    "            max = 0\n",
    "            for i in range(len(self.queue)):\n",
    "                if self.queue[i] > self.queue[max]:\n",
    "                    max = i\n",
    "            item = self.queue[max]\n",
    "            del self.queue[max]\n",
    "            return item\n",
    "        except IndexError as e:\n",
    "            print()\n",
    "            import sys\n",
    "            sys.exit()\n",
    "            \n",
    "\n",
    "myQueue = PriorityQueue() \n",
    "myQueue.insert(12) \n",
    "myQueue.insert(1) \n",
    "myQueue.insert(14) \n",
    "myQueue.insert(7) \n",
    "print(myQueue)\n",
    "while not myQueue.isEmpty():\n",
    "    print(myQueue.delete()) "
   ]
  },
  {
   "cell_type": "code",
   "execution_count": null,
   "metadata": {},
   "outputs": [],
   "source": []
  }
 ],
 "metadata": {
  "kernelspec": {
   "display_name": "Python 3",
   "language": "python",
   "name": "python3"
  },
  "language_info": {
   "codemirror_mode": {
    "name": "ipython",
    "version": 3
   },
   "file_extension": ".py",
   "mimetype": "text/x-python",
   "name": "python",
   "nbconvert_exporter": "python",
   "pygments_lexer": "ipython3",
   "version": "3.7.3"
  }
 },
 "nbformat": 4,
 "nbformat_minor": 4
}

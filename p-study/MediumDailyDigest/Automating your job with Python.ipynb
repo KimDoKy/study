{
 "cells": [
  {
   "cell_type": "markdown",
   "metadata": {},
   "source": [
    "`PyAutoGUI`는 마우스와 키보드를 제어하기 위한 Python 모듈이다.\n",
    "\n",
    "설치는 pip로 진행\n",
    "\n",
    "```\n",
    "pip install pyautogui\n",
    "```\n",
    "\n",
    "스크립트 내에서 가져오기\n",
    "\n",
    "```\n",
    "import pyautogui as pag\n",
    "```"
   ]
  },
  {
   "cell_type": "code",
   "execution_count": 4,
   "metadata": {},
   "outputs": [],
   "source": [
    "import pyautogui as pag"
   ]
  },
  {
   "cell_type": "markdown",
   "metadata": {},
   "source": [
    "### 키보드 제어"
   ]
  },
  {
   "cell_type": "code",
   "execution_count": 25,
   "metadata": {},
   "outputs": [],
   "source": [
    "# interval: 각 키 수행간의 시간 지연\n",
    "# typewrite()내에서 enter나 shift는 불가능\n",
    "pag.typewrite('Hello world!!', interval=0.25)"
   ]
  },
  {
   "cell_type": "code",
   "execution_count": null,
   "metadata": {},
   "outputs": [],
   "source": [
    "pag.keyDown(\"enter\")"
   ]
  },
  {
   "cell_type": "code",
   "execution_count": 12,
   "metadata": {},
   "outputs": [],
   "source": [
    "pag.keyUp('enter')"
   ]
  },
  {
   "cell_type": "code",
   "execution_count": 19,
   "metadata": {},
   "outputs": [],
   "source": [
    "pag.press('enter')\n",
    "pag.typewrite('hello')\n",
    "pag.press('enter')"
   ]
  },
  {
   "cell_type": "code",
   "execution_count": 22,
   "metadata": {},
   "outputs": [],
   "source": [
    "pag.press(['enter', 'tab', 'enter'])"
   ]
  },
  {
   "cell_type": "code",
   "execution_count": 24,
   "metadata": {},
   "outputs": [],
   "source": [
    "pag.hotkey('ctrl', 'alt', 'delete')"
   ]
  },
  {
   "cell_type": "markdown",
   "metadata": {},
   "source": [
    "## 마우스 제어\n",
    "\n",
    "화면상의 위치는 x, y 직교 좌표로 나타냄.  \n",
    "x는 왼쪽에서 0으로 시작해서 오른쪽으로 증가,  \n",
    "y는 상단에서 0으로 시작해서 아래로 증가한담.\n",
    "\n",
    "\n",
    "```\n",
    "0,0 X 증가-> \n",
    "+ --------------------------- + \n",
    "| | Y 증가 \n",
    "| | | \n",
    "| 1920 x 1080 화면 | | \n",
    "| | V \n",
    "| | \n",
    "| | \n",
    "+ --------------------------- + 1919, 1079\n",
    "```"
   ]
  },
  {
   "cell_type": "code",
   "execution_count": 26,
   "metadata": {},
   "outputs": [
    {
     "data": {
      "text/plain": [
       "Size(width=1440, height=900)"
      ]
     },
     "execution_count": 26,
     "metadata": {},
     "output_type": "execute_result"
    }
   ],
   "source": [
    "# 화면 사이즈 알아내기\n",
    "pag.size()"
   ]
  },
  {
   "cell_type": "code",
   "execution_count": 28,
   "metadata": {},
   "outputs": [],
   "source": [
    "pag.moveTo(600,600)\n",
    "pag.moveTo(100,200,2)\n",
    "\n",
    "pag.move(0,50)\n",
    "\n",
    "pag.dragTo(100, 200, button='left')\n",
    "pag.dragTo(300, 400, 2, button='left')\n",
    "\n",
    "pag.click()\n",
    "pag.click(x=100, y=200) # x=100,y=200 이동후 클릭\n",
    "\n",
    "pag.click(button='right')\n",
    "pag.doubleClick()\n",
    "pag.click(clicks=2)  # 더블클릭\n",
    "pag.click(clicks=2, interval=0.25) # 두번 클릭(클릭 사이에 일시 중지)\n",
    "\n",
    "# 위아래 스크롤\n",
    "pag.scroll(10)\n",
    "pag.scroll(-10)\n",
    "\n",
    "# 좌우 스크롤\n",
    "pag.hscroll(10)\n",
    "pag.hscroll(-10)"
   ]
  },
  {
   "cell_type": "code",
   "execution_count": 29,
   "metadata": {},
   "outputs": [],
   "source": [
    "import webbrowser"
   ]
  },
  {
   "cell_type": "code",
   "execution_count": 30,
   "metadata": {},
   "outputs": [
    {
     "data": {
      "text/plain": [
       "True"
      ]
     },
     "execution_count": 30,
     "metadata": {},
     "output_type": "execute_result"
    }
   ],
   "source": [
    "webbrowser.open_new('google.com')"
   ]
  }
 ],
 "metadata": {
  "kernelspec": {
   "display_name": "Python 3",
   "language": "python",
   "name": "python3"
  },
  "language_info": {
   "codemirror_mode": {
    "name": "ipython",
    "version": 3
   },
   "file_extension": ".py",
   "mimetype": "text/x-python",
   "name": "python",
   "nbconvert_exporter": "python",
   "pygments_lexer": "ipython3",
   "version": "3.7.3"
  }
 },
 "nbformat": 4,
 "nbformat_minor": 4
}

{
 "cells": [
  {
   "cell_type": "markdown",
   "metadata": {},
   "source": [
    "# [How To Flatten a Dictionary With Nested Lists and Dictionaries in Python](https://medium.com/better-programming/how-to-flatten-a-dictionary-with-nested-lists-and-dictionaries-in-python-524fd236365)"
   ]
  },
  {
   "cell_type": "markdown",
   "metadata": {},
   "source": [
    "멀티 레이어 데이터 구조를 테이블 형식으로 만드는 함수 만들기. \n",
    "\n",
    "튜플 등 다른 데이터 유형은 JSON 데이터를 조작할 때 주고 사용되므로 포함되지 않음.  \n",
    "이 함수는 사용자 정의의 구분 기호를 사용하고, 순서를 유지한다."
   ]
  },
  {
   "cell_type": "markdown",
   "metadata": {},
   "source": [
    "제대로 동작하기 위해 재귀가 필요.  \n",
    "\n",
    "순서를 유지하기 위해 `collections`를 사용하여 OrderedDict를 만들어야 한다.\n",
    "\n",
    "```python\n",
    "def flatten(d, sep=\"_\"):\n",
    "    '''\n",
    "    custom 기호가 없을 경우 _를 기본값으로 한다.\n",
    "    '''\n",
    "    import collections\n",
    "    obj = collections.OrderedDict()\n",
    "    \n",
    "    def recurse(t, parent_key=\"\"):\n",
    "        '''\n",
    "        parent_key 변수는 현재 키를 전달하는데 사용되어\n",
    "        이전 키와 새키를 연결한다.\n",
    "        '''\n",
    "        pass\n",
    "    \n",
    "    recure(d)\n",
    "    return obj\n",
    "```"
   ]
  },
  {
   "cell_type": "markdown",
   "metadata": {},
   "source": [
    "JSON와 호환하기 위한 세 가지 타입의 데이터\n",
    "\n",
    "- list/array\n",
    "- dict/obj\n",
    "- 기본 값"
   ]
  },
  {
   "cell_type": "markdown",
   "metadata": {},
   "source": [
    "위 세 가지 타입으로 `recurse()`를 구현한다면.\n",
    "\n",
    "```python\n",
    "def recurse(t, parent_key=\"\"):\n",
    "    \n",
    "    if isinstance(t, list): # list를 반복하고 recurse() call\n",
    "        pass\n",
    "    elif isinstance(t, dict): # dict를 반복하고 recurse() call\n",
    "        pass\n",
    "    else:\n",
    "        obj[parent_key] = t  # parent_key를 사용하고 obj에 저장\n",
    "```"
   ]
  },
  {
   "cell_type": "code",
   "execution_count": null,
   "metadata": {},
   "outputs": [],
   "source": []
  },
  {
   "cell_type": "code",
   "execution_count": 2,
   "metadata": {},
   "outputs": [],
   "source": [
    "def flatten(d, sep=\"_\"):\n",
    "    import collections\n",
    "    \n",
    "    obj = collections.OrderedDict()\n",
    "    \n",
    "    def recurse(t, parent_key=\"\"):\n",
    "        if isinstance(t, list):\n",
    "            for i in range(len(t)):\n",
    "                recurse(t[i], parent_key + sep + str(i) if parent_key else str(i))\n",
    "        elif isinstance(t, dict):\n",
    "            for k, v in t.items():\n",
    "                recurse(v, parent_key + sep + k if parent_key else k)\n",
    "        else:\n",
    "            obj[parent_key] = t\n",
    "            \n",
    "    recurse(d)\n",
    "    \n",
    "    return obj"
   ]
  },
  {
   "cell_type": "code",
   "execution_count": 3,
   "metadata": {},
   "outputs": [],
   "source": [
    "data = {\n",
    "    \"id\": 1,\n",
    "    \"first_name\": \"Jonathan\",\n",
    "    \"last_name\": \"Hsu\",\n",
    "    \"employment_history\": [\n",
    "        {\n",
    "            \"company\": \"Black Belt Academy\",\n",
    "            \"title\": \"Instructor\",\n",
    "            \"something\": {\n",
    "                \"hello\": [1,2,3,{\n",
    "                    \"something\":\"goes\"\n",
    "                }]\n",
    "            }\n",
    "        },\n",
    "        {\n",
    "            \"company\": \"Zerion Software\",\n",
    "            \"title\": \"Solutions Engineer\"\n",
    "        }\n",
    "    ],\n",
    "    \"education\": {\n",
    "        \"bachelors\": \"Information Technology\",\n",
    "        \"masters\": \"Applied Information Technology\",\n",
    "        \"phd\": \"Higher Education\"\n",
    "    }\n",
    "}"
   ]
  },
  {
   "cell_type": "code",
   "execution_count": 4,
   "metadata": {},
   "outputs": [
    {
     "data": {
      "text/plain": [
       "OrderedDict([('id', 1),\n",
       "             ('first_name', 'Jonathan'),\n",
       "             ('last_name', 'Hsu'),\n",
       "             ('employment_history_0_company', 'Black Belt Academy'),\n",
       "             ('employment_history_0_title', 'Instructor'),\n",
       "             ('employment_history_0_something_hello_0', 1),\n",
       "             ('employment_history_0_something_hello_1', 2),\n",
       "             ('employment_history_0_something_hello_2', 3),\n",
       "             ('employment_history_0_something_hello_3_something', 'goes'),\n",
       "             ('employment_history_1_company', 'Zerion Software'),\n",
       "             ('employment_history_1_title', 'Solutions Engineer'),\n",
       "             ('education_bachelors', 'Information Technology'),\n",
       "             ('education_masters', 'Applied Information Technology'),\n",
       "             ('education_phd', 'Higher Education')])"
      ]
     },
     "execution_count": 4,
     "metadata": {},
     "output_type": "execute_result"
    }
   ],
   "source": [
    "flatten(data)"
   ]
  },
  {
   "cell_type": "code",
   "execution_count": 5,
   "metadata": {},
   "outputs": [
    {
     "data": {
      "text/plain": [
       "OrderedDict([('id', 1),\n",
       "             ('first_name', 'Jonathan'),\n",
       "             ('last_name', 'Hsu'),\n",
       "             ('employment_history=0=company', 'Black Belt Academy'),\n",
       "             ('employment_history=0=title', 'Instructor'),\n",
       "             ('employment_history=0=something=hello=0', 1),\n",
       "             ('employment_history=0=something=hello=1', 2),\n",
       "             ('employment_history=0=something=hello=2', 3),\n",
       "             ('employment_history=0=something=hello=3=something', 'goes'),\n",
       "             ('employment_history=1=company', 'Zerion Software'),\n",
       "             ('employment_history=1=title', 'Solutions Engineer'),\n",
       "             ('education=bachelors', 'Information Technology'),\n",
       "             ('education=masters', 'Applied Information Technology'),\n",
       "             ('education=phd', 'Higher Education')])"
      ]
     },
     "execution_count": 5,
     "metadata": {},
     "output_type": "execute_result"
    }
   ],
   "source": [
    "flatten(data, '=')"
   ]
  },
  {
   "cell_type": "markdown",
   "metadata": {},
   "source": [
    "중첩된 데이터는 원래 키로 식별되고, 키는 사용자 지정 구분 기호로 연결된다. 중첩 목록의 경우 인덱스도 포함한다."
   ]
  },
  {
   "cell_type": "markdown",
   "metadata": {},
   "source": [
    "> 이걸 어디에 써먹을지 모르겠다. 나중에 필요하겠지 뭐."
   ]
  },
  {
   "cell_type": "code",
   "execution_count": null,
   "metadata": {},
   "outputs": [],
   "source": []
  }
 ],
 "metadata": {
  "kernelspec": {
   "display_name": "Python 3",
   "language": "python",
   "name": "python3"
  },
  "language_info": {
   "codemirror_mode": {
    "name": "ipython",
    "version": 3
   },
   "file_extension": ".py",
   "mimetype": "text/x-python",
   "name": "python",
   "nbconvert_exporter": "python",
   "pygments_lexer": "ipython3",
   "version": "3.7.3"
  }
 },
 "nbformat": 4,
 "nbformat_minor": 4
}

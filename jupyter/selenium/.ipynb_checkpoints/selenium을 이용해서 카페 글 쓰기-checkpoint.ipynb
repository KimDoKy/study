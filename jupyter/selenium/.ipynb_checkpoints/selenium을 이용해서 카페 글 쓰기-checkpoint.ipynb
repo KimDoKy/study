{
 "cells": [
  {
   "cell_type": "markdown",
   "metadata": {},
   "source": [
    "# Selenium을 이용해서 네이버 카페 글쓰기"
   ]
  },
  {
   "cell_type": "code",
   "execution_count": 8,
   "metadata": {},
   "outputs": [],
   "source": [
    "from selenium import webdriver"
   ]
  },
  {
   "cell_type": "code",
   "execution_count": 9,
   "metadata": {},
   "outputs": [],
   "source": [
    "driver = webdriver.Chrome('../../driver/chromedriver')\n",
    "\n",
    "from getpass import getpass\n",
    "id = input('id: ')\n",
    "pw = getpass('pw: ')"
   ]
  },
  {
   "cell_type": "code",
   "execution_count": 10,
   "metadata": {},
   "outputs": [],
   "source": [
    "# 네이버 로그인\n",
    "driver.get('http://www.naver.com')\n",
    "\n",
    "tag_id = driver.find_element_by_id('id')\n",
    "tag_id.send_keys(id)\n",
    "tag_pw = driver.find_element_by_id('pw')\n",
    "tag_pw.send_keys(pw)\n",
    "tag_pw.submit()"
   ]
  },
  {
   "cell_type": "code",
   "execution_count": 20,
   "metadata": {},
   "outputs": [
    {
     "data": {
      "text/plain": [
       "<selenium.webdriver.remote.webelement.WebElement (session=\"88e2cedc021317a9c2497ed80668a95b\", element=\"0.20623285469249075-5\")>"
      ]
     },
     "execution_count": 20,
     "metadata": {},
     "output_type": "execute_result"
    }
   ],
   "source": [
    "driver.get('https://m.cafe.naver.com/makingfunk')\n",
    "\n",
    "from selenium.webdriver.support.ui import Select\n",
    "# 카페 글쓰기 폼으로 이동\n",
    "driver.find_element_by_css_selector('a[class*=WriteArticle]').click()\n",
    "\n",
    "# 게시판 선택\n",
    "select = Select(driver.find_element_by_name('menuid'))\n",
    "select.select_by_index(1)"
   ]
  },
  {
   "cell_type": "code",
   "execution_count": 22,
   "metadata": {},
   "outputs": [],
   "source": [
    "# 제목 쓰기\n",
    "driver.find_element_by_name('subject').send_keys('test')"
   ]
  },
  {
   "cell_type": "code",
   "execution_count": 26,
   "metadata": {
    "scrolled": true
   },
   "outputs": [],
   "source": [
    "# 내용 쓰기\n",
    "iframe = driver.find_element_by_id('frame')\n",
    "driver.switch_to_frame(iframe)"
   ]
  },
  {
   "cell_type": "code",
   "execution_count": 33,
   "metadata": {},
   "outputs": [],
   "source": [
    "body = driver.find_element_by_tag_name('body')\n",
    "body.click()\n",
    "body.send_keys('test 문구')"
   ]
  },
  {
   "cell_type": "code",
   "execution_count": 34,
   "metadata": {},
   "outputs": [],
   "source": [
    "driver.switch_to_default_content()"
   ]
  },
  {
   "cell_type": "code",
   "execution_count": 36,
   "metadata": {},
   "outputs": [],
   "source": [
    "driver.find_element_by_css_selector('[class*=Submit]').click()"
   ]
  }
 ],
 "metadata": {
  "kernelspec": {
   "display_name": "Python 3",
   "language": "python",
   "name": "python3"
  },
  "language_info": {
   "codemirror_mode": {
    "name": "ipython",
    "version": 3
   },
   "file_extension": ".py",
   "mimetype": "text/x-python",
   "name": "python",
   "nbconvert_exporter": "python",
   "pygments_lexer": "ipython3",
   "version": "3.5.2"
  }
 },
 "nbformat": 4,
 "nbformat_minor": 2
}

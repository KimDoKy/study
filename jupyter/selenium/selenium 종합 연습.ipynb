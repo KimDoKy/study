{
 "cells": [
  {
   "cell_type": "markdown",
   "metadata": {},
   "source": [
    "# Selenium을 이용하여 당일 웹툰 리스트를 카페 게시판에 올리기"
   ]
  },
  {
   "cell_type": "code",
   "execution_count": 216,
   "metadata": {},
   "outputs": [],
   "source": [
    "from selenium import webdriver\n",
    "from bs4 import BeautifulSoup as BS\n",
    "\n",
    "driver = webdriver.Chrome('../../../driver/chromedriver')"
   ]
  },
  {
   "cell_type": "code",
   "execution_count": 217,
   "metadata": {},
   "outputs": [],
   "source": [
    "# 웹툰 리스트 크롤링\n",
    "\n",
    "driver.get('http://comic.naver.com/webtoon/weekday.nhn')\n",
    "html = driver.page_source\n",
    "bsObj = BS(html, 'html.parser')\n",
    "titles = bsObj.select('div.col_selected > div.col_inner > ul > li > a')\n",
    "\n",
    "def toon_list(titles):\n",
    "    web_toon = \"\"\n",
    "    for title in titles:\n",
    "        web_toon += str(title.text+'  '+'http://comic.naver.com'+title.get('href')+'\\n')\n",
    "    return web_toon"
   ]
  },
  {
   "cell_type": "code",
   "execution_count": 218,
   "metadata": {},
   "outputs": [],
   "source": [
    "from getpass import getpass\n",
    "\n",
    "# 네이버 로그인\n",
    "driver.get('http://www.naver.com')\n",
    "\n",
    "id = input('id: ')\n",
    "pw = getpass('pw: ')\n",
    "\n",
    "driver.implicitly_wait(10)\n",
    "tag_id = driver.find_element_by_id('id')\n",
    "tag_id.send_keys(id)\n",
    "tag_pw = driver.find_element_by_id('pw')\n",
    "tag_pw.send_keys(pw)\n",
    "tag_pw.submit()"
   ]
  },
  {
   "cell_type": "code",
   "execution_count": 219,
   "metadata": {},
   "outputs": [],
   "source": [
    "## 카페로 이동\n",
    "driver.get('https://m.cafe.naver.com/askdjango')"
   ]
  },
  {
   "cell_type": "code",
   "execution_count": 220,
   "metadata": {},
   "outputs": [],
   "source": [
    "## 글씨기 메뉴 클릭\n",
    "from selenium.webdriver.support.ui import Select\n",
    "\n",
    "driver.find_element_by_css_selector('a[class*=WriteArticle]').click()"
   ]
  },
  {
   "cell_type": "code",
   "execution_count": 221,
   "metadata": {},
   "outputs": [],
   "source": [
    "## 게시판 선택\n",
    "select = Select(driver.find_element_by_name('menuid'))\n",
    "select.select_by_index(1)\n",
    "\n",
    "## 제목 쓰기 (+ 현재 날짜)\n",
    "import datetime\n",
    "\n",
    "now = datetime.datetime.now()\n",
    "date_now = now.strftime('%Y-%m-%d')\n",
    "\n",
    "driver.find_element_by_name('subject').send_keys(date_now,'네이버 웹툰 리스트')"
   ]
  },
  {
   "cell_type": "code",
   "execution_count": 222,
   "metadata": {},
   "outputs": [],
   "source": [
    "## 내용 쓰기\n",
    "iframe = driver.find_element_by_id('frame')\n",
    "driver.switch_to_frame(iframe)\n",
    "\n",
    "body = driver.find_element_by_id('body')\n",
    "body.send_keys(toon_list(titles))"
   ]
  },
  {
   "cell_type": "code",
   "execution_count": 223,
   "metadata": {},
   "outputs": [],
   "source": [
    "driver.switch_to_default_content()\n",
    "driver.find_element_by_css_selector('[class*=Submit]').click()"
   ]
  },
  {
   "cell_type": "code",
   "execution_count": 224,
   "metadata": {},
   "outputs": [],
   "source": [
    "driver.close()"
   ]
  },
  {
   "cell_type": "code",
   "execution_count": null,
   "metadata": {},
   "outputs": [],
   "source": []
  }
 ],
 "metadata": {
  "kernelspec": {
   "display_name": "Python 3",
   "language": "python",
   "name": "python3"
  },
  "language_info": {
   "codemirror_mode": {
    "name": "ipython",
    "version": 3
   },
   "file_extension": ".py",
   "mimetype": "text/x-python",
   "name": "python",
   "nbconvert_exporter": "python",
   "pygments_lexer": "ipython3",
   "version": "3.5.2"
  }
 },
 "nbformat": 4,
 "nbformat_minor": 2
}

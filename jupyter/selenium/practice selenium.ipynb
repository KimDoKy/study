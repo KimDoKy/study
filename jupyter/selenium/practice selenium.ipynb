{
 "cells": [
  {
   "cell_type": "markdown",
   "metadata": {},
   "source": [
    "# Selenium으로 네이버 로그인 후\n",
    "# 받은 메일함의 첫 페이지 제목 크롤링"
   ]
  },
  {
   "cell_type": "code",
   "execution_count": 37,
   "metadata": {},
   "outputs": [
    {
     "name": "stdout",
     "output_type": "stream",
     "text": [
      "/Users/dokyungkim/Git/DK_study/jupyter\n"
     ]
    }
   ],
   "source": [
    "import os\n",
    "print(os.getcwd()) # confirm path for chrome driver path setting"
   ]
  },
  {
   "cell_type": "code",
   "execution_count": 2,
   "metadata": {},
   "outputs": [
    {
     "name": "stdout",
     "output_type": "stream",
     "text": [
      "id :test\n",
      "pw: ········\n"
     ]
    }
   ],
   "source": [
    "from getpass import getpass\n",
    "id = input('id :')\n",
    "pw = getpass('pw: ')"
   ]
  },
  {
   "cell_type": "code",
   "execution_count": 1,
   "metadata": {},
   "outputs": [],
   "source": [
    "from selenium import webdriver\n",
    "    \n",
    "def naver_mail_title(id, pw):\n",
    "    driver = webdriver.Chrome('../../driver/chromedriver')\n",
    "    driver.get('http://www.naver.com')\n",
    "    tag_id = driver.find_element_by_name('id')\n",
    "    tag_id.send_keys(id)\n",
    "    tag_pw = driver.find_element_by_name('pw')\n",
    "    tag_pw.send_keys(pw)\n",
    "    tag_pw.submit()\n",
    "    driver.get('http://mail.naver.com/')\n",
    "    tag_title = driver.find_elements_by_class_name('mTitle')\n",
    "    for title in tag_title:\n",
    "        print(title.text)\n",
    "        \n",
    "naver_mail_title(id, pw)"
   ]
  },
  {
   "cell_type": "code",
   "execution_count": 63,
   "metadata": {},
   "outputs": [],
   "source": [
    "driver.close()"
   ]
  },
  {
   "cell_type": "code",
   "execution_count": null,
   "metadata": {},
   "outputs": [],
   "source": []
  }
 ],
 "metadata": {
  "kernelspec": {
   "display_name": "Python 3",
   "language": "python",
   "name": "python3"
  },
  "language_info": {
   "codemirror_mode": {
    "name": "ipython",
    "version": 3
   },
   "file_extension": ".py",
   "mimetype": "text/x-python",
   "name": "python",
   "nbconvert_exporter": "python",
   "pygments_lexer": "ipython3",
   "version": "3.5.2"
  }
 },
 "nbformat": 4,
 "nbformat_minor": 2
}

{
 "cells": [
  {
   "cell_type": "markdown",
   "metadata": {},
   "source": [
    "패밀리 레스토랑에 가서, 여러 개의 테이블에 사람을 나누어 앉게 하려고 합니다.  \n",
    "이때, 한 사람만 앉는 테이블이 없게 그룹을 지어야 합니다.  \n",
    "인원수를 나누어 패턴을 구하면 되며, 누가 어디에 앉는지 등은 고려하지 않아도 괜찮습니다.  \n",
    "예를 들어 6명이라면, 다음과 같은 4가지가 됩니다.\n",
    "\n",
    "- 2명 + 2명 + 2명\n",
    "- 2명 + 4명\n",
    "- 3명 + 3명\n",
    "- 6명\n",
    "\n",
    "한 개의 테이블에 앉을 수 있는 사람은 최대 10명입니다.  \n",
    "100명이 하나의 테이블에 나누어 앉는 패턴을 구하세요."
   ]
  },
  {
   "cell_type": "code",
   "execution_count": 5,
   "metadata": {},
   "outputs": [],
   "source": [
    "M = 10\n",
    "N = 100\n",
    "\n",
    "memo = {}"
   ]
  },
  {
   "cell_type": "code",
   "execution_count": 7,
   "metadata": {},
   "outputs": [],
   "source": [
    "def check(remain, pre):\n",
    "    # 이전에 계산한 적 있다면, 메모했던 값을 반환\n",
    "    key = str([remain, pre])\n",
    "    if key in memo:\n",
    "        return memo[key]\n",
    "    # 배치할 사람이 더 이상 없으면 종료\n",
    "    if remain < 0:\n",
    "        return 0\n",
    "    elif remain == 0:\n",
    "        return 1\n",
    "    # 재귀적 처리\n",
    "    cnt = 0\n",
    "    for i in range(pre, M+1):\n",
    "        cnt += check(remain - i, i)\n",
    "    # 계산 결과를 메모하면서 반환\n",
    "    memo[key] = cnt\n",
    "    return cnt"
   ]
  },
  {
   "cell_type": "code",
   "execution_count": 8,
   "metadata": {},
   "outputs": [
    {
     "name": "stdout",
     "output_type": "stream",
     "text": [
      "437420\n"
     ]
    }
   ],
   "source": [
    "print(check(N, 2))"
   ]
  },
  {
   "cell_type": "markdown",
   "metadata": {},
   "source": [
    "- Memoization: 무언가를 재귀적으로 처리할 때, 한 번 구한 결과를 저장하여 재사용하는 방법\n",
    "- Dynamic programming: 반복문을 사용할 때, 한 번 사용한 계산 결과를 저장해 두고 활용하는 것"
   ]
  }
 ],
 "metadata": {
  "kernelspec": {
   "display_name": "Python 3",
   "language": "python",
   "name": "python3"
  },
  "language_info": {
   "codemirror_mode": {
    "name": "ipython",
    "version": 3
   },
   "file_extension": ".py",
   "mimetype": "text/x-python",
   "name": "python",
   "nbconvert_exporter": "python",
   "pygments_lexer": "ipython3",
   "version": "3.5.2"
  }
 },
 "nbformat": 4,
 "nbformat_minor": 2
}

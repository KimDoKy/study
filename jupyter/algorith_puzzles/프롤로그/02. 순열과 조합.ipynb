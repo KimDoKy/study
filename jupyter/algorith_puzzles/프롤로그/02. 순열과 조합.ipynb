{
 "cells": [
  {
   "cell_type": "markdown",
   "metadata": {},
   "source": [
    "'n개 중에서 r개를 추출하는 경우의 수'  \n",
    "정렬 방법을 고려하면 **순열**  \n",
    "선택 방법만 생각하면 **조합**"
   ]
  },
  {
   "cell_type": "markdown",
   "metadata": {},
   "source": [
    "### 순열\n",
    "\n",
    "```\n",
    "nPr = n * (n-1) * (n-2) * ... * (n-r+1)\n",
    "```"
   ]
  },
  {
   "cell_type": "code",
   "execution_count": 1,
   "metadata": {},
   "outputs": [],
   "source": [
    "def nPr(n, r):\n",
    "    result = 1\n",
    "    for i in range(n-r+1, n+1):\n",
    "        result *= i\n",
    "    return result"
   ]
  },
  {
   "cell_type": "markdown",
   "metadata": {},
   "source": [
    "#### 조합\n",
    "\n",
    "```\n",
    "nCr = n! / n!(n-r)! = n * (n-1) * (n-2) * ... * (n-r+1) / r!\n",
    "```"
   ]
  },
  {
   "cell_type": "code",
   "execution_count": 4,
   "metadata": {},
   "outputs": [],
   "source": [
    "memo = {}\n",
    "memo[0] = 1\n",
    "\n",
    "def factorial(n):\n",
    "    global memo\n",
    "    if n in memo:\n",
    "        return memo[n]\n",
    "    memo[n] = n * factorial(n-1)\n",
    "    return memo[n]\n",
    "\n",
    "def nCr(n, r):\n",
    "    return factorial(n) / (factorial(r) * factorial(n-r))"
   ]
  },
  {
   "cell_type": "code",
   "execution_count": 5,
   "metadata": {},
   "outputs": [
    {
     "name": "stdout",
     "output_type": "stream",
     "text": [
      "120.0\n"
     ]
    }
   ],
   "source": [
    "print(nCr(10, 3))"
   ]
  },
  {
   "cell_type": "markdown",
   "metadata": {},
   "source": [
    "n의 값이 커져, 분모와 분자의 값이 커지면 부동소수점까지 계산하는 프로그래밍 언어에서는 제대로 계산을 못 할 수 있다.\n",
    "\n",
    "```\n",
    "nCr = n-1Cr-1 + n-1Cr\n",
    "```"
   ]
  },
  {
   "cell_type": "code",
   "execution_count": 6,
   "metadata": {},
   "outputs": [],
   "source": [
    "memo = {}\n",
    "\n",
    "def nCr(n, r):\n",
    "    note = str([n, r])\n",
    "    if note in memo:\n",
    "        return memo[note]\n",
    "    if (r == 0) or (r == n):\n",
    "        return 1\n",
    "    memo[note] = nCr(n-1, r-1) + nCr(n-1, r)\n",
    "    return memo[note]"
   ]
  },
  {
   "cell_type": "code",
   "execution_count": 7,
   "metadata": {},
   "outputs": [
    {
     "name": "stdout",
     "output_type": "stream",
     "text": [
      "120\n"
     ]
    }
   ],
   "source": [
    "print(nCr(10,3))"
   ]
  },
  {
   "cell_type": "markdown",
   "metadata": {},
   "source": [
    "위 방법은 n이 커져서 재귀가 깊어지면 스택 에러가 발생함.  \n",
    "\n",
    "```\n",
    "nCr = nCr-1 * n-r+1/r, nC0 = 1\n",
    "```"
   ]
  },
  {
   "cell_type": "code",
   "execution_count": 8,
   "metadata": {},
   "outputs": [],
   "source": [
    "def nCr(n, r):\n",
    "    result = 1\n",
    "    for i in range(1, r+1):\n",
    "        result = result * (n-i+1) / i\n",
    "    return result"
   ]
  },
  {
   "cell_type": "code",
   "execution_count": 9,
   "metadata": {},
   "outputs": [
    {
     "name": "stdout",
     "output_type": "stream",
     "text": [
      "120.0\n"
     ]
    }
   ],
   "source": [
    "print(nCr(10,3))"
   ]
  }
 ],
 "metadata": {
  "kernelspec": {
   "display_name": "Python 3",
   "language": "python",
   "name": "python3"
  },
  "language_info": {
   "codemirror_mode": {
    "name": "ipython",
    "version": 3
   },
   "file_extension": ".py",
   "mimetype": "text/x-python",
   "name": "python",
   "nbconvert_exporter": "python",
   "pygments_lexer": "ipython3",
   "version": "3.5.2"
  }
 },
 "nbformat": 4,
 "nbformat_minor": 2
}

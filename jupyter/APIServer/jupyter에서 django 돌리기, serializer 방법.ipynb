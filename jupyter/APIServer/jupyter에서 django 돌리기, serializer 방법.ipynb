{
 "cells": [
  {
   "cell_type": "markdown",
   "metadata": {},
   "source": [
    "# Jupyter Notebook에서 Django 돌리기"
   ]
  },
  {
   "cell_type": "code",
   "execution_count": 1,
   "metadata": {},
   "outputs": [],
   "source": [
    "import django\n",
    "import os\n",
    "\n",
    "SECRET_KEY = \"apiserver\"\n",
    "DATABASES = {\n",
    "    'default': {\n",
    "        'ENGINE': 'django.db.backends.sqlite3',\n",
    "        'NAME': ':memory:',\n",
    "    }\n",
    "}\n",
    "ROOT_URLCONF = '__main__'\n",
    "\n",
    "urls = []\n",
    "\n",
    "os.environ['DJANGO_SETTINGS_MODULE'] = '__main__'\n",
    "\n",
    "django.setup()"
   ]
  },
  {
   "cell_type": "code",
   "execution_count": 2,
   "metadata": {},
   "outputs": [
    {
     "data": {
      "text/plain": [
       "'2.0.1'"
      ]
     },
     "execution_count": 2,
     "metadata": {},
     "output_type": "execute_result"
    }
   ],
   "source": [
    "django.get_version()"
   ]
  },
  {
   "cell_type": "markdown",
   "metadata": {},
   "source": [
    "# Form 클래스 사용하기"
   ]
  },
  {
   "cell_type": "code",
   "execution_count": 3,
   "metadata": {},
   "outputs": [],
   "source": [
    "from django import forms\n",
    "def odd_validator(value):\n",
    "    if value % 2 == 0:\n",
    "        raise forms.ValidationError('짝수라니!!')\n",
    "        \n",
    "class QuizForm(forms.Form):\n",
    "    answer = forms.IntegerField(validators=[odd_validator])"
   ]
  },
  {
   "cell_type": "code",
   "execution_count": 4,
   "metadata": {},
   "outputs": [],
   "source": [
    "data = {'answer': 10}"
   ]
  },
  {
   "cell_type": "code",
   "execution_count": 5,
   "metadata": {},
   "outputs": [],
   "source": [
    "form = QuizForm(data)"
   ]
  },
  {
   "cell_type": "code",
   "execution_count": 6,
   "metadata": {},
   "outputs": [
    {
     "data": {
      "text/plain": [
       "False"
      ]
     },
     "execution_count": 6,
     "metadata": {},
     "output_type": "execute_result"
    }
   ],
   "source": [
    "# answer값이 짝수라서, 유효성 검사 실패\n",
    "form.is_valid()"
   ]
  },
  {
   "cell_type": "code",
   "execution_count": 7,
   "metadata": {},
   "outputs": [
    {
     "data": {
      "text/plain": [
       "{'answer': ['짝수라니!!']}"
      ]
     },
     "execution_count": 7,
     "metadata": {},
     "output_type": "execute_result"
    }
   ],
   "source": [
    "form.errors"
   ]
  },
  {
   "cell_type": "markdown",
   "metadata": {},
   "source": [
    "# Model 클래스 사용하기"
   ]
  },
  {
   "cell_type": "code",
   "execution_count": 8,
   "metadata": {},
   "outputs": [],
   "source": [
    "from django.db import models\n",
    "\n",
    "class Post(models.Model):\n",
    "    title = models.CharField(max_length=100)\n",
    "    content = models.TextField()\n",
    "    created_at = models.DateTimeField(auto_now_add=True)\n",
    "    updated_at = models.DateTimeField(auto_now=True)\n",
    "    \n",
    "    class Meta:\n",
    "        app_label = 'api'  # 앱이 따로 없으므로, app label을 필히 지정해줘야합니다.\n",
    "    \n",
    "    def __str__(self):\n",
    "        return self.title"
   ]
  },
  {
   "cell_type": "markdown",
   "metadata": {},
   "source": [
    "jupyter notebook에서 django를 운영하기 때문에 migration을 하지 못하여, 모델 클래스 내역대로 Raw SQL로 DB 테이블을 생성합니다."
   ]
  },
  {
   "cell_type": "code",
   "execution_count": 9,
   "metadata": {},
   "outputs": [],
   "source": [
    "from django.db import connection\n",
    "\n",
    "table_name = Post._meta.db_table\n",
    "\n",
    "with connection.cursor() as cursor:\n",
    "    cursor.execute('''\n",
    "CREATE TABLE \"{}\"\n",
    "    (\"id\" integer NOT NULL PRIMARY KEY AUTOINCREMENT,\n",
    "    \"title\" varchar(100) NOT NULL,\n",
    "    \"content\" text NOT NULL,\n",
    "    \"created_at\" datetime NOT NULL,\n",
    "    \"updated_at\" datetime NOT NULL);\n",
    "'''.format(table_name))"
   ]
  },
  {
   "cell_type": "code",
   "execution_count": 10,
   "metadata": {},
   "outputs": [
    {
     "name": "stdout",
     "output_type": "stream",
     "text": [
      "('api_post',)\n",
      "('sqlite_sequence',)\n"
     ]
    }
   ],
   "source": [
    "with connection.cursor() as cursor:\n",
    "    cursor.execute(\"select name from sqlite_master where type = 'table';\")\n",
    "    for row in cursor.fetchall():\n",
    "        print(row)"
   ]
  },
  {
   "cell_type": "markdown",
   "metadata": {},
   "source": [
    "#### Post 모델을 통해 DB 데이터 추가 "
   ]
  },
  {
   "cell_type": "code",
   "execution_count": 11,
   "metadata": {},
   "outputs": [
    {
     "data": {
      "text/plain": [
       "<Post: 가로수길 애플스토어 오픈 확정… 유니언스퀘어 형태 될 듯>"
      ]
     },
     "execution_count": 11,
     "metadata": {},
     "output_type": "execute_result"
    }
   ],
   "source": [
    "Post.objects.create(\n",
    "    title=\"가로수길 애플스토어 오픈 확정… 유니언스퀘어 형태 될 듯\",\n",
    "    content=\"소문만 무성하던 가로수길 애플 스토어 오픈이 확정됐다. 애플은 한국 애플 스토어 오픈과 관련된 인력 채용에 적극적으로 나서고 있다. 오늘 본사 차원에서 한국 지역 애플 스토어 지니어스를 포함한 리더 프로그램, 스토어 리더 인력 채용 공고를 냈다. 모두 이전까지는 공고를 낸 적이 없는 직책들이다. 애플코리아도 가로수길 애플 스토어 오픈을 공식화했다. 관계자에 따르면 “세계 경제의 중심지 중 하나이고, 통신 및 기술 분야의 리더이자 세계적으로 사랑 받는 한류 문화를 갖춘 대한민국에 첫 번째 애플 스토어를 오픈하게 되어 매우 기쁘다. 현재 서울에서 서비스, 교육 및 전 세계 애플 고객들에게 다양한 엔터테인먼트를 제공할 팀을 채용 중이다.”고 말했다. 가로수길에 들어설 한국의 첫 애플 스토어는 미국 샌프란시스코 유니언스퀘어에 처음 문을 연 '2세대 애플 스토어' 형태가 될 것으로 보인다. 체험 중심의 1세대와 달리 2세대 애플 스토어는 주변 환경과 사람 간의 교감을 우선으로 고려한 것이 특징이다. 2층 높이의 전면 유리막이 온도, 날씨에 의해 자동 개폐되고 애플 직원들이 대기하며 고객의 궁금증 해소를 돕는다. 전 세계 20여 개국 400여개가 운영되고 있는 오프라인 애플 스토어가 들어섬에 따라 1:1 전문 상담 창구인 '지니어스바' 서비스를 받을 수 있게 된다. 프리스비 같은 애플 프리미엄 리셀러의 미흡했던 고객지원 개선이 기대된다. 현재는 고장 정도에 상관없이 짧게는 1주일 심하면 몇 주를 서비스센터에 맡겨야 한다. 국내에선 불가능하던 아이폰 애플케어+를 가입할 수도 있다. 약 5만 원의 추가 비용을 지불하고 무료 보증 기간을 2년으로 연장, 소비자 과실로 발생하는 문제에 대해 좀 더 저렴한 가격으로 서비스를 받을 수 있다. 또 아이튠즈 스토어, 아이폰 찾기 같은 핵심 서비스 지원도 가능성이 있다. 아이폰 등 주요 신제품의 1차 출시국 포함도 기대된다. 한국 애플 스토어가 들어설 서울 강남구 신사동 가로수길 토지의 1층 면적은 약 159평이고, 2~3층 규모 건물이 지어질 것으로 보인다. 2015년 기준 전 세계 오프라인 애플 스토어가 운영 중인 나라는 미국(266개), 영국(39개), 캐나다(29개), 호주(21개), 중국(19개), 프랑스(19개), 일본(6개) 등이다.\"\n",
    "    )"
   ]
  },
  {
   "cell_type": "code",
   "execution_count": 13,
   "metadata": {},
   "outputs": [
    {
     "data": {
      "text/plain": [
       "<Post: 공개SW 공짜 아닌데... 3건 중 1건 라이선스 위반 >"
      ]
     },
     "execution_count": 13,
     "metadata": {},
     "output_type": "execute_result"
    }
   ],
   "source": [
    "Post.objects.create(\n",
    "    title=\"공개SW 공짜 아닌데... 3건 중 1건 라이선스 위반 \",\n",
    "    content=\"국내 소프트웨어(SW) 개발 프로젝트에서 공개SW가 사용되는 비율은 90%를 웃돌지만, 3건 중 1건은 라이선스를 위반한 것으로 나타났다.\")\n"
   ]
  },
  {
   "cell_type": "code",
   "execution_count": 15,
   "metadata": {},
   "outputs": [
    {
     "data": {
      "text/plain": [
       "<Post: 규제 해커톤 또 무산 위기…카풀업계 속앓이 >"
      ]
     },
     "execution_count": 15,
     "metadata": {},
     "output_type": "execute_result"
    }
   ],
   "source": [
    "Post.objects.create(\n",
    "    title=\"규제 해커톤 또 무산 위기…카풀업계 속앓이 \",\n",
    "    content=\"내달 1~2일 열리는 4차산업혁명위원회 해커톤에서 카풀 애플리케이션 규제 관련 논의가 예정됐지만, 택시업계의 반발로 또 다시 반쪽짜리 토론회가 될 위기다. 카풀업계에선 어떤 결론도 나지 않아 속이 타는 상황이 이어지고 있다.22일 업계에 따르면 택시업계는 이날 오후 4차산업혁명위를 방문해 해커톤 불참을 알리고 불참에 대한 당위성을 설명했다. 위원회는 앞서 지난해 말 열린 1차 해커톤에 카풀 규제 관련 의제를 논의할 예정이었지만, 택시업계의 불참으로 불발됐다. 카풀과 택시업계의 갈등은 카풀 앱 '풀러스'가 시간선택제 운영을 도입한다고 밝히면서 촉발됐다. 시간선택제는 이용자의 실제 출퇴근 시간에 해당하는 시간과 요일을 지정해 주 5일만 이용하고, 변경은 월 1회로 제한하는 방식이다. 이전까지 카풀 앱은 출근 시간(오전 5시~11시)과 퇴근시간(오후 5시~익일 오전 2시)을 지정해 서비스를 운영하고 있었다.\")"
   ]
  },
  {
   "cell_type": "code",
   "execution_count": 16,
   "metadata": {},
   "outputs": [
    {
     "data": {
      "text/plain": [
       "<QuerySet [<Post: 가로수길 애플스토어 오픈 확정… 유니언스퀘어 형태 될 듯>, <Post: 공개SW 공짜 아닌데... 3건 중 1건 라이선스 위반 >, <Post: 규제 해커톤 또 무산 위기…카풀업계 속앓이 >]>"
      ]
     },
     "execution_count": 16,
     "metadata": {},
     "output_type": "execute_result"
    }
   ],
   "source": [
    "Post.objects.all()"
   ]
  },
  {
   "cell_type": "markdown",
   "metadata": {},
   "source": [
    "## ModelForm 사용하기"
   ]
  },
  {
   "cell_type": "code",
   "execution_count": 17,
   "metadata": {},
   "outputs": [],
   "source": [
    "class PostForm(forms.ModelForm):\n",
    "    class Meta:\n",
    "        model = Post\n",
    "        fields = '__all__'"
   ]
  },
  {
   "cell_type": "code",
   "execution_count": 18,
   "metadata": {},
   "outputs": [],
   "source": [
    "form = PostForm({'title': 'hello'})"
   ]
  },
  {
   "cell_type": "code",
   "execution_count": 19,
   "metadata": {},
   "outputs": [
    {
     "data": {
      "text/plain": [
       "False"
      ]
     },
     "execution_count": 19,
     "metadata": {},
     "output_type": "execute_result"
    }
   ],
   "source": [
    "form.is_valid()"
   ]
  },
  {
   "cell_type": "code",
   "execution_count": 20,
   "metadata": {},
   "outputs": [
    {
     "data": {
      "text/plain": [
       "{'content': ['This field is required.']}"
      ]
     },
     "execution_count": 20,
     "metadata": {},
     "output_type": "execute_result"
    }
   ],
   "source": [
    "form.errors"
   ]
  },
  {
   "cell_type": "code",
   "execution_count": 21,
   "metadata": {},
   "outputs": [
    {
     "name": "stdout",
     "output_type": "stream",
     "text": [
      "1 가로수길 애플스토어 오픈 확정… 유니언스퀘어 형태 될 듯 : 1119 글자\n",
      "2 공개SW 공짜 아닌데... 3건 중 1건 라이선스 위반  : 77 글자\n",
      "3 규제 해커톤 또 무산 위기…카풀업계 속앓이  : 454 글자\n"
     ]
    }
   ],
   "source": [
    "for post in Post.objects.all():\n",
    "    print(post.id, post.title, ':', len(post.content), '글자')"
   ]
  },
  {
   "cell_type": "markdown",
   "metadata": {},
   "source": [
    "# DjangoJSONEncoder"
   ]
  },
  {
   "cell_type": "code",
   "execution_count": 23,
   "metadata": {},
   "outputs": [],
   "source": [
    "import json\n",
    "from django.core.serializers.json import DjangoJSONEncoder"
   ]
  },
  {
   "cell_type": "code",
   "execution_count": 24,
   "metadata": {},
   "outputs": [
    {
     "data": {
      "text/plain": [
       "<QuerySet [<Post: 가로수길 애플스토어 오픈 확정… 유니언스퀘어 형태 될 듯>, <Post: 공개SW 공짜 아닌데... 3건 중 1건 라이선스 위반 >, <Post: 규제 해커톤 또 무산 위기…카풀업계 속앓이 >]>"
      ]
     },
     "execution_count": 24,
     "metadata": {},
     "output_type": "execute_result"
    }
   ],
   "source": [
    "data = Post.objects.all()\n",
    "data"
   ]
  },
  {
   "cell_type": "markdown",
   "metadata": {},
   "source": [
    "TypeError: Object of type 'QuerySet' is not JSON serializable 예외처리"
   ]
  },
  {
   "cell_type": "code",
   "execution_count": 25,
   "metadata": {},
   "outputs": [
    {
     "ename": "TypeError",
     "evalue": "<QuerySet [<Post: 가로수길 애플스토어 오픈 확정… 유니언스퀘어 형태 될 듯>, <Post: 공개SW 공짜 아닌데... 3건 중 1건 라이선스 위반 >, <Post: 규제 해커톤 또 무산 위기…카풀업계 속앓이 >]> is not JSON serializable",
     "output_type": "error",
     "traceback": [
      "\u001b[0;31m---------------------------------------------------------------------------\u001b[0m",
      "\u001b[0;31mTypeError\u001b[0m                                 Traceback (most recent call last)",
      "\u001b[0;32m<ipython-input-25-f8422d929d3d>\u001b[0m in \u001b[0;36m<module>\u001b[0;34m()\u001b[0m\n\u001b[0;32m----> 1\u001b[0;31m \u001b[0mjson\u001b[0m\u001b[0;34m.\u001b[0m\u001b[0mdumps\u001b[0m\u001b[0;34m(\u001b[0m\u001b[0mdata\u001b[0m\u001b[0;34m,\u001b[0m \u001b[0mcls\u001b[0m\u001b[0;34m=\u001b[0m\u001b[0mDjangoJSONEncoder\u001b[0m\u001b[0;34m)\u001b[0m\u001b[0;34m\u001b[0m\u001b[0m\n\u001b[0m",
      "\u001b[0;32m/usr/local/var/pyenv/versions/3.5.2/lib/python3.5/json/__init__.py\u001b[0m in \u001b[0;36mdumps\u001b[0;34m(obj, skipkeys, ensure_ascii, check_circular, allow_nan, cls, indent, separators, default, sort_keys, **kw)\u001b[0m\n\u001b[1;32m    235\u001b[0m         \u001b[0mcheck_circular\u001b[0m\u001b[0;34m=\u001b[0m\u001b[0mcheck_circular\u001b[0m\u001b[0;34m,\u001b[0m \u001b[0mallow_nan\u001b[0m\u001b[0;34m=\u001b[0m\u001b[0mallow_nan\u001b[0m\u001b[0;34m,\u001b[0m \u001b[0mindent\u001b[0m\u001b[0;34m=\u001b[0m\u001b[0mindent\u001b[0m\u001b[0;34m,\u001b[0m\u001b[0;34m\u001b[0m\u001b[0m\n\u001b[1;32m    236\u001b[0m         \u001b[0mseparators\u001b[0m\u001b[0;34m=\u001b[0m\u001b[0mseparators\u001b[0m\u001b[0;34m,\u001b[0m \u001b[0mdefault\u001b[0m\u001b[0;34m=\u001b[0m\u001b[0mdefault\u001b[0m\u001b[0;34m,\u001b[0m \u001b[0msort_keys\u001b[0m\u001b[0;34m=\u001b[0m\u001b[0msort_keys\u001b[0m\u001b[0;34m,\u001b[0m\u001b[0;34m\u001b[0m\u001b[0m\n\u001b[0;32m--> 237\u001b[0;31m         **kw).encode(obj)\n\u001b[0m\u001b[1;32m    238\u001b[0m \u001b[0;34m\u001b[0m\u001b[0m\n\u001b[1;32m    239\u001b[0m \u001b[0;34m\u001b[0m\u001b[0m\n",
      "\u001b[0;32m/usr/local/var/pyenv/versions/3.5.2/lib/python3.5/json/encoder.py\u001b[0m in \u001b[0;36mencode\u001b[0;34m(self, o)\u001b[0m\n\u001b[1;32m    196\u001b[0m         \u001b[0;31m# exceptions aren't as detailed.  The list call should be roughly\u001b[0m\u001b[0;34m\u001b[0m\u001b[0;34m\u001b[0m\u001b[0m\n\u001b[1;32m    197\u001b[0m         \u001b[0;31m# equivalent to the PySequence_Fast that ''.join() would do.\u001b[0m\u001b[0;34m\u001b[0m\u001b[0;34m\u001b[0m\u001b[0m\n\u001b[0;32m--> 198\u001b[0;31m         \u001b[0mchunks\u001b[0m \u001b[0;34m=\u001b[0m \u001b[0mself\u001b[0m\u001b[0;34m.\u001b[0m\u001b[0miterencode\u001b[0m\u001b[0;34m(\u001b[0m\u001b[0mo\u001b[0m\u001b[0;34m,\u001b[0m \u001b[0m_one_shot\u001b[0m\u001b[0;34m=\u001b[0m\u001b[0;32mTrue\u001b[0m\u001b[0;34m)\u001b[0m\u001b[0;34m\u001b[0m\u001b[0m\n\u001b[0m\u001b[1;32m    199\u001b[0m         \u001b[0;32mif\u001b[0m \u001b[0;32mnot\u001b[0m \u001b[0misinstance\u001b[0m\u001b[0;34m(\u001b[0m\u001b[0mchunks\u001b[0m\u001b[0;34m,\u001b[0m \u001b[0;34m(\u001b[0m\u001b[0mlist\u001b[0m\u001b[0;34m,\u001b[0m \u001b[0mtuple\u001b[0m\u001b[0;34m)\u001b[0m\u001b[0;34m)\u001b[0m\u001b[0;34m:\u001b[0m\u001b[0;34m\u001b[0m\u001b[0m\n\u001b[1;32m    200\u001b[0m             \u001b[0mchunks\u001b[0m \u001b[0;34m=\u001b[0m \u001b[0mlist\u001b[0m\u001b[0;34m(\u001b[0m\u001b[0mchunks\u001b[0m\u001b[0;34m)\u001b[0m\u001b[0;34m\u001b[0m\u001b[0m\n",
      "\u001b[0;32m/usr/local/var/pyenv/versions/3.5.2/lib/python3.5/json/encoder.py\u001b[0m in \u001b[0;36miterencode\u001b[0;34m(self, o, _one_shot)\u001b[0m\n\u001b[1;32m    254\u001b[0m                 \u001b[0mself\u001b[0m\u001b[0;34m.\u001b[0m\u001b[0mkey_separator\u001b[0m\u001b[0;34m,\u001b[0m \u001b[0mself\u001b[0m\u001b[0;34m.\u001b[0m\u001b[0mitem_separator\u001b[0m\u001b[0;34m,\u001b[0m \u001b[0mself\u001b[0m\u001b[0;34m.\u001b[0m\u001b[0msort_keys\u001b[0m\u001b[0;34m,\u001b[0m\u001b[0;34m\u001b[0m\u001b[0m\n\u001b[1;32m    255\u001b[0m                 self.skipkeys, _one_shot)\n\u001b[0;32m--> 256\u001b[0;31m         \u001b[0;32mreturn\u001b[0m \u001b[0m_iterencode\u001b[0m\u001b[0;34m(\u001b[0m\u001b[0mo\u001b[0m\u001b[0;34m,\u001b[0m \u001b[0;36m0\u001b[0m\u001b[0;34m)\u001b[0m\u001b[0;34m\u001b[0m\u001b[0m\n\u001b[0m\u001b[1;32m    257\u001b[0m \u001b[0;34m\u001b[0m\u001b[0m\n\u001b[1;32m    258\u001b[0m def _make_iterencode(markers, _default, _encoder, _indent, _floatstr,\n",
      "\u001b[0;32m/usr/local/var/pyenv/versions/3.5.2/envs/jupyter/lib/python3.5/site-packages/django/core/serializers/json.py\u001b[0m in \u001b[0;36mdefault\u001b[0;34m(self, o)\u001b[0m\n\u001b[1;32m    102\u001b[0m             \u001b[0;32mreturn\u001b[0m \u001b[0mstr\u001b[0m\u001b[0;34m(\u001b[0m\u001b[0mo\u001b[0m\u001b[0;34m)\u001b[0m\u001b[0;34m\u001b[0m\u001b[0m\n\u001b[1;32m    103\u001b[0m         \u001b[0;32melse\u001b[0m\u001b[0;34m:\u001b[0m\u001b[0;34m\u001b[0m\u001b[0m\n\u001b[0;32m--> 104\u001b[0;31m             \u001b[0;32mreturn\u001b[0m \u001b[0msuper\u001b[0m\u001b[0;34m(\u001b[0m\u001b[0;34m)\u001b[0m\u001b[0;34m.\u001b[0m\u001b[0mdefault\u001b[0m\u001b[0;34m(\u001b[0m\u001b[0mo\u001b[0m\u001b[0;34m)\u001b[0m\u001b[0;34m\u001b[0m\u001b[0m\n\u001b[0m",
      "\u001b[0;32m/usr/local/var/pyenv/versions/3.5.2/lib/python3.5/json/encoder.py\u001b[0m in \u001b[0;36mdefault\u001b[0;34m(self, o)\u001b[0m\n\u001b[1;32m    177\u001b[0m \u001b[0;34m\u001b[0m\u001b[0m\n\u001b[1;32m    178\u001b[0m         \"\"\"\n\u001b[0;32m--> 179\u001b[0;31m         \u001b[0;32mraise\u001b[0m \u001b[0mTypeError\u001b[0m\u001b[0;34m(\u001b[0m\u001b[0mrepr\u001b[0m\u001b[0;34m(\u001b[0m\u001b[0mo\u001b[0m\u001b[0;34m)\u001b[0m \u001b[0;34m+\u001b[0m \u001b[0;34m\" is not JSON serializable\"\u001b[0m\u001b[0;34m)\u001b[0m\u001b[0;34m\u001b[0m\u001b[0m\n\u001b[0m\u001b[1;32m    180\u001b[0m \u001b[0;34m\u001b[0m\u001b[0m\n\u001b[1;32m    181\u001b[0m     \u001b[0;32mdef\u001b[0m \u001b[0mencode\u001b[0m\u001b[0;34m(\u001b[0m\u001b[0mself\u001b[0m\u001b[0;34m,\u001b[0m \u001b[0mo\u001b[0m\u001b[0;34m)\u001b[0m\u001b[0;34m:\u001b[0m\u001b[0;34m\u001b[0m\u001b[0m\n",
      "\u001b[0;31mTypeError\u001b[0m: <QuerySet [<Post: 가로수길 애플스토어 오픈 확정… 유니언스퀘어 형태 될 듯>, <Post: 공개SW 공짜 아닌데... 3건 중 1건 라이선스 위반 >, <Post: 규제 해커톤 또 무산 위기…카풀업계 속앓이 >]> is not JSON serializable"
     ]
    }
   ],
   "source": [
    "json.dumps(data, cls=DjangoJSONEncoder)"
   ]
  },
  {
   "cell_type": "markdown",
   "metadata": {},
   "source": [
    "DjangoJSONEncoder는 QuerySet의 serializer/deserializer 방법을 모르기 때문에 발생한 요류"
   ]
  },
  {
   "cell_type": "markdown",
   "metadata": {},
   "source": [
    "1. **QuerySet**을 파이썬 표준 테이터타입의 값을 직접 변환"
   ]
  },
  {
   "cell_type": "code",
   "execution_count": 31,
   "metadata": {},
   "outputs": [
    {
     "data": {
      "text/plain": [
       "'[{\"id\": 1, \"title\": \"가로수길 애플스토어 오픈 확정… 유니언스퀘어 형태 될 듯\", \"content\": \"소문만 무성하던 가로수길 애플 스토어 오픈이 확정됐다. 애플은 한국 애플 스토어 오픈과 관련된 인력 채용에 적극적으로 나서고 있다. 오늘 본사 차원에서 한국 지역 애플 스토어 지니어스를 포함한 리더 프로그램, 스토어 리더 인력 채용 공고를 냈다. 모두 이전까지는 공고를 낸 적이 없는 직책들이다. 애플코리아도 가로수길 애플 스토어 오픈을 공식화했다. 관계자에 따르면 “세계 경제의 중심지 중 하나이고, 통신 및 기술 분야의 리더이자 세계적으로 사랑 받는 한류 문화를 갖춘 대한민국에 첫 번째 애플 스토어를 오픈하게 되어 매우 기쁘다. 현재 서울에서 서비스, 교육 및 전 세계 애플 고객들에게 다양한 엔터테인먼트를 제공할 팀을 채용 중이다.”고 말했다. 가로수길에 들어설 한국의 첫 애플 스토어는 미국 샌프란시스코 유니언스퀘어에 처음 문을 연 \\'2세대 애플 스토어\\' 형태가 될 것으로 보인다. 체험 중심의 1세대와 달리 2세대 애플 스토어는 주변 환경과 사람 간의 교감을 우선으로 고려한 것이 특징이다. 2층 높이의 전면 유리막이 온도, 날씨에 의해 자동 개폐되고 애플 직원들이 대기하며 고객의 궁금증 해소를 돕는다. 전 세계 20여 개국 400여개가 운영되고 있는 오프라인 애플 스토어가 들어섬에 따라 1:1 전문 상담 창구인 \\'지니어스바\\' 서비스를 받을 수 있게 된다. 프리스비 같은 애플 프리미엄 리셀러의 미흡했던 고객지원 개선이 기대된다. 현재는 고장 정도에 상관없이 짧게는 1주일 심하면 몇 주를 서비스센터에 맡겨야 한다. 국내에선 불가능하던 아이폰 애플케어+를 가입할 수도 있다. 약 5만 원의 추가 비용을 지불하고 무료 보증 기간을 2년으로 연장, 소비자 과실로 발생하는 문제에 대해 좀 더 저렴한 가격으로 서비스를 받을 수 있다. 또 아이튠즈 스토어, 아이폰 찾기 같은 핵심 서비스 지원도 가능성이 있다. 아이폰 등 주요 신제품의 1차 출시국 포함도 기대된다. 한국 애플 스토어가 들어설 서울 강남구 신사동 가로수길 토지의 1층 면적은 약 159평이고, 2~3층 규모 건물이 지어질 것으로 보인다. 2015년 기준 전 세계 오프라인 애플 스토어가 운영 중인 나라는 미국(266개), 영국(39개), 캐나다(29개), 호주(21개), 중국(19개), 프랑스(19개), 일본(6개) 등이다.\"}, {\"id\": 2, \"title\": \"공개SW 공짜 아닌데... 3건 중 1건 라이선스 위반 \", \"content\": \"국내 소프트웨어(SW) 개발 프로젝트에서 공개SW가 사용되는 비율은 90%를 웃돌지만, 3건 중 1건은 라이선스를 위반한 것으로 나타났다.\"}, {\"id\": 3, \"title\": \"규제 해커톤 또 무산 위기…카풀업계 속앓이 \", \"content\": \"내달 1~2일 열리는 4차산업혁명위원회 해커톤에서 카풀 애플리케이션 규제 관련 논의가 예정됐지만, 택시업계의 반발로 또 다시 반쪽짜리 토론회가 될 위기다. 카풀업계에선 어떤 결론도 나지 않아 속이 타는 상황이 이어지고 있다.22일 업계에 따르면 택시업계는 이날 오후 4차산업혁명위를 방문해 해커톤 불참을 알리고 불참에 대한 당위성을 설명했다. 위원회는 앞서 지난해 말 열린 1차 해커톤에 카풀 규제 관련 의제를 논의할 예정이었지만, 택시업계의 불참으로 불발됐다. 카풀과 택시업계의 갈등은 카풀 앱 \\'풀러스\\'가 시간선택제 운영을 도입한다고 밝히면서 촉발됐다. 시간선택제는 이용자의 실제 출퇴근 시간에 해당하는 시간과 요일을 지정해 주 5일만 이용하고, 변경은 월 1회로 제한하는 방식이다. 이전까지 카풀 앱은 출근 시간(오전 5시~11시)과 퇴근시간(오후 5시~익일 오전 2시)을 지정해 서비스를 운영하고 있었다.\"}]'"
      ]
     },
     "execution_count": 31,
     "metadata": {},
     "output_type": "execute_result"
    }
   ],
   "source": [
    "data = [\n",
    "    {'id': post.id, 'title': post.title, 'content': post.content}\n",
    "    for post in Post.objects.all()]\n",
    "\n",
    "json.dumps(data, cls=DjangoJSONEncoder, ensure_ascii=False)"
   ]
  },
  {
   "cell_type": "markdown",
   "metadata": {},
   "source": [
    "**ensure_ascii=False** 는 한글 인코딩시 유니코드가 아닌 UTF-8로 인코딩합니다.\n",
    "api서버에서는 상관없지만 UTF-8로 인코딩하여야 사람이 보기 편함"
   ]
  },
  {
   "cell_type": "code",
   "execution_count": 35,
   "metadata": {},
   "outputs": [
    {
     "data": {
      "text/plain": [
       "'[\"\\\\uc548\\\\ub155\", \"\\\\ud30c\\\\ud30c\\\\ud30c\\\\ud30c\\\\ud30c\\\\ud30c\\\\uc774\\\\uc36c\"]'"
      ]
     },
     "execution_count": 35,
     "metadata": {},
     "output_type": "execute_result"
    }
   ],
   "source": [
    "import json\n",
    "\n",
    "mydata = ['안녕', '파파파파파파이썬']\n",
    "json.dumps(mydata)"
   ]
  },
  {
   "cell_type": "code",
   "execution_count": 36,
   "metadata": {},
   "outputs": [
    {
     "data": {
      "text/plain": [
       "'[\"안녕\", \"파파파파파파이썬\"]'"
      ]
     },
     "execution_count": 36,
     "metadata": {},
     "output_type": "execute_result"
    }
   ],
   "source": [
    "json.dumps(mydata, ensure_ascii=False)"
   ]
  },
  {
   "cell_type": "markdown",
   "metadata": {},
   "source": [
    ".2. json에게 serializer 방법을 알려준다.  \n",
    "DjangoJSONEncoder가 직렬화 방법을 알고 있기 때문에 이를 확장한다.\n",
    "\n",
    "    - QuerySet 타입 : tuple 타입으로 변환\n",
    "    - Post 타입 : dict 타입으로 변환"
   ]
  },
  {
   "cell_type": "code",
   "execution_count": 37,
   "metadata": {},
   "outputs": [
    {
     "data": {
      "text/plain": [
       "'[{\"id\": 1, \"title\": \"가로수길 애플스토어 오픈 확정… 유니언스퀘어 형태 될 듯\", \"content\": \"소문만 무성하던 가로수길 애플 스토어 오픈이 확정됐다. 애플은 한국 애플 스토어 오픈과 관련된 인력 채용에 적극적으로 나서고 있다. 오늘 본사 차원에서 한국 지역 애플 스토어 지니어스를 포함한 리더 프로그램, 스토어 리더 인력 채용 공고를 냈다. 모두 이전까지는 공고를 낸 적이 없는 직책들이다. 애플코리아도 가로수길 애플 스토어 오픈을 공식화했다. 관계자에 따르면 “세계 경제의 중심지 중 하나이고, 통신 및 기술 분야의 리더이자 세계적으로 사랑 받는 한류 문화를 갖춘 대한민국에 첫 번째 애플 스토어를 오픈하게 되어 매우 기쁘다. 현재 서울에서 서비스, 교육 및 전 세계 애플 고객들에게 다양한 엔터테인먼트를 제공할 팀을 채용 중이다.”고 말했다. 가로수길에 들어설 한국의 첫 애플 스토어는 미국 샌프란시스코 유니언스퀘어에 처음 문을 연 \\'2세대 애플 스토어\\' 형태가 될 것으로 보인다. 체험 중심의 1세대와 달리 2세대 애플 스토어는 주변 환경과 사람 간의 교감을 우선으로 고려한 것이 특징이다. 2층 높이의 전면 유리막이 온도, 날씨에 의해 자동 개폐되고 애플 직원들이 대기하며 고객의 궁금증 해소를 돕는다. 전 세계 20여 개국 400여개가 운영되고 있는 오프라인 애플 스토어가 들어섬에 따라 1:1 전문 상담 창구인 \\'지니어스바\\' 서비스를 받을 수 있게 된다. 프리스비 같은 애플 프리미엄 리셀러의 미흡했던 고객지원 개선이 기대된다. 현재는 고장 정도에 상관없이 짧게는 1주일 심하면 몇 주를 서비스센터에 맡겨야 한다. 국내에선 불가능하던 아이폰 애플케어+를 가입할 수도 있다. 약 5만 원의 추가 비용을 지불하고 무료 보증 기간을 2년으로 연장, 소비자 과실로 발생하는 문제에 대해 좀 더 저렴한 가격으로 서비스를 받을 수 있다. 또 아이튠즈 스토어, 아이폰 찾기 같은 핵심 서비스 지원도 가능성이 있다. 아이폰 등 주요 신제품의 1차 출시국 포함도 기대된다. 한국 애플 스토어가 들어설 서울 강남구 신사동 가로수길 토지의 1층 면적은 약 159평이고, 2~3층 규모 건물이 지어질 것으로 보인다. 2015년 기준 전 세계 오프라인 애플 스토어가 운영 중인 나라는 미국(266개), 영국(39개), 캐나다(29개), 호주(21개), 중국(19개), 프랑스(19개), 일본(6개) 등이다.\"}, {\"id\": 2, \"title\": \"공개SW 공짜 아닌데... 3건 중 1건 라이선스 위반 \", \"content\": \"국내 소프트웨어(SW) 개발 프로젝트에서 공개SW가 사용되는 비율은 90%를 웃돌지만, 3건 중 1건은 라이선스를 위반한 것으로 나타났다.\"}, {\"id\": 3, \"title\": \"규제 해커톤 또 무산 위기…카풀업계 속앓이 \", \"content\": \"내달 1~2일 열리는 4차산업혁명위원회 해커톤에서 카풀 애플리케이션 규제 관련 논의가 예정됐지만, 택시업계의 반발로 또 다시 반쪽짜리 토론회가 될 위기다. 카풀업계에선 어떤 결론도 나지 않아 속이 타는 상황이 이어지고 있다.22일 업계에 따르면 택시업계는 이날 오후 4차산업혁명위를 방문해 해커톤 불참을 알리고 불참에 대한 당위성을 설명했다. 위원회는 앞서 지난해 말 열린 1차 해커톤에 카풀 규제 관련 의제를 논의할 예정이었지만, 택시업계의 불참으로 불발됐다. 카풀과 택시업계의 갈등은 카풀 앱 \\'풀러스\\'가 시간선택제 운영을 도입한다고 밝히면서 촉발됐다. 시간선택제는 이용자의 실제 출퇴근 시간에 해당하는 시간과 요일을 지정해 주 5일만 이용하고, 변경은 월 1회로 제한하는 방식이다. 이전까지 카풀 앱은 출근 시간(오전 5시~11시)과 퇴근시간(오후 5시~익일 오전 2시)을 지정해 서비스를 운영하고 있었다.\"}]'"
      ]
     },
     "execution_count": 37,
     "metadata": {},
     "output_type": "execute_result"
    }
   ],
   "source": [
    "from django.core.serializers.json import DjangoJSONEncoder\n",
    "from django.db.models.query import QuerySet\n",
    "\n",
    "# 커스텀 JSON Encoder를 정의\n",
    "class MyJSONEncoder(DjangoJSONEncoder):\n",
    "    def default(self, obj):\n",
    "        if isinstance(obj, QuerySet):\n",
    "            return tuple(obj)\n",
    "        elif isinstance(obj, Post):\n",
    "            return {'id': obj.id, 'title': obj.title, 'content': obj.content}\n",
    "        return super().default(obj)\n",
    "\n",
    "data = Post.objects.all()\n",
    "\n",
    "# 직렬화할 때, 직렬화를 수행해줄 JSON Encoder를 지정해준다.\n",
    "json.dumps(data, cls=MyJSONEncoder, ensure_ascii=False)"
   ]
  },
  {
   "cell_type": "markdown",
   "metadata": {},
   "source": [
    "## rest_framework.renderer.JSONRender의 직렬화 방식"
   ]
  },
  {
   "cell_type": "code",
   "execution_count": null,
   "metadata": {},
   "outputs": [],
   "source": []
  }
 ],
 "metadata": {
  "kernelspec": {
   "display_name": "Python 3",
   "language": "python",
   "name": "python3"
  },
  "language_info": {
   "codemirror_mode": {
    "name": "ipython",
    "version": 3
   },
   "file_extension": ".py",
   "mimetype": "text/x-python",
   "name": "python",
   "nbconvert_exporter": "python",
   "pygments_lexer": "ipython3",
   "version": "3.5.2"
  }
 },
 "nbformat": 4,
 "nbformat_minor": 2
}

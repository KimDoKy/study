{
 "cells": [
  {
   "cell_type": "markdown",
   "metadata": {},
   "source": [
    "# Doubly Linked List"
   ]
  },
  {
   "cell_type": "markdown",
   "metadata": {},
   "source": [
    "### 이중 연결 리스트"
   ]
  },
  {
   "cell_type": "code",
   "execution_count": 1,
   "metadata": {},
   "outputs": [],
   "source": [
    "class Node:\n",
    "    def __init__(self, data, next=None, prev=None):\n",
    "        self.data = data\n",
    "        self.next = next\n",
    "        self.prev = prev"
   ]
  },
  {
   "cell_type": "code",
   "execution_count": 2,
   "metadata": {},
   "outputs": [
    {
     "name": "stdout",
     "output_type": "stream",
     "text": [
      "연결리스트 초기화 후\n",
      "A\n",
      "B\n",
      "D\n",
      "E\n"
     ]
    }
   ],
   "source": [
    "def init_list():\n",
    "    global node_A\n",
    "    node_A = Node('A')\n",
    "    node_B = Node('B')\n",
    "    node_D = Node('D')\n",
    "    node_E = Node('E')\n",
    "    node_A.next = node_B\n",
    "    node_B.next = node_D\n",
    "    node_B.prev = node_A\n",
    "    node_D.next = node_E\n",
    "    node_D.prev = node_B\n",
    "    \n",
    "def print_list():\n",
    "    global node_A\n",
    "    node = node_A\n",
    "    while node:\n",
    "        print(node.data)\n",
    "        node = node.next\n",
    "    print\n",
    "    \n",
    "print('연결리스트 초기화 후')\n",
    "init_list()\n",
    "print_list()"
   ]
  },
  {
   "cell_type": "markdown",
   "metadata": {},
   "source": [
    "### 이중 연결 리스트의 삽입"
   ]
  },
  {
   "cell_type": "code",
   "execution_count": 3,
   "metadata": {},
   "outputs": [],
   "source": [
    "def insert_node(data):\n",
    "    global node_A\n",
    "    new_node = Node(data)\n",
    "    node_P = node_A\n",
    "    node_T = node_A\n",
    "    while node_T.data <= data:\n",
    "        node_P = node_T\n",
    "        node_T = node_T.next\n",
    "    new_node.next = node_T\n",
    "    node_P.next = new_node\n",
    "    new_node.prev = node_P\n",
    "    node_T.prev = new_node"
   ]
  },
  {
   "cell_type": "code",
   "execution_count": 4,
   "metadata": {},
   "outputs": [
    {
     "name": "stdout",
     "output_type": "stream",
     "text": [
      "연결 리스트 초기화 후\n",
      "A\n",
      "B\n",
      "D\n",
      "E\n",
      "노드 C 추가 후\n",
      "A\n",
      "B\n",
      "C\n",
      "D\n",
      "E\n"
     ]
    }
   ],
   "source": [
    "print('연결 리스트 초기화 후')\n",
    "init_list()\n",
    "print_list()\n",
    "\n",
    "print('노드 C 추가 후')\n",
    "insert_node('C')\n",
    "print_list()"
   ]
  },
  {
   "cell_type": "markdown",
   "metadata": {},
   "source": [
    "### 이중 연결 리스트의 삭제"
   ]
  },
  {
   "cell_type": "code",
   "execution_count": 5,
   "metadata": {},
   "outputs": [],
   "source": [
    "def delete_node(del_data):\n",
    "    global node_A\n",
    "    pre_node = node_A\n",
    "    next_node = pre_node.next\n",
    "    next_next_node = next_node.next\n",
    "    \n",
    "    if pre_node.data == del_data:\n",
    "        node1 = next_node\n",
    "        del pre_node\n",
    "        return\n",
    "    \n",
    "    while next_node:\n",
    "        if next_node.data == del_data:\n",
    "            next_next_node = next_node.next\n",
    "            pre_node.next = next_next_node\n",
    "            next_next_node.prev = next_node.prev\n",
    "            del next_node\n",
    "            break\n",
    "        pre_node = next_node\n",
    "        next_node = next_node.next"
   ]
  },
  {
   "cell_type": "code",
   "execution_count": 7,
   "metadata": {},
   "outputs": [
    {
     "name": "stdout",
     "output_type": "stream",
     "text": [
      "연결 리스트 초기화 후\n",
      "A\n",
      "B\n",
      "D\n",
      "E\n",
      "노드 C 추가 후\n",
      "A\n",
      "B\n",
      "C\n",
      "D\n",
      "E\n",
      "노드 D 삭제 후\n",
      "A\n",
      "B\n",
      "C\n",
      "E\n"
     ]
    }
   ],
   "source": [
    "def init_list():\n",
    "    global node_A\n",
    "    node_A = Node('A')\n",
    "    node_B = Node('B')\n",
    "    node_D = Node('D')\n",
    "    node_E = Node('E')\n",
    "    node_A.next = node_B\n",
    "    node_B.next = node_D\n",
    "    node_B.prev = node_A\n",
    "    node_D.next = node_E\n",
    "    node_D.prev = node_B\n",
    "\n",
    "\n",
    "print('연결 리스트 초기화 후')\n",
    "init_list()\n",
    "print_list()\n",
    "\n",
    "print('노드 C 추가 후')\n",
    "insert_node('C')\n",
    "print_list()\n",
    "\n",
    "print('노드 D 삭제 후')\n",
    "delete_node('D')\n",
    "print_list()"
   ]
  },
  {
   "cell_type": "markdown",
   "metadata": {},
   "source": [
    "##### 장점\n",
    "- 한 방향으로만 탐색이 가능한 단일 연결 리스트에 비해, 양쪽 방향으로 탐색이 가능하여 전체적인 탐색 시간을 줄일 수 있다.\n",
    "\n",
    "##### 단점\n",
    "- 새로운 노드의 삽입과 삭제를 할 때 코드가 복잡해진다."
   ]
  },
  {
   "cell_type": "code",
   "execution_count": null,
   "metadata": {},
   "outputs": [],
   "source": []
  }
 ],
 "metadata": {
  "kernelspec": {
   "display_name": "Python 3",
   "language": "python",
   "name": "python3"
  },
  "language_info": {
   "codemirror_mode": {
    "name": "ipython",
    "version": 3
   },
   "file_extension": ".py",
   "mimetype": "text/x-python",
   "name": "python",
   "nbconvert_exporter": "python",
   "pygments_lexer": "ipython3",
   "version": "3.6.0"
  }
 },
 "nbformat": 4,
 "nbformat_minor": 2
}

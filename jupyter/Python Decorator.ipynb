{
 "cells": [
  {
   "cell_type": "code",
   "execution_count": 2,
   "metadata": {},
   "outputs": [],
   "source": [
    "## Python Decorator"
   ]
  },
  {
   "cell_type": "code",
   "execution_count": 8,
   "metadata": {},
   "outputs": [
    {
     "data": {
      "text/plain": [
       "15"
      ]
     },
     "execution_count": 8,
     "metadata": {},
     "output_type": "execute_result"
    }
   ],
   "source": [
    "def base_10(fn):\n",
    "    def wrap(x,y):\n",
    "        return fn(x,y) + 10\n",
    "    return wrap\n",
    "\n",
    "@base_10\n",
    "def mysum(a,b):\n",
    "    return a+b\n",
    "\n",
    "mysum(2,3)"
   ]
  },
  {
   "cell_type": "code",
   "execution_count": 1,
   "metadata": {},
   "outputs": [
    {
     "name": "stdout",
     "output_type": "stream",
     "text": [
      "args:  3\n",
      "15\n"
     ]
    },
    {
     "data": {
      "text/plain": [
       "15"
      ]
     },
     "execution_count": 1,
     "metadata": {},
     "output_type": "execute_result"
    }
   ],
   "source": [
    "def print_args(fn):\n",
    "    def inner_fn(a, b):\n",
    "        print('args: ', a)\n",
    "        result = fn(a,b)\n",
    "        return result\n",
    "    return inner_fn\n",
    "\n",
    "@print_args\n",
    "def multi(a,b):\n",
    "    result = a * b\n",
    "    print(result)\n",
    "    return result\n",
    "\n",
    "multi(3,5)"
   ]
  },
  {
   "cell_type": "code",
   "execution_count": 4,
   "metadata": {},
   "outputs": [
    {
     "data": {
      "text/plain": [
       "13"
      ]
     },
     "execution_count": 4,
     "metadata": {},
     "output_type": "execute_result"
    }
   ],
   "source": [
    "def base(i):\n",
    "    def inner_wrap(fn):\n",
    "        def i_plus(x,y):\n",
    "            return fn(x,y) + i\n",
    "        return i_plus\n",
    "    return inner_wrap\n",
    "\n",
    "@base(10)\n",
    "def mysum(a,b):\n",
    "    return a+b\n",
    "\n",
    "mysum(1,2)"
   ]
  },
  {
   "cell_type": "code",
   "execution_count": 3,
   "metadata": {},
   "outputs": [],
   "source": [
    "### askDjango Quiz"
   ]
  },
  {
   "cell_type": "code",
   "execution_count": 104,
   "metadata": {},
   "outputs": [
    {
     "ename": "SyntaxError",
     "evalue": "invalid syntax (<ipython-input-104-7abb0aab613b>, line 5)",
     "output_type": "error",
     "traceback": [
      "\u001b[0;36m  File \u001b[0;32m\"<ipython-input-104-7abb0aab613b>\"\u001b[0;36m, line \u001b[0;32m5\u001b[0m\n\u001b[0;31m    return fn(*true_list = [x if filter_fn(x) else alter_value for x in args])\u001b[0m\n\u001b[0m                         ^\u001b[0m\n\u001b[0;31mSyntaxError\u001b[0m\u001b[0;31m:\u001b[0m invalid syntax\n"
     ]
    }
   ],
   "source": [
    "def myfilter(filter_fn, alter_value):\n",
    "    def wrap(fn):\n",
    "        def inner(*args):\n",
    "            true_list = [x if filter_fn(x) else alter_value for x in args]\n",
    "            return fn(*true_list)\n",
    "        return inner\n",
    "    return wrap\n",
    "\n",
    "@myfilter(lambda i: i%2==0, 0)\n",
    "def mysum(a,b,c,d,e):\n",
    "    return a+b+c+d+e\n",
    "\n",
    "@myfilter(lambda i: i%2==0, 1)\n",
    "def mymulti(a,b,c,d,e):\n",
    "    return a*b*c*d*e\n",
    "\n",
    "print(mysum(1,2,3,4,5))\n",
    "print(mymulti(1,2,3,4,5))\n",
    "    "
   ]
  },
  {
   "cell_type": "code",
   "execution_count": null,
   "metadata": {},
   "outputs": [],
   "source": []
  },
  {
   "cell_type": "code",
   "execution_count": null,
   "metadata": {},
   "outputs": [],
   "source": []
  }
 ],
 "metadata": {
  "kernelspec": {
   "display_name": "Python 3",
   "language": "python",
   "name": "python3"
  },
  "language_info": {
   "codemirror_mode": {
    "name": "ipython",
    "version": 3
   },
   "file_extension": ".py",
   "mimetype": "text/x-python",
   "name": "python",
   "nbconvert_exporter": "python",
   "pygments_lexer": "ipython3",
   "version": "3.5.2"
  }
 },
 "nbformat": 4,
 "nbformat_minor": 2
}

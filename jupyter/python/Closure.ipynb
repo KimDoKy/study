{
 "cells": [
  {
   "cell_type": "markdown",
   "metadata": {},
   "source": [
    "# Closure"
   ]
  },
  {
   "cell_type": "markdown",
   "metadata": {},
   "source": [
    "## Closure?\n",
    "- 퍼스트클래스 함수를 지원하는 언어의 네임 바인딩 기술\n",
    "- 어떤 함수를 함수 자신이 가지고 잇는 환경과 함께 저장한 레코드\n",
    "- 함수가 가진 프리변수를 클로저가 만들어지는 당시의 값과 레퍼런스에 맵핑해주는 역할\n",
    "- 일반 함수와는 다르게, 자신의 영역 밖에서 호출된 함수의 변수값과 레퍼런스를 복사하고 저장한 뒤, 이 값들을 엑서스할 수 있게 한다.\n",
    "> **프리변수(free variable)**?\n",
    "> 파이썬에서 프리변수는 코드블럭안에서 사용 되지만, 그 코드블럭안에서 정의되지 않은 변수"
   ]
  },
  {
   "cell_type": "code",
   "execution_count": 1,
   "metadata": {},
   "outputs": [],
   "source": [
    "def outer_func():\n",
    "    message = 'Hi'\n",
    "    \n",
    "    def inner_func():\n",
    "        print(message)\n",
    "        \n",
    "    return inner_func()"
   ]
  },
  {
   "cell_type": "code",
   "execution_count": 2,
   "metadata": {},
   "outputs": [
    {
     "name": "stdout",
     "output_type": "stream",
     "text": [
      "Hi\n"
     ]
    }
   ],
   "source": [
    "outer_func()"
   ]
  },
  {
   "cell_type": "markdown",
   "metadata": {},
   "source": [
    "inner_func에서 message 변수를 참조하여 출력한다. message는 inner_func 안에서 정의되지는 않았지만 inner_func 안에서 사용되었기 때문에 **프리변수**라고 부른다."
   ]
  },
  {
   "cell_type": "code",
   "execution_count": 3,
   "metadata": {},
   "outputs": [],
   "source": [
    "def outter_func():\n",
    "    message = 'Hi'\n",
    "    \n",
    "    def inner_func():\n",
    "        print(message)\n",
    "        \n",
    "    return inner_func"
   ]
  },
  {
   "cell_type": "code",
   "execution_count": 4,
   "metadata": {},
   "outputs": [
    {
     "name": "stdout",
     "output_type": "stream",
     "text": [
      "Hi\n"
     ]
    }
   ],
   "source": [
    "outer_func()"
   ]
  },
  {
   "cell_type": "markdown",
   "metadata": {},
   "source": [
    "아... 파이썬2와 파이썬3의 결과가 다...르..."
   ]
  },
  {
   "cell_type": "code",
   "execution_count": 5,
   "metadata": {},
   "outputs": [],
   "source": [
    "def outer_func():\n",
    "    message = 'Hi'\n",
    "    \n",
    "    def inner_func():\n",
    "        print(message)\n",
    "        \n",
    "    return inner_func"
   ]
  },
  {
   "cell_type": "code",
   "execution_count": 6,
   "metadata": {},
   "outputs": [],
   "source": [
    "my_func = outer_func()"
   ]
  },
  {
   "cell_type": "code",
   "execution_count": 7,
   "metadata": {},
   "outputs": [],
   "source": [
    "def outer_func():\n",
    "    message = 'Hi'\n",
    "    \n",
    "    def inner_func():\n",
    "        print(message)\n",
    "        \n",
    "    return inner_func"
   ]
  },
  {
   "cell_type": "code",
   "execution_count": 8,
   "metadata": {},
   "outputs": [
    {
     "name": "stdout",
     "output_type": "stream",
     "text": [
      "<function outer_func.<locals>.inner_func at 0x109347268>\n"
     ]
    }
   ],
   "source": [
    "my_func = outer_func()\n",
    "print(my_func)"
   ]
  },
  {
   "cell_type": "code",
   "execution_count": 9,
   "metadata": {},
   "outputs": [],
   "source": [
    "def outer_func():\n",
    "    message = 'Hi'\n",
    "    \n",
    "    def inner_func():\n",
    "        print(message)\n",
    "        \n",
    "    return inner_func"
   ]
  },
  {
   "cell_type": "code",
   "execution_count": 10,
   "metadata": {},
   "outputs": [
    {
     "name": "stdout",
     "output_type": "stream",
     "text": [
      "Hi\n",
      "Hi\n",
      "Hi\n"
     ]
    }
   ],
   "source": [
    "my_func = outer_func()\n",
    "\n",
    "my_func()\n",
    "my_func()\n",
    "my_func()"
   ]
  },
  {
   "cell_type": "markdown",
   "metadata": {},
   "source": [
    "my_func는 outer_func의 반환값인 inner_func과 같음.  \n",
    "outer_func는 my_func에 할당할때 종료되어 변수값이 날라감.  \n",
    "my_func는 outer_func의 로컬변수인 message를 참조해서 결과를 출력함.\n",
    "\n",
    "-> 클로저는 함수의 프리변수 값을 어딘가에 저장"
   ]
  },
  {
   "cell_type": "code",
   "execution_count": 11,
   "metadata": {},
   "outputs": [],
   "source": [
    "def outer_func():\n",
    "    message = 'Hi'\n",
    "    \n",
    "    def inner_func():\n",
    "        print(message)\n",
    "        \n",
    "    return inner_func"
   ]
  },
  {
   "cell_type": "code",
   "execution_count": 12,
   "metadata": {},
   "outputs": [],
   "source": [
    "my_func = outer_func()"
   ]
  },
  {
   "cell_type": "code",
   "execution_count": 15,
   "metadata": {},
   "outputs": [
    {
     "name": "stdout",
     "output_type": "stream",
     "text": [
      "<function outer_func.<locals>.inner_func at 0x109347268>\n",
      "----------\n",
      "['__annotations__', '__call__', '__class__', '__closure__', '__code__', '__defaults__', '__delattr__', '__dict__', '__dir__', '__doc__', '__eq__', '__format__', '__ge__', '__get__', '__getattribute__', '__globals__', '__gt__', '__hash__', '__init__', '__init_subclass__', '__kwdefaults__', '__le__', '__lt__', '__module__', '__name__', '__ne__', '__new__', '__qualname__', '__reduce__', '__reduce_ex__', '__repr__', '__setattr__', '__sizeof__', '__str__', '__subclasshook__']\n",
      "----------\n",
      "<class 'tuple'>\n",
      "----------\n",
      "(<cell at 0x1092e1948: str object at 0x1093323e8>,)\n",
      "----------\n",
      "<cell at 0x1092e1948: str object at 0x1093323e8>\n",
      "----------\n",
      "['__class__', '__delattr__', '__dir__', '__doc__', '__eq__', '__format__', '__ge__', '__getattribute__', '__gt__', '__hash__', '__init__', '__init_subclass__', '__le__', '__lt__', '__ne__', '__new__', '__reduce__', '__reduce_ex__', '__repr__', '__setattr__', '__sizeof__', '__str__', '__subclasshook__', 'cell_contents']\n",
      "----------\n",
      "Hi\n"
     ]
    }
   ],
   "source": [
    "# my_func 변수에 inner_func 함수 오브젝트가 할당됨\n",
    "print(my_func)\n",
    "print('-'*10)\n",
    "\n",
    "# 클로저가 데이터를 어디에 숨기는지 dir() 명령을 통해 my_func의 네임스페이스를 확인\n",
    "# __closure__라는 속성이 숨어 있음\n",
    "print(dir(my_func))\n",
    "print('-'*10)\n",
    "\n",
    "# __closure__ 의 타입을 확인.\n",
    "print(type(my_func.__closure__))\n",
    "print('-'*10)\n",
    "\n",
    "# 그 튜플 안에 무엇이 들어 있는지 확인. 아이템이 하나 들어 있음\n",
    "print(my_func.__closure__)\n",
    "print('-'*10)\n",
    "\n",
    "# 튜플 안에 첫번째 아이템 확인.\n",
    "#'cell'이라는 이름의 문자열 오브젝트\n",
    "print(my_func.__closure__[0])\n",
    "print('-'*10)\n",
    "\n",
    "# 'cell' 오브젝트가 가지고 있는 속성 확인.\n",
    "# 'cell_conetents'라는 속성을 가지고 있음\n",
    "print(dir(my_func.__closure__[0]))\n",
    "print('-'*10)\n",
    "\n",
    "# 'cell_contents'안에 'Hi'가 들어 있음\n",
    "print(my_func.__closure__[0].cell_contents)"
   ]
  },
  {
   "cell_type": "code",
   "execution_count": 16,
   "metadata": {},
   "outputs": [],
   "source": [
    "def outer_func(tag):\n",
    "    text = 'Some text'\n",
    "    tag = tag\n",
    "    \n",
    "    def inner_func():\n",
    "        print('<{0}>{1}<{0}>'.format(tag, text))\n",
    "        \n",
    "    return inner_func"
   ]
  },
  {
   "cell_type": "code",
   "execution_count": 17,
   "metadata": {},
   "outputs": [
    {
     "name": "stdout",
     "output_type": "stream",
     "text": [
      "<hi>Some text<hi>\n",
      "<p>Some text<p>\n"
     ]
    }
   ],
   "source": [
    "h1_func = outer_func('hi')\n",
    "p_func = outer_func('p')\n",
    "\n",
    "h1_func()\n",
    "p_func()"
   ]
  },
  {
   "cell_type": "code",
   "execution_count": 18,
   "metadata": {},
   "outputs": [],
   "source": [
    "def outer_func(tag):\n",
    "    tag = tag\n",
    "    \n",
    "    def inner_func(txt):\n",
    "        text = txt\n",
    "        print('<{0}>{1}<{0}>'.format(tag, text))\n",
    "        \n",
    "    return inner_func"
   ]
  },
  {
   "cell_type": "code",
   "execution_count": 19,
   "metadata": {},
   "outputs": [],
   "source": [
    "h1_func = outer_func('h1')\n",
    "p_func = outer_func('p')"
   ]
  },
  {
   "cell_type": "code",
   "execution_count": 20,
   "metadata": {},
   "outputs": [
    {
     "name": "stdout",
     "output_type": "stream",
     "text": [
      "<h1>h1태그의 안입니다.<h1>\n",
      "<p>p태그의 안입니다.<p>\n"
     ]
    }
   ],
   "source": [
    "h1_func('h1태그의 안입니다.')\n",
    "p_func('p태그의 안입니다.')"
   ]
  },
  {
   "cell_type": "markdown",
   "metadata": {},
   "source": [
    "클로저는 하나의 함수로 여러가지 함수를 간단히 만들어 낼 수 있도록 해주며, 기존에 만들어진 함수나 모듈등을 수정하지 않고도 wrapper 함수를 이용해 커스터마이징 할 수 있게 해준다."
   ]
  }
 ],
 "metadata": {
  "kernelspec": {
   "display_name": "Python 3",
   "language": "python",
   "name": "python3"
  },
  "language_info": {
   "codemirror_mode": {
    "name": "ipython",
    "version": 3
   },
   "file_extension": ".py",
   "mimetype": "text/x-python",
   "name": "python",
   "nbconvert_exporter": "python",
   "pygments_lexer": "ipython3",
   "version": "3.6.0"
  }
 },
 "nbformat": 4,
 "nbformat_minor": 2
}

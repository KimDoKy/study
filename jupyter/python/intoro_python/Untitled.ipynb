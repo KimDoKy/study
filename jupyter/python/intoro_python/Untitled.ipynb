{
 "cells": [
  {
   "cell_type": "markdown",
   "metadata": {},
   "source": [
    "# Chap9. 웹"
   ]
  },
  {
   "cell_type": "markdown",
   "metadata": {},
   "source": [
    "### 9.1.2 파이썬 표준 웹 라이브러리"
   ]
  },
  {
   "cell_type": "code",
   "execution_count": 5,
   "metadata": {},
   "outputs": [
    {
     "name": "stdout",
     "output_type": "stream",
     "text": [
      "<http.client.HTTPResponse object at 0x106082ef0>\n"
     ]
    }
   ],
   "source": [
    "import urllib.request as ur\n",
    "url = 'http://quotesondesign.com/wp-json/posts'\n",
    "conn = ur.urlopen(url)\n",
    "print(conn)"
   ]
  },
  {
   "cell_type": "code",
   "execution_count": 6,
   "metadata": {},
   "outputs": [
    {
     "name": "stdout",
     "output_type": "stream",
     "text": [
      "b'[{\"ID\":2463,\"title\":\"Antoine de Saint-Exupery\",\"content\":\"<p>If you want to build a ship, don&#8217;t drum up people to collect wood and don&#8217;t assign them tasks and work, but rather teach them to long for the endless immensity of the sea.<\\\\/p>\\\\n\",\"link\":\"https:\\\\/\\\\/quotesondesign.com\\\\/antoine-de-saint-exupery-4\\\\/\"}]'\n"
     ]
    }
   ],
   "source": [
    "data = conn.read()\n",
    "print(data)"
   ]
  },
  {
   "cell_type": "code",
   "execution_count": 7,
   "metadata": {},
   "outputs": [
    {
     "name": "stdout",
     "output_type": "stream",
     "text": [
      "200\n"
     ]
    }
   ],
   "source": [
    "print(conn.status)"
   ]
  },
  {
   "cell_type": "code",
   "execution_count": 9,
   "metadata": {},
   "outputs": [
    {
     "name": "stdout",
     "output_type": "stream",
     "text": [
      "application/json; charset=UTF-8\n"
     ]
    }
   ],
   "source": [
    "print(conn.getheader('Content-Type'))"
   ]
  },
  {
   "cell_type": "code",
   "execution_count": 10,
   "metadata": {},
   "outputs": [
    {
     "name": "stdout",
     "output_type": "stream",
     "text": [
      "Server nginx\n",
      "Date Thu, 28 Jun 2018 12:34:20 GMT\n",
      "Content-Type application/json; charset=UTF-8\n",
      "Content-Length 322\n",
      "Connection close\n",
      "X-Powered-By PHP/5.4.13\n",
      "X-Content-Type-Options nosniff\n",
      "Link </wp-json/posts?page=2>; rel=\"next\", <https://quotesondesign.com/wp-json/posts/2463>; rel=\"item\"; title=\"Antoine de Saint-Exupery\"\n",
      "X-WP-Total 1065\n",
      "X-WP-TotalPages 1065\n",
      "Last-Modified Thu, 08 Mar 2018 20:05:23 GMT\n",
      "X-Powered-By PleskLin\n"
     ]
    }
   ],
   "source": [
    "for key, value in conn.getheaders():\n",
    "    print(key, value)"
   ]
  },
  {
   "cell_type": "markdown",
   "metadata": {},
   "source": [
    "### 9.1.3 표준 라이브러리를 넘어서: Requests"
   ]
  },
  {
   "cell_type": "code",
   "execution_count": 13,
   "metadata": {},
   "outputs": [
    {
     "data": {
      "text/plain": [
       "<Response [200]>"
      ]
     },
     "execution_count": 13,
     "metadata": {},
     "output_type": "execute_result"
    }
   ],
   "source": [
    "import requests\n",
    "url = 'http://quotesondesign.com/wp-json/posts'\n",
    "resp = requests.get(url)\n",
    "resp"
   ]
  },
  {
   "cell_type": "code",
   "execution_count": 14,
   "metadata": {},
   "outputs": [
    {
     "name": "stdout",
     "output_type": "stream",
     "text": [
      "[{\"ID\":2463,\"title\":\"Antoine de Saint-Exupery\",\"content\":\"<p>If you want to build a ship, don&#8217;t drum up people to collect wood and don&#8217;t assign them tasks and work, but rather teach them to long for the endless immensity of the sea.<\\/p>\\n\",\"link\":\"https:\\/\\/quotesondesign.com\\/antoine-de-saint-exupery-4\\/\"}]\n"
     ]
    }
   ],
   "source": [
    "print(resp.text)"
   ]
  },
  {
   "cell_type": "code",
   "execution_count": null,
   "metadata": {},
   "outputs": [],
   "source": []
  }
 ],
 "metadata": {
  "kernelspec": {
   "display_name": "Python 3",
   "language": "python",
   "name": "python3"
  },
  "language_info": {
   "codemirror_mode": {
    "name": "ipython",
    "version": 3
   },
   "file_extension": ".py",
   "mimetype": "text/x-python",
   "name": "python",
   "nbconvert_exporter": "python",
   "pygments_lexer": "ipython3",
   "version": "3.6.0"
  }
 },
 "nbformat": 4,
 "nbformat_minor": 2
}

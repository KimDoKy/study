{
 "cells": [
  {
   "cell_type": "markdown",
   "metadata": {},
   "source": [
    "## 8.1 'This is a test of the emergency text system' 문자열을 test1 변수에 할당하라. 그리고 test1 변수를 test.txt 파일에 작성하라."
   ]
  },
  {
   "cell_type": "code",
   "execution_count": 1,
   "metadata": {},
   "outputs": [],
   "source": [
    "test1 = 'This is a test of the emergency text system'"
   ]
  },
  {
   "cell_type": "code",
   "execution_count": 2,
   "metadata": {},
   "outputs": [
    {
     "data": {
      "text/plain": [
       "43"
      ]
     },
     "execution_count": 2,
     "metadata": {},
     "output_type": "execute_result"
    }
   ],
   "source": [
    "poem = open('text.txt', 'wt')\n",
    "poem.write(test1)"
   ]
  },
  {
   "cell_type": "code",
   "execution_count": 3,
   "metadata": {},
   "outputs": [],
   "source": [
    "poem.close()"
   ]
  },
  {
   "cell_type": "markdown",
   "metadata": {},
   "source": [
    "## 8.2 test.txt 파일을 열어서 내용을 읽고, test2 문자열에 저장하라. test1과 test2의 값이 같은가?\n"
   ]
  },
  {
   "cell_type": "code",
   "execution_count": 4,
   "metadata": {},
   "outputs": [
    {
     "data": {
      "text/plain": [
       "False"
      ]
     },
     "execution_count": 4,
     "metadata": {},
     "output_type": "execute_result"
    }
   ],
   "source": [
    "test2 = open('text.txt', 'rt')\n",
    "test1 == test2"
   ]
  },
  {
   "cell_type": "markdown",
   "metadata": {},
   "source": [
    "## 8.3 아래 텍스트를 books.csv 파일에 저장하라(필드는 콤마로 구분한다. 인용 부호 안에 콤마가 있을 때는 하나의 필드로 인식한다).\n"
   ]
  },
  {
   "cell_type": "markdown",
   "metadata": {},
   "source": [
    "```\n",
    "author,books\n",
    "J R R Tolkien,The Hobbit\n",
    "Lynne Truss,\"Eats, Shoots & Leaves\"\n",
    "```"
   ]
  },
  {
   "cell_type": "code",
   "execution_count": 7,
   "metadata": {},
   "outputs": [],
   "source": [
    "books = open('books.csv', 'wt')\n",
    "books.write('''\n",
    "author,books\n",
    "J R R Tolkien,The hobbit\n",
    "Lynne Truss,\"Eats,Shoots & Leaves\"''')\n",
    "books.close()"
   ]
  },
  {
   "cell_type": "markdown",
   "metadata": {},
   "source": [
    "## 8.4 csv 모듈의 DictReader 메서드를 사용하여 books.csv 파일을 읽고, books 변수에 저장하라. books 변수를 출력해보라. DictReader 메서드는 두 번째 책 제목에서 콤마와 인용 부호를 처리하는가?\n"
   ]
  },
  {
   "cell_type": "code",
   "execution_count": 14,
   "metadata": {},
   "outputs": [
    {
     "name": "stdout",
     "output_type": "stream",
     "text": [
      "<csv.DictReader object at 0x10849ef28>\n"
     ]
    }
   ],
   "source": [
    "import csv\n",
    "books = csv.DictReader(open('books.csv'))\n",
    "print(books)"
   ]
  },
  {
   "cell_type": "code",
   "execution_count": 15,
   "metadata": {},
   "outputs": [
    {
     "name": "stdout",
     "output_type": "stream",
     "text": [
      "OrderedDict([(None, ['author', 'books'])])\n",
      "OrderedDict([(None, ['J R R Tolkien', 'The hobbit'])])\n",
      "OrderedDict([(None, ['Lynne Truss', 'Eats,Shoots & Leaves'])])\n"
     ]
    }
   ],
   "source": [
    "for content in books:\n",
    "    print(content)"
   ]
  },
  {
   "cell_type": "markdown",
   "metadata": {},
   "source": [
    "## 8.5 아래 텍스트를 books.csv 파일로 저장하라.\n"
   ]
  },
  {
   "cell_type": "markdown",
   "metadata": {},
   "source": [
    "```\n",
    "title,author,year\n",
    "The Weirdstone of Brisingamen,Alan Garner,1960\n",
    "Perdido Street Station, China Mieville, 2000\n",
    "Thud!,Terry Pratchett,2005\n",
    "The Spellman Files,Lisa Lutz,2007\n",
    "Small Gods,Terry Pratchett,1992\n",
    "```"
   ]
  },
  {
   "cell_type": "code",
   "execution_count": 35,
   "metadata": {},
   "outputs": [],
   "source": [
    "brisingamen = '''\n",
    "title,author,year\n",
    "The Weirdstone of Brisingamen,Alan Garner,1960\n",
    "Perdido Street Station, China Mieville, 2000\n",
    "Thud!,Terry Pratchett,2005\n",
    "The Spellman Files,Lisa Lutz,2007\n",
    "Small Gods,Terry Pratchett,1992\n",
    "'''\n",
    "\n",
    "books = open('books.csv', 'wt')\n",
    "books.write(brisingamen)\n",
    "books.close()"
   ]
  },
  {
   "cell_type": "markdown",
   "metadata": {},
   "source": [
    "## 8.6 sqlite3 모듈을 사용하여 books.db라는 이름의 SQLite 데이터베이스를 생성하라. 그리고 title(text), author(text), year(integer) 필드를 가진 books 테이블을 생성하라.\n"
   ]
  },
  {
   "cell_type": "code",
   "execution_count": 128,
   "metadata": {},
   "outputs": [],
   "source": [
    "import sqlite3\n",
    "conn = sqlite3.connect('books.db')\n",
    "curs = conn.cursor()"
   ]
  },
  {
   "cell_type": "code",
   "execution_count": null,
   "metadata": {},
   "outputs": [],
   "source": [
    "curs.execute('''CREATE TABLE books\n",
    "(title TEXT, author TEXT, year INT)''')"
   ]
  },
  {
   "cell_type": "markdown",
   "metadata": {},
   "source": [
    "## 8.7 books.csv를 읽고, 데이터를 book 테이블에 삽입하라.\n"
   ]
  },
  {
   "cell_type": "code",
   "execution_count": 130,
   "metadata": {},
   "outputs": [],
   "source": [
    "with open('books.csv', 'rt') as fin:\n",
    "    cin = csv.reader(fin)\n",
    "    vil = [row for row in cin]"
   ]
  },
  {
   "cell_type": "code",
   "execution_count": 131,
   "metadata": {},
   "outputs": [],
   "source": [
    "for row in vil:\n",
    "    if len(row) == 0: continue\n",
    "    elif row[2] == 'year': continue\n",
    "    curs.execute('INSERT INTO books VALUES(\"{}\",\"{}\",{})'.format(row[0],row[1], row[2]))"
   ]
  },
  {
   "cell_type": "code",
   "execution_count": 132,
   "metadata": {},
   "outputs": [
    {
     "name": "stdout",
     "output_type": "stream",
     "text": [
      "[('The Weirdstone of Brisingamen', 'Alan Garner', 1960), ('Perdido Street Station', ' China Mieville', 2000), ('Thud!', 'Terry Pratchett', 2005), ('The Spellman Files', 'Lisa Lutz', 2007), ('Small Gods', 'Terry Pratchett', 1992)]\n"
     ]
    },
    {
     "data": {
      "text/plain": [
       "<function Cursor.close>"
      ]
     },
     "execution_count": 132,
     "metadata": {},
     "output_type": "execute_result"
    }
   ],
   "source": [
    "curs.execute('SELECT * FROM books')\n",
    "rows = curs.fetchall()\n",
    "print(rows)\n",
    "curs.close"
   ]
  },
  {
   "cell_type": "markdown",
   "metadata": {},
   "source": [
    "## 8.8 book 테이블에서 알파벳순으로 title 열을 조회하여 결과를 출력하라.\n"
   ]
  },
  {
   "cell_type": "code",
   "execution_count": 124,
   "metadata": {},
   "outputs": [
    {
     "name": "stdout",
     "output_type": "stream",
     "text": [
      "[('Perdido Street Station', ' China Mieville', 2000), ('Perdido Street Station', ' China Mieville', 2000), ('Small Gods', 'Terry Pratchett', 1992), ('Small Gods', 'Terry Pratchett', 1992), ('The Spellman Files', 'Lisa Lutz', 2007), ('The Spellman Files', 'Lisa Lutz', 2007), ('The Weirdstone of Brisingamen', 'Alan Garner', 1960), ('The Weirdstone of Brisingamen', 'Alan Garner', 1960), ('Thud!', 'Terry Pratchett', 2005), ('Thud!', 'Terry Pratchett', 2005)]\n"
     ]
    }
   ],
   "source": [
    "curs.execute('SELECT * FROM books ORDER BY title')\n",
    "rows = curs.fetchall()\n",
    "print(rows)"
   ]
  },
  {
   "cell_type": "markdown",
   "metadata": {},
   "source": [
    "## 8.9 book 테이블에서 발행일순(오름차순)으로 모든 열을 조회하여 결과를 출력하라.\n"
   ]
  },
  {
   "cell_type": "code",
   "execution_count": 133,
   "metadata": {},
   "outputs": [
    {
     "name": "stdout",
     "output_type": "stream",
     "text": [
      "[('The Weirdstone of Brisingamen', 'Alan Garner', 1960), ('Small Gods', 'Terry Pratchett', 1992), ('Perdido Street Station', ' China Mieville', 2000), ('Thud!', 'Terry Pratchett', 2005), ('The Spellman Files', 'Lisa Lutz', 2007)]\n"
     ]
    }
   ],
   "source": [
    "curs.execute('SELECT * FROM books ORDER BY year')\n",
    "rows = curs.fetchall()\n",
    "print(rows)"
   ]
  },
  {
   "cell_type": "code",
   "execution_count": 134,
   "metadata": {},
   "outputs": [],
   "source": [
    "curs.close()\n",
    "conn.close()"
   ]
  },
  {
   "cell_type": "markdown",
   "metadata": {},
   "source": [
    "## 8.10 sqlalchemy 모듈을 사용하여 연습문제 8.6에서 만든 books.db를 연결하라. 그리고 연습문제 8.8과 같이 book 테이블에서 title 열을 알파벳순으로 조회하여 결과를 출력하라.\n"
   ]
  },
  {
   "cell_type": "markdown",
   "metadata": {},
   "source": [
    "## 8.11 Redis 서버와 파이썬 redis 라이브러리(pip install redis)를 설치하라. count: 1과 name: 'Fester Bestertester' 필드(키:값)를 가진 test 해시를 생성하라.  test에 대한 모든 필드를 출력하라.\n"
   ]
  },
  {
   "cell_type": "markdown",
   "metadata": {},
   "source": [
    "## 8.12 test의 count 필드를 증가시키고, 출력하라.\n"
   ]
  }
 ],
 "metadata": {
  "kernelspec": {
   "display_name": "Python 3",
   "language": "python",
   "name": "python3"
  },
  "language_info": {
   "codemirror_mode": {
    "name": "ipython",
    "version": 3
   },
   "file_extension": ".py",
   "mimetype": "text/x-python",
   "name": "python",
   "nbconvert_exporter": "python",
   "pygments_lexer": "ipython3",
   "version": "3.6.0"
  }
 },
 "nbformat": 4,
 "nbformat_minor": 2
}

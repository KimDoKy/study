{
 "cells": [
  {
   "cell_type": "markdown",
   "metadata": {},
   "source": [
    "# Scope"
   ]
  },
  {
   "cell_type": "markdown",
   "metadata": {},
   "source": [
    "### 유효 범위(scope): global vs local"
   ]
  },
  {
   "cell_type": "code",
   "execution_count": 3,
   "metadata": {},
   "outputs": [
    {
     "name": "stdout",
     "output_type": "stream",
     "text": [
      "inside test:  3\n",
      "after test 2\n"
     ]
    }
   ],
   "source": [
    "# 변수 a(1)와 a(2)는 서로 다른 변수\n",
    "\n",
    "a = 2 #1 global\n",
    "\n",
    "def test():\n",
    "    a = 3 #2 local\n",
    "    print('inside test: ', a)\n",
    "\n",
    "test()\n",
    "print('after test', a)"
   ]
  },
  {
   "cell_type": "code",
   "execution_count": 4,
   "metadata": {},
   "outputs": [
    {
     "name": "stdout",
     "output_type": "stream",
     "text": [
      "inside test 2\n",
      "after test:  2\n"
     ]
    }
   ],
   "source": [
    "# print 실행시 함수 외부에서 정의된 변수로 파이썬이 인지하고, 전역 유효범위를 검색하고,\n",
    "# 해당 명칭을 갖는 변수를 찾아 사용한다.\n",
    "\n",
    "a = 2\n",
    "\n",
    "def test():\n",
    "    print('inside test', a)\n",
    "    \n",
    "test()\n",
    "print('after test: ', a)"
   ]
  },
  {
   "cell_type": "code",
   "execution_count": 7,
   "metadata": {},
   "outputs": [
    {
     "ename": "UnboundLocalError",
     "evalue": "local variable 'a' referenced before assignment",
     "output_type": "error",
     "traceback": [
      "\u001b[0;31m---------------------------------------------------------------------------\u001b[0m",
      "\u001b[0;31mUnboundLocalError\u001b[0m                         Traceback (most recent call last)",
      "\u001b[0;32m<ipython-input-7-971f03b1c1af>\u001b[0m in \u001b[0;36m<module>\u001b[0;34m()\u001b[0m\n\u001b[1;32m      7\u001b[0m     \u001b[0ma\u001b[0m \u001b[0;34m=\u001b[0m \u001b[0;36m3\u001b[0m\u001b[0;34m\u001b[0m\u001b[0m\n\u001b[1;32m      8\u001b[0m \u001b[0;34m\u001b[0m\u001b[0m\n\u001b[0;32m----> 9\u001b[0;31m \u001b[0mtest\u001b[0m\u001b[0;34m(\u001b[0m\u001b[0;34m)\u001b[0m\u001b[0;34m\u001b[0m\u001b[0m\n\u001b[0m\u001b[1;32m     10\u001b[0m \u001b[0mprint\u001b[0m\u001b[0;34m(\u001b[0m\u001b[0;34m'after test: '\u001b[0m\u001b[0;34m,\u001b[0m \u001b[0ma\u001b[0m\u001b[0;34m)\u001b[0m\u001b[0;34m\u001b[0m\u001b[0m\n",
      "\u001b[0;32m<ipython-input-7-971f03b1c1af>\u001b[0m in \u001b[0;36mtest\u001b[0;34m()\u001b[0m\n\u001b[1;32m      4\u001b[0m \u001b[0;34m\u001b[0m\u001b[0m\n\u001b[1;32m      5\u001b[0m \u001b[0;32mdef\u001b[0m \u001b[0mtest\u001b[0m\u001b[0;34m(\u001b[0m\u001b[0;34m)\u001b[0m\u001b[0;34m:\u001b[0m\u001b[0;34m\u001b[0m\u001b[0m\n\u001b[0;32m----> 6\u001b[0;31m     \u001b[0mprint\u001b[0m\u001b[0;34m(\u001b[0m\u001b[0;34m'inside test: '\u001b[0m\u001b[0;34m,\u001b[0m \u001b[0ma\u001b[0m\u001b[0;34m)\u001b[0m\u001b[0;34m\u001b[0m\u001b[0m\n\u001b[0m\u001b[1;32m      7\u001b[0m     \u001b[0ma\u001b[0m \u001b[0;34m=\u001b[0m \u001b[0;36m3\u001b[0m\u001b[0;34m\u001b[0m\u001b[0m\n\u001b[1;32m      8\u001b[0m \u001b[0;34m\u001b[0m\u001b[0m\n",
      "\u001b[0;31mUnboundLocalError\u001b[0m: local variable 'a' referenced before assignment"
     ]
    }
   ],
   "source": [
    "# 바로 위의 코드와는 달리\n",
    "# 파이썬은 함수 내부의 a가 지역 변수를 지칭하는 것으로 판단.\n",
    "# 변수에 할당되기 전에 변수값을 출력하려 하기 때문에 error가 발생한다.\n",
    "a = 2\n",
    "\n",
    "def test():\n",
    "    print('inside test: ', a)\n",
    "    a = 3\n",
    "    \n",
    "test()\n",
    "print('after test: ', a)"
   ]
  },
  {
   "cell_type": "code",
   "execution_count": 6,
   "metadata": {},
   "outputs": [
    {
     "name": "stdout",
     "output_type": "stream",
     "text": [
      "inside test 2\n",
      "after test 3\n"
     ]
    }
   ],
   "source": [
    "# 함수 내부에서 global을 선언하였기 때문에\n",
    "# 선언 이후 함수 내에서 사용하는 해당 함수는 동일한 global으로써\n",
    "# 함수 내부에서 값을 변경하면 함수 밖에 있는 원래 global a도 값이 변경된다.\n",
    "a = 2\n",
    "\n",
    "def test():\n",
    "    global a\n",
    "    print('inside test', a)\n",
    "    a = 3\n",
    "    \n",
    "test()\n",
    "print('after test', a)"
   ]
  }
 ],
 "metadata": {
  "kernelspec": {
   "display_name": "Python 3",
   "language": "python",
   "name": "python3"
  },
  "language_info": {
   "codemirror_mode": {
    "name": "ipython",
    "version": 3
   },
   "file_extension": ".py",
   "mimetype": "text/x-python",
   "name": "python",
   "nbconvert_exporter": "python",
   "pygments_lexer": "ipython3",
   "version": "3.6.0"
  }
 },
 "nbformat": 4,
 "nbformat_minor": 2
}

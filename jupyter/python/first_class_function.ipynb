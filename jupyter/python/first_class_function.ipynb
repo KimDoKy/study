{
 "cells": [
  {
   "cell_type": "markdown",
   "metadata": {},
   "source": [
    "# First Class Function"
   ]
  },
  {
   "cell_type": "code",
   "execution_count": 1,
   "metadata": {},
   "outputs": [],
   "source": [
    "def logger(msg):\n",
    "    \n",
    "    def log_message():\n",
    "        print('Log: ', msg)\n",
    "        \n",
    "    return log_message"
   ]
  },
  {
   "cell_type": "code",
   "execution_count": 2,
   "metadata": {},
   "outputs": [
    {
     "name": "stdout",
     "output_type": "stream",
     "text": [
      "<function logger.<locals>.log_message at 0x11136c2f0>\n",
      "Log:  Hi\n"
     ]
    }
   ],
   "source": [
    "log_hi = logger('Hi')\n",
    "print(log_hi)\n",
    "log_hi()"
   ]
  },
  {
   "cell_type": "markdown",
   "metadata": {},
   "source": [
    "msg와 같은 함수의 지역변수 값은 함수가 호출된 이후에 메모리상에서 사라지므로 다시 참조할 수 없는데, msg 변수에 할당되었던 'Hi'값이 logger 함수가 종료된 이후에도 참조 됨.  \n",
    "이런 log_message와 같은 함수를 **클로저(closure)**라고 함.  \n",
    "클로저는 다른 함수의 지역변수가 그 함수가 종료된 이후에도 기억할 수 있음"
   ]
  },
  {
   "cell_type": "code",
   "execution_count": 3,
   "metadata": {},
   "outputs": [],
   "source": [
    "def logger(msg):\n",
    "    \n",
    "    def log_message():\n",
    "        print('Log: ', msg)\n",
    "        \n",
    "    return log_message"
   ]
  },
  {
   "cell_type": "code",
   "execution_count": 5,
   "metadata": {},
   "outputs": [
    {
     "name": "stdout",
     "output_type": "stream",
     "text": [
      "<function logger.<locals>.log_message at 0x11136c0d0>\n",
      "Log:  Hi\n"
     ]
    }
   ],
   "source": [
    "log_hi = logger('Hi')\n",
    "print(log_hi)\n",
    "log_hi()"
   ]
  },
  {
   "cell_type": "code",
   "execution_count": 7,
   "metadata": {},
   "outputs": [],
   "source": [
    "del logger"
   ]
  },
  {
   "cell_type": "code",
   "execution_count": 8,
   "metadata": {},
   "outputs": [
    {
     "name": "stdout",
     "output_type": "stream",
     "text": [
      "Name Error: logger는 존재하지 않음\n"
     ]
    }
   ],
   "source": [
    "try:\n",
    "    print(logger)\n",
    "except NameError:\n",
    "    print('Name Error: logger는 존재하지 않음')"
   ]
  },
  {
   "cell_type": "code",
   "execution_count": 9,
   "metadata": {},
   "outputs": [
    {
     "name": "stdout",
     "output_type": "stream",
     "text": [
      "Log:  Hi\n"
     ]
    }
   ],
   "source": [
    "log_hi()"
   ]
  },
  {
   "cell_type": "markdown",
   "metadata": {},
   "source": [
    "logger가 지워진 뒤에도 log_hi()를 실행하여 log_message가 호출되었음.  \n",
    "logger 함수를 완전히 삭제한 이후에도 log_message 함수는 'Hi'를 기억하고 있음."
   ]
  },
  {
   "cell_type": "code",
   "execution_count": 13,
   "metadata": {},
   "outputs": [
    {
     "name": "stdout",
     "output_type": "stream",
     "text": [
      "<h1>심플 헤딩 타이틀<h1>\n",
      "------------------------------\n",
      "<function html_tag.<locals>.wrap_text at 0x1113ed950>\n",
      "<h1>첫 번째 헤딩 타이틀<h1>\n",
      "<h1>두 번째 헤딩 타이틀<h1>\n",
      "<p>이것은 패러그래프<p>\n"
     ]
    }
   ],
   "source": [
    "def simple_html_tag(tag, msg):\n",
    "    print('<{0}>{1}<{0}>'.format(tag, msg))\n",
    "    \n",
    "simple_html_tag('h1', '심플 헤딩 타이틀')\n",
    "\n",
    "print('-' * 30)\n",
    "\n",
    "def html_tag(tag):\n",
    "    \n",
    "    def wrap_text(msg):\n",
    "        print('<{0}>{1}<{0}>'.format(tag, msg))\n",
    "        \n",
    "    return wrap_text\n",
    "\n",
    "print_h1 = html_tag('h1')\n",
    "print(print_h1)\n",
    "print_h1('첫 번째 헤딩 타이틀')\n",
    "print_h1('두 번째 헤딩 타이틀')\n",
    "\n",
    "print_p = html_tag('p')\n",
    "print_p('이것은 패러그래프')"
   ]
  }
 ],
 "metadata": {
  "kernelspec": {
   "display_name": "Python 3",
   "language": "python",
   "name": "python3"
  },
  "language_info": {
   "codemirror_mode": {
    "name": "ipython",
    "version": 3
   },
   "file_extension": ".py",
   "mimetype": "text/x-python",
   "name": "python",
   "nbconvert_exporter": "python",
   "pygments_lexer": "ipython3",
   "version": "3.6.0"
  }
 },
 "nbformat": 4,
 "nbformat_minor": 2
}

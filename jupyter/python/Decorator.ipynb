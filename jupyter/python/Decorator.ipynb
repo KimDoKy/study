{
 "cells": [
  {
   "cell_type": "markdown",
   "metadata": {},
   "source": [
    "# Decorator"
   ]
  },
  {
   "cell_type": "code",
   "execution_count": 1,
   "metadata": {},
   "outputs": [],
   "source": [
    "def outer_func(msg):\n",
    "    def inner_func():\n",
    "        print(msg)\n",
    "    return inner_func"
   ]
  },
  {
   "cell_type": "code",
   "execution_count": 2,
   "metadata": {},
   "outputs": [],
   "source": [
    "hi_func = outer_func('Hi')\n",
    "bye_func = outer_func('Bye')"
   ]
  },
  {
   "cell_type": "code",
   "execution_count": 3,
   "metadata": {},
   "outputs": [
    {
     "name": "stdout",
     "output_type": "stream",
     "text": [
      "Hi\n",
      "Bye\n"
     ]
    }
   ],
   "source": [
    "hi_func()\n",
    "bye_func()"
   ]
  },
  {
   "cell_type": "markdown",
   "metadata": {},
   "source": [
    "- 데코레이터는 클로저와 비슷\n",
    "- 다른 점은 함수를 다른 함수의 인자로 전달 함"
   ]
  },
  {
   "cell_type": "code",
   "execution_count": 11,
   "metadata": {},
   "outputs": [],
   "source": [
    "def decorator_func(origin_func):\n",
    "    def wrapper_func():\n",
    "        return origin_func()\n",
    "    return wrapper_func\n",
    "\n",
    "def display():\n",
    "    print('display 함수가 실행되었습니다.')"
   ]
  },
  {
   "cell_type": "code",
   "execution_count": 12,
   "metadata": {},
   "outputs": [
    {
     "name": "stdout",
     "output_type": "stream",
     "text": [
      "display 함수가 실행되었습니다.\n"
     ]
    }
   ],
   "source": [
    "decorator_disp = decorator_func(display) # wrapper_func는 실행되기 전\n",
    "decorator_disp() # wrapper_func가 실행되어 display의 결과값이 출력"
   ]
  },
  {
   "cell_type": "markdown",
   "metadata": {},
   "source": [
    "- 데코레이터는 기존의 코드를 수정하지 않고도, 래퍼(wrapper)함수를 이용하여 여거 기능을 추가 할 수 있다."
   ]
  },
  {
   "cell_type": "code",
   "execution_count": 13,
   "metadata": {},
   "outputs": [],
   "source": [
    "def decorator_func(origin_func):\n",
    "    def wrapper_func():\n",
    "        print('{} 함수가 호출되기 전'.format(origin_func.__name__))\n",
    "        return origin_func()\n",
    "    return wrapper_func\n",
    "\n",
    "def display_1():\n",
    "    print('disp_1 함수가 실행')\n",
    "    \n",
    "def display_2():\n",
    "    print('disp_2 함수가 실행')"
   ]
  },
  {
   "cell_type": "code",
   "execution_count": 14,
   "metadata": {},
   "outputs": [],
   "source": [
    "display_1 = decorator_func(display_1)\n",
    "display_2 = decorator_func(display_2)"
   ]
  },
  {
   "cell_type": "code",
   "execution_count": 15,
   "metadata": {},
   "outputs": [
    {
     "name": "stdout",
     "output_type": "stream",
     "text": [
      "display_1 함수가 호출되기 전\n",
      "disp_1 함수가 실행\n",
      "\n",
      "display_2 함수가 호출되기 전\n",
      "disp_2 함수가 실행\n"
     ]
    }
   ],
   "source": [
    "display_1()\n",
    "print()\n",
    "display_2()"
   ]
  },
  {
   "cell_type": "markdown",
   "metadata": {},
   "source": [
    "- 하나의 데코레이터 함수로 display_1, display_2 두 개의 함수에 기능을 추가 할 수 있음"
   ]
  },
  {
   "cell_type": "markdown",
   "metadata": {},
   "source": [
    "### `@` 심볼과 데코레이터 함수의 이름을 붙여 쓰는 방법"
   ]
  },
  {
   "cell_type": "code",
   "execution_count": 1,
   "metadata": {},
   "outputs": [],
   "source": [
    "def decorator_func(origin_func):\n",
    "    def wrapper_func():\n",
    "        print('{} 함수가 호출되기 전'.format(origin_func.__name__))\n",
    "        return origin_func()\n",
    "    return wrapper_func\n",
    "\n",
    "@decorator_func\n",
    "def display_1():\n",
    "    print('disp_1 함수가 실행')\n",
    "    \n",
    "@decorator_func\n",
    "def display_2():\n",
    "    print('disp_2 함수가 실행')"
   ]
  },
  {
   "cell_type": "code",
   "execution_count": 3,
   "metadata": {},
   "outputs": [
    {
     "name": "stdout",
     "output_type": "stream",
     "text": [
      "display_1 함수가 호출되기 전\n",
      "disp_1 함수가 실행\n",
      "\n",
      "display_2 함수가 호출되기 전\n",
      "disp_2 함수가 실행\n"
     ]
    }
   ],
   "source": [
    "display_1()\n",
    "print()\n",
    "display_2()"
   ]
  },
  {
   "cell_type": "markdown",
   "metadata": {},
   "source": [
    "- 인수를 가진 함수를 데코레이팅 하려면"
   ]
  },
  {
   "cell_type": "code",
   "execution_count": 4,
   "metadata": {},
   "outputs": [],
   "source": [
    "def decorator_func(origin_func):\n",
    "    def wrapper_func():\n",
    "        print('{} 함수가 호출되기 전'.format(origin_func.__name__))\n",
    "        return origin_func()\n",
    "    return wrapper_func\n",
    "\n",
    "@decorator_func\n",
    "def display():\n",
    "    print('display 함수가 실행')\n",
    "    \n",
    "@decorator_func\n",
    "def display_info(name, age):\n",
    "    print('display_inf({}, {}) 함수가 실행됨'.format(name, age))"
   ]
  },
  {
   "cell_type": "code",
   "execution_count": 5,
   "metadata": {},
   "outputs": [
    {
     "name": "stdout",
     "output_type": "stream",
     "text": [
      "display 함수가 호출되기 전\n",
      "display 함수가 실행\n",
      "\n"
     ]
    },
    {
     "ename": "TypeError",
     "evalue": "wrapper_func() takes 0 positional arguments but 2 were given",
     "output_type": "error",
     "traceback": [
      "\u001b[0;31m---------------------------------------------------------------------------\u001b[0m",
      "\u001b[0;31mTypeError\u001b[0m                                 Traceback (most recent call last)",
      "\u001b[0;32m<ipython-input-5-3436f79ff16e>\u001b[0m in \u001b[0;36m<module>\u001b[0;34m()\u001b[0m\n\u001b[1;32m      1\u001b[0m \u001b[0mdisplay\u001b[0m\u001b[0;34m(\u001b[0m\u001b[0;34m)\u001b[0m\u001b[0;34m\u001b[0m\u001b[0m\n\u001b[1;32m      2\u001b[0m \u001b[0mprint\u001b[0m\u001b[0;34m(\u001b[0m\u001b[0;34m)\u001b[0m\u001b[0;34m\u001b[0m\u001b[0m\n\u001b[0;32m----> 3\u001b[0;31m \u001b[0mdisplay_info\u001b[0m\u001b[0;34m(\u001b[0m\u001b[0;34m'John'\u001b[0m\u001b[0;34m,\u001b[0m \u001b[0;36m25\u001b[0m\u001b[0;34m)\u001b[0m\u001b[0;34m\u001b[0m\u001b[0m\n\u001b[0m",
      "\u001b[0;31mTypeError\u001b[0m: wrapper_func() takes 0 positional arguments but 2 were given"
     ]
    }
   ],
   "source": [
    "display()\n",
    "print()\n",
    "display_info('John', 25)"
   ]
  },
  {
   "cell_type": "markdown",
   "metadata": {},
   "source": [
    "- 인자를 받지 않았는데 2개의 인자가 전달되었다는 에러가 발생"
   ]
  },
  {
   "cell_type": "code",
   "execution_count": 8,
   "metadata": {},
   "outputs": [],
   "source": [
    "def decorator_func(origin_func):\n",
    "    def wrapper_func(*args, **kwargs): #1\n",
    "        print('{} 함수가 호출되기 전'.format(origin_func.__name__))\n",
    "        return origin_func(*args, **kwargs) #2\n",
    "    return wrapper_func\n",
    "\n",
    "@decorator_func\n",
    "def display():\n",
    "    print('display 함수가 실행')\n",
    "    \n",
    "@decorator_func\n",
    "def display_info(name, age):\n",
    "    print('display_inf({}, {}) 함수가 실행됨'.format(name, age))"
   ]
  },
  {
   "cell_type": "code",
   "execution_count": 12,
   "metadata": {},
   "outputs": [
    {
     "name": "stdout",
     "output_type": "stream",
     "text": [
      "display 함수가 호출되기 전\n",
      "display 함수가 실행\n",
      "\n",
      "display_info 함수가 호출되기 전\n",
      "display_inf(John, 25) 함수가 실행됨\n"
     ]
    }
   ],
   "source": [
    "display()\n",
    "print()\n",
    "display_info('John', 25)"
   ]
  },
  {
   "cell_type": "markdown",
   "metadata": {},
   "source": [
    "### 클래스 형식으로 사용하기"
   ]
  },
  {
   "cell_type": "code",
   "execution_count": 10,
   "metadata": {},
   "outputs": [],
   "source": [
    "class DecoratorClass:\n",
    "    def __init__(self, origin_func):\n",
    "        self.origin_func = origin_func\n",
    "        \n",
    "    def __call__(self, *args, **kwargs):\n",
    "        print('{} 함수가 호출되기 전'.format(self.origin_func.__name__))\n",
    "        return self.origin_func(*args, **kwargs)\n",
    "    \n",
    "@DecoratorClass\n",
    "def display():\n",
    "    print('display 함수가 실행')\n",
    "    \n",
    "@DecoratorClass\n",
    "def display_info(name, age):\n",
    "    print('display_inf({}, {}) 함수가 실행됨'.format(name, age))"
   ]
  },
  {
   "cell_type": "code",
   "execution_count": 11,
   "metadata": {
    "scrolled": true
   },
   "outputs": [
    {
     "name": "stdout",
     "output_type": "stream",
     "text": [
      "display 함수가 호출되기 전\n",
      "display 함수가 실행\n",
      "\n",
      "display_info 함수가 호출되기 전\n",
      "display_inf(John, 25) 함수가 실행됨\n"
     ]
    }
   ],
   "source": [
    "display()\n",
    "print()\n",
    "display_info('John', 25)"
   ]
  },
  {
   "cell_type": "markdown",
   "metadata": {},
   "source": [
    "- @DecoratorClass를 사용하면 decorator_func를 사용한 것과 같은 결과가 출력\n",
    "- 클래스 형식의 테코레이터보다는 함수 형식이 많이 사용됨"
   ]
  },
  {
   "cell_type": "markdown",
   "metadata": {},
   "source": [
    "- 데코레이터는 일반적으로 로그를 남기거나 유저의 로그인 상태를 확인하여 로그인 상태가 아니라면 리다이렉트하기 위해 많이 사용됨\n",
    "- 프로그램의 성능을 테스트할는 용도로도 많이 사용\n",
    "- 리눅스나 유닉스 서버는 스크립트가 실행되는 시간을 측정하기 위해 date와 time 명령어를 사용"
   ]
  },
  {
   "cell_type": "markdown",
   "metadata": {},
   "source": [
    "```\n",
    ">>> date; time sleep 1;\n",
    "2018년 6월  8일 금요일 21시 45분 46초 KST\n",
    "sleep 1  0.00s user 0.00s system 0% cpu 1.004 total\n",
    "```\n",
    "\n",
    "- 데코레이터를 이용해 위와 같은 로깅 기능을 생성"
   ]
  },
  {
   "cell_type": "code",
   "execution_count": 14,
   "metadata": {},
   "outputs": [],
   "source": [
    "import datetime\n",
    "import time\n",
    "\n",
    "\n",
    "def my_logger(origin_func):\n",
    "    import logging\n",
    "    logging.basicConfig(filename='{}.log'.format(origin_func.__name__),\n",
    "                       level=logging.INFO)\n",
    "    \n",
    "    def wrapper(*args, **kwargs):\n",
    "        timestamp = datetime.datetime.now().strftime('%Y-%m-%d %H:%M')\n",
    "        logging.info(\n",
    "        '[{}] 실행결과 args - {}, kwargs - {}'.format(timestamp, args, kwargs))\n",
    "        return origin_func(*args, **kwargs)\n",
    "    \n",
    "    return wrapper\n",
    "\n",
    "\n",
    "@my_logger\n",
    "def display_info(name, age):\n",
    "    time.sleep(1)\n",
    "    print('display_info({}, {}) 함수가 실행됨'.format(name, age))"
   ]
  },
  {
   "cell_type": "code",
   "execution_count": 15,
   "metadata": {},
   "outputs": [
    {
     "name": "stdout",
     "output_type": "stream",
     "text": [
      "display_info(John, 25) 함수가 실행됨\n"
     ]
    }
   ],
   "source": [
    "display_info('John', 25)"
   ]
  },
  {
   "cell_type": "markdown",
   "metadata": {},
   "source": [
    "같은 디렉터리의 'display_info.log'라는 이름의 로그 파일이 생성.\n",
    "\n",
    "```\n",
    "INFO:root:[2018-06-08 21:50] 실행결과 args - ('John', 25), kwargs - {}\n",
    "```"
   ]
  },
  {
   "cell_type": "code",
   "execution_count": 20,
   "metadata": {},
   "outputs": [],
   "source": [
    "import datetime\n",
    "import time\n",
    "\n",
    "\n",
    "def my_timer(origin_func):\n",
    "    import time\n",
    "    \n",
    "    def wrapper(*args, **kwargs):\n",
    "        t1 = time.time()\n",
    "        result = origin_func(*args, **kwargs)\n",
    "        t2 = time.time() - t1\n",
    "        print('{} 함수가 실행된 총 시간: {} 초'.format(origin_func.__name__, t2))\n",
    "        return result\n",
    "    \n",
    "    return wrapper\n",
    "\n",
    "@my_timer\n",
    "def display_info(name, age):\n",
    "    time.sleep(1)\n",
    "    print('display_info({}, {}) 함수가 실행 됨'.format(name, age))"
   ]
  },
  {
   "cell_type": "code",
   "execution_count": 21,
   "metadata": {},
   "outputs": [
    {
     "name": "stdout",
     "output_type": "stream",
     "text": [
      "display_info(John, 25) 함수가 실행 됨\n",
      "display_info 함수가 실행된 총 시간: 1.00502610206604 초\n"
     ]
    }
   ],
   "source": [
    "display_info('John', 25)"
   ]
  },
  {
   "cell_type": "markdown",
   "metadata": {},
   "source": [
    "- my_logger와 my_timer 두 개의 데코레이터를 동시에 사용"
   ]
  },
  {
   "cell_type": "code",
   "execution_count": 22,
   "metadata": {},
   "outputs": [],
   "source": [
    "import datetime\n",
    "import time\n",
    "\n",
    "\n",
    "def my_logger(origin_func):\n",
    "    import logging\n",
    "    logging.basicConfig(filename='{}.log'.format(origin_func.__name__),\n",
    "                       level=logging.INFO)\n",
    "    \n",
    "    def wrapper(*args, **kwargs):\n",
    "        timestamp = datetime.datetime.now().strftime('%Y-%m-%d %H:%M')\n",
    "        logging.info(\n",
    "        '[{}] 실행결과 args - {}, kwargs - {}'.format(timestamp, args, kwargs))\n",
    "        return origin_func(*args, **kwargs)\n",
    "    \n",
    "    return wrapper\n",
    "\n",
    "\n",
    "def my_timer(origin_func):\n",
    "    import time\n",
    "    \n",
    "    def wrapper(*args, **kwargs):\n",
    "        t1 = time.time()\n",
    "        result = origin_func(*args, **kwargs)\n",
    "        t2 = time.time() - t1\n",
    "        print('{} 함수가 실행된 총 시간: {} 초'.format(origin_func.__name__, t2))\n",
    "        return result\n",
    "    \n",
    "    return wrapper\n",
    "\n",
    "@my_logger\n",
    "@my_timer\n",
    "def display_info(name, age):\n",
    "    time.sleep(1)\n",
    "    print('display_info({}, {}) 함수가 실행됨'.format(name, age))"
   ]
  },
  {
   "cell_type": "code",
   "execution_count": 24,
   "metadata": {},
   "outputs": [
    {
     "name": "stdout",
     "output_type": "stream",
     "text": [
      "display_info(John, 25) 함수가 실행됨\n",
      "display_info 함수가 실행된 총 시간: 1.0047202110290527 초\n"
     ]
    }
   ],
   "source": [
    "display_info('John', 25)"
   ]
  },
  {
   "cell_type": "markdown",
   "metadata": {},
   "source": [
    "- wrapper.log란 이름의 파일이 생성되고 그 안에 로그가 쌓인다.\n",
    "- wrapper.log가 아닌 dispaly_info.log라는 파일만 생긴다면 실행환경 문제(ex. Jupyter)"
   ]
  },
  {
   "cell_type": "markdown",
   "metadata": {},
   "source": [
    "- 데코레이터의 순서를 바꿔서 실행"
   ]
  },
  {
   "cell_type": "code",
   "execution_count": 25,
   "metadata": {},
   "outputs": [],
   "source": [
    "import datetime\n",
    "import time\n",
    "\n",
    "\n",
    "def my_logger(origin_func):\n",
    "    import logging\n",
    "    logging.basicConfig(filename='{}.log'.format(origin_func.__name__),\n",
    "                       level=logging.INFO)\n",
    "    \n",
    "    def wrapper(*args, **kwargs):\n",
    "        timestamp = datetime.datetime.now().strftime('%Y-%m-%d %H:%M')\n",
    "        logging.info(\n",
    "        '[{}] 실행결과 args - {}, kwargs - {}'.format(timestamp, args, kwargs))\n",
    "        return origin_func(*args, **kwargs)\n",
    "    \n",
    "    return wrapper\n",
    "\n",
    "\n",
    "def my_timer(origin_func):\n",
    "    import time\n",
    "    \n",
    "    def wrapper(*args, **kwargs):\n",
    "        t1 = time.time()\n",
    "        result = origin_func(*args, **kwargs)\n",
    "        t2 = time.time() - t1\n",
    "        print('{} 함수가 실행된 총 시간: {} 초'.format(origin_func.__name__, t2))\n",
    "        return result\n",
    "    \n",
    "    return wrapper\n",
    "\n",
    "@my_timer\n",
    "@my_logger\n",
    "def display_info(name, age):\n",
    "    time.sleep(1)\n",
    "    print('display_info({}, {}) 함수가 실행됨'.format(name, age))"
   ]
  },
  {
   "cell_type": "code",
   "execution_count": 26,
   "metadata": {},
   "outputs": [
    {
     "name": "stdout",
     "output_type": "stream",
     "text": [
      "display_info(John, 25) 함수가 실행됨\n",
      "wrapper 함수가 실행된 총 시간: 1.001406192779541 초\n"
     ]
    }
   ],
   "source": [
    "display_info('John', 25)"
   ]
  },
  {
   "cell_type": "markdown",
   "metadata": {},
   "source": [
    "- 복수의 데코레이터를 스택해서 사용하면 아래쪽 데코레이터부터 실행되는데, 위의 결우 my_logger가 먼저 실행되고 my_timer에게 wrapper 함수를 인자로써 리턴하기 때문에 위와 같은 현상이 나타난다.\n",
    "- origin_func는 물론 wrapper 함수와 같음\n",
    "- 위와 같은 현상을 방지하기 위해 만들어진 것이 **`functools`** 모듈의 **`wraps`** 데코레이터이다."
   ]
  },
  {
   "cell_type": "code",
   "execution_count": 27,
   "metadata": {},
   "outputs": [],
   "source": [
    "from functools import wraps\n",
    "import datetime\n",
    "import time\n",
    "\n",
    "\n",
    "def my_logger(origin_func):\n",
    "    import logging\n",
    "    logging.basicConfig(filename='{}.log'.format(origin_func.__name__),\n",
    "                       level=logging.INFO)\n",
    "    \n",
    "    @wraps(origin_func)\n",
    "    def wrapper(*args, **kwargs):\n",
    "        timestamp = datetime.datetime.now().strftime('%Y-%m-%d %H:%M')\n",
    "        logging.info(\n",
    "             '[{}] 실행결과 args - {}, kwargs - {}'.format(timestamp, args, kwargs))\n",
    "        return origin_func(*args, **kwargs)\n",
    "    \n",
    "    return wrapper\n",
    "\n",
    "\n",
    "def my_timer(origin_func):\n",
    "    import time\n",
    "    \n",
    "    @wraps(origin_func)\n",
    "    def wrapper(*args, **kwargs):\n",
    "        t1 = time.time()\n",
    "        result = origin_func(*args, **kwargs)\n",
    "        t2 = time.time() - t1\n",
    "        print('{} 함수가 실행된 총 시간: {} 초'.format(origin_func.__name__, t2))\n",
    "        return result\n",
    "    \n",
    "    return wrapper\n",
    "\n",
    "\n",
    "@my_timer\n",
    "@my_logger\n",
    "def display_info(name, age):\n",
    "    time.sleep(1)\n",
    "    print('display_info({}, {}) 함수가 실행됨'.format(name, age))"
   ]
  },
  {
   "cell_type": "code",
   "execution_count": 28,
   "metadata": {},
   "outputs": [
    {
     "name": "stdout",
     "output_type": "stream",
     "text": [
      "display_info(John, 30) 함수가 실행됨\n",
      "display_info 함수가 실행된 총 시간: 1.0035371780395508 초\n"
     ]
    }
   ],
   "source": [
    "display_info('John', 30)"
   ]
  },
  {
   "cell_type": "markdown",
   "metadata": {},
   "source": [
    "```\n",
    "INFO:root:[2018-06-08 22:01] 실행결과 args - ('John', 25), kwargs - {}\n",
    "INFO:root:[2018-06-08 22:07] 실행결과 args - ('John', 25), kwargs - {}\n",
    "INFO:root:[2018-06-08 22:17] 실행결과 args - ('John', 30), kwargs - {}\n",
    "```\n",
    "\n",
    "- 아무 문제없이 로그 파일이 출력"
   ]
  }
 ],
 "metadata": {
  "kernelspec": {
   "display_name": "Python 3",
   "language": "python",
   "name": "python3"
  },
  "language_info": {
   "codemirror_mode": {
    "name": "ipython",
    "version": 3
   },
   "file_extension": ".py",
   "mimetype": "text/x-python",
   "name": "python",
   "nbconvert_exporter": "python",
   "pygments_lexer": "ipython3",
   "version": "3.6.0"
  }
 },
 "nbformat": 4,
 "nbformat_minor": 2
}

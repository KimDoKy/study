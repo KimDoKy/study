{
 "cells": [
  {
   "cell_type": "code",
   "execution_count": 4,
   "metadata": {},
   "outputs": [],
   "source": [
    "import requests\n",
    "html = requests.get('https://dev.to/rly').text\n",
    "from bs4 import BeautifulSoup\n",
    "soup = BeautifulSoup(html, 'html.parser')"
   ]
  },
  {
   "cell_type": "code",
   "execution_count": null,
   "metadata": {},
   "outputs": [],
   "source": []
  },
  {
   "cell_type": "code",
   "execution_count": 8,
   "metadata": {},
   "outputs": [
    {
     "name": "stdout",
     "output_type": "stream",
     "text": [
      "(85, 19, 93, 255)\n",
      "(113, 112, 110, 255)\n",
      "(128, 27, 42, 255)\n",
      "(184, 7, 33, 255)\n",
      "(101, 22, 28, 255)\n",
      "(80, 61, 189, 255)\n",
      "(225, 17, 5, 255)\n",
      "(6, 123, 176, 255)\n",
      "(247, 181, 0, 255)\n",
      "(0, 15, 118, 255)\n",
      "(168, 0, 155, 255)\n",
      "(0, 132, 69, 255)\n",
      "(0, 153, 157, 255)\n",
      "(1, 66, 132, 255)\n",
      "(177, 0, 52, 255)\n",
      "(55, 142, 25, 255)\n",
      "(133, 152, 0, 255)\n"
     ]
    }
   ],
   "source": [
    "import re\n",
    "for tag in soup.select('.color'):\n",
    "    code = tuple(map(int, re.findall(r'\\d+', tag['style'])))\n",
    "    print(code)"
   ]
  },
  {
   "cell_type": "code",
   "execution_count": 13,
   "metadata": {},
   "outputs": [
    {
     "name": "stdout",
     "output_type": "stream",
     "text": [
      "1.png\n",
      "78525 bytes\n",
      "2.png\n",
      "56070 bytes\n",
      "3.png\n",
      "56710 bytes\n",
      "4.png\n",
      "63420 bytes\n",
      "5.png\n",
      "51284 bytes\n",
      "6.png\n",
      "49260 bytes\n",
      "7.png\n",
      "61771 bytes\n",
      "8.png\n",
      "47104 bytes\n",
      "9.png\n",
      "35406 bytes\n",
      "10.png\n",
      "38785 bytes\n",
      "11.png\n",
      "50292 bytes\n",
      "12.png\n",
      "44080 bytes\n",
      "13.png\n",
      "36040 bytes\n",
      "14.png\n",
      "32743 bytes\n",
      "15.png\n",
      "28730 bytes\n",
      "16.png\n",
      "60005 bytes\n",
      "17.png\n",
      "48193 bytes\n",
      "18.png\n",
      "26465 bytes\n",
      "19.png\n",
      "16967 bytes\n",
      "20.png\n",
      "83044 bytes\n",
      "21.png\n",
      "51262 bytes\n",
      "22.png\n",
      "51286 bytes\n",
      "23.png\n",
      "62658 bytes\n",
      "24.png\n",
      "45440 bytes\n",
      "25.png\n",
      "53451 bytes\n",
      "26.png\n",
      "66973 bytes\n",
      "27.png\n",
      "46176 bytes\n",
      "28.png\n",
      "56072 bytes\n",
      "29.png\n",
      "36732 bytes\n",
      "30.png\n",
      "57868 bytes\n",
      "31.png\n",
      "34010 bytes\n",
      "32.png\n",
      "27033 bytes\n",
      "33.png\n",
      "49383 bytes\n",
      "34.png\n",
      "46422 bytes\n",
      "35.png\n",
      "41254 bytes\n",
      "36.png\n",
      "60863 bytes\n",
      "37.png\n",
      "53463 bytes\n",
      "38.png\n",
      "57807 bytes\n",
      "39.png\n",
      "72061 bytes\n",
      "40.png\n",
      "46991 bytes\n"
     ]
    }
   ],
   "source": [
    "for idx, tag in enumerate(soup.select('.animal img'), 1):\n",
    "    image_url = tag['src']\n",
    "    image_data = requests.get(image_url).content\n",
    "    image_name = '{}.png'.format(idx)\n",
    "    print(image_name)\n",
    "    with open(image_name, 'wb') as f:\n",
    "        f.write(image_data)\n",
    "        print('{} bytes'.format(len(image_data)))"
   ]
  },
  {
   "cell_type": "code",
   "execution_count": 15,
   "metadata": {},
   "outputs": [
    {
     "name": "stdout",
     "output_type": "stream",
     "text": [
      "1.png\r\n",
      "10.png\r\n",
      "11.png\r\n",
      "12.png\r\n",
      "13.png\r\n",
      "14.png\r\n",
      "15.png\r\n",
      "16.png\r\n",
      "17.png\r\n",
      "18.png\r\n",
      "19.png\r\n",
      "2.png\r\n",
      "20.png\r\n",
      "21.png\r\n",
      "22.png\r\n",
      "23.png\r\n",
      "24.png\r\n",
      "25.png\r\n",
      "26.png\r\n",
      "27.png\r\n",
      "28.png\r\n",
      "29.png\r\n",
      "3.png\r\n",
      "30.png\r\n",
      "31.png\r\n",
      "32.png\r\n",
      "33.png\r\n",
      "34.png\r\n",
      "35.png\r\n",
      "36.png\r\n",
      "37.png\r\n",
      "38.png\r\n",
      "39.png\r\n",
      "4.png\r\n",
      "40.png\r\n",
      "5.png\r\n",
      "6.png\r\n",
      "7.png\r\n",
      "8.png\r\n",
      "9.png\r\n",
      "ORLY cover color.ipynb\r\n",
      "Python Decorator.ipynb\r\n",
      "bin-int\r\n",
      "특정 분포를 따르는 난수 히스토그램.ipynb\r\n",
      "문자열 검사 메서드.ipynb\r\n",
      "히스토그램.ipynb\r\n"
     ]
    }
   ],
   "source": [
    "%ls"
   ]
  },
  {
   "cell_type": "code",
   "execution_count": null,
   "metadata": {},
   "outputs": [],
   "source": []
  }
 ],
 "metadata": {
  "kernelspec": {
   "display_name": "Python 3",
   "language": "python",
   "name": "python3"
  },
  "language_info": {
   "codemirror_mode": {
    "name": "ipython",
    "version": 3
   },
   "file_extension": ".py",
   "mimetype": "text/x-python",
   "name": "python",
   "nbconvert_exporter": "python",
   "pygments_lexer": "ipython3",
   "version": "3.5.2"
  }
 },
 "nbformat": 4,
 "nbformat_minor": 2
}

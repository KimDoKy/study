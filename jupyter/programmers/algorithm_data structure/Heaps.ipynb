{
 "cells": [
  {
   "cell_type": "markdown",
   "metadata": {},
   "source": [
    "# Heaps"
   ]
  },
  {
   "cell_type": "markdown",
   "metadata": {},
   "source": [
    "- max heap\n",
    "- min heap"
   ]
  },
  {
   "cell_type": "markdown",
   "metadata": {},
   "source": [
    "(최대 힙을 기준으로) 세 가지 성질을 유지하는 이진 트리\n",
    "- 루트 노드가 항상 최댓값\n",
    "- 완전 이진 트리\n",
    "- 최대 힙 내의 임의의 노드를 루트로 하는 서브트리 또한 최대 힙"
   ]
  },
  {
   "cell_type": "markdown",
   "metadata": {},
   "source": [
    "노드 m의 기준으로\n",
    "- 왼쪽 자식: 2 * m\n",
    "- 오른쪽 자식: 2 * m + 1\n",
    "- 부모 노드: m // 2\n",
    "\n",
    "> 노드의 추가, 삭제는 마지막 노드에서만 가능"
   ]
  },
  {
   "cell_type": "markdown",
   "metadata": {},
   "source": [
    "### 최대 힙에 새로운 원소 삽입"
   ]
  },
  {
   "cell_type": "markdown",
   "metadata": {},
   "source": [
    "초기 코드에 주어진 `class MaxHeap` 에 최대 힙에 새로운 원소를 추가하는 연산인 `insert()` 메서드의 구현을 완성하세요."
   ]
  },
  {
   "cell_type": "code",
   "execution_count": 2,
   "metadata": {},
   "outputs": [],
   "source": [
    "class MaxHeap:\n",
    "\n",
    "    def __init__(self):\n",
    "        self.data = [None]\n",
    "\n",
    "\n",
    "    def insert(self, item):\n",
    "        self.data.append(item)\n",
    "        idx = len(self.data) - 1\n",
    "        while idx > 1:\n",
    "            parent_idx = idx // 2\n",
    "            if self.data[idx] > self.data[parent_idx]:\n",
    "                self.data[idx], self.data[parent_idx] = self.data[parent_idx], self.data[idx]\n",
    "            idx = parent_idx\n",
    "            "
   ]
  },
  {
   "cell_type": "markdown",
   "metadata": {},
   "source": [
    "### 최대 힙에서의 원소 삭제"
   ]
  },
  {
   "cell_type": "markdown",
   "metadata": {},
   "source": [
    "초기 코드에 여기 저기 포함된 빈 칸을 채움으로써 `class MaxHeap` 의 메서드인 `maxHeapify()` 의 구현을 완성하세요. 이것은 이미 주어져 있는 `remove()` 메서드와 연결되어 최대 힙에서의 원소 삭제 연산을 구성합니다.\n",
    "\n",
    "[참고 1] `remove()` 메서드의 내용은 이미 주어져 있으므로 수정하지 않는 쪽이 좋습니다."
   ]
  },
  {
   "cell_type": "code",
   "execution_count": 106,
   "metadata": {},
   "outputs": [],
   "source": [
    "class MaxHeap:\n",
    "\n",
    "    def __init__(self):\n",
    "        self.data = [None]\n",
    "\n",
    "\n",
    "    def remove(self):\n",
    "        if len(self.data) > 1:\n",
    "            self.data[1], self.data[-1] = self.data[-1], self.data[1]\n",
    "            data = self.data.pop(-1)\n",
    "            self.maxHeapify(1)\n",
    "        else:\n",
    "            data = None\n",
    "        return data\n",
    "\n",
    "\n",
    "    # 임시로 저장한 노드 값을 좌우 자식 값과 비교하여 아래 노드로 내림\n",
    "    def maxHeapify(self, i):\n",
    "        # 왼쪽 자식 (left child) 의 인덱스를 계산합니다.\n",
    "        left = 2 * i\n",
    "        # 오른쪽 자식 (right child) 의 인덱스를 계산합니다.\n",
    "        right = 2 * i + 1\n",
    "        smallest = i\n",
    "        # 왼쪽 자식이 존재하는지, 그리고 왼쪽 자식의 (키) 값이 (무엇보다?) 더 큰지를 판단합니다.\n",
    "        if len(self.data) > left and self.data[left] > self.data[smallest]:\n",
    "            # 조건이 만족하는 경우, smallest 는 왼쪽 자식의 인덱스를 가집니다.\n",
    "            smallest = left\n",
    "        # 오른쪽 자식이 존재하는지, 그리고 오른쪽 자식의 (키) 값이 (무엇보다?) 더 큰지를 판단합니다.\n",
    "        if len(self.data) > right and self.data[right] > self.data[smallest]:\n",
    "            # 조건이 만족하는 경우, smallest 는 오른쪽 자식의 인덱스를 가집니다.\n",
    "            smallest = right\n",
    "        if smallest != i:\n",
    "            # 현재 노드 (인덱스 i) 와 최댓값 노드 (왼쪽 아니면 오른쪽 자식) 를 교체합니다.\n",
    "            self.data[i], self.data[smallest] = self.data[smallest], self.data[i]\n",
    "            # 재귀적 호출을 이용하여 최대 힙의 성질을 만족할 때까지 트리를 정리합니다.\n",
    "            self.maxHeapify(smallest)"
   ]
  },
  {
   "cell_type": "code",
   "execution_count": 109,
   "metadata": {},
   "outputs": [],
   "source": [
    "def solution(x):\n",
    "    H = MaxHeap()\n",
    "    H.data = x\n",
    "    print('list: ', H.data)\n",
    "    print('length: ', len(H.data))\n",
    "    print('--' *8)\n",
    "    print('maxheap: ', H.maxHeapify(3))\n",
    "    return 0"
   ]
  },
  {
   "cell_type": "code",
   "execution_count": 110,
   "metadata": {},
   "outputs": [
    {
     "name": "stdout",
     "output_type": "stream",
     "text": [
      "list:  [4, 5, 7, 3, 6, 9]\n",
      "length:  6\n",
      "----------------\n",
      "maxheap:  None\n"
     ]
    },
    {
     "data": {
      "text/plain": [
       "0"
      ]
     },
     "execution_count": 110,
     "metadata": {},
     "output_type": "execute_result"
    }
   ],
   "source": [
    "x = [4,5,7,3,6,9]\n",
    "solution(x)"
   ]
  }
 ],
 "metadata": {
  "kernelspec": {
   "display_name": "Python 3",
   "language": "python",
   "name": "python3"
  },
  "language_info": {
   "codemirror_mode": {
    "name": "ipython",
    "version": 3
   },
   "file_extension": ".py",
   "mimetype": "text/x-python",
   "name": "python",
   "nbconvert_exporter": "python",
   "pygments_lexer": "ipython3",
   "version": "3.5.2"
  }
 },
 "nbformat": 4,
 "nbformat_minor": 2
}

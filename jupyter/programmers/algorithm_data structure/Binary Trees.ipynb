{
 "cells": [
  {
   "cell_type": "markdown",
   "metadata": {},
   "source": [
    "# Binary Trees"
   ]
  },
  {
   "cell_type": "markdown",
   "metadata": {},
   "source": [
    "우선은, 이진 트리를 추상적 자료 구조로 구현하기 위해서, 아래와 같은 연산을 생각해봅니다.\n",
    "\n",
    "- `size()` : 현재 트리에 포함되어 있는 노드의 수를 구함\n",
    "- `depth()` : 현재 트리의 깊이 (또는 높이) 를 구함"
   ]
  },
  {
   "cell_type": "markdown",
   "metadata": {},
   "source": [
    "## 연산의 정의\n",
    "\n",
    "- `size()` : 현재 트리에 포함되어 있는 노드의 수\n",
    "- `depth()` : 현재 트리의 깊이\n",
    "- `traversal()` : **순회**"
   ]
  },
  {
   "cell_type": "markdown",
   "metadata": {},
   "source": [
    "### 순회"
   ]
  },
  {
   "cell_type": "markdown",
   "metadata": {},
   "source": [
    "#### 깊이 우선 순회(depth first traversal)\n",
    "- **중위 순회 (in-order traverasl)**  \n",
    "왼쪽 서브트리를 순회한 뒤 노드 x 를 방문, 그리고 나서 오른쪽 서브트리를 순회\n",
    "- **전위 순회 (pre-order traversal)**  \n",
    "노드 x 를 방문한 후에 왼쪽 서브트리를 순회, 마지막으로 오른쪽 서브트리를 순회\n",
    "- **후위 순회 (post-order traversal)**  \n",
    "왼쪽 서브트리를 순회, 오른쪽 서브트리를 순회, 그리고 나서 마지막으로 노드 x 를 방문\n"
   ]
  },
  {
   "cell_type": "markdown",
   "metadata": {},
   "source": [
    "---\n",
    "\n",
    "##### 이진트리의  depth() 연산 구현\n",
    "\n",
    "이미 주어진 코드 (`class Node` 와 `class BinaryTree` 에 의하여) 의 구조를 따르는 이진 트리 (binary tree) 에 대하여, 트리의 깊이 (depth) 를 구하는 연산의 구현을 완성하세요.\n",
    "\n",
    "초기 코드에 `pass` 로만 되어 있는 `class Node` 의 `depth()` 메서드와 `class BinaryTree` 의 `depth()` 메서드를 구현합니다. 코드의 다른 부분은 수정할 필요가 없습니다.\n",
    "\n",
    "참고로 할 수 있도록, 강의에서 소개한 `size()` 메서드들 (`class Node` 와 `class BinaryTree` 에 대해서) 을 그대로 두었습니다. 문제로 주어진 `depth()` 연산도 매우 비슷한 식으로 구현할 수 있으니 참고로 삼으세요.\n",
    "\n",
    "[참고] 실행 을 눌렀을 때 통과하는 것은 아무 의미 없습니다.\n",
    "또한, `solution()` 함수는 테스트에 영향을 미치므로 수정하지 말고 그대로 두세요."
   ]
  },
  {
   "cell_type": "code",
   "execution_count": 8,
   "metadata": {},
   "outputs": [],
   "source": [
    "class Node:\n",
    "\n",
    "    def __init__(self, item):\n",
    "        self.data = item\n",
    "        self.left = None\n",
    "        self.right = None\n",
    "\n",
    "\n",
    "    def size(self):\n",
    "        l = self.left.size() if self.left else 0\n",
    "        r = self.right.size() if self.right else 0\n",
    "        return l + r + 1\n",
    "\n",
    "\n",
    "    def depth(self):\n",
    "        l = self.left.depth() if self.left else 0\n",
    "        r = self.right.depth() if self.right else 0\n",
    "        return max(l, r) + 1"
   ]
  },
  {
   "cell_type": "code",
   "execution_count": 9,
   "metadata": {},
   "outputs": [],
   "source": [
    "class BinaryTree:\n",
    "\n",
    "    def __init__(self, r):\n",
    "        self.root = r\n",
    "\n",
    "    def size(self):\n",
    "        if self.root:\n",
    "            return self.root.size()\n",
    "        else:\n",
    "            return 0\n",
    "\n",
    "\n",
    "    def depth(self):\n",
    "        if self.root:\n",
    "            return self.root.depth()\n",
    "        else:\n",
    "            return 0"
   ]
  },
  {
   "cell_type": "code",
   "execution_count": 10,
   "metadata": {},
   "outputs": [],
   "source": [
    "def solution(x):\n",
    "    return 0"
   ]
  },
  {
   "cell_type": "markdown",
   "metadata": {},
   "source": [
    "##### 이진트리의 전위순회 연산 구현"
   ]
  },
  {
   "cell_type": "markdown",
   "metadata": {},
   "source": [
    "이미 주어진 코드 (`class Node` 와 `class BinaryTree` 에 의하여) 의 구조를 따르는 이진 트리 (binary tree) 에 대하여, 트리를 전위 순회 (preorder traversal) 하는 연산의 구현을 완성하세요.\n",
    "\n",
    "초기 코드에 `pass` 로만 되어 있는 `class Node` 의 `preorder()` 메서드와 `class BinaryTree` 의 `preorder()` 메서드를 구현합니다. 코드의 다른 부분은 수정할 필요가 없습니다.\n",
    "\n",
    "참고로 할 수 있도록, 강의에서 소개한 `inorder()` 메서드들 (`class Node` 와 `class BinaryTree` 에 대해서) 을 그대로 두었습니다. 문제로 주어진 `preorder()` 연산도 매우 비슷한 식으로 구현할 수 있으니 참고로 삼으세요.\n",
    "\n",
    "[참고] 실행 을 눌렀을 때 통과하는 것은 아무 의미 없습니다.\n",
    "또한, `solution()` 함수는 테스트에 영향을 미치므로 수정하지 말고 그대로 두세요."
   ]
  },
  {
   "cell_type": "code",
   "execution_count": 14,
   "metadata": {},
   "outputs": [],
   "source": [
    "class Node:\n",
    "\n",
    "    def __init__(self, item):\n",
    "        self.data = item\n",
    "        self.left = None\n",
    "        self.right = None\n",
    "\n",
    "\n",
    "    def inorder(self):\n",
    "        traversal = []\n",
    "        if self.left:\n",
    "            traversal += self.left.inorder()\n",
    "        traversal.append(self.data)\n",
    "        if self.right:\n",
    "            traversal += self.right.inorder()\n",
    "        return traversal\n",
    "\n",
    "\n",
    "    def preorder(self):\n",
    "        traversal = []\n",
    "        traversal.append(self.data)\n",
    "        if self.left:\n",
    "            traversal += self.left.preorder()\n",
    "        if self.right:\n",
    "            traversal += self.right.preorder()\n",
    "        return traversal"
   ]
  },
  {
   "cell_type": "code",
   "execution_count": 15,
   "metadata": {},
   "outputs": [],
   "source": [
    "class BinaryTree:\n",
    "\n",
    "    def __init__(self, r):\n",
    "        self.root = r\n",
    "\n",
    "\n",
    "    def inorder(self):\n",
    "        if self.root:\n",
    "            return self.root.inorder()\n",
    "        else:\n",
    "            return []\n",
    "\n",
    "\n",
    "    def preorder(self):\n",
    "        pass"
   ]
  },
  {
   "cell_type": "markdown",
   "metadata": {},
   "source": [
    "##### 이진트리의 후위순회 연산 구현"
   ]
  },
  {
   "cell_type": "markdown",
   "metadata": {},
   "source": [
    "이미 주어진 코드 (`class Node` 와 `class BinaryTree` 에 의하여) 의 구조를 따르는 이진 트리 (binary tree) 에 대하여, 트리를 후위 순회 (postorder traversal) 하는 연산의 구현을 완성하세요.\n",
    "\n",
    "초기 코드에 `pass` 로만 되어 있는 `class Node` 의 `postorder()` 메서드와 `class BinaryTree` 의 `postorder()` 메서드를 구현합니다. 코드의 다른 부분은 수정할 필요가 없습니다.\n",
    "\n",
    "참고로 할 수 있도록, 강의에서 소개한 `inorder()` 메서드들 (`class Node` 와 `class BinaryTree` 에 대해서) 을 그대로 두었습니다. 문제로 주어진 `postorder()` 연산도 매우 비슷한 식으로 구현할 수 있으니 참고로 삼으세요.\n",
    "\n",
    "[참고] 실행 을 눌렀을 때 통과하는 것은 아무 의미 없습니다.\n",
    "또한, `solution()` 함수는 테스트에 영향을 미치므로 수정하지 말고 그대로 두세요."
   ]
  },
  {
   "cell_type": "code",
   "execution_count": 24,
   "metadata": {},
   "outputs": [],
   "source": [
    "class Node:\n",
    "\n",
    "    def __init__(self, item):\n",
    "        self.data = item\n",
    "        self.left = None\n",
    "        self.right = None\n",
    "\n",
    "\n",
    "    def inorder(self):\n",
    "        traversal = []\n",
    "        if self.left:\n",
    "            traversal += self.left.inorder()\n",
    "        traversal.append(self.data)\n",
    "        if self.right:\n",
    "            traversal += self.right.inorder()\n",
    "        return traversal\n",
    "\n",
    "\n",
    "    def postorder(self):\n",
    "        traversal = []\n",
    "        if self.left:\n",
    "            traversal += self.left.postorder()\n",
    "        if self.right:\n",
    "            traversal += self.right.postorder()\n",
    "        traversal.append(self.data)\n",
    "        return traversal"
   ]
  },
  {
   "cell_type": "code",
   "execution_count": 26,
   "metadata": {},
   "outputs": [],
   "source": [
    "class BinaryTree:\n",
    "\n",
    "    def __init__(self, r):\n",
    "        self.root = r\n",
    "\n",
    "\n",
    "    def inorder(self):\n",
    "        if self.root:\n",
    "            return self.root.inorder()\n",
    "        else:\n",
    "            return []\n",
    "\n",
    "        \n",
    "    def postorder(self):\n",
    "        if self.root:\n",
    "            return self.root.postorder()\n",
    "        else:\n",
    "            return []"
   ]
  },
  {
   "cell_type": "markdown",
   "metadata": {},
   "source": [
    "## 이진 트리의 넓이 우선 순회(BFS. breadth first traversal)"
   ]
  },
  {
   "cell_type": "markdown",
   "metadata": {},
   "source": [
    "1. 초기화 // traversal <- 빈 리스트, q <- 빈 큐\n",
    "2. 빈 트리가 아니면, root node를 q에 추가 (enqueue)\n",
    "3. q가 버어 있지 않은 동안\n",
    " 3.1 node <- q 에서 원소를 추출(dequeue)\n",
    " 3.2 node 를 방문\n",
    " 3.3 node의 왼쪽, 오른쪽 자식(있으면)들을 q에 추가\n",
    "4. q가 빈 큐가 되면 모든 노드 방문 완료"
   ]
  },
  {
   "cell_type": "markdown",
   "metadata": {},
   "source": [
    "이진 트리를 구현한 클래스인 `class BinaryTree` 에 대하여 넓이 우선 순회 (breadth first traversal) 를 구현하는 메서드 `bft()` 를 완성하세요.\n",
    "\n",
    "`class ArrayQueue` 는 배열 (python list) 을 이용하여 구현한 큐 (queue) 의 추상적 자료구조입니다. 이것을 이용하여 넓이 우선 순회 알고리즘을 구현하세요.\n",
    "\n",
    "[참고 1] `solution()` 함수의 구현은 그대로 두세요. 이것을 없애면 테스트가 되지 않습니다."
   ]
  },
  {
   "cell_type": "code",
   "execution_count": 57,
   "metadata": {},
   "outputs": [],
   "source": [
    "class ArrayQueue:\n",
    "\n",
    "    def __init__(self):\n",
    "        self.data = []\n",
    "\n",
    "    def size(self):\n",
    "        return len(self.data)\n",
    "\n",
    "    def isEmpty(self):\n",
    "        return self.size() == 0\n",
    "\n",
    "    def enqueue(self, item):\n",
    "        self.data.append(item)\n",
    "\n",
    "    def dequeue(self):\n",
    "        return self.data.pop(0)\n",
    "\n",
    "    def peek(self):\n",
    "        return self.data[0]"
   ]
  },
  {
   "cell_type": "code",
   "execution_count": 58,
   "metadata": {},
   "outputs": [],
   "source": [
    "class Node:\n",
    "\n",
    "    def __init__(self, item):\n",
    "        self.data = item\n",
    "        self.left = None\n",
    "        self.right = None\n"
   ]
  },
  {
   "cell_type": "code",
   "execution_count": 131,
   "metadata": {},
   "outputs": [],
   "source": [
    "class BinaryTree:\n",
    "\n",
    "    def __init__(self, r):\n",
    "        self.root = r\n",
    "\n",
    "\n",
    "    def bft(self):\n",
    "        traversal = []\n",
    "        q = ArrayQueue()\n",
    "        n = 0\n",
    "        \n",
    "        if self.root:\n",
    "            q.enqueue(self.root)\n",
    "            \n",
    "        while q.isEmpty() == False:\n",
    "            node = q.dequeue()\n",
    "            n += 1\n",
    "            print('-----' * 8)\n",
    "            print(n, '번째 순회')\n",
    "            print('현재 노드: ', node.data)\n",
    "            traversal.append(node.data)\n",
    "            if node.left:\n",
    "                print('left: ', node.left.data)\n",
    "                q.enqueue(node.left)\n",
    "            if node.right:\n",
    "                print('right: ', node.right.data)\n",
    "                q.enqueue(node.right)\n",
    "        return traversal"
   ]
  },
  {
   "cell_type": "code",
   "execution_count": 132,
   "metadata": {},
   "outputs": [],
   "source": [
    "def solution(x):\n",
    "    results = BinaryTree(a).bft()\n",
    "    return results"
   ]
  },
  {
   "cell_type": "code",
   "execution_count": 138,
   "metadata": {},
   "outputs": [],
   "source": [
    "a = Node('a')\n",
    "b = Node('b')\n",
    "c = Node('c')\n",
    "d = Node('d')\n",
    "e = Node('e')\n",
    "f = Node('f')\n",
    "g = Node('g')\n",
    "h = Node('h')\n",
    "i = Node('i')\n",
    "a.left = b\n",
    "a.right = c\n",
    "b.left = d\n",
    "b.right = e\n",
    "c.left = f\n",
    "c.right = g\n",
    "d.left = h\n",
    "f.right = i"
   ]
  },
  {
   "cell_type": "code",
   "execution_count": 142,
   "metadata": {},
   "outputs": [],
   "source": [
    "a = Node('a')\n",
    "b = Node('b')\n",
    "c = Node('c')\n",
    "d = Node('d')\n",
    "e = Node('e')\n",
    "f = Node('f')\n",
    "g = Node('g')\n",
    "h = Node('h')\n",
    "i = Node('i')\n",
    "a.left = b\n",
    "a.right = c\n",
    "b.left = d\n",
    "c.left = e\n",
    "d.left = f\n",
    "e.left = g\n",
    "e.right = h\n",
    "d.right = i"
   ]
  },
  {
   "cell_type": "code",
   "execution_count": 144,
   "metadata": {},
   "outputs": [],
   "source": [
    "a = Node('a')\n",
    "b = Node('b')\n",
    "c = Node('c')\n",
    "d = Node('d')\n",
    "e = Node('e')\n",
    "f = Node('f')\n",
    "g = Node('g')\n",
    "h = Node('h')\n",
    "i = Node('i')\n",
    "a.left = b\n",
    "a.right = c\n",
    "b.left = d\n",
    "d.left = e\n",
    "d.right = f\n",
    "f.right = g\n",
    "g.left = h\n",
    "c.right = i"
   ]
  },
  {
   "cell_type": "code",
   "execution_count": 145,
   "metadata": {},
   "outputs": [
    {
     "name": "stdout",
     "output_type": "stream",
     "text": [
      "----------------------------------------\n",
      "1 번째 순회\n",
      "현재 노드:  a\n",
      "left:  b\n",
      "right:  c\n",
      "----------------------------------------\n",
      "2 번째 순회\n",
      "현재 노드:  b\n",
      "left:  d\n",
      "----------------------------------------\n",
      "3 번째 순회\n",
      "현재 노드:  c\n",
      "right:  i\n",
      "----------------------------------------\n",
      "4 번째 순회\n",
      "현재 노드:  d\n",
      "left:  e\n",
      "right:  f\n",
      "----------------------------------------\n",
      "5 번째 순회\n",
      "현재 노드:  i\n",
      "----------------------------------------\n",
      "6 번째 순회\n",
      "현재 노드:  e\n",
      "----------------------------------------\n",
      "7 번째 순회\n",
      "현재 노드:  f\n",
      "right:  g\n",
      "----------------------------------------\n",
      "8 번째 순회\n",
      "현재 노드:  g\n",
      "left:  h\n",
      "----------------------------------------\n",
      "9 번째 순회\n",
      "현재 노드:  h\n"
     ]
    },
    {
     "data": {
      "text/plain": [
       "['a', 'b', 'c', 'd', 'i', 'e', 'f', 'g', 'h']"
      ]
     },
     "execution_count": 145,
     "metadata": {},
     "output_type": "execute_result"
    }
   ],
   "source": [
    "solution(f)"
   ]
  }
 ],
 "metadata": {
  "kernelspec": {
   "display_name": "Python 3",
   "language": "python",
   "name": "python3"
  },
  "language_info": {
   "codemirror_mode": {
    "name": "ipython",
    "version": 3
   },
   "file_extension": ".py",
   "mimetype": "text/x-python",
   "name": "python",
   "nbconvert_exporter": "python",
   "pygments_lexer": "ipython3",
   "version": "3.5.2"
  }
 },
 "nbformat": 4,
 "nbformat_minor": 2
}

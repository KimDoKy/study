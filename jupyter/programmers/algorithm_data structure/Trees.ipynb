{
 "cells": [
  {
   "cell_type": "markdown",
   "metadata": {},
   "source": [
    "# Trees"
   ]
  },
  {
   "cell_type": "markdown",
   "metadata": {},
   "source": [
    "## Binary Tree\n",
    "\n",
    "모든 노드의 차수가 2 이하인 트리"
   ]
  },
  {
   "cell_type": "markdown",
   "metadata": {},
   "source": [
    "### 포화 이진 트리(Full Binary Tree)\n",
    "모든 레벨에서 노드들이 모두 채워져 있는 이진 트리  \n",
    "높이가 k이고 노드의 개수가 2^k -1 인 이진 트리"
   ]
  },
  {
   "cell_type": "markdown",
   "metadata": {},
   "source": [
    "###  완전 이진 트리(Complete Binary Tree)\n",
    "높이 k인 완전 이진 트리\n",
    "레벨 k-2 까지는 모든 노드가 2개의 자식을 가진 포화 이진 트리  \n",
    "레벨 k-1 에서는 왼쪽부터 노드가 순차적으로 채워져 있는 이진 트리"
   ]
  }
 ],
 "metadata": {
  "kernelspec": {
   "display_name": "Python 3",
   "language": "python",
   "name": "python3"
  },
  "language_info": {
   "codemirror_mode": {
    "name": "ipython",
    "version": 3
   },
   "file_extension": ".py",
   "mimetype": "text/x-python",
   "name": "python",
   "nbconvert_exporter": "python",
   "pygments_lexer": "ipython3",
   "version": "3.5.2"
  }
 },
 "nbformat": 4,
 "nbformat_minor": 2
}

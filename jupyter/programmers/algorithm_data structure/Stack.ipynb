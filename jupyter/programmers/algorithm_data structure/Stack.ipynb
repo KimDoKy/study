{
 "cells": [
  {
   "cell_type": "markdown",
   "metadata": {},
   "source": [
    "## Stack"
   ]
  },
  {
   "cell_type": "markdown",
   "metadata": {},
   "source": [
    "### 후위표현 수식"
   ]
  },
  {
   "cell_type": "code",
   "execution_count": 1,
   "metadata": {},
   "outputs": [],
   "source": [
    "class ArrayStack:\n",
    "\n",
    "    def __init__(self):\n",
    "        self.data = []\n",
    "\n",
    "    def size(self):\n",
    "        return len(self.data)\n",
    "\n",
    "    def isEmpty(self):\n",
    "        return self.size() == 0\n",
    "\n",
    "    def push(self, item):\n",
    "        self.data.append(item)\n",
    "\n",
    "    def pop(self):\n",
    "        return self.data.pop()\n",
    "\n",
    "    def peek(self):\n",
    "        return self.data[-1]\n",
    "\n",
    "prec = {\n",
    "    '*': 3, '/': 3,\n",
    "    '+': 2, '-': 2,\n",
    "    '(': 1\n",
    "}"
   ]
  },
  {
   "cell_type": "code",
   "execution_count": 2,
   "metadata": {},
   "outputs": [],
   "source": [
    "def solution(S):\n",
    "    opStack = ArrayStack()\n",
    "    answer = ''\n",
    "    for c in S:\n",
    "        if c not in prec and c != ')':\n",
    "            answer += c\n",
    "        elif c == ')':\n",
    "            while opStack.peek() != '(':\n",
    "                answer += opStack.pop()\n",
    "            opStack.pop()\n",
    "        else:\n",
    "            if opStack.isEmpty():\n",
    "                opStack.push(c)\n",
    "            elif c == '(':\n",
    "                opStack.push(c)\n",
    "            elif prec[opStack.peek()] < prec[c]:\n",
    "                opStack.push(c)\n",
    "            else:\n",
    "                answer += opStack.pop()\n",
    "                opStack.push(c)\n",
    "    while not opStack.isEmpty():\n",
    "        answer += opStack.pop()\n",
    "    return answer"
   ]
  },
  {
   "cell_type": "code",
   "execution_count": 3,
   "metadata": {},
   "outputs": [],
   "source": [
    "S1 = \"(A+B)*(C+D)\" # \"AB+CD+*\"\n",
    "S2 = \"A*B+C\"       # \"AB*C+\"\n",
    "S3 = \"A+B*C\"       # \"ABC*+\"\n",
    "S4 = \"A+B+C\"       # \"AB+C+\"\n",
    "S5 = \"(A+B)*C\"     # \"AB+C*\"\n",
    "S6 = \"A*(B+C)\"     # \"ABC+*\""
   ]
  },
  {
   "cell_type": "code",
   "execution_count": 4,
   "metadata": {},
   "outputs": [
    {
     "data": {
      "text/plain": [
       "'AB+CD+*'"
      ]
     },
     "execution_count": 4,
     "metadata": {},
     "output_type": "execute_result"
    }
   ],
   "source": [
    "solution(S1)"
   ]
  },
  {
   "cell_type": "code",
   "execution_count": 5,
   "metadata": {},
   "outputs": [
    {
     "data": {
      "text/plain": [
       "'AB*C+'"
      ]
     },
     "execution_count": 5,
     "metadata": {},
     "output_type": "execute_result"
    }
   ],
   "source": [
    "solution(S2)"
   ]
  },
  {
   "cell_type": "code",
   "execution_count": 6,
   "metadata": {},
   "outputs": [
    {
     "data": {
      "text/plain": [
       "'ABC*+'"
      ]
     },
     "execution_count": 6,
     "metadata": {},
     "output_type": "execute_result"
    }
   ],
   "source": [
    "solution(S3)"
   ]
  },
  {
   "cell_type": "code",
   "execution_count": 7,
   "metadata": {},
   "outputs": [
    {
     "data": {
      "text/plain": [
       "'AB+C+'"
      ]
     },
     "execution_count": 7,
     "metadata": {},
     "output_type": "execute_result"
    }
   ],
   "source": [
    "solution(S4)"
   ]
  },
  {
   "cell_type": "code",
   "execution_count": 8,
   "metadata": {},
   "outputs": [
    {
     "data": {
      "text/plain": [
       "'AB+C*'"
      ]
     },
     "execution_count": 8,
     "metadata": {},
     "output_type": "execute_result"
    }
   ],
   "source": [
    "solution(S5)"
   ]
  },
  {
   "cell_type": "code",
   "execution_count": 9,
   "metadata": {},
   "outputs": [
    {
     "data": {
      "text/plain": [
       "'ABC+*'"
      ]
     },
     "execution_count": 9,
     "metadata": {},
     "output_type": "execute_result"
    }
   ],
   "source": [
    "solution(S6)"
   ]
  },
  {
   "cell_type": "markdown",
   "metadata": {},
   "source": [
    "### 후위표현 수식 계산"
   ]
  },
  {
   "cell_type": "code",
   "execution_count": 97,
   "metadata": {},
   "outputs": [],
   "source": [
    "class ArrayStack:\n",
    "\n",
    "    def __init__(self):\n",
    "        self.data = []\n",
    "\n",
    "    def size(self):\n",
    "        return len(self.data)\n",
    "\n",
    "    def isEmpty(self):\n",
    "        return self.size() == 0\n",
    "\n",
    "    def push(self, item):\n",
    "        self.data.append(item)\n",
    "\n",
    "    def pop(self):\n",
    "        return self.data.pop()\n",
    "\n",
    "    def peek(self):\n",
    "        return self.data[-1]"
   ]
  },
  {
   "cell_type": "code",
   "execution_count": 98,
   "metadata": {},
   "outputs": [],
   "source": [
    "def splitTokens(exprStr):\n",
    "    tokens = []\n",
    "    val = 0\n",
    "    valProcessing = False\n",
    "    for c in exprStr:\n",
    "        if c == ' ':\n",
    "            continue\n",
    "        if c in '0123456789':\n",
    "            val = val * 10 + int(c)\n",
    "            valProcessing = True\n",
    "        else:\n",
    "            if valProcessing:\n",
    "                tokens.append(val)\n",
    "                val = 0\n",
    "            valProcessing = False\n",
    "            tokens.append(c)\n",
    "    if valProcessing:\n",
    "        tokens.append(val)\n",
    "\n",
    "    return tokens"
   ]
  },
  {
   "cell_type": "code",
   "execution_count": 99,
   "metadata": {},
   "outputs": [],
   "source": [
    "# 문자열이 아닌 리스트로 리턴하도록 작성하시오.\n",
    "\n",
    "def infixToPostfix(tokenList):\n",
    "    prec = {\n",
    "        '*': 3,\n",
    "        '/': 3,\n",
    "        '+': 2,\n",
    "        '-': 2,\n",
    "        '(': 1,\n",
    "    }\n",
    "\n",
    "    opStack = ArrayStack()\n",
    "    postfixList = []\n",
    "    \n",
    "    for i in tokenList:\n",
    "        if i not in prec and i != ')':\n",
    "            postfixList.append(i)\n",
    "        elif i == ')':\n",
    "            while opStack.peek() != '(':\n",
    "                postfixList.append(opStack.pop())\n",
    "            opStack.pop()\n",
    "        else:\n",
    "            if opStack.isEmpty():\n",
    "                opStack.push(i)\n",
    "            elif i == '(':\n",
    "                opStack.push(i)\n",
    "            elif prec[i] > prec[opStack.peek()]:\n",
    "                opStack.push(i)\n",
    "            else:\n",
    "                postfixList.append(opStack.pop())\n",
    "                opStack.push(i)\n",
    "    while not opStack.isEmpty():\n",
    "        postfixList.append(opStack.pop())\n",
    "\n",
    "    return postfixList"
   ]
  },
  {
   "cell_type": "code",
   "execution_count": 136,
   "metadata": {},
   "outputs": [],
   "source": [
    "# 함수의 내용을 완성하시오.\n",
    "\n",
    "def postfixEval(tokenList):\n",
    "    opStack = ArrayStack()\n",
    "    \n",
    "    for i in tokenList:\n",
    "        if type(i) == int:\n",
    "            opStack.push(i)\n",
    "        else:\n",
    "            b_word = opStack.pop()\n",
    "            f_word = opStack.pop()\n",
    "            if i == '+':\n",
    "                result = b_word + f_word\n",
    "            elif i == '-':\n",
    "                result = f_word - b_word\n",
    "            elif i == '*':\n",
    "                result = f_word * b_word\n",
    "            else:\n",
    "                result = f_word // b_word\n",
    "            opStack.push(result)\n",
    "    return result  "
   ]
  },
  {
   "cell_type": "code",
   "execution_count": 131,
   "metadata": {},
   "outputs": [],
   "source": [
    "def solution(expr):\n",
    "    tokens = splitTokens(expr)\n",
    "    postfix = infixToPostfix(tokens)\n",
    "    val = postfixEval(postfix)\n",
    "    return val"
   ]
  },
  {
   "cell_type": "code",
   "execution_count": 132,
   "metadata": {},
   "outputs": [],
   "source": [
    "S1 = \"5 + 3\"\n",
    "S2 = \"(1 + 2) * (3 + 4)\"\n",
    "S3 = \"7 * (9 - (3+2))\""
   ]
  },
  {
   "cell_type": "code",
   "execution_count": 133,
   "metadata": {},
   "outputs": [
    {
     "data": {
      "text/plain": [
       "8"
      ]
     },
     "execution_count": 133,
     "metadata": {},
     "output_type": "execute_result"
    }
   ],
   "source": [
    "solution(S1) # \"5 + 3\"  # [5,3,+]"
   ]
  },
  {
   "cell_type": "code",
   "execution_count": 134,
   "metadata": {},
   "outputs": [
    {
     "data": {
      "text/plain": [
       "21"
      ]
     },
     "execution_count": 134,
     "metadata": {},
     "output_type": "execute_result"
    }
   ],
   "source": [
    "solution(S2) # \"(1 + 2) * (3 + 4)\"  # [1,2,+,3,4,+,*]"
   ]
  },
  {
   "cell_type": "code",
   "execution_count": 135,
   "metadata": {},
   "outputs": [
    {
     "data": {
      "text/plain": [
       "28"
      ]
     },
     "execution_count": 135,
     "metadata": {},
     "output_type": "execute_result"
    }
   ],
   "source": [
    "solution(S3)  # \"7 * (9 - (3+2))\"  # [7,9,3,2,+,-,*]"
   ]
  },
  {
   "cell_type": "code",
   "execution_count": null,
   "metadata": {},
   "outputs": [],
   "source": []
  }
 ],
 "metadata": {
  "kernelspec": {
   "display_name": "Python 3",
   "language": "python",
   "name": "python3"
  },
  "language_info": {
   "codemirror_mode": {
    "name": "ipython",
    "version": 3
   },
   "file_extension": ".py",
   "mimetype": "text/x-python",
   "name": "python",
   "nbconvert_exporter": "python",
   "pygments_lexer": "ipython3",
   "version": "3.5.2"
  }
 },
 "nbformat": 4,
 "nbformat_minor": 2
}

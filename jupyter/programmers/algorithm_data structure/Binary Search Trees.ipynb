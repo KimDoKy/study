{
 "cells": [
  {
   "cell_type": "markdown",
   "metadata": {},
   "source": [
    "# Binary Search Trees"
   ]
  },
  {
   "cell_type": "markdown",
   "metadata": {},
   "source": [
    "### 이진 탐색 트리의 원소 삽입 연산 구현"
   ]
  },
  {
   "cell_type": "markdown",
   "metadata": {},
   "source": [
    "초기 코드에 주어진 `class Node` 와 `class BinSearchTree` 를 기반으로, 이진 탐색 트리 (binary search tree) 에 새로운 원소를 삽입하는 `insert(key, data)` 연산의 구현을 완성하세요.\n",
    "\n",
    "`class BinSearchTree` 에는 이미 `insert(key, data)` 메서드가 구현되어 있습니다. 이것을 그대로 이용하고, `class Node` 의 `insert(key, data)` 메서드를 재귀적 방법으로 구현하세요. 강의에서 언급한 바와 같이, 이미 트리 안에 들어 있는 것과 같은 (중복된) 키를 이용하여 삽입을 시도하는 경우에는 `KeyError` 예외를 발생시켜야 합니다.\n",
    "\n",
    "[참고 1] `inorder()` 메서드의 구현은 그대로 두세요. 테스트에 이용됩니다."
   ]
  },
  {
   "cell_type": "code",
   "execution_count": 1,
   "metadata": {},
   "outputs": [],
   "source": [
    "class Node:\n",
    "\n",
    "    def __init__(self, key, data):\n",
    "        self.key = key\n",
    "        self.data = data\n",
    "        self.left = None\n",
    "        self.right = None\n",
    "\n",
    "\n",
    "    def insert(self, key, data):\n",
    "        if key < self.key:\n",
    "            if self.left:\n",
    "                self.left.insert(key, data)\n",
    "            else:\n",
    "                self.left = Node(key, data)\n",
    "        elif key > self.key:\n",
    "            if self.right:\n",
    "                self.right.insert(key, data)\n",
    "            else:\n",
    "                self.tight = Node(key, data)\n",
    "        else:\n",
    "            raise KeyError('Key Error')\n",
    "\n",
    "\n",
    "    def inorder(self):\n",
    "        traversal = []\n",
    "        if self.left:\n",
    "            traversal += self.left.inorder()\n",
    "        traversal.append(self)\n",
    "        if self.right:\n",
    "            traversal += self.right.inorder()\n",
    "        return traversal"
   ]
  },
  {
   "cell_type": "code",
   "execution_count": 2,
   "metadata": {},
   "outputs": [],
   "source": [
    "class BinSearchTree:\n",
    "\n",
    "    def __init__(self):\n",
    "        self.root = None\n",
    "\n",
    "\n",
    "    def insert(self, key, data):\n",
    "        if self.root:\n",
    "            self.root.insert(key, data)\n",
    "        else:\n",
    "            self.root = Node(key, data)\n",
    "\n",
    "\n",
    "    def inorder(self):\n",
    "        if self.root:\n",
    "            return self.root.inorder()\n",
    "        else:\n",
    "            return []"
   ]
  },
  {
   "cell_type": "code",
   "execution_count": null,
   "metadata": {},
   "outputs": [],
   "source": []
  }
 ],
 "metadata": {
  "kernelspec": {
   "display_name": "Python 3",
   "language": "python",
   "name": "python3"
  },
  "language_info": {
   "codemirror_mode": {
    "name": "ipython",
    "version": 3
   },
   "file_extension": ".py",
   "mimetype": "text/x-python",
   "name": "python",
   "nbconvert_exporter": "python",
   "pygments_lexer": "ipython3",
   "version": "3.5.2"
  }
 },
 "nbformat": 4,
 "nbformat_minor": 2
}

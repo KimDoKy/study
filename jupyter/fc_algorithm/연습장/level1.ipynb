{
 "cells": [
  {
   "cell_type": "markdown",
   "metadata": {},
   "source": [
    "## 가운데 글자 가져오기\n",
    "\n",
    "- 문제 설명  \n",
    "단어 s의 가운데 글자를 반환하는 함수, solution을 만들어 보세요. 단어의 길이가 짝수라면 가운데 두글자를 반환하면 됩니다.\n",
    "\n",
    "- 재한사항  \n",
    "s는 길이가 1 이상, 100이하인 스트링입니다.\n",
    "\n",
    "- 입출력 예\n",
    "\n",
    "s|return\n",
    "---|---\n",
    "\"abcde\"|\"c\"\n",
    "\"qwer\"|\"we\""
   ]
  },
  {
   "cell_type": "code",
   "execution_count": 3,
   "metadata": {},
   "outputs": [],
   "source": [
    "s = \"abcde\"\n",
    "s2 = \"qwer\""
   ]
  },
  {
   "cell_type": "code",
   "execution_count": 4,
   "metadata": {},
   "outputs": [],
   "source": [
    "def solution(s):\n",
    "    idx = len(s)\n",
    "    if idx % 2 == 0:\n",
    "        return f\"{s[idx//2-1]}{s[idx//2]}\"\n",
    "    else:\n",
    "        return s[idx//2]"
   ]
  },
  {
   "cell_type": "code",
   "execution_count": 5,
   "metadata": {},
   "outputs": [
    {
     "name": "stdout",
     "output_type": "stream",
     "text": [
      "c\n"
     ]
    }
   ],
   "source": [
    "print(solution(s))"
   ]
  },
  {
   "cell_type": "markdown",
   "metadata": {},
   "source": [
    "## 같은 숫자는 싫어\n",
    "\n",
    "- 문제 설명  \n",
    "배열 arr가 주어집니다. 배열 arr의 각 원소는 숫자 0부터 9까지로 이루어져 있습니다. 이때, 배열 arr에서 연속적으로 나타나는 숫자는 하나만 남기고 전부 제거하려고 합니다. 단, 제거된 후 남은 수들을 반환할 때는 배열 arr의 원소들의 순서를 유지해야 합니다. 예를 들면,\n",
    "\n",
    " - `arr = [1, 1, 3, 3, 0, 1, 1]` 이면 `[1, 3, 0, 1]` 을 return 합니다.\n",
    " - `arr = [4, 4, 4, 3, 3]` 이면 `[4, 3]` 을 return 합니다.  \n",
    " \n",
    "배열 arr에서 연속적으로 나타나는 숫자는 제거하고 남은 수들을 return 하는 solution 함수를 완성해 주세요.\n",
    "\n",
    "- 제한사항  \n",
    " - 배열 arr의 크기 : 1,000,000 이하의 자연수\n",
    " - 배열 arr의 원소의 크기 : 0보다 크거나 같고 9보다 작거나 같은 정수\n",
    " \n",
    "- 입출력 예\n",
    "\n",
    "arr\t|answer\n",
    "---|---\n",
    "`[1,1,3,3,0,1,1]`|\t`[1,3,0,1]`\n",
    "`[4,4,4,3,3]`|\t`[4,3]`\n",
    "\n",
    "- 입출력 예 설명  \n",
    "입출력 예 #1,2\n",
    "문제의 예시와 같습니다."
   ]
  },
  {
   "cell_type": "code",
   "execution_count": 6,
   "metadata": {},
   "outputs": [],
   "source": [
    "def solution(arr):\n",
    "    result = []\n",
    "    for i, v in enumerate(arr):\n",
    "        if i == 0:\n",
    "            result.append(v)\n",
    "        else:\n",
    "            if v == arr[i-1]:\n",
    "                pass\n",
    "            else:\n",
    "                result.append(v)\n",
    "    return result"
   ]
  },
  {
   "cell_type": "code",
   "execution_count": 7,
   "metadata": {},
   "outputs": [],
   "source": [
    "arr = [1, 1, 3, 3, 0, 1, 1]"
   ]
  },
  {
   "cell_type": "code",
   "execution_count": 8,
   "metadata": {},
   "outputs": [
    {
     "data": {
      "text/plain": [
       "[1, 3, 0, 1]"
      ]
     },
     "execution_count": 8,
     "metadata": {},
     "output_type": "execute_result"
    }
   ],
   "source": [
    "solution(arr)"
   ]
  },
  {
   "cell_type": "markdown",
   "metadata": {},
   "source": [
    "## 두 정수 사이의 합\n",
    "\n",
    "- 문제 설명  \n",
    "\n",
    "두 정수 a, b가 주어졌을 때 a와 b 사이에 속한 모든 정수의 합을 리턴하는 함수, solution을 완성하세요. \n",
    "예를 들어 a = 3, b = 5인 경우, 3 + 4 + 5 = 12이므로 12를 리턴합니다.\n",
    "\n",
    "- 제한 조건  \n",
    "\n",
    "a와 b가 같은 경우는 둘 중 아무 수나 리턴하세요.\n",
    "a와 b는 -10,000,000 이상 10,000,000 이하인 정수입니다.\n",
    "a와 b의 대소관계는 정해져있지 않습니다.\n",
    "\n",
    "- 입출력 예\n",
    "\n",
    "a\t|b|\treturn\n",
    "---|---|---\n",
    "3\t|5|\t12\n",
    "3\t|3|\t3\n",
    "5\t|3|\t12"
   ]
  },
  {
   "cell_type": "code",
   "execution_count": 9,
   "metadata": {},
   "outputs": [],
   "source": [
    "def solution(a, b):\n",
    "    result = 0\n",
    "    if a > b: a, b = b, a\n",
    "    elif a == b: return a\n",
    "    return sum([x for x in range(a, b+1)])"
   ]
  },
  {
   "cell_type": "code",
   "execution_count": 10,
   "metadata": {},
   "outputs": [],
   "source": [
    "a, b = 3, 5"
   ]
  },
  {
   "cell_type": "code",
   "execution_count": 11,
   "metadata": {},
   "outputs": [
    {
     "data": {
      "text/plain": [
       "12"
      ]
     },
     "execution_count": 11,
     "metadata": {},
     "output_type": "execute_result"
    }
   ],
   "source": [
    "solution(a,b)"
   ]
  },
  {
   "cell_type": "markdown",
   "metadata": {},
   "source": [
    "## 서울에서 김서방 찾기\n",
    "\n",
    "- 문제 설명  \n",
    "\n",
    "String형 배열 seoul의 element중 Kim의 위치 x를 찾아, 김서방은 x에 있다는 String을 반환하는 함수, solution을 완성하세요. seoul에 Kim은 오직 한 번만 나타나며 잘못된 값이 입력되는 경우는 없습니다.\n",
    "\n",
    "- 제한 사항  \n",
    "\n",
    "seoul은 길이 1 이상, 1000 이하인 배열입니다.\n",
    "seoul의 원소는 길이 1 이상, 20 이하인 문자열입니다.\n",
    "Kim은 반드시 seoul 안에 포함되어 있습니다.\n",
    "\n",
    "- 입출력 예\n",
    "\n",
    "seoul\t|return\n",
    "---|---\n",
    "`[Jane, Kim]`\t|\"김서방은 1에 있다\""
   ]
  },
  {
   "cell_type": "code",
   "execution_count": 12,
   "metadata": {},
   "outputs": [],
   "source": [
    "def solution(seoul):\n",
    "    kimIdx = seoul.index(\"Kim\")\n",
    "    return \"김서방은 {}에 있다\".format(kimIdx)"
   ]
  },
  {
   "cell_type": "code",
   "execution_count": 14,
   "metadata": {},
   "outputs": [
    {
     "data": {
      "text/plain": [
       "'김서방은 2에 있다'"
      ]
     },
     "execution_count": 14,
     "metadata": {},
     "output_type": "execute_result"
    }
   ],
   "source": [
    "solution([\"Queen\", \"Tod\", \"Kim\"])"
   ]
  },
  {
   "cell_type": "markdown",
   "metadata": {},
   "source": [
    "## 평균 구하기\n",
    "\n",
    "- 문제 설명  \n",
    "\n",
    "정수를 담고 있는 배열 arr의 평균값을 return하는 함수, solution을 완성해보세요.\n",
    "\n",
    "- 제한사항  \n",
    "\n",
    "arr은 길이 1 이상, 100 이하인 배열입니다.\n",
    "arr의 원소는 -10,000 이상 10,000 이하인 정수입니다.\n",
    "\n",
    "- 입출력 예\n",
    "\n",
    "arr\t|return\n",
    "---|---\n",
    "`[1,2,3,4]`|\t2.5\n",
    "`[5,5]`|5"
   ]
  },
  {
   "cell_type": "code",
   "execution_count": 15,
   "metadata": {},
   "outputs": [],
   "source": [
    "def solution(arr):\n",
    "    return sum(arr) / len(arr)"
   ]
  },
  {
   "cell_type": "code",
   "execution_count": 16,
   "metadata": {},
   "outputs": [
    {
     "data": {
      "text/plain": [
       "2.5"
      ]
     },
     "execution_count": 16,
     "metadata": {},
     "output_type": "execute_result"
    }
   ],
   "source": [
    "solution([1,2,3,4])"
   ]
  },
  {
   "cell_type": "markdown",
   "metadata": {},
   "source": [
    "## 핸드폰 번호 가리기\n",
    "\n",
    "- 문제 설명  \n",
    "\n",
    "프로그래머스 모바일은 개인정보 보호를 위해 고지서를 보낼 때 고객들의 전화번호의 일부를 가립니다.\n",
    "전화번호가 문자열 phone_number로 주어졌을 때, 전화번호의 뒷 4자리를 제외한 나머지 숫자를 전부 *으로 가린 문자열을 리턴하는 함수, solution을 완성해주세요.\n",
    "\n",
    "- 제한 조건  \n",
    "\n",
    "s는 길이 4 이상, 20이하인 문자열입니다.\n",
    "\n",
    "- 입출력 예  \n",
    "\n",
    "phone_number|\treturn\n",
    "---|---\n",
    "\"01033334444\"|\"*******4444\"\n",
    "\"027778888\"|\"*****8888\""
   ]
  },
  {
   "cell_type": "code",
   "execution_count": 24,
   "metadata": {},
   "outputs": [],
   "source": [
    "phone_number = \"01033334444\""
   ]
  },
  {
   "cell_type": "code",
   "execution_count": 50,
   "metadata": {},
   "outputs": [],
   "source": [
    "def solution(phone_number):\n",
    "    return f\"{'*'*(len(phone_number)-4)}{phone_number[-4:]}\""
   ]
  },
  {
   "cell_type": "code",
   "execution_count": 51,
   "metadata": {},
   "outputs": [
    {
     "data": {
      "text/plain": [
       "'*******4444'"
      ]
     },
     "execution_count": 51,
     "metadata": {},
     "output_type": "execute_result"
    }
   ],
   "source": [
    "solution(phone_number)"
   ]
  },
  {
   "cell_type": "markdown",
   "metadata": {},
   "source": [
    "## x만큼 간격이 있는 n개의 숫자\n",
    "\n",
    "- 문제 설명\n",
    "\n",
    "함수 solution은 정수 x와 자연수 n을 입력 받아, x부터 시작해 x씩 증가하는 숫자를 n개 지니는 리스트를 리턴해야 합니다. 다음 제한 조건을 보고, 조건을 만족하는 함수, solution을 완성해주세요.\n",
    "\n",
    "- 제한 조건\n",
    "\n",
    "x는 -10000000 이상, 10000000 이하인 정수입니다.\n",
    "n은 1000 이하인 자연수입니다.\n",
    "\n",
    "- 입출력 예\n",
    "\n",
    "x\t|n|\tanswer\n",
    "---|---|---\n",
    "2\t|5|\t[2,4,6,8,10]\n",
    "4\t|3|\t[4,8,12]\n",
    "-4\t|2|\t[-4, -8]"
   ]
  },
  {
   "cell_type": "code",
   "execution_count": 1,
   "metadata": {},
   "outputs": [],
   "source": [
    "x, n = 2, 5"
   ]
  },
  {
   "cell_type": "code",
   "execution_count": 2,
   "metadata": {},
   "outputs": [],
   "source": [
    "def solution(x, n):\n",
    "    return [x*c for c in range(1,n+1)]"
   ]
  },
  {
   "cell_type": "code",
   "execution_count": 3,
   "metadata": {},
   "outputs": [
    {
     "data": {
      "text/plain": [
       "[2, 4, 6, 8, 10]"
      ]
     },
     "execution_count": 3,
     "metadata": {},
     "output_type": "execute_result"
    }
   ],
   "source": [
    "solution(x, n)"
   ]
  },
  {
   "cell_type": "markdown",
   "metadata": {},
   "source": [
    "## 짝수와 홀수\n",
    "\n",
    "- 문제 설명\n",
    "\n",
    "정수 num이 짝수일 경우 Even을 반환하고 홀수인 경우 Odd를 반환하는 함수, solution을 완성해주세요.\n",
    "\n",
    "- 제한 조건\n",
    "\n",
    "num은 int 범위의 정수입니다.\n",
    "0은 짝수입니다.\n",
    "\n",
    "- 입출력 예\n",
    "\n",
    "num\t|return\n",
    "---|---\n",
    "3\t|Odd\n",
    "4 |Even"
   ]
  },
  {
   "cell_type": "code",
   "execution_count": 4,
   "metadata": {},
   "outputs": [],
   "source": [
    "num = 3"
   ]
  },
  {
   "cell_type": "code",
   "execution_count": 5,
   "metadata": {},
   "outputs": [],
   "source": [
    "def solution(num):\n",
    "    return \"Even\" if num % 2 == 0 else \"Odd\""
   ]
  },
  {
   "cell_type": "code",
   "execution_count": 6,
   "metadata": {},
   "outputs": [
    {
     "data": {
      "text/plain": [
       "'Odd'"
      ]
     },
     "execution_count": 6,
     "metadata": {},
     "output_type": "execute_result"
    }
   ],
   "source": [
    "solution(num)"
   ]
  },
  {
   "cell_type": "markdown",
   "metadata": {},
   "source": [
    "## 모의고사\n",
    "\n",
    "- 문제 설명\n",
    "\n",
    "수포자는 수학을 포기한 사람의 준말입니다. 수포자 삼인방은 모의고사에 수학 문제를 전부 찍으려 합니다. 수포자는 1번 문제부터 마지막 문제까지 다음과 같이 찍습니다.\n",
    "\n",
    "1번 수포자가 찍는 방식: 1, 2, 3, 4, 5, 1, 2, 3, 4, 5, ...\n",
    "2번 수포자가 찍는 방식: 2, 1, 2, 3, 2, 4, 2, 5, 2, 1, 2, 3, 2, 4, 2, 5, ...\n",
    "3번 수포자가 찍는 방식: 3, 3, 1, 1, 2, 2, 4, 4, 5, 5, 3, 3, 1, 1, 2, 2, 4, 4, 5, 5, ...\n",
    "\n",
    "1번 문제부터 마지막 문제까지의 정답이 순서대로 들은 배열 answers가 주어졌을 때, 가장 많은 문제를 맞힌 사람이 누구인지 배열에 담아 return 하도록 solution 함수를 작성해주세요.\n",
    "\n",
    "- 제한 조건\n",
    "\n",
    "시험은 최대 10,000 문제로 구성되어있습니다.\n",
    "문제의 정답은 1, 2, 3, 4, 5중 하나입니다.\n",
    "가장 높은 점수를 받은 사람이 여럿일 경우, return하는 값을 오름차순 정렬해주세요.\n",
    "\n",
    "- 입출력 예\n",
    "\n",
    "answers|\treturn\n",
    "---|---\n",
    "[1,2,3,4,5]\t|[1]\n",
    "[1,3,2,4,2]\t|[1,2,3]\n",
    "\n",
    "- 입출력 예 설명\n",
    "\n",
    "입출력 예 #1\n",
    "\n",
    " - 수포자 1은 모든 문제를 맞혔습니다.\n",
    " - 수포자 2는 모든 문제를 틀렸습니다.\n",
    " - 수포자 3은 모든 문제를 틀렸습니다.\n",
    " \n",
    "따라서 가장 문제를 많이 맞힌 사람은 수포자 1입니다.\n",
    "\n",
    "입출력 예 #2\n",
    "\n",
    " - 모든 사람이 2문제씩을 맞췄습니다."
   ]
  },
  {
   "cell_type": "code",
   "execution_count": 7,
   "metadata": {},
   "outputs": [],
   "source": [
    "u1 = [1, 2, 3, 4, 5]\n",
    "u2 = [2, 1, 2, 3, 2, 4, 2, 5]\n",
    "u3 = [3, 3, 1, 1, 2, 2, 4, 4, 5, 5]"
   ]
  },
  {
   "cell_type": "code",
   "execution_count": 8,
   "metadata": {},
   "outputs": [],
   "source": [
    "def solution(answers):\n",
    "    global u1, u2, u3\n",
    "    answer = []\n",
    "    scores = [0, 0, 0]\n",
    "    for i, v in enumerate(answers):\n",
    "        if u1[i % len(u1)] == v: scores[0] += 1\n",
    "        if u2[i % len(u2)] == v: scores[1] += 1\n",
    "        if u3[i % len(u3)] == v: scores[2] += 1\n",
    "            \n",
    "    for i, v in enumerate(scores):\n",
    "        if v == max(scores):\n",
    "            answer.append(i + 1)\n",
    "\n",
    "    return answer"
   ]
  },
  {
   "cell_type": "code",
   "execution_count": 9,
   "metadata": {},
   "outputs": [],
   "source": [
    "answers = [1,2,3,4,5]"
   ]
  },
  {
   "cell_type": "code",
   "execution_count": 10,
   "metadata": {},
   "outputs": [
    {
     "data": {
      "text/plain": [
       "[1]"
      ]
     },
     "execution_count": 10,
     "metadata": {},
     "output_type": "execute_result"
    }
   ],
   "source": [
    "solution(answers)"
   ]
  }
 ],
 "metadata": {
  "kernelspec": {
   "display_name": "Python 3",
   "language": "python",
   "name": "python3"
  },
  "language_info": {
   "codemirror_mode": {
    "name": "ipython",
    "version": 3
   },
   "file_extension": ".py",
   "mimetype": "text/x-python",
   "name": "python",
   "nbconvert_exporter": "python",
   "pygments_lexer": "ipython3",
   "version": "3.7.0"
  }
 },
 "nbformat": 4,
 "nbformat_minor": 2
}

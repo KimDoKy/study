{
 "cells": [
  {
   "cell_type": "markdown",
   "metadata": {},
   "source": [
    "# 코딩 테스트 실패 사유"
   ]
  },
  {
   "cell_type": "markdown",
   "metadata": {},
   "source": [
    "- 컴파일 에러(CE): 문법 오류\n",
    " - 에러 메세지만으로도 잡을 수 있음\n",
    "- 시간 초과(TLE): 최적화 필요\n",
    " - 너무 많은 루프나 무한 루프에 빠졌을때 발생\n",
    " - 쫌 더 최적화된 알고리즘이 필요하거나 조건문을 통해 반복문의 수명을 줄여야 함\n",
    "- 메모리 초과(MLE): 최적화 필요\n",
    " - 스택메모리, 힙메모리에서 자주 발생\n",
    " - 더 효율적으로 데이터를 저장할 수 없는지 체크 필요\n",
    "- 런타임 에러(RE): 과정 오류\n",
    " - 0으로 나누는 경우\n",
    " - Container에서 오류(접근)\n",
    " - 무한 루프(TLE)\n",
    "- 틀렸습니다(WA)\n",
    " 1. 제한 및 대소 관계(이상,이하,초과,미만,min,max)\n",
    " 2. 예외 처리(단, 없는 경우는 -1을 출력한다..)\n",
    " 3. 입력과 출력(공백,양식,순서,정렬 유무)\n",
    " 4. 시간 제한과 메모리 제한\n",
    " 5. 알고리즘이 맞는가?\n",
    " 6. 내가 생각한 로직대로 구현했나?\n",
    " 7. 불필요한 반복문이 있는가?\n",
    " 8. 중복은 처리했는가?"
   ]
  },
  {
   "cell_type": "markdown",
   "metadata": {},
   "source": [
    "**디버깅의 반복 + 멘탈 관리**"
   ]
  },
  {
   "cell_type": "markdown",
   "metadata": {},
   "source": [
    "# 개인 역량 분석하기"
   ]
  },
  {
   "cell_type": "markdown",
   "metadata": {},
   "source": [
    "- 문제 푸는 방법:\n",
    " - 문제 -> 모델링 -> 절차적 사고 -> 구현"
   ]
  },
  {
   "cell_type": "markdown",
   "metadata": {},
   "source": [
    "#### 문제 모델링\n",
    "\n",
    "- 수치 및 조건 정리하기\n",
    "\n",
    "```python\n",
    "# 10명의 **값 정수로 주어진다?\n",
    "A = [int(input()) for i in range(10)]\n",
    "\n",
    "# ~를 체크해야한다\n",
    "def check(x):\n",
    "    pass\n",
    "```\n",
    "- 전체적인 흐름 그리기\n",
    "- 입출력 예제 이해하기"
   ]
  },
  {
   "cell_type": "markdown",
   "metadata": {},
   "source": [
    "#### 문제가 계속 막힐때\n",
    "\n",
    "- 많이 풀어보는게 답\n",
    "- 필수 알고리즘은 암기\n",
    "- 설명과 함께 풀어보기 / 유형은 많이 풀기\n",
    "- 모델링을 바탕으로 기능을 가볍게 적어보기"
   ]
  },
  {
   "cell_type": "markdown",
   "metadata": {},
   "source": [
    "#### 풀이는 아는데 구현이 안될때\n",
    "\n",
    "- 디버깅 연습은 필수\n",
    "- 디버깅이 어려운 환경인 경우 `print`으로 디버깅\n",
    "- 쉽고 간단한 문제를 많이 풀자(알고리즘 실력은 늘지 않지만, 기초가 튼튼!)\n",
    "- 본인만의 스타일을 만들자\n",
    "```python\n",
    "# 최소공배수 함수\n",
    "def gcd(a,b):\n",
    "    return a if b == 0 else gcd(b,a%b)\n",
    "```\n",
    "- 연습에는 억지로 최적화 X\n",
    "- 꼭 정해 풀이 알기 + 풀이보기"
   ]
  },
  {
   "cell_type": "markdown",
   "metadata": {},
   "source": [
    "## 연습문제 목록\n",
    "\n",
    "번호|제목|관련\n",
    "---|---|---\n",
    "15969|행복|list min, max 사용하기\n",
    "10539|수빈이와 수열|누적합 사용하기\n",
    "17269|이름궁합테스트|string 문자열처리\n",
    "17389|보너스 점수|tuple\n",
    "16165|걸그룹 마스터 준석이|dict\n",
    "1920|수찾기|set\n",
    "17224|APC|좀 긴 지문 연습\n",
    "16675|두 개의 손|tuple, comprehension, index(find)"
   ]
  },
  {
   "cell_type": "markdown",
   "metadata": {},
   "source": [
    "### [행복](https://www.acmicpc.net/problem/15969)"
   ]
  },
  {
   "cell_type": "code",
   "execution_count": 1,
   "metadata": {},
   "outputs": [
    {
     "name": "stdout",
     "output_type": "stream",
     "text": [
      "5\n",
      "27 35 92 75 42\n",
      "65\n"
     ]
    }
   ],
   "source": [
    "n = int(input())\n",
    "scores = list(map(int, input().split(' ')))\n",
    "print(max(scores) - min(scores))"
   ]
  },
  {
   "cell_type": "markdown",
   "metadata": {},
   "source": [
    "### [수빈이와 수열](https://www.acmicpc.net/problem/10539)"
   ]
  },
  {
   "cell_type": "code",
   "execution_count": 19,
   "metadata": {},
   "outputs": [
    {
     "name": "stdout",
     "output_type": "stream",
     "text": [
      "5\n",
      "1 2 2 3 4\n",
      "1 3 2 6 8 "
     ]
    }
   ],
   "source": [
    "n, lst = int(input()), list(map(int, input().split(' ')))\n",
    "result = []\n",
    "for i, v in enumerate(lst):\n",
    "    temp = v * (i+1) - sum(result)\n",
    "    print(temp, end=' ')\n",
    "    result.append(temp)"
   ]
  },
  {
   "cell_type": "markdown",
   "metadata": {},
   "source": [
    "### [이름궁합 테스트](https://www.acmicpc.net/problem/17269)"
   ]
  },
  {
   "cell_type": "code",
   "execution_count": 7,
   "metadata": {},
   "outputs": [
    {
     "name": "stdout",
     "output_type": "stream",
     "text": [
      "3 2\n",
      "BOJ IN\n",
      "1%\n"
     ]
    }
   ],
   "source": [
    "score = [3,2,1,2,4,3,1,3,1,1,3,1,3,2,1,2,2,2,1,2,1,1,1,2,2,1]\n",
    "n, m = map(int, input().split(' '))\n",
    "a, b = input().split(' ')\n",
    "mx = m if m > n else n\n",
    "temp = []\n",
    "for i in range(int(mx)):\n",
    "    if i < n: temp.append(score[(ord(a[i])-65)])\n",
    "    if i < m: temp.append(score[(ord(b[i])-65)])\n",
    "def result_score(lst):\n",
    "    result = []\n",
    "    for i, v in enumerate(lst):\n",
    "        if i == len(lst)-1: break\n",
    "        else: result.append((v+lst[i+1])%10)\n",
    "    return result\n",
    "while True:\n",
    "    temp = result_score(temp)\n",
    "    if len(temp) == 2: break\n",
    "        \n",
    "if temp[0] == 0:print(f'{temp[1]}%')    \n",
    "else:print(f'{temp[0]}{temp[1]}%')"
   ]
  },
  {
   "cell_type": "markdown",
   "metadata": {},
   "source": [
    "### [보너스 점수](https://www.acmicpc.net/problem/17389)"
   ]
  },
  {
   "cell_type": "code",
   "execution_count": 14,
   "metadata": {},
   "outputs": [
    {
     "name": "stdout",
     "output_type": "stream",
     "text": [
      "8\n",
      "XOOOXOOX\n",
      "26\n"
     ]
    }
   ],
   "source": [
    "n, q = int(input()), input()\n",
    "bonus, result = 0, 0\n",
    "for i, v in enumerate(q):\n",
    "    if v == 'X': bonus = 0\n",
    "    else:\n",
    "        result += bonus + (i+1)\n",
    "        bonus += 1\n",
    "print(result)"
   ]
  },
  {
   "cell_type": "markdown",
   "metadata": {},
   "source": [
    "### [걸그룹 마스터 준석이](https://www.acmicpc.net/problem/16165)"
   ]
  },
  {
   "cell_type": "code",
   "execution_count": 33,
   "metadata": {},
   "outputs": [
    {
     "name": "stdout",
     "output_type": "stream",
     "text": [
      "3 4\n",
      "tw\n",
      "9\n",
      "ji\n",
      "da\n",
      "mi\n",
      "mo\n",
      "ch\n",
      "je\n",
      "tz\n",
      "sa\n",
      "na\n",
      "black\n",
      "4\n",
      "ji\n",
      "li\n",
      "ro\n",
      "je\n",
      "red\n",
      "5\n",
      "we\n",
      "ir\n",
      "se\n",
      "ye\n",
      "jo\n",
      "sa\n",
      "1\n",
      "we\n",
      "1\n",
      "tw\n",
      "0\n",
      "ro\n",
      "1\n",
      "tw\n",
      "red\n",
      "ji\n",
      "da\n",
      "mi\n",
      "mo\n",
      "ch\n",
      "je\n",
      "tz\n",
      "sa\n",
      "na\n",
      "black\n"
     ]
    }
   ],
   "source": [
    "N, M = map(int, input().split(' '))\n",
    "g_g = {}\n",
    "result = []\n",
    "for _ in range(N):\n",
    "    g_name = input()\n",
    "    g_g[g_name] = []\n",
    "    m_c = int(input())\n",
    "    for _ in range(m_c):\n",
    "        g_g[g_name].append(input())\n",
    "        \n",
    "for _ in range(M):\n",
    "    name = input()\n",
    "    typ = int(input())\n",
    "    if typ == 0:\n",
    "        result.append(g_g[name])\n",
    "    else:\n",
    "        for k, v in g_g.items():\n",
    "            if name in v:\n",
    "                result.append(k)\n",
    "                \n",
    "for i in result:\n",
    "    if type(i) == list:\n",
    "        i = sorted(i)\n",
    "        for name in i:\n",
    "            print(name)\n",
    "    else:\n",
    "        print(i)"
   ]
  },
  {
   "cell_type": "code",
   "execution_count": 34,
   "metadata": {},
   "outputs": [
    {
     "name": "stdout",
     "output_type": "stream",
     "text": [
      "['a', 'b', 'c', 'd', 'g']\n"
     ]
    }
   ],
   "source": [
    "lst = ['g','d','a', 'c', 'b']\n",
    "print(sorted(lst))"
   ]
  },
  {
   "cell_type": "markdown",
   "metadata": {},
   "source": [
    "### [수찾기](https://www.acmicpc.net/problem/1920)"
   ]
  },
  {
   "cell_type": "code",
   "execution_count": 1,
   "metadata": {},
   "outputs": [
    {
     "name": "stdout",
     "output_type": "stream",
     "text": [
      "5\n",
      "4 1 5 2 3\n",
      "5\n",
      "1 3 7 9 5\n",
      "1\n",
      "1\n",
      "0\n",
      "0\n",
      "1\n"
     ]
    }
   ],
   "source": [
    "n = int(input())\n",
    "a = set(map(int, input().split(' ')))\n",
    "m = int(input())\n",
    "b = list(map(int, input().split(' ')))\n",
    "c = a & set(b)\n",
    "for i in range(m):\n",
    "    if b[i] in c: print(1)\n",
    "    else: print(0)"
   ]
  },
  {
   "cell_type": "markdown",
   "metadata": {},
   "source": [
    "### [APC](https://www.acmicpc.net/problem/17224)"
   ]
  },
  {
   "cell_type": "code",
   "execution_count": 17,
   "metadata": {},
   "outputs": [
    {
     "name": "stdout",
     "output_type": "stream",
     "text": [
      "4 8 4\n",
      "1 8\n",
      "4 5\n",
      "6 20\n",
      "9 12\n",
      "380\n"
     ]
    }
   ],
   "source": [
    "N, L, K = list(map(int, input().split(' ')))\n",
    "count, score = 0, 0\n",
    "for _ in range(N):\n",
    "    data = list(map(int, input().split(' ')))\n",
    "    if count >= K: pass\n",
    "    else:\n",
    "        if L >= data[1]:\n",
    "            score += 140\n",
    "            count += 1\n",
    "        elif L >= data[0]:\n",
    "            score += 100\n",
    "            count += 1\n",
    "        else:\n",
    "            pass\n",
    "print(score)"
   ]
  },
  {
   "cell_type": "markdown",
   "metadata": {},
   "source": [
    "### [두 개의 손](https://www.acmicpc.net/problem/16675)"
   ]
  },
  {
   "cell_type": "code",
   "execution_count": 7,
   "metadata": {},
   "outputs": [
    {
     "data": {
      "text/plain": [
       "620"
      ]
     },
     "execution_count": 7,
     "metadata": {},
     "output_type": "execute_result"
    }
   ],
   "source": [
    "140+140+140+100+100"
   ]
  },
  {
   "cell_type": "code",
   "execution_count": null,
   "metadata": {},
   "outputs": [],
   "source": []
  }
 ],
 "metadata": {
  "kernelspec": {
   "display_name": "Python 3",
   "language": "python",
   "name": "python3"
  },
  "language_info": {
   "codemirror_mode": {
    "name": "ipython",
    "version": 3
   },
   "file_extension": ".py",
   "mimetype": "text/x-python",
   "name": "python",
   "nbconvert_exporter": "python",
   "pygments_lexer": "ipython3",
   "version": "3.7.0"
  }
 },
 "nbformat": 4,
 "nbformat_minor": 2
}

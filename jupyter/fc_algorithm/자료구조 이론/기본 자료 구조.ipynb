{
 "cells": [
  {
   "cell_type": "markdown",
   "metadata": {},
   "source": [
    "## 배열(Array)\n",
    "\n",
    "- 장점:\n",
    " - 인덱스를 통한 빠른 접근\n",
    "- 단점:\n",
    " - 배열 생성시 크기가 정해지기 때문에 추가/삭제가 쉽지 않음"
   ]
  },
  {
   "cell_type": "markdown",
   "metadata": {},
   "source": [
    "#### 연습. dataset에서 전체 M이 몇 번 나왔는지 빈도수 출력하기"
   ]
  },
  {
   "cell_type": "code",
   "execution_count": 14,
   "metadata": {},
   "outputs": [],
   "source": [
    "dataset = [\"Unless she is More earnest in her studies, she will not be able to keep up with the class.\",\n",
    "           \"As he is very healthy he will live to be eighty.\",\n",
    "        \"Will you have tiMe enough to do this for Me toMorrow?\",\n",
    "        \"How long will these beautiful spring days last?\",\n",
    "        \"I will accomplish My purpose at all costs.\"]\n"
   ]
  },
  {
   "cell_type": "code",
   "execution_count": 15,
   "metadata": {},
   "outputs": [],
   "source": [
    "m_count = 0"
   ]
  },
  {
   "cell_type": "code",
   "execution_count": 16,
   "metadata": {},
   "outputs": [],
   "source": [
    "for data in dataset:\n",
    "    m_count += data.count('M')"
   ]
  },
  {
   "cell_type": "code",
   "execution_count": 18,
   "metadata": {},
   "outputs": [
    {
     "data": {
      "text/plain": [
       "5"
      ]
     },
     "execution_count": 18,
     "metadata": {},
     "output_type": "execute_result"
    }
   ],
   "source": [
    "m_count"
   ]
  },
  {
   "cell_type": "markdown",
   "metadata": {},
   "source": [
    "#### 영상에서의 문제 풀이"
   ]
  },
  {
   "cell_type": "code",
   "execution_count": 19,
   "metadata": {},
   "outputs": [],
   "source": [
    "m_count = 0"
   ]
  },
  {
   "cell_type": "code",
   "execution_count": 20,
   "metadata": {},
   "outputs": [],
   "source": [
    "for data in dataset:\n",
    "    for index in range(len(data)):\n",
    "        if data[index] == 'M':\n",
    "            m_count += 1"
   ]
  },
  {
   "cell_type": "code",
   "execution_count": 21,
   "metadata": {
    "scrolled": true
   },
   "outputs": [
    {
     "data": {
      "text/plain": [
       "5"
      ]
     },
     "execution_count": 21,
     "metadata": {},
     "output_type": "execute_result"
    }
   ],
   "source": [
    "m_count"
   ]
  },
  {
   "cell_type": "markdown",
   "metadata": {},
   "source": [
    "# Queue\n",
    "\n",
    "- 많은 언어들에서 queue 라이브러리를 제공.  \n",
    "- queue 라이브러리에는 다양한 큐 구조를 제공\n",
    "- `Queue()`: 가장 일반적인 큐 자료 구조\n",
    " - `enqueue`: `put`\n",
    " - `dequeue`: `get`\n",
    "- `LifoQueue()`: 나중에 입력된 데이터가 먼저 출력되는 구조(스택)\n",
    "- `PriorityQueue()`: 데이터마다 우선순위를 넣어서, 우선순위가 높은 순으로 테이터를 출력"
   ]
  },
  {
   "cell_type": "markdown",
   "metadata": {},
   "source": [
    "## Queue - queue"
   ]
  },
  {
   "cell_type": "code",
   "execution_count": 1,
   "metadata": {},
   "outputs": [],
   "source": [
    "import queue\n",
    "\n",
    "data_queue = queue.Queue()"
   ]
  },
  {
   "cell_type": "code",
   "execution_count": 2,
   "metadata": {},
   "outputs": [],
   "source": [
    "data_queue.put('fun coding')\n",
    "data_queue.put(1)"
   ]
  },
  {
   "cell_type": "code",
   "execution_count": 3,
   "metadata": {},
   "outputs": [
    {
     "data": {
      "text/plain": [
       "2"
      ]
     },
     "execution_count": 3,
     "metadata": {},
     "output_type": "execute_result"
    }
   ],
   "source": [
    "data_queue.qsize()"
   ]
  },
  {
   "cell_type": "code",
   "execution_count": 5,
   "metadata": {},
   "outputs": [
    {
     "data": {
      "text/plain": [
       "'fun coding'"
      ]
     },
     "execution_count": 5,
     "metadata": {},
     "output_type": "execute_result"
    }
   ],
   "source": [
    "data_queue.get()"
   ]
  },
  {
   "cell_type": "code",
   "execution_count": 6,
   "metadata": {},
   "outputs": [
    {
     "data": {
      "text/plain": [
       "1"
      ]
     },
     "execution_count": 6,
     "metadata": {},
     "output_type": "execute_result"
    }
   ],
   "source": [
    "data_queue.qsize()"
   ]
  },
  {
   "cell_type": "markdown",
   "metadata": {},
   "source": [
    "## Queue - LifoQueue"
   ]
  },
  {
   "cell_type": "code",
   "execution_count": 7,
   "metadata": {},
   "outputs": [],
   "source": [
    "import queue\n",
    "data_queue = queue.LifoQueue()"
   ]
  },
  {
   "cell_type": "code",
   "execution_count": 8,
   "metadata": {},
   "outputs": [],
   "source": [
    "data_queue.put('funcoding')\n",
    "data_queue.put(1)"
   ]
  },
  {
   "cell_type": "code",
   "execution_count": 9,
   "metadata": {},
   "outputs": [
    {
     "data": {
      "text/plain": [
       "2"
      ]
     },
     "execution_count": 9,
     "metadata": {},
     "output_type": "execute_result"
    }
   ],
   "source": [
    "data_queue.qsize()"
   ]
  },
  {
   "cell_type": "code",
   "execution_count": 10,
   "metadata": {},
   "outputs": [
    {
     "data": {
      "text/plain": [
       "1"
      ]
     },
     "execution_count": 10,
     "metadata": {},
     "output_type": "execute_result"
    }
   ],
   "source": [
    "data_queue.get()"
   ]
  },
  {
   "cell_type": "markdown",
   "metadata": {},
   "source": [
    "## Queue - Priority\n",
    "\n",
    "- 멀티 태스킹을 위한 프로세스 스케쥴러 방식을 구현하기 위해 많이 사용됨"
   ]
  },
  {
   "cell_type": "code",
   "execution_count": 11,
   "metadata": {},
   "outputs": [],
   "source": [
    "import queue\n",
    "data_queue = queue.PriorityQueue()"
   ]
  },
  {
   "cell_type": "code",
   "execution_count": 12,
   "metadata": {},
   "outputs": [],
   "source": [
    "data_queue.put((10, 'korea')) # tuple // (우선순위, 데이터)\n",
    "data_queue.put((5,1))\n",
    "data_queue.put((15, 'china'))"
   ]
  },
  {
   "cell_type": "code",
   "execution_count": 13,
   "metadata": {},
   "outputs": [
    {
     "data": {
      "text/plain": [
       "(5, 1)"
      ]
     },
     "execution_count": 13,
     "metadata": {},
     "output_type": "execute_result"
    }
   ],
   "source": [
    "data_queue.get()"
   ]
  },
  {
   "cell_type": "markdown",
   "metadata": {},
   "source": [
    "#### 파이썬 리스트로 enqueue, dequeue 기능 구현하기"
   ]
  },
  {
   "cell_type": "code",
   "execution_count": 14,
   "metadata": {},
   "outputs": [],
   "source": [
    "queue_list = list()\n",
    "\n",
    "def enqueue(data):\n",
    "    queue_list.append(data)\n",
    "    \n",
    "def dequeue():\n",
    "    data = queue_list[0]\n",
    "    del queue_list[0]\n",
    "    return data"
   ]
  },
  {
   "cell_type": "code",
   "execution_count": 16,
   "metadata": {},
   "outputs": [],
   "source": [
    "for idx in range(10):\n",
    "    enqueue(idx)"
   ]
  },
  {
   "cell_type": "code",
   "execution_count": 17,
   "metadata": {},
   "outputs": [
    {
     "data": {
      "text/plain": [
       "10"
      ]
     },
     "execution_count": 17,
     "metadata": {},
     "output_type": "execute_result"
    }
   ],
   "source": [
    "len(queue_list)"
   ]
  },
  {
   "cell_type": "code",
   "execution_count": 18,
   "metadata": {},
   "outputs": [
    {
     "data": {
      "text/plain": [
       "0"
      ]
     },
     "execution_count": 18,
     "metadata": {},
     "output_type": "execute_result"
    }
   ],
   "source": [
    "dequeue()"
   ]
  },
  {
   "cell_type": "code",
   "execution_count": 19,
   "metadata": {},
   "outputs": [
    {
     "data": {
      "text/plain": [
       "9"
      ]
     },
     "execution_count": 19,
     "metadata": {},
     "output_type": "execute_result"
    }
   ],
   "source": [
    "len(queue_list)"
   ]
  },
  {
   "cell_type": "markdown",
   "metadata": {},
   "source": [
    "# Stack\n",
    "\n",
    "- LIFO(Last In, First Out)\n",
    "- 컴퓨터 내부의 프로세스 구조의 함수 동작 방식\n",
    "- `push`: 테이터를 스택에 넣기\n",
    "- `pop`: 데이터를 스택에서 꺼내기\n",
    "- 장점\n",
    " - 구조가 단순해서 구현이 쉽다.\n",
    " - 데이터 저장/읽기 속도가 빠르다.\n",
    "- 단점(일반적인 스택의 경우)\n",
    " - 데이터의 최대 갯수를 미리 정해야 한다.\n",
    "  - 파이썬의 경우 재귀 함수(함수 스택)는 1000번까지만 호출이 가능하다.\n",
    " - 저장 공간의 낭비가 발생할 수 있다."
   ]
  },
  {
   "cell_type": "markdown",
   "metadata": {},
   "source": [
    "#### 파이썬 리스트로 pop, push 기능 구현하기"
   ]
  },
  {
   "cell_type": "code",
   "execution_count": 35,
   "metadata": {},
   "outputs": [],
   "source": [
    "data_stack = list()\n",
    "\n",
    "def pop():\n",
    "    data = data_stack[-1]\n",
    "    del data_stack[-1]\n",
    "    return data\n",
    "    \n",
    "def push(data):\n",
    "    data_stack.append(data)"
   ]
  },
  {
   "cell_type": "code",
   "execution_count": 36,
   "metadata": {},
   "outputs": [],
   "source": [
    "for idx in range(10):\n",
    "    push(idx)"
   ]
  },
  {
   "cell_type": "code",
   "execution_count": 37,
   "metadata": {},
   "outputs": [
    {
     "data": {
      "text/plain": [
       "9"
      ]
     },
     "execution_count": 37,
     "metadata": {},
     "output_type": "execute_result"
    }
   ],
   "source": [
    "pop()"
   ]
  },
  {
   "cell_type": "markdown",
   "metadata": {},
   "source": [
    "# Hash Table\n",
    "\n",
    "- Hash table: Key에 Value를 저장하는 데이터 구조\n",
    " - key를 통해 데이터를 받아오기 때문데, 속도가 획기적으로 빠름\n",
    " - Python Dictionaly\n",
    " - 보통 배열로 미리 Hash Table 사이즈 만큼 생성후 사용\n",
    " - Python에서는 별도 구현 필요 없음"
   ]
  },
  {
   "cell_type": "markdown",
   "metadata": {},
   "source": [
    "#### hash table 만들기"
   ]
  },
  {
   "cell_type": "code",
   "execution_count": 39,
   "metadata": {},
   "outputs": [
    {
     "data": {
      "text/plain": [
       "[0, 0, 0, 0, 0, 0, 0, 0, 0, 0]"
      ]
     },
     "execution_count": 39,
     "metadata": {},
     "output_type": "execute_result"
    }
   ],
   "source": [
    "hash_table = [0 for i in range(10)]\n",
    "hash_table"
   ]
  },
  {
   "cell_type": "markdown",
   "metadata": {},
   "source": [
    "#### hash function 만들기"
   ]
  },
  {
   "cell_type": "code",
   "execution_count": 40,
   "metadata": {},
   "outputs": [],
   "source": [
    "def hash_func(key):\n",
    "    return key %5"
   ]
  },
  {
   "cell_type": "code",
   "execution_count": 45,
   "metadata": {},
   "outputs": [
    {
     "name": "stdout",
     "output_type": "stream",
     "text": [
      "65 68 84\n",
      "65 0\n"
     ]
    }
   ],
   "source": [
    "# hash table 저장\n",
    "data1 = 'Andy'\n",
    "data2 = 'Dave'\n",
    "data3 = 'Trump'\n",
    "\n",
    "print(ord(data1[0]), ord(data2[0]), ord(data3[0]))\n",
    "print(ord(data1[0]), hash_func(ord(data1[0])))"
   ]
  },
  {
   "cell_type": "code",
   "execution_count": 46,
   "metadata": {},
   "outputs": [],
   "source": [
    "def storage_data(data, value):\n",
    "    key = ord(data[0])\n",
    "    hash_address = hash_func(key)\n",
    "    hash_table[hash_address] = value"
   ]
  },
  {
   "cell_type": "code",
   "execution_count": 47,
   "metadata": {},
   "outputs": [],
   "source": [
    "storage_data('Andy', '01011112222')\n",
    "storage_data('Dave', '01022223333')\n",
    "storage_data('Trump', '01033334444')"
   ]
  },
  {
   "cell_type": "code",
   "execution_count": 50,
   "metadata": {},
   "outputs": [],
   "source": [
    "def get_data(data):\n",
    "    key = ord(data[0])\n",
    "    hash_address = hash_func(key)\n",
    "    return hash_table[hash_address]"
   ]
  },
  {
   "cell_type": "code",
   "execution_count": 51,
   "metadata": {},
   "outputs": [
    {
     "data": {
      "text/plain": [
       "'01011112222'"
      ]
     },
     "execution_count": 51,
     "metadata": {},
     "output_type": "execute_result"
    }
   ],
   "source": [
    "get_data('Andy')"
   ]
  },
  {
   "cell_type": "markdown",
   "metadata": {},
   "source": [
    "#### 해쉬 테이블의 장단점\n",
    "\n",
    "- 장점\n",
    " - 데이터 저장/읽기 속도가 빠르다.(검색 속도가 빠름)\n",
    " - 키에 대한 데이터의 중복 확인이 쉽다.\n",
    "- 단점\n",
    " - 일반적으로 저장공간이 더 많이 필요\n",
    " - 여러 키의 주소가 중복될 경우, 충돌 해결을 위한 별도의 자료구조가 필요함\n",
    "- 주요 용도\n",
    " - 검색이 많이 필요한 경우\n",
    " - 저장, 삭제, 읽기가 빈번한 경우\n",
    " - 캐쉬 구현시"
   ]
  },
  {
   "cell_type": "markdown",
   "metadata": {},
   "source": [
    "##### 리스트 변수를 활용해서 해쉬 테이블 구현\n",
    "\n",
    "- 해쉬 함수: key % 8\n",
    "- 해쉬 키 생성: hash(data)"
   ]
  },
  {
   "cell_type": "code",
   "execution_count": 1,
   "metadata": {},
   "outputs": [],
   "source": [
    "hash_table = [0 for i in range(8)]\n",
    "\n",
    "def get_key(data):\n",
    "    return hash(data)\n",
    "\n",
    "def hash_func(key):\n",
    "    return key % 8\n",
    "\n",
    "def save_data(data, value):\n",
    "    hash_address = hash_func(get_key(data))\n",
    "    hash_table[hash_address] = value\n",
    "    \n",
    "def read_data(data):\n",
    "    hash_address = hash_func(get_key(data))\n",
    "    return hash_table[hash_address]"
   ]
  },
  {
   "cell_type": "code",
   "execution_count": 2,
   "metadata": {},
   "outputs": [
    {
     "data": {
      "text/plain": [
       "[0, 0, 0, 0, 0, 0, 0, 0]"
      ]
     },
     "execution_count": 2,
     "metadata": {},
     "output_type": "execute_result"
    }
   ],
   "source": [
    "hash_table"
   ]
  },
  {
   "cell_type": "code",
   "execution_count": 3,
   "metadata": {},
   "outputs": [
    {
     "data": {
      "text/plain": [
       "[0, 0, 0, 0, 0, 0, 0, '01011112222']"
      ]
     },
     "execution_count": 3,
     "metadata": {},
     "output_type": "execute_result"
    }
   ],
   "source": [
    "save_data('Dave', '01011112222')\n",
    "hash_table"
   ]
  },
  {
   "cell_type": "code",
   "execution_count": 4,
   "metadata": {},
   "outputs": [
    {
     "data": {
      "text/plain": [
       "[0, 0, 0, 0, 0, 0, '01022223333', '01011112222']"
      ]
     },
     "execution_count": 4,
     "metadata": {},
     "output_type": "execute_result"
    }
   ],
   "source": [
    "save_data('Andy', '01022223333')\n",
    "hash_table"
   ]
  },
  {
   "cell_type": "code",
   "execution_count": 6,
   "metadata": {},
   "outputs": [
    {
     "data": {
      "text/plain": [
       "['01033334444', 0, 0, 0, 0, 0, '01022223333', '01011112222']"
      ]
     },
     "execution_count": 6,
     "metadata": {},
     "output_type": "execute_result"
    }
   ],
   "source": [
    "hash_table"
   ]
  },
  {
   "cell_type": "code",
   "execution_count": 7,
   "metadata": {},
   "outputs": [
    {
     "data": {
      "text/plain": [
       "'01011112222'"
      ]
     },
     "execution_count": 7,
     "metadata": {},
     "output_type": "execute_result"
    }
   ],
   "source": [
    "read_data('Aodk')"
   ]
  },
  {
   "cell_type": "markdown",
   "metadata": {},
   "source": [
    "### 충돌(Collision) 해결 알고리즘 (좋은 해쉬 함수 사용하기)\n",
    "> 해쉬 테이블의 가장 큰 문제는 충돌. "
   ]
  },
  {
   "cell_type": "markdown",
   "metadata": {},
   "source": [
    "#### Chaining 기법\n",
    "\n",
    " - Open Hashing 기법 중 하나. 해쉬 테이블 저장공간 이외의 공간을 활용하는 기법\n",
    " - 충돌이 일어나면, linked list를 사용해서 데이터를 추가하는 기법"
   ]
  },
  {
   "cell_type": "markdown",
   "metadata": {},
   "source": [
    "###### 해쉬 테이블 코드에 Chaining 기법으로 충돌 해결 코드를 추가\n",
    "\n",
    "1. 해쉬 함수: key % 8\n",
    "2. 해쉬 키 생성: hash(data)"
   ]
  },
  {
   "cell_type": "code",
   "execution_count": 29,
   "metadata": {},
   "outputs": [],
   "source": [
    "hash_table = [0 for i in range(8)]\n",
    "\n",
    "def get_key(data):\n",
    "    return hash(data)\n",
    "\n",
    "def hash_func(key):\n",
    "    return key %8\n",
    "\n",
    "def save_data(data, value):\n",
    "    index_key = get_key(data)\n",
    "    hash_address = hash_func(index_key)\n",
    "    if hash_table[hash_address] != 0:\n",
    "        for idx in range(len(hash_table[hash_address])):\n",
    "            if hash_table[hash_address][idx] == index_key:\n",
    "                hash_table[hash_address][idx] = value\n",
    "                return\n",
    "        hash_table[hash_address].append([index_key, value])\n",
    "    else:\n",
    "        hash_table[hash_address] = [[index_key, value]]\n",
    "    \n",
    "def read_data(data):\n",
    "    index_key = get_key(data)\n",
    "    hash_address = hash_func(get_key(data))\n",
    "    if hash_table[hash_address] != 0:\n",
    "        for idx in range(len(hash_table[hash_address])):\n",
    "            if hash_table[hash_address][idx][0] == index_key:\n",
    "                return hash_table[hash_address][idx][1]\n",
    "        return None\n",
    "    else:\n",
    "        return None"
   ]
  },
  {
   "cell_type": "code",
   "execution_count": 27,
   "metadata": {},
   "outputs": [
    {
     "name": "stdout",
     "output_type": "stream",
     "text": [
      "7\n",
      "1\n",
      "7\n"
     ]
    }
   ],
   "source": [
    "# 중복값을 발생시키기 위한 테스트\n",
    "print(hash('Dave')%8)\n",
    "print(hash('David')%8)\n",
    "print(hash('Data')%8)"
   ]
  },
  {
   "cell_type": "code",
   "execution_count": 31,
   "metadata": {},
   "outputs": [
    {
     "data": {
      "text/plain": [
       "'01022223333'"
      ]
     },
     "execution_count": 31,
     "metadata": {},
     "output_type": "execute_result"
    }
   ],
   "source": [
    "save_data('Dave', '01011112222')\n",
    "save_data('Data', '01022223333')\n",
    "read_data('Data')"
   ]
  },
  {
   "cell_type": "code",
   "execution_count": 32,
   "metadata": {},
   "outputs": [
    {
     "data": {
      "text/plain": [
       "[0,\n",
       " 0,\n",
       " 0,\n",
       " 0,\n",
       " 0,\n",
       " 0,\n",
       " 0,\n",
       " [[-1043672782923024777, '01011112222'],\n",
       "  [3918122731573563935, '01022223333'],\n",
       "  [-1043672782923024777, '01011112222'],\n",
       "  [3918122731573563935, '01022223333']]]"
      ]
     },
     "execution_count": 32,
     "metadata": {},
     "output_type": "execute_result"
    }
   ],
   "source": [
    "hash_table"
   ]
  },
  {
   "cell_type": "markdown",
   "metadata": {},
   "source": [
    "#### Linear Probing 기법\n",
    "\n",
    "- Close Hashing 기법. 해쉬 테이블 저장공간 안에서 해결\n",
    "- 충돌이 일어나면, 해당 hash address의 다음 address부터 맨 처음 나오는 빈 공간에 저장하는 기법\n",
    " - 저장공간 활용도를 높이기 위한 기법"
   ]
  },
  {
   "cell_type": "code",
   "execution_count": null,
   "metadata": {},
   "outputs": [],
   "source": []
  }
 ],
 "metadata": {
  "kernelspec": {
   "display_name": "Python 3",
   "language": "python",
   "name": "python3"
  },
  "language_info": {
   "codemirror_mode": {
    "name": "ipython",
    "version": 3
   },
   "file_extension": ".py",
   "mimetype": "text/x-python",
   "name": "python",
   "nbconvert_exporter": "python",
   "pygments_lexer": "ipython3",
   "version": "3.7.0"
  }
 },
 "nbformat": 4,
 "nbformat_minor": 2
}

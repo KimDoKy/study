{
 "cells": [
  {
   "cell_type": "markdown",
   "metadata": {},
   "source": [
    "### [음계](https://www.acmicpc.net/problem/2920)  \n",
    "level: Easy  \n",
    "유형: 배열, 구현  \n",
    "추천 풀이 시간: 15분 "
   ]
  },
  {
   "cell_type": "markdown",
   "metadata": {},
   "source": [
    "- 문제\n",
    "\n",
    "다장조는 c d e f g a b C, 총 8개 음으로 이루어져있다. 이 문제에서 8개 음은 다음과 같이 숫자로 바꾸어 표현한다. c는 1로, d는 2로, ..., C를 8로 바꾼다.\n",
    "\n",
    "1부터 8까지 차례대로 연주한다면 ascending, 8부터 1까지 차례대로 연주한다면 descending, 둘 다 아니라면 mixed 이다.\n",
    "\n",
    "연주한 순서가 주어졌을 때, 이것이 ascending인지, descending인지, 아니면 mixed인지 판별하는 프로그램을 작성하시오.\n",
    "\n",
    "- 입력\n",
    "\n",
    "첫째 줄에 8개 숫자가 주어진다. 이 숫자는 문제 설명에서 설명한 음이며, 1부터 8까지 숫자가 한 번씩 등장한다.\n",
    "\n",
    "- 출력\n",
    "\n",
    "첫째 줄에 ascending, descending, mixed 중 하나를 출력한다.\n",
    "\n",
    "input|ouput\n",
    "---|---\n",
    "1 2 3 4 5 6 7 8 | ascending\n",
    "8 7 6 5 4 3 2 1 | descending\n",
    "8 1 7 2 6 3 5 4 | mixed"
   ]
  },
  {
   "cell_type": "code",
   "execution_count": 37,
   "metadata": {},
   "outputs": [],
   "source": [
    "a = [1,2,3,4,5,6,7,8]"
   ]
  },
  {
   "cell_type": "code",
   "execution_count": 40,
   "metadata": {},
   "outputs": [
    {
     "name": "stdout",
     "output_type": "stream",
     "text": [
      "ascending\n"
     ]
    }
   ],
   "source": [
    "asc = True\n",
    "des = True\n",
    "\n",
    "for i in range(1, 8):\n",
    "    if a[i] > a[i-1]:\n",
    "        des = False\n",
    "    elif a[i] < a[i-1]:\n",
    "        asc = False\n",
    "        \n",
    "if asc:\n",
    "    print('ascending')\n",
    "elif des:\n",
    "    print('descending')\n",
    "else:\n",
    "    print('mixed')"
   ]
  },
  {
   "cell_type": "markdown",
   "metadata": {},
   "source": [
    "### [블랙잭](https://www.acmicpc.net/problem/2798)\n",
    "\n",
    "level: Easy  \n",
    "유형: 배열, 완전탐색  \n",
    "추천 풀이 시간: 20분  \n",
    "\n",
    "- 문제\n",
    "\n",
    "카지노에서 제일 인기 있는 게임 블랙잭의 규칙은 상당히 쉽다. 카드의 합이 21을 넘지 않는 한도 내에서, 카드의 합을 최대한 크게 만드는 게임이다. 블랙잭은 카지노마다 다양한 규정이 있다.\n",
    "\n",
    "한국 최고의 블랙잭 고수 김정인은 새로운 블랙잭 규칙을 만들어 상근, 창영이와 게임하려고 한다.\n",
    "\n",
    "김정인 버젼의 블랙잭에서 각 카드에는 양의 정수가 쓰여 있다. 그 다음, 딜러는 N장의 카드를 모두 숫자가 보이도록 바닥에 놓는다. 그런 후에 딜러는 숫자 M을 크게 외친다.\n",
    "\n",
    "이제 플레이어는 제한된 시간 안에 N장의 카드 중에서 3장의 카드를 골라야 한다. 블랙잭 변형 게임이기 때문에, 플레이어가 고른 카드의 합은 M을 넘지 않으면서 M과 최대한 가깝게 만들어야 한다.\n",
    "\n",
    "N장의 카드에 써져 있는 숫자가 주어졌을 때, M을 넘지 않으면서 M에 최대한 가까운 카드 3장의 합을 구해 출력하시오.\n",
    "\n",
    "- 입력\n",
    "\n",
    "첫째 줄에 카드의 개수 N(3 ≤ N ≤ 100)과 M(10 ≤ M ≤ 300,000)이 주어진다. 둘째 줄에는 카드에 쓰여 있는 수가 주어지며, 이 값은 100,000을 넘지 않는다.\n",
    "\n",
    "합이 M을 넘지 않는 카드 3장을 찾을 수 있는 경우만 입력으로 주어진다.\n",
    "\n",
    "- 출력\n",
    "\n",
    "첫째 줄에 M을 넘지 않으면서 M에 최대한 가까운 카드 3장의 합을 출력한다.\n",
    "\n",
    "input|output\n",
    "---|---\n",
    "5 21<br>5 6 7 8 9 | 21"
   ]
  },
  {
   "cell_type": "code",
   "execution_count": 68,
   "metadata": {},
   "outputs": [],
   "source": [
    "n, m = 5, 21\n",
    "data = [5,6,7,8,9]"
   ]
  },
  {
   "cell_type": "code",
   "execution_count": 72,
   "metadata": {},
   "outputs": [
    {
     "name": "stdout",
     "output_type": "stream",
     "text": [
      "21\n"
     ]
    }
   ],
   "source": [
    "answer = 0\n",
    "for i in range(n):\n",
    "    for j in range(i+1,n):\n",
    "        if data[i] == data[j]: pass\n",
    "        for k in range(j+1,n):\n",
    "            if data[i] == data[j] or data[i] == data[k]: pass\n",
    "            else:\n",
    "                result = data[i] + data[j] + data[k]\n",
    "                if result <= m:\n",
    "                    answer = max(result, answer)\n",
    "\n",
    "print(answer)"
   ]
  },
  {
   "cell_type": "markdown",
   "metadata": {},
   "source": [
    "### [스택 수열](https://www.acmicpc.net/problem/1874)\n",
    "\n",
    "level: Easy  \n",
    "유형: 스택, 그리디  \n",
    "추천 풀이 시간: 30분  \n",
    "\n",
    "- 문제\n",
    "\n",
    "스택 (stack)은 기본적인 자료구조 중 하나로, 컴퓨터 프로그램을 작성할 때 자주 이용되는 개념이다. 스택은 자료를 넣는 (push) 입구와 자료를 뽑는 (pop) 입구가 같아 제일 나중에 들어간 자료가 제일 먼저 나오는 (LIFO, Last in First out) 특성을 가지고 있다.\n",
    "\n",
    "1부터 n까지의 수를 스택에 넣었다가 뽑아 늘어놓음으로써, 하나의 수열을 만들 수 있다. 이때, 스택에 push하는 순서는 반드시 오름차순을 지키도록 한다고 하자. 임의의 수열이 주어졌을 때 스택을 이용해 그 수열을 만들 수 있는지 없는지, 있다면 어떤 순서로 push와 pop 연산을 수행해야 하는지를 알아낼 수 있다. 이를 계산하는 프로그램을 작성하라.\n",
    "\n",
    "- 입력\n",
    "\n",
    "첫 줄에 n (1 ≤ n ≤ 100,000)이 주어진다. 둘째 줄부터 n개의 줄에는 수열을 이루는 1이상 n이하의 정수가 하나씩 순서대로 주어진다. 물론 같은 정수가 두 번 나오는 일은 없다.\n",
    "\n",
    "- 출력\n",
    "\n",
    "입력된 수열을 만들기 위해 필요한 연산을 한 줄에 한 개씩 출력한다. push연산은 +로, pop 연산은 -로 표현하도록 한다. 불가능한 경우 NO를 출력한다.\n",
    "\n",
    "- 예제 입력 1 \n",
    "\n",
    "```\n",
    "8\n",
    "4\n",
    "3\n",
    "6\n",
    "8\n",
    "7\n",
    "5\n",
    "2\n",
    "1\n",
    "```\n",
    "\n",
    "- 예제 출력 1\n",
    "\n",
    "```\n",
    "+\n",
    "+\n",
    "+\n",
    "+\n",
    "-\n",
    "-\n",
    "+\n",
    "+\n",
    "-\n",
    "+\n",
    "+\n",
    "-\n",
    "-\n",
    "-\n",
    "-\n",
    "-\n",
    "```\n",
    "\n",
    "- 예제 입력2\n",
    "\n",
    "```\n",
    "5\n",
    "1\n",
    "2\n",
    "5\n",
    "3\n",
    "4\n",
    "```\n",
    "\n",
    "- 예제 출력2\n",
    "\n",
    "```\n",
    "NO\n",
    "```\n",
    "\n",
    "- 힌트\n",
    "\n",
    "1부터 n까지에 수에 대해 차례로 [push, push, push, push, pop, pop, push, push, pop, push, push, pop, pop, pop, pop, pop] 연산을 수행하면 수열 [4, 3, 6, 8, 7, 5, 2, 1]을 얻을 수 있다.\n",
    "\n",
    "\n",
    "\n"
   ]
  },
  {
   "cell_type": "code",
   "execution_count": 11,
   "metadata": {},
   "outputs": [
    {
     "name": "stdout",
     "output_type": "stream",
     "text": [
      "count: 2, data: 4,  ++\n",
      "count: 3, data: 4,  ++\n",
      "count: 4, data: 4,  ++\n",
      "count: 5, data: 4,  ++\n",
      "count: 5, data: 4,  --\n",
      "count: 5, data: 3,  --\n",
      "count: 6, data: 6,  ++\n",
      "count: 7, data: 6,  ++\n",
      "count: 7, data: 6,  --\n",
      "count: 8, data: 8,  ++\n",
      "count: 9, data: 8,  ++\n",
      "count: 9, data: 8,  --\n",
      "count: 9, data: 7,  --\n",
      "count: 9, data: 5,  --\n",
      "count: 9, data: 2,  --\n",
      "count: 9, data: 1,  --\n",
      "[]\n",
      "+\n",
      "+\n",
      "+\n",
      "+\n",
      "-\n",
      "-\n",
      "+\n",
      "+\n",
      "-\n",
      "+\n",
      "+\n",
      "-\n",
      "-\n",
      "-\n",
      "-\n",
      "-\n"
     ]
    }
   ],
   "source": [
    "n = 8\n",
    "\n",
    "count = 1\n",
    "stack = []\n",
    "result = []\n",
    "temp = []\n",
    "input_data = [4,3,6,8,7,5,2,1]\n",
    "\n",
    "for i in range(1, n+1):\n",
    "    data = input_data[i-1]\n",
    "    while count <= data:\n",
    "        stack.append(count)\n",
    "        count += 1\n",
    "        result.append('+')\n",
    "        print(f\"count: {count}, data: {data},  ++\")\n",
    "    if stack[-1] == data:\n",
    "        stack.pop()\n",
    "        result.append('-')\n",
    "        print(f\"count: {count}, data: {data},  --\")\n",
    "    else:\n",
    "        print('NO')\n",
    "        exit(0)\n",
    "print(temp)\n",
    "print('\\n'.join(result))"
   ]
  },
  {
   "cell_type": "markdown",
   "metadata": {},
   "source": [
    "### [프린터 큐](https://www.acmicpc.net/problem/1966)\n",
    "\n",
    "level: Easy  \n",
    "문제 유형: 큐, 구현, 그리디  \n",
    "추천 풀이 시간:25분\n",
    "\n",
    "- 문제\n",
    "\n",
    "여러분도 알다시피 여러분의 프린터 기기는 여러분이 인쇄하고자 하는 문서를 인쇄 명령을 받은 ‘순서대로’, 즉 먼저 요청된 것을 먼저 인쇄한다. 여러 개의 문서가 쌓인다면 Queue 자료구조에 쌓여서 FIFO - First In First Out - 에 따라 인쇄가 되게 된다. 하지만 상근이는 새로운 프린터기 내부 소프트웨어를 개발하였는데, 이 프린터기는 다음과 같은 조건에 따라 인쇄를 하게 된다.  \n",
    "\n",
    "1. 현재 Queue의 가장 앞에 있는 문서의 ‘중요도’를 확인한다.\n",
    "2. 나머지 문서들 중 현재 문서보다 중요도가 높은 문서가 하나라도 있다면, 이 문서를 인쇄하지 않고 Queue의 가장 뒤에 재배치 한다. 그렇지 않다면 바로 인쇄를 한다.  \n",
    "\n",
    "예를 들어 Queue에 4개의 문서(A B C D)가 있고, 중요도가 2 1 4 3 라면 C를 인쇄하고, 다음으로 D를 인쇄하고 A, B를 인쇄하게 된다.  \n",
    "\n",
    "여러분이 할 일은, 현재 Queue에 있는 문서의 수와 중요도가 주어졌을 때, 어떤 한 문서가 몇 번째로 인쇄되는지 알아내는 것이다. 예를 들어 위의 예에서 C문서는 1번째로, A문서는 3번째로 인쇄되게 된다.  \n",
    "\n",
    "- 입력\n",
    "\n",
    "첫 줄에 test case의 수가 주어진다. 각 test case에 대해서 문서의 수 N(100이하)와 몇 번째로 인쇄되었는지 궁금한 문서가 현재 Queue의 어떤 위치에 있는지를 알려주는 M(0이상 N미만)이 주어진다. 다음줄에 N개 문서의 중요도가 주어지는데, 중요도는 1 이상 9 이하이다. 중요도가 같은 문서가 여러 개 있을 수도 있다. 위의 예는 N=4, M=0(A문서가 궁금하다면), 중요도는 2 1 4 3이 된다.\n",
    "\n",
    "- 출력\n",
    "\n",
    "각 test case에 대해 문서가 몇 번째로 인쇄되는지 출력한다.\n",
    "\n",
    "- 예제 입력 1 \n",
    "\n",
    "```\n",
    "3\n",
    "1 0\n",
    "5\n",
    "4 2\n",
    "1 2 3 4\n",
    "6 0\n",
    "1 1 9 1 1 1\n",
    "```\n",
    "\n",
    "- 예제 출력 1 \n",
    "\n",
    "```\n",
    "1\n",
    "2\n",
    "5\n",
    "```"
   ]
  },
  {
   "cell_type": "code",
   "execution_count": 3,
   "metadata": {},
   "outputs": [
    {
     "name": "stdout",
     "output_type": "stream",
     "text": [
      "3\n",
      "1 0\n",
      "5\n",
      "result:  1\n",
      "4 2\n",
      "1 2 3 4\n",
      "result:  2\n",
      "6 0\n",
      "1 1 9 1 1 1\n",
      "result:  5\n"
     ]
    }
   ],
   "source": [
    "test_case = int(input())\n",
    "for _ in range(test_case):\n",
    "    count = 0\n",
    "    n, m = list(map(int, input().split(' ')))\n",
    "    queue = list(map(int, input().split(' ')))\n",
    "    queue = [(val, idx) for idx, val in enumerate(queue)]\n",
    "    while True:\n",
    "        if queue[0][0] == max(queue, key=lambda x:x[0])[0]:\n",
    "            count += 1\n",
    "            if queue[0][1] == m:\n",
    "                print('result: ', count)\n",
    "                break\n",
    "            else:\n",
    "                queue.pop(0)\n",
    "        else:\n",
    "            queue.append(queue.pop(0))"
   ]
  },
  {
   "cell_type": "markdown",
   "metadata": {},
   "source": [
    "### [키로거](https://www.acmicpc.net/problem/5397)\n",
    "\n",
    "level: Medium  \n",
    "문제 유형: 스택, 구현, 그리디  \n",
    "풀이 시간: 40분  \n",
    "\n",
    "- 문제\n",
    "창영이는 강산이의 비밀번호를 훔치기 위해서 강산이가 사용하는 컴퓨터에 키로거를 설치했다. 며칠을 기다린 끝에 창영이는 강산이가 비밀번호 창에 입력하는 글자를 얻어냈다.\n",
    "\n",
    "키로거는 사용자가 키보드를 누른 명령을 모두 기록한다. 따라서, 강산이가 비밀번호를 입력할 때, 화살표나 백스페이스를 입력해도 정확한 비밀번호를 알아낼 수 있다.\n",
    "\n",
    "강산이가 비밀번호 창에서 입력한 키가 주어졌을 때, 강산이의 비밀번호를 알아내는 프로그램을 작성하시오.\n",
    "\n",
    "- 입력  \n",
    "첫째 줄에 테스트 케이스의 개수가 주어진다. 각 테스트 케이스는 한줄로 이루어져 있고, 강산이가 입력한 순서대로 길이가 L인 문자열이 주어진다. (1 ≤ L의 길이 ≤ 1,000,000) 강산이가 백스페이스를 입력했다면, '-'가 주어진다. 이때 커서의 바로 앞에 글자가 존재한다면, 그 글자를 지운다. 화살표의 입력은 '<'와 '>'로 주어진다. 이때는 커서의 위치를 움직일 수 있다면, 왼쪽 또는 오른쪽으로 1만큼 움직인다. 나머지 문자는 비밀번호의 일부이다. 물론, 나중에 백스페이스를 통해서 지울 수는 있다. 만약 커서의 위치가 줄의 마지막이 아니라면, 그 문자를 입력하고, 커서는 오른쪽으로 한 칸 이동한다.\n",
    "  \n",
    "- 출력  \n",
    "각 테스트 케이스에 대해서, 강산이의 비밀번호를 출력한다. 비밀번호의 길이는 항상 0보다 크다.\n",
    "  \n",
    "- 예제 입력 1\n",
    "```\n",
    "2\n",
    "<<BP<A>>Cd-\n",
    "ThIsIsS3Cr3t\n",
    "```\n",
    "\n",
    "- 예제 출력\n",
    "```\n",
    "BAPC\n",
    "ThIsIsS3Cr3t\n",
    "```"
   ]
  },
  {
   "cell_type": "code",
   "execution_count": 50,
   "metadata": {},
   "outputs": [
    {
     "name": "stdout",
     "output_type": "stream",
     "text": [
      "2\n",
      "<<BP<A>>Cd-\n",
      "BAPC\n",
      "ThIsIsS3Cr3t\n",
      "ThIsIsS3Cr3t\n"
     ]
    }
   ],
   "source": [
    "test_case = int(input())\n",
    "\n",
    "for _ in range(test_case):\n",
    "    pw = [x for x in input()]\n",
    "    result = []\n",
    "    cursor = 0\n",
    "    for i in pw:\n",
    "        if cursor < 0:\n",
    "            cursor = 0\n",
    "        elif i == '<':\n",
    "            if cursor == 0: pass\n",
    "            cursor -= 1\n",
    "        elif i == '>':\n",
    "            cursor += 1\n",
    "        elif i == '-':\n",
    "            del result[cursor-2]\n",
    "        else:\n",
    "            result.insert(cursor, i)\n",
    "            cursor += 1\n",
    "    print(''.join(result))\n",
    "        "
   ]
  },
  {
   "cell_type": "markdown",
   "metadata": {},
   "source": [
    "백준 온라인에서는 런타임 에러....\n",
    "  \n",
    "stack으로 재도전"
   ]
  },
  {
   "cell_type": "code",
   "execution_count": 66,
   "metadata": {},
   "outputs": [],
   "source": [
    "import time"
   ]
  },
  {
   "cell_type": "code",
   "execution_count": 75,
   "metadata": {},
   "outputs": [
    {
     "name": "stdout",
     "output_type": "stream",
     "text": [
      "1\n",
      "<<BP<A>>Cd-\n",
      "1: [], 2: []\n",
      "1: [], 2: []\n",
      "1: [], 2: []\n",
      "1: ['B'], 2: []\n",
      "1: ['B', 'P'], 2: []\n",
      "1: ['B'], 2: ['P']\n",
      "1: ['B', 'A'], 2: ['P']\n",
      "1: ['B', 'A', 'P'], 2: []\n",
      "1: ['B', 'A', 'P'], 2: []\n",
      "1: ['B', 'A', 'P', 'C'], 2: []\n",
      "1: ['B', 'A', 'P', 'C', 'd'], 2: []\n",
      "BAPC\n",
      "0.6083419322967529\n"
     ]
    }
   ],
   "source": [
    "test_case = int(input())\n",
    "t1 = time.time()\n",
    "for _ in range(test_case):\n",
    "    data = input()\n",
    "    stack1 = []\n",
    "    stack2 = []\n",
    "    for i in data:\n",
    "        print(f'1: {stack1}, 2: {stack2}')\n",
    "        if i == '<':\n",
    "            if len(stack1) == 0: pass\n",
    "            else: stack2.append(stack1.pop())\n",
    "        elif i == '>':\n",
    "            if len(stack2) == 0: pass\n",
    "            else: stack1.append(stack2.pop())\n",
    "        elif i == '-':\n",
    "            stack1.pop()\n",
    "        else:\n",
    "            stack1.append(i)\n",
    "    print(''.join(stack1))\n",
    "t2 = time.time()\n",
    "print(t2-t1)"
   ]
  },
  {
   "cell_type": "code",
   "execution_count": 79,
   "metadata": {},
   "outputs": [
    {
     "name": "stdout",
     "output_type": "stream",
     "text": [
      "1\n",
      "<<BP<A>>Cd-\n",
      "1: [], 2: []\n",
      "1: [], 2: []\n",
      "1: [], 2: []\n",
      "1: ['B'], 2: []\n",
      "1: ['B', 'P'], 2: []\n",
      "1: ['B'], 2: ['P']\n",
      "1: ['B', 'A'], 2: ['P']\n",
      "1: ['B', 'A', 'P'], 2: []\n",
      "1: ['B', 'A', 'P'], 2: []\n",
      "1: ['B', 'A', 'P', 'C'], 2: []\n",
      "1: ['B', 'A', 'P', 'C', 'd'], 2: []\n",
      "BAPC\n",
      "0.5740406513214111\n"
     ]
    }
   ],
   "source": [
    "test_case = int(input())\n",
    "t1 = time.time()\n",
    "for _ in range(test_case):\n",
    "    left_stack = []\n",
    "    right_stack = []\n",
    "    data = input()\n",
    "    for i in data:\n",
    "        print(f'1: {left_stack}, 2: {right_stack}')\n",
    "        if i == '-':\n",
    "            if left_stack:\n",
    "                left_stack.pop()\n",
    "        elif i == '<':\n",
    "            if left_stack:\n",
    "                right_stack.append(left_stack.pop())\n",
    "        elif i == '>':\n",
    "            if right_stack:\n",
    "                left_stack.append(right_stack.pop())\n",
    "        else:\n",
    "            left_stack.append(i)\n",
    "    left_stack.extend(reversed(right_stack))\n",
    "    print(''.join(left_stack))\n",
    "t2 = time.time()\n",
    "print(t2-t1)"
   ]
  },
  {
   "cell_type": "code",
   "execution_count": null,
   "metadata": {},
   "outputs": [],
   "source": []
  },
  {
   "cell_type": "code",
   "execution_count": null,
   "metadata": {},
   "outputs": [],
   "source": []
  }
 ],
 "metadata": {
  "kernelspec": {
   "display_name": "Python 3",
   "language": "python",
   "name": "python3"
  },
  "language_info": {
   "codemirror_mode": {
    "name": "ipython",
    "version": 3
   },
   "file_extension": ".py",
   "mimetype": "text/x-python",
   "name": "python",
   "nbconvert_exporter": "python",
   "pygments_lexer": "ipython3",
   "version": "3.7.0"
  }
 },
 "nbformat": 4,
 "nbformat_minor": 2
}

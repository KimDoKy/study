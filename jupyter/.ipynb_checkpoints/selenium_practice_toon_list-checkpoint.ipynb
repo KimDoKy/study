{
 "cells": [
  {
   "cell_type": "markdown",
   "metadata": {},
   "source": [
    "# Selenium을 이용하여 네이버 웹툰 오늘자 업데이트 목록 가져오기"
   ]
  },
  {
   "cell_type": "code",
   "execution_count": 5,
   "metadata": {},
   "outputs": [],
   "source": [
    "from selenium import webdriver"
   ]
  },
  {
   "cell_type": "code",
   "execution_count": 6,
   "metadata": {},
   "outputs": [],
   "source": [
    "driver = webdriver.Chrome('../../driver/chromedriver')"
   ]
  },
  {
   "cell_type": "code",
   "execution_count": 7,
   "metadata": {},
   "outputs": [
    {
     "name": "stdout",
     "output_type": "stream",
     "text": [
      "{'윌유메리미': '/webtoon/list.nhn?titleId=616239&weekday=sat', '대가리': '/webtoon/list.nhn?titleId=677737&weekday=sat', '노곤하개': '/webtoon/list.nhn?titleId=702672&weekday=sat', '네버랜 연대기': '/webtoon/list.nhn?titleId=664406&weekday=sat', '부활남': '/webtoon/list.nhn?titleId=670139&weekday=sat', '유미의 세포들': '/webtoon/list.nhn?titleId=651673&weekday=sat', '금수저': '/webtoon/list.nhn?titleId=679567&weekday=sat', '우리 오빠는 아이돌': '/webtoon/list.nhn?titleId=700843&weekday=sat', '프리드로우': '/webtoon/list.nhn?titleId=597447&weekday=sat', '공복의 저녁식사': '/webtoon/list.nhn?titleId=642700&weekday=sat', '인간의 숲 (재)': '/webtoon/list.nhn?titleId=697654&weekday=sat', '나이트런': '/webtoon/list.nhn?titleId=64997&weekday=sat', '하루 3컷': '/webtoon/list.nhn?titleId=644180&weekday=sat', '어글리후드': '/webtoon/list.nhn?titleId=703630&weekday=sat', '구름의 이동속도': '/webtoon/list.nhn?titleId=687137&weekday=sat', '귀각시': '/webtoon/list.nhn?titleId=679570&weekday=sat', '방백남녀': '/webtoon/list.nhn?titleId=703631&weekday=sat', '갸오오와 사랑꾼들': '/webtoon/list.nhn?titleId=670151&weekday=sat', '트럼프': '/webtoon/list.nhn?titleId=524520&weekday=sat', '호랑이형님': '/webtoon/list.nhn?titleId=650305&weekday=sat', '이말년씨리즈 2018': '/webtoon/list.nhn?titleId=704595&weekday=sat', '용이산다': '/webtoon/list.nhn?titleId=568986&weekday=sat', '첩보의 별 시즌2': '/webtoon/list.nhn?titleId=686669&weekday=sat', '아메리카노 엑소더스': '/webtoon/list.nhn?titleId=622644&weekday=sat', '놓지마 정신줄 시즌2': '/webtoon/list.nhn?titleId=682637&weekday=sat', '나노리스트': '/webtoon/list.nhn?titleId=670150&weekday=sat', '홍시는 날 좋아해!': '/webtoon/list.nhn?titleId=703839&weekday=sat'}\n"
     ]
    }
   ],
   "source": [
    "from bs4 import BeautifulSoup as bs\n",
    "\n",
    "def webtoon_list():\n",
    "    driver.get('http://comic.naver.com/webtoon/weekday.nhn')\n",
    "    html = driver.page_source\n",
    "    bsObj = bs(html, 'html.parser')\n",
    "    today_toon = bsObj.find('div', {'class':'col_selected'})\n",
    "    toon_list = {}\n",
    "    for tag in today_toon.select('ul > li > a'):\n",
    "        toon_list[tag.text] = tag.get('href')\n",
    "    print(toon_list)\n",
    "\n",
    "webtoon_list()"
   ]
  },
  {
   "cell_type": "code",
   "execution_count": 8,
   "metadata": {},
   "outputs": [],
   "source": [
    "driver.close()"
   ]
  }
 ],
 "metadata": {
  "kernelspec": {
   "display_name": "Python 3",
   "language": "python",
   "name": "python3"
  },
  "language_info": {
   "codemirror_mode": {
    "name": "ipython",
    "version": 3
   },
   "file_extension": ".py",
   "mimetype": "text/x-python",
   "name": "python",
   "nbconvert_exporter": "python",
   "pygments_lexer": "ipython3",
   "version": "3.5.2"
  }
 },
 "nbformat": 4,
 "nbformat_minor": 2
}

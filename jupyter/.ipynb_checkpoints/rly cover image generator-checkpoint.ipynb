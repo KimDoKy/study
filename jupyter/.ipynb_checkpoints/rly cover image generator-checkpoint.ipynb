{
 "cells": [
  {
   "cell_type": "code",
   "execution_count": 1,
   "metadata": {},
   "outputs": [
    {
     "ename": "ImportError",
     "evalue": "No module named 'django'",
     "output_type": "error",
     "traceback": [
      "\u001b[0;31m---------------------------------------------------------------------------\u001b[0m",
      "\u001b[0;31mImportError\u001b[0m                               Traceback (most recent call last)",
      "\u001b[0;32m<ipython-input-1-80fd2e049a17>\u001b[0m in \u001b[0;36m<module>\u001b[0;34m()\u001b[0m\n\u001b[1;32m      2\u001b[0m \u001b[0mos\u001b[0m\u001b[0;34m.\u001b[0m\u001b[0menviron\u001b[0m\u001b[0;34m.\u001b[0m\u001b[0msetdefault\u001b[0m\u001b[0;34m(\u001b[0m\u001b[0;34m'DJANGO_SETTINGS_MODULE'\u001b[0m\u001b[0;34m,\u001b[0m \u001b[0;34m'orly.settings.dev'\u001b[0m\u001b[0;34m)\u001b[0m\u001b[0;34m\u001b[0m\u001b[0m\n\u001b[1;32m      3\u001b[0m \u001b[0;34m\u001b[0m\u001b[0m\n\u001b[0;32m----> 4\u001b[0;31m \u001b[0;32mimport\u001b[0m \u001b[0mdjango\u001b[0m\u001b[0;34m\u001b[0m\u001b[0m\n\u001b[0m\u001b[1;32m      5\u001b[0m \u001b[0mdjango\u001b[0m\u001b[0;34m.\u001b[0m\u001b[0msetup\u001b[0m\u001b[0;34m(\u001b[0m\u001b[0;34m)\u001b[0m\u001b[0;34m\u001b[0m\u001b[0m\n\u001b[1;32m      6\u001b[0m \u001b[0;34m\u001b[0m\u001b[0m\n",
      "\u001b[0;31mImportError\u001b[0m: No module named 'django'"
     ]
    }
   ],
   "source": [
    "import os\n",
    "os.environ.setdefault('DJANGO_SETTINGS_MODULE', 'orly.settings.dev')\n",
    "\n",
    "import django\n",
    "django.setup()\n",
    "\n",
    "from django.conf import settings\n",
    "from django.http import HttpResponse\n",
    "from django.shortcuts import render, redirect\n",
    "from PIL import Image, ImageFont, ImageDraw\n",
    "from .utils import COLOR_CODES"
   ]
  },
  {
   "cell_type": "code",
   "execution_count": 2,
   "metadata": {},
   "outputs": [],
   "source": [
    "def image_generator(request):\n",
    "    title = request.GET['title']\n",
    "    top_text = request.GET['top_text']\n",
    "    author = request.GET['author']\n",
    "    animal_code = request.GET['animal_code']\n",
    "    color_index = request.GET['color_code']\n",
    "    guide_text = request.GET['guide_text']\n",
    "    guide_text_placement = request.GET['guide_text_placement']\n",
    "\n",
    "    animal_path = settings.ROOT('assets', 'animal', '{}.png'.format(animal_code))\n",
    "    animal_im = Image.open(animal_path)\n",
    "    animal_im = animal_im.resize((200,200))\n",
    "\n",
    "    color = COLOR_CODES[int(color_index)]\n",
    "\n",
    "    canvas_im = Image.new('RGB', (500, 700), color)  # 'white')\n",
    "    canvas_im.paste(animal_im, (0, 0)) # left, top 지정\n",
    "\n",
    "    ttf_path = settings.ROOT('assets', 'fonts', 'NanumGothic.ttf')\n",
    "\n",
    "    d = ImageDraw.Draw(canvas_im)\n",
    "    fnt = ImageFont.truetype(ttf_path, 40)\n",
    "    d.text((10, 10), title, font=fnt, fill=(0,255,0,255))\n",
    "\n",
    "    fnt = ImageFont.truetype(ttf_path, 20)\n",
    "    d.text((10, 60), top_text, font=fnt, fill=(0,255,0,255))\n",
    "\n",
    "    fnt = ImageFont.truetype(ttf_path, 60)\n",
    "    d.text((10, 110), author, font=fnt, fill=(0, 255, 0, 255))\n",
    "    response = HttpResponse(content_type='image/png')\n",
    "    canvas_im.save(response, format='PNG')\n",
    "    return response\n"
   ]
  },
  {
   "cell_type": "code",
   "execution_count": null,
   "metadata": {},
   "outputs": [],
   "source": []
  }
 ],
 "metadata": {
  "kernelspec": {
   "display_name": "Python 3",
   "language": "python",
   "name": "python3"
  },
  "language_info": {
   "codemirror_mode": {
    "name": "ipython",
    "version": 3
   },
   "file_extension": ".py",
   "mimetype": "text/x-python",
   "name": "python",
   "nbconvert_exporter": "python",
   "pygments_lexer": "ipython3",
   "version": "3.5.2"
  }
 },
 "nbformat": 4,
 "nbformat_minor": 2
}

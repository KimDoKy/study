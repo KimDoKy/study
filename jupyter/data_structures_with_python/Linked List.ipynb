{
 "cells": [
  {
   "cell_type": "markdown",
   "metadata": {},
   "source": [
    "# Singly Linked List\n",
    "\n",
    "- 동적 메모리 할당을 이용해 노드들을 한 방향으로 연결하여 리스트를 구현한 자료구조"
   ]
  },
  {
   "cell_type": "code",
   "execution_count": 8,
   "metadata": {},
   "outputs": [],
   "source": [
    "class SList:\n",
    "    \n",
    "    class Node:\n",
    "        \n",
    "        def __init__(self, item, link):\n",
    "            self.item = item\n",
    "            self.next = link\n",
    "            \n",
    "    def __init__(self):\n",
    "        self.head = None\n",
    "        self.size = 0\n",
    "        \n",
    "    def size(self): return self.size\n",
    "    \n",
    "    def is_empty(self): return self.size == 0\n",
    "    \n",
    "    def insert_front(self, item):\n",
    "        if self.is_empty():\n",
    "            self.head = self.Node(item, None)\n",
    "        else:\n",
    "            self.head = self.Node(item, self.head)\n",
    "        self.size += 1\n",
    "        \n",
    "    def insert_after(self, item, p):\n",
    "        p.next = SList.Node(item, p.next)\n",
    "        self.size += 1\n",
    "        \n",
    "    def delete_front(self):\n",
    "        if self.is_empty():\n",
    "            raise EmptyError('Underflow')\n",
    "        else:\n",
    "            self.head = self.head.next\n",
    "            self.size -= 1\n",
    "            \n",
    "    def delete_after(self, p):\n",
    "        if self.is_empty():\n",
    "            raise EmptyError('Underflow')\n",
    "        t = p.next\n",
    "        p.next = t.next\n",
    "        self.size -= 1\n",
    "        \n",
    "    def search(self, target):\n",
    "        p = self.head\n",
    "        for k in range(self.size):\n",
    "            if target == p.item: return k\n",
    "            p = p.next\n",
    "        return None\n",
    "    \n",
    "    def print_list(self):\n",
    "        p = self.head\n",
    "        while p:\n",
    "            if p.next != None:\n",
    "                print(p.item, '->', end='')\n",
    "            else:\n",
    "                print(p.item)\n",
    "            p = p.next\n",
    "            \n",
    "class EmptyError(Exception):\n",
    "    pass"
   ]
  },
  {
   "cell_type": "code",
   "execution_count": 9,
   "metadata": {},
   "outputs": [
    {
     "name": "stdout",
     "output_type": "stream",
     "text": [
      "pear ->apple ->orange ->cherry\n",
      "cherry는 3번째\n",
      "kiwi는 None\n",
      "배 다음 노드 삭제 후:\t\tpear ->orange ->cherry\n",
      "첫 노드 삭제 후:\t\torange ->cherry\n",
      "첫 노드로 망고, 딸기 삽입 후:\t\t오렌지 다음 노드 삭제 후:\tstrawberry ->mango ->orange\n"
     ]
    }
   ],
   "source": [
    "s = SList()\n",
    "s.insert_front('orange')\n",
    "s.insert_front('apple')\n",
    "s.insert_after('cherry', s.head.next)\n",
    "s.insert_front('pear')\n",
    "s.print_list()\n",
    "print(f'cherry는 {s.search(\"cherry\")}번째')\n",
    "print(f'kiwi는 {s.search(\"kiwi\")}')\n",
    "print('배 다음 노드 삭제 후:\\t\\t', end='')\n",
    "s.delete_after(s.head)\n",
    "s.print_list()\n",
    "print('첫 노드 삭제 후:\\t\\t', end='')\n",
    "s.delete_front()\n",
    "s.print_list()\n",
    "print('첫 노드로 망고, 딸기 삽입 후:\\t\\t', end='')\n",
    "s.insert_front('mango')\n",
    "s.insert_front('strawberry')\n",
    "s.delete_after(s.head.next.next)\n",
    "print('오렌지 다음 노드 삭제 후:\\t', end='')\n",
    "s.print_list()"
   ]
  },
  {
   "cell_type": "markdown",
   "metadata": {},
   "source": [
    "singly linked list는 매우 광범위하게 사용되는데, 그중 스택과 큐 자료구조, 해싱의 체이닝에 사용되며, 트리도 singly linked list를 확장시킨 자료구조이다. 비트코인의 블록체인도 singly linked list를 응용한 것이다."
   ]
  },
  {
   "cell_type": "markdown",
   "metadata": {},
   "source": [
    "# Doubly Linked List\n",
    "\n",
    "- 각 노드가 두 개의 레퍼런스를 가지고 각각 이전 노드와 다음 노드를 가리키는 연결리스트"
   ]
  },
  {
   "cell_type": "code",
   "execution_count": 18,
   "metadata": {},
   "outputs": [],
   "source": [
    "class DList:\n",
    "    class Node:\n",
    "        def __init__(self, item, prev, link):\n",
    "            self.item = item\n",
    "            self.prev = prev\n",
    "            self.next = link\n",
    "            \n",
    "    def __init__(self):\n",
    "        self.head = self.Node(None, None, None)\n",
    "        self.tail = self.Node(None, self.head, None)\n",
    "        self.head.next = self.tail\n",
    "        self.size = 0\n",
    "        \n",
    "    def size(self): return self.size\n",
    "    \n",
    "    def is_empty(self): return self.size == 0\n",
    "    \n",
    "    def insert_before(self, p, item):\n",
    "        t = p.prev\n",
    "        n = self.Node(item, t, p)\n",
    "        p.prev = n\n",
    "        t.next = n\n",
    "        self.size += 1\n",
    "        \n",
    "    def insert_after(self, p, item):\n",
    "        t = p.next\n",
    "        n = self.Node(item, p, t)\n",
    "        t.prev = n\n",
    "        p.next = n\n",
    "        self.size += 1\n",
    "        \n",
    "    def delete(self, x):\n",
    "        f = x.prev\n",
    "        r = x.next\n",
    "        f.next = r\n",
    "        r.prev = f\n",
    "        self.size -= 1\n",
    "        return x.item\n",
    "    \n",
    "    def print_list(self):\n",
    "        if self.is_empty():\n",
    "            print(\"리스트 비어있음\")\n",
    "        else:\n",
    "            p = self.head.next\n",
    "            while p != self.tail:\n",
    "                if p.next != self.tail:\n",
    "                    print(p.item, '<=>', end='')\n",
    "                else:\n",
    "                    print(p.item)\n",
    "                p = p.next\n",
    "                \n",
    "class EmptyError(Exception):\n",
    "    pass"
   ]
  },
  {
   "cell_type": "code",
   "execution_count": 20,
   "metadata": {},
   "outputs": [
    {
     "name": "stdout",
     "output_type": "stream",
     "text": [
      "apple <=>pear <=>orange <=>cherry\n",
      "마지막 노드 삭제 후:\tapple <=>pear <=>orange\n",
      "맨 끝에 포도 삽입 후:\tapple <=>pear <=>orange <=>grape\n",
      "첫 노드 삭제 후:\tpear <=>orange <=>grape\n",
      "첫 노드 삭제 후:\torange <=>grape\n",
      "첫 노드 삭제 후:\tgrape\n",
      "첫 노드 삭제 후:\t리스트 비어있음\n"
     ]
    }
   ],
   "source": [
    "s = DList()\n",
    "s.insert_after(s.head, 'apple')\n",
    "s.insert_before(s.tail, 'orange')\n",
    "s.insert_before(s.tail, 'cherry')\n",
    "s.insert_after(s.head.next, 'pear')\n",
    "s.print_list()\n",
    "print('마지막 노드 삭제 후:\\t', end='')\n",
    "s.delete(s.tail.prev)\n",
    "s.print_list()\n",
    "print('맨 끝에 포도 삽입 후:\\t', end='')\n",
    "s.insert_before(s.tail, 'grape')\n",
    "s.print_list()\n",
    "print('첫 노드 삭제 후:\\t', end='')\n",
    "s.delete(s.head.next)\n",
    "s.print_list()\n",
    "print('첫 노드 삭제 후:\\t', end='')\n",
    "s.delete(s.head.next)\n",
    "s.print_list()\n",
    "print('첫 노드 삭제 후:\\t', end='')\n",
    "s.delete(s.head.next)\n",
    "s.print_list()\n",
    "print('첫 노드 삭제 후:\\t', end='')\n",
    "s.delete(s.head.next)\n",
    "s.print_list()"
   ]
  },
  {
   "cell_type": "markdown",
   "metadata": {},
   "source": [
    "Doubly linked list는 Deque 자료구조를 구현하는데 사용되며, 이항힙(Binomial Heap)이나 피보나치힙(Fibonacci Heap)과 같은 우선순위 큐를 구현하는데에도 부분적으로 사용된다."
   ]
  },
  {
   "cell_type": "markdown",
   "metadata": {},
   "source": [
    "# Circular Linked List\n",
    "\n",
    "- 마지막 노드가 첫 노드와 연결된 단순한 연결리스트"
   ]
  },
  {
   "cell_type": "code",
   "execution_count": 8,
   "metadata": {},
   "outputs": [],
   "source": [
    "class CList:\n",
    "    \n",
    "    class _Node:\n",
    "        def __init__(self, item, link):\n",
    "            self.item = item\n",
    "            self.next = link\n",
    "            \n",
    "    def __init__(self):\n",
    "        self.last = None\n",
    "        self.size = 0\n",
    "        \n",
    "    def no_items(self): return self.size\n",
    "    def is_empty(self): return self.size == 0\n",
    "    \n",
    "    def insert(self, item):\n",
    "        n = self._Node(item, None)\n",
    "        if self.is_empty():\n",
    "            n.next = n\n",
    "            self.last = n\n",
    "        else:\n",
    "            n.next = self.last.next\n",
    "            self.last.next = n\n",
    "        self.size += 1\n",
    "        \n",
    "    def first(self):\n",
    "        if self.is_empty():\n",
    "            raise EmptyError('Underflow')\n",
    "        f = self.last.next\n",
    "        return f.item\n",
    "    \n",
    "    def delete(self):\n",
    "        if self.is_empty():\n",
    "            raise EmptyError('Underflow')\n",
    "        x = self.last.next\n",
    "        if self.size == 1:\n",
    "            self.last = None\n",
    "        else:\n",
    "            self.last.next = x.next\n",
    "        self.size -= 1\n",
    "        return x.item\n",
    "    \n",
    "    def print_list(self):\n",
    "        if self.is_empty():\n",
    "            print('리스트 비어있음')\n",
    "        else:\n",
    "            f = self.last.next\n",
    "            p = f\n",
    "            while p.next != f:\n",
    "                print(p.item, '->', end='')\n",
    "                p = p.next\n",
    "            print(p.item)\n",
    "            \n",
    "\n",
    "class EmptyError(Exception):\n",
    "    pass"
   ]
  },
  {
   "cell_type": "code",
   "execution_count": 9,
   "metadata": {},
   "outputs": [
    {
     "name": "stdout",
     "output_type": "stream",
     "text": [
      "apple ->orange ->cherry ->pear\n",
      "s의 길 = 4\n",
      "s의 첫 항목 = apple\n",
      "첫 노드 삭제 후: orange ->cherry ->pear\n",
      "s의 길이 = 3\n",
      "s의 첫 항목 = orange\n",
      "첫 노드 삭제 후: cherry ->pear\n",
      "첫 노드 삭제 후: pear\n",
      "첫 노드 삭제 후: 리스트 비어있음\n"
     ]
    }
   ],
   "source": [
    "s = CList()\n",
    "s.insert('pear')\n",
    "s.insert('cherry')\n",
    "s.insert('orange')\n",
    "s.insert('apple')\n",
    "s.print_list()\n",
    "print('s의 길 =', s.no_items())\n",
    "print('s의 첫 항목 =', s.first())\n",
    "s.delete()\n",
    "print('첫 노드 삭제 후: ', end='')\n",
    "s.print_list()\n",
    "print('s의 길이 =', s.no_items())\n",
    "print('s의 첫 항목 =', s.first())\n",
    "s.delete()\n",
    "print('첫 노드 삭제 후: ', end='')\n",
    "s.print_list()\n",
    "s.delete()\n",
    "print('첫 노드 삭제 후: ', end='')\n",
    "s.print_list()\n",
    "s.delete()\n",
    "print('첫 노드 삭제 후: ', end='')\n",
    "s.print_list()"
   ]
  },
  {
   "cell_type": "markdown",
   "metadata": {},
   "source": [
    "Circular linked list는 여러 사람이 차례로 돌아가며 플레이하는 게임을 구현하는제 적합하고, 많은 사용자들이 동시에 사용하는 컴퓨터에서 CPU 시간을 분할하여 작업들에 할당하는 운영체제에도 쓰인다. 이항힙이나 피보나치합과 같은 우선순위큐를 구현하는데에도 부분적으로 사용된다."
   ]
  },
  {
   "cell_type": "markdown",
   "metadata": {},
   "source": [
    "## 요약\n",
    "\n",
    "- 일반적인 리스트는 일련의 동일한 타입의 항목들이다.\n",
    "- 단순연결리스트는 동적 메모리 할당을 이용해 리스트를 구현하는 가장 간단한 형태의 자료구조\n",
    "- 단순연결리스트에서는 삽입이나 삭제시 항목들은 이동실킬 필요가 없다.\n",
    "- 단순연결리스트는 항목을 접근하기 위해 순차탐색을 해야만하고, 삽입이나 삭제할 때에는 반드시 이전 노드를 가리키는 레퍼런스를 알아야 한다.\n",
    "- 이중연결리스트는 각 노드에 2개의 레퍼런스를 가지며 각각 이전과 다음 노드를 가리키는 방식의 연결리스트이다.\n",
    "- 원형연결리스트는 마지막 노드가 첫 노드와 연결된 단순연결리스트이다.\n",
    "- 원형연결리스트는 마지막 노드와 첫 노드를 O(1) 시간에 방문할 수 있다는 장점이 있다. 연결리스트가 empty가 아닐때, 어떤 노드도 None 레퍼런스를 갖지 않으므로 프로그램에서 None을 검사하지 않아도 된다는 장점이 있다.\n",
    "\n",
    "자료구조 | 접근 | 탐색 | 삽입 | 삭제 | 비교\n",
    "---|---|---|---|---|---\n",
    "단순연결리스트<br>이중연결리스트<br>원형연결리스트 | O(N) | O(N) | O(1) | O(1) | O(1)은 이전 노드의 레퍼런스가 주어진 경우나 첫 노드인 경우"
   ]
  }
 ],
 "metadata": {
  "kernelspec": {
   "display_name": "Python 3",
   "language": "python",
   "name": "python3"
  },
  "language_info": {
   "codemirror_mode": {
    "name": "ipython",
    "version": 3
   },
   "file_extension": ".py",
   "mimetype": "text/x-python",
   "name": "python",
   "nbconvert_exporter": "python",
   "pygments_lexer": "ipython3",
   "version": "3.7.0"
  }
 },
 "nbformat": 4,
 "nbformat_minor": 2
}

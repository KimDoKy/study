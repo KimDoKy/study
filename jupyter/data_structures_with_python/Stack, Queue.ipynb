{
 "cells": [
  {
   "cell_type": "markdown",
   "metadata": {},
   "source": [
    "# Stack\n",
    "\n",
    "- 한 쪽 끝에서만 item을 삭제하거나 새로운 item을 저장하는 자료구조"
   ]
  },
  {
   "cell_type": "markdown",
   "metadata": {},
   "source": [
    "## 요약\n",
    "\n",
    "- 스택은 한 쪽 끝에서만 항목을 삭제하거나 새로운 항목을 저장하는 후입선출(LIFO) 자료구조\n",
    "- 스택은 컴파일러의 괄호 짝 맞추기, 회문 검사하기, 미로 찾기, 트리의 노드 방문, 그래프의 깊이우선탐색에 사용된다. 그리고 중요한 함수들도 스택 자료구조를 바탕으로 구현된다.\n",
    "- 큐는 삽입과 삭제가 양 끝에서 각각 수행되는 선입선출(FIFO)자료구조\n",
    "- 큐는 CPU의 태스크 스케쥴링, 네트워크 프린터, 실시간 시스템의 인터럽트 처리, 다양한 이벤트 구동 방식 컴퓨터 시뮬레이션, 콜 센터의 전화 서비스 처리 등에 사용되며, 이진트리의 레벤순회와 그래프의 너비우선탐색에 사용된다.\n",
    "- deque는 양쪽 끝에서 삽입과 삭제를 허용하는 자료구조로서 스택과 큐 자료구조를 혼합한 자료구조\n",
    "- deque는 스크롤, 문서 편집기의 undo 연산, 웹 브라우저의 방문 기록 등에 사용된다.\n",
    "\n",
    "자료구조 | 구현 | 삽입 | 삭제 | 비고\n",
    "---|---|---|---|---\n",
    "stack<br>queue<br>deque|파이썬리스트| O(N) | O(N) | 타 언어의 배열과 동일\n",
    " | 연결리스트 | O(1) | O(1) | deque는 이중연결리스트로 구현"
   ]
  },
  {
   "cell_type": "code",
   "execution_count": 3,
   "metadata": {},
   "outputs": [
    {
     "name": "stdout",
     "output_type": "stream",
     "text": [
      "사과, 오렌지, 체리 push 후:\n",
      "['apple', 'orange', 'cherry'] \t<- top\n",
      "top 항목: cherry\n",
      "배 push 후:\t\t['apple', 'orange', 'cherry', 'pear'] \t<- top\n",
      "pop(), 포도 push 후:\t['apple', 'orange', 'cherry', 'grape'] \t<- top\n"
     ]
    }
   ],
   "source": [
    "# 파이썬 리스트로 구현한 스택\n",
    "\n",
    "def push(item):\n",
    "    stack.append(item)\n",
    "    \n",
    "def peek():\n",
    "    if len(stack) != 0:\n",
    "        return stack[-1]\n",
    "    \n",
    "def pop():\n",
    "    if len(stack) != 0:\n",
    "        item = stack.pop(-1)\n",
    "        return item\n",
    "    \n",
    "stack = []\n",
    "push('apple')\n",
    "push('orange')\n",
    "push('cherry')\n",
    "print('사과, 오렌지, 체리 push 후:\\n', end='')\n",
    "print(stack, '\\t<- top')\n",
    "print('top 항목: ', end='')\n",
    "print(peek())\n",
    "push('pear')\n",
    "print('배 push 후:\\t\\t', end='')\n",
    "print(stack, '\\t<- top')\n",
    "pop()\n",
    "push('grape')\n",
    "print('pop(), 포도 push 후:\\t', end='')\n",
    "\n",
    "print(stack, '\\t<- top')"
   ]
  },
  {
   "cell_type": "code",
   "execution_count": 4,
   "metadata": {},
   "outputs": [
    {
     "name": "stdout",
     "output_type": "stream",
     "text": [
      "사과, 오렌지, 체리 push 후: \ttop ->\tcherry ->orange ->apple\n",
      "top 항목: cherry\n",
      "배 push 후:\t\ttop ->\tpear ->cherry ->orange ->apple\n",
      "pop(), 포도 push 후:\ttop ->\tgrape ->cherry ->orange ->apple\n"
     ]
    }
   ],
   "source": [
    "# 단순연결리스트로 구현한 스택\n",
    "\n",
    "class Node:\n",
    "    def __init__(self, item, link):\n",
    "        self.item = item\n",
    "        self.next = link\n",
    "        \n",
    "def push(item):\n",
    "    global top\n",
    "    global size\n",
    "    top = Node(item, top)\n",
    "    size += 1\n",
    "    \n",
    "def peek():\n",
    "    if size != 0:\n",
    "        return top.item\n",
    "    \n",
    "def pop():\n",
    "    global top\n",
    "    global size\n",
    "    if size != 0:\n",
    "        top_item = top.item\n",
    "        top = top.next\n",
    "        size -= 1\n",
    "        return top_item\n",
    "    \n",
    "def print_stack():\n",
    "    print('top ->\\t', end='')\n",
    "    p = top\n",
    "    while p:\n",
    "        if p.next != None:\n",
    "            print(p.item, '->', end='')\n",
    "        else:\n",
    "            print(p.item, end='')\n",
    "        p = p.next\n",
    "    print()\n",
    "    \n",
    "top = None\n",
    "size = 0\n",
    "push('apple')\n",
    "push('orange')\n",
    "push('cherry')\n",
    "print('사과, 오렌지, 체리 push 후: \\t', end='')\n",
    "print_stack()\n",
    "print('top 항목: ', end='')\n",
    "print(peek())\n",
    "push('pear')\n",
    "print('배 push 후:\\t\\t', end='')\n",
    "print_stack()\n",
    "pop()\n",
    "push('grape')\n",
    "print('pop(), 포도 push 후:\\t', end='')\n",
    "print_stack()"
   ]
  },
  {
   "cell_type": "markdown",
   "metadata": {},
   "source": [
    "파이썬으로 구현한 스택은 push와 pop 연산이 각각 O(1) 시간이 소요된다.  \n",
    "그러나 파이썬의 리스트는 크기가 동적으로 확대, 축소하는대, 이러한 동적 크기 조절은 스택(리스트)의 모든 항목들을 새 리스트로 복사해야하기 때문에 O(N) 시간이 소요된다.  \n",
    "단순연결리스트는 연결리스트의 맨 앞 부분에서 노드를 삽입하거나 삭제하기 때문에 O(1) 시간이 소요된다."
   ]
  },
  {
   "cell_type": "markdown",
   "metadata": {},
   "source": [
    "### 스택의 응용\n",
    "\n",
    "스택 자료구조는 괄호 짝 맞추기, 회문, 미로찾기, 트리의 순회, 그래프의 탐색을 수행하는데 기본이 되는 자료구조이다."
   ]
  },
  {
   "cell_type": "markdown",
   "metadata": {},
   "source": [
    "# Queue\n",
    "\n",
    "\n",
    "- 삽입과 삭제가 양쪽 끝에서 각각 수행되는 자료구조(FIFO)"
   ]
  },
  {
   "cell_type": "code",
   "execution_count": 6,
   "metadata": {},
   "outputs": [
    {
     "name": "stdout",
     "output_type": "stream",
     "text": [
      "사과, 오렌지, 체리, 배 삽입 후: \tfront ->apple   orange  cherry  pear      <- near\n",
      "remove한 후: \t\tfront ->orange  cherry  pear      <- near\n",
      "remove한 후: \t\tfront ->cherry  pear      <- near\n",
      "포도 삽입 후: \t\tfront ->cherry  pear    grape     <- near\n"
     ]
    }
   ],
   "source": [
    "# 파이썬 리스트로 구현한 큐\n",
    "\n",
    "def add(item):\n",
    "    q.append(item)\n",
    "    \n",
    "def remove():\n",
    "    if len(q) != 0:\n",
    "        item = q.pop(0)\n",
    "        return item\n",
    "    \n",
    "def print_q():\n",
    "    print('front ->', end='')\n",
    "    for i in range(len(q)):\n",
    "        print('{!s:<8}'.format(q[i]), end='')\n",
    "    print('  <- near')\n",
    "    \n",
    "q = []\n",
    "add('apple')\n",
    "add('orange')\n",
    "add('cherry')\n",
    "add('pear')\n",
    "print('사과, 오렌지, 체리, 배 삽입 후: \\t', end='')\n",
    "print_q()\n",
    "remove()\n",
    "print('remove한 후: \\t\\t', end='')\n",
    "print_q()\n",
    "remove()\n",
    "print('remove한 후: \\t\\t', end='')\n",
    "print_q()\n",
    "add('grape')\n",
    "print('포도 삽입 후: \\t\\t', end='')\n",
    "print_q()"
   ]
  },
  {
   "cell_type": "code",
   "execution_count": 17,
   "metadata": {},
   "outputs": [
    {
     "name": "stdout",
     "output_type": "stream",
     "text": [
      "사과, 오렌지, 체리, 배 삽입 후: \tfront: apple ->  orange ->  cherry ->  pear  : rear\n",
      "remove한 후: \t\tfront: orange ->  cherry ->  pear  : rear\n",
      "remove한 후: \t\tfront: cherry ->  pear  : rear\n",
      "포도 삽입 후: \t\tfront: cherry ->  pear ->  grape  : rear\n"
     ]
    }
   ],
   "source": [
    "# 단순연결리스트로 구현한 큐\n",
    "\n",
    "class Node:\n",
    "    def __init__(self, item, n):\n",
    "        self.item = item\n",
    "        self.next = n\n",
    "\n",
    "def add(item):\n",
    "    global size\n",
    "    global front\n",
    "    global rear\n",
    "    new_node = Node(item, None)\n",
    "    if size == 0:\n",
    "        front = new_node\n",
    "    else:\n",
    "        rear.next = new_node\n",
    "    rear = new_node\n",
    "    size += 1\n",
    "    \n",
    "def remove():\n",
    "    global size\n",
    "    global front\n",
    "    global rear\n",
    "    if size != 0:\n",
    "        fitem = front.item\n",
    "        front = front.next\n",
    "        size -= 1\n",
    "        if size == 0:\n",
    "            rear = None\n",
    "        return fitem\n",
    "    \n",
    "def print_q():\n",
    "    p = front\n",
    "    print('front: ', end='')\n",
    "    while p:\n",
    "        if p.next != None:\n",
    "            print(p.item, '->  ', end='')\n",
    "        else:\n",
    "            print(p.item, end='')\n",
    "        p = p.next\n",
    "    print('  : rear')\n",
    "    \n",
    "front = None\n",
    "rear = None\n",
    "size = 0\n",
    "\n",
    "add('apple')\n",
    "add('orange')\n",
    "add('cherry')\n",
    "add('pear')\n",
    "print('사과, 오렌지, 체리, 배 삽입 후: \\t', end='')\n",
    "print_q()\n",
    "remove()\n",
    "print('remove한 후: \\t\\t', end='')\n",
    "print_q()\n",
    "remove()\n",
    "print('remove한 후: \\t\\t', end='')\n",
    "print_q()\n",
    "add('grape')\n",
    "print('포도 삽입 후: \\t\\t', end='')\n",
    "print_q()"
   ]
  },
  {
   "cell_type": "markdown",
   "metadata": {},
   "source": [
    "Queue는 CPU의 Task Scheduling, 네트워크 프린터, 실시간 시스템의 인터럽트 처리, 다양한 이벤트 구동 방식 컴퓨터 시뮬레이션, 콜 센터의 전화 서비스 처리 등에 사용되며, 이진트리의 레벨순회(Level-order Traversal)와 그래프의 너비우선탐색(Breath-First Search)에 사용됨"
   ]
  },
  {
   "cell_type": "markdown",
   "metadata": {},
   "source": [
    "당연히 리스트로 구현한 것보다 단순연결리스트로 구현한 큐가 좋다."
   ]
  },
  {
   "cell_type": "markdown",
   "metadata": {},
   "source": [
    "# Deque\n",
    "\n",
    "- 양쪽 끝에서 삽입과 삭제를 허용하는 자료구조"
   ]
  },
  {
   "cell_type": "code",
   "execution_count": 18,
   "metadata": {},
   "outputs": [
    {
     "name": "stdout",
     "output_type": "stream",
     "text": [
      "DATA\n",
      "deque(['k', 'd', 'a', 't', 'a', 'r'])\n",
      "a\n",
      "False\n",
      "deque(['p', 'y', 't', 'h', 'o', 'n', 'd', 'a', 't', 'a', 's', 't', 'r', 'u', 'c', 't', 'u', 'r', 'e'])\n"
     ]
    }
   ],
   "source": [
    "from collections import deque\n",
    "dq = deque('data')\n",
    "for elem in dq:\n",
    "    print(elem.upper(), end='')\n",
    "print()\n",
    "dq.append('r')\n",
    "dq.appendleft('k')\n",
    "print(dq)\n",
    "dq.pop()\n",
    "dq.popleft()\n",
    "print(dq[-1])\n",
    "print('x' in dq)\n",
    "dq.extend('structure')\n",
    "dq.extendleft(reversed('python'))\n",
    "print(dq)"
   ]
  },
  {
   "cell_type": "markdown",
   "metadata": {},
   "source": [
    "## 요약\n",
    "\n",
    "- 스택은 한 쪽 끝에서만 항목을 삭제하거나 새로운 항목을 저장하는 후입선출(LIFO) 자료구조\n",
    "- 큐는 삽입과 삭제가 양 끝에서 각각 수행되는 선입선출(FIFO) 자료구조\n",
    "- deque는 양쪽 끝에서 삽입과 삭제를 허용하는 스택과 큐를 혼합한 자료구조\n",
    "- deque는 스크롤, 문서 편집기의 undo 연산, 웹 브라우저 방문 기록 등에 사용된다.\n",
    "\n",
    "자료구조 | 구현 | 삽입 | 삭제 | 비고\n",
    "---|---|---|---|---\n",
    "stack<br>queue<br>deque|파이썬 리스트|O(N)|O(N)|타 언어의 배열과 동일\n",
    " | 연결리스트 | O(1)|O(1)|deque는 이중연결리스트로 구현"
   ]
  }
 ],
 "metadata": {
  "kernelspec": {
   "display_name": "Python 3",
   "language": "python",
   "name": "python3"
  },
  "language_info": {
   "codemirror_mode": {
    "name": "ipython",
    "version": 3
   },
   "file_extension": ".py",
   "mimetype": "text/x-python",
   "name": "python",
   "nbconvert_exporter": "python",
   "pygments_lexer": "ipython3",
   "version": "3.7.0"
  }
 },
 "nbformat": 4,
 "nbformat_minor": 2
}

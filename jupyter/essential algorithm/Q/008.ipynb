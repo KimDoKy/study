{
 "cells": [
  {
   "cell_type": "markdown",
   "metadata": {},
   "source": [
    "# 자연수 n이 소수인지 아닌지 출력하기"
   ]
  },
  {
   "cell_type": "markdown",
   "metadata": {},
   "source": [
    "- 소수(prime number): 0보다 큰 자연수인 약수가 1과 자기 자신뿐인 1보다 큰 자연수\n",
    "- 대표적 소수:2,3,5,7,11,13 ..\n",
    "- 사용자가 입력한 n이 소수인지 아닌지를 확인하는 문제"
   ]
  },
  {
   "cell_type": "markdown",
   "metadata": {},
   "source": [
    "### 직접 풀어보기"
   ]
  },
  {
   "cell_type": "code",
   "execution_count": 2,
   "metadata": {},
   "outputs": [],
   "source": [
    "from time import time"
   ]
  },
  {
   "cell_type": "code",
   "execution_count": 68,
   "metadata": {},
   "outputs": [],
   "source": [
    "def check_prime(n):\n",
    "    if n < 4:\n",
    "        print(f'{n}은 소수입니다.')\n",
    "    elif n % 2 != 0 and n % 3 != 0 and n % 5 != 0:\n",
    "        print(f'{n}은 소수입니다.')\n",
    "    else:\n",
    "        print(f'{n}은 소수가 아닙니다.')"
   ]
  },
  {
   "cell_type": "code",
   "execution_count": 80,
   "metadata": {},
   "outputs": [
    {
     "name": "stdout",
     "output_type": "stream",
     "text": [
      "7은 소수입니다.\n",
      "1523은 소수입니다.\n",
      "run time:  0.00010013580322265625\n",
      "37은 소수입니다.\n",
      "20은 소수가 아닙니다.\n",
      "21은 소수가 아닙니다.\n"
     ]
    }
   ],
   "source": [
    "check_prime(7)\n",
    "s_time = time()\n",
    "check_prime(1523)\n",
    "run_time = time() - s_time\n",
    "print('run time: ', run_time)\n",
    "check_prime(37)\n",
    "check_prime(20)\n",
    "check_prime(21)"
   ]
  },
  {
   "cell_type": "markdown",
   "metadata": {},
   "source": [
    "### 답안지"
   ]
  },
  {
   "cell_type": "code",
   "execution_count": 8,
   "metadata": {},
   "outputs": [
    {
     "name": "stdout",
     "output_type": "stream",
     "text": [
      "13는 소수\n",
      "\n",
      "97는 소수\n",
      "\n",
      "run time:  0.00012993812561035156\n",
      "37는 소수\n",
      "\n",
      "20는 합성수\n",
      "\n",
      "21는 합성수\n",
      "\n"
     ]
    }
   ],
   "source": [
    "def check_prime_2(n):\n",
    "    i = 2\n",
    "    while i < n:\n",
    "        if n % i == 0:\n",
    "            break\n",
    "        i = i + 1\n",
    "        \n",
    "    if i == n:\n",
    "        print(\"{0}는 소수\\n\".format(n))\n",
    "    else:\n",
    "        print(\"{0}는 합성수\\n\".format(n))\n",
    "\n",
    "check_prime_2(13)\n",
    "s_time = time()\n",
    "check_prime_2(97)\n",
    "run_time = time() - s_time\n",
    "print('run time: ', run_time)\n",
    "check_prime_2(37)\n",
    "check_prime_2(20)\n",
    "check_prime_2(21)"
   ]
  },
  {
   "cell_type": "markdown",
   "metadata": {},
   "source": [
    "#### [아빠와 함께](https://m.blog.naver.com/PostView.nhn?blogId=okkam76&logNo=221259794695&proxyReferer=https%3A%2F%2Fwww.google.com%2F)의 예는 작은 수는 성능이 않좋지만, 숫자가 클수록 성능이 좋아진다."
   ]
  },
  {
   "cell_type": "code",
   "execution_count": 81,
   "metadata": {},
   "outputs": [
    {
     "name": "stdout",
     "output_type": "stream",
     "text": [
      "run time:  0.00015783309936523438\n"
     ]
    },
    {
     "data": {
      "text/plain": [
       "True"
      ]
     },
     "execution_count": 81,
     "metadata": {},
     "output_type": "execute_result"
    }
   ],
   "source": [
    "def prime_num(number):\n",
    "    if number != 1:\n",
    "        for f in range(2, number):\n",
    "            if number % f == 0:\n",
    "                return False\n",
    "    else:\n",
    "        return False\n",
    "    return True\n",
    "\n",
    "num_0 = 1523\n",
    "num_1 = 130\n",
    "num_2 = 37\n",
    "\n",
    "prime_num(num_0)\n",
    "\n",
    "s_time = time()\n",
    "prime_num(num_0)\n",
    "run_time = time() - s_time\n",
    "print('run time: ', run_time)\n",
    "\n",
    "prime_num(num_0)\n"
   ]
  },
  {
   "cell_type": "markdown",
   "metadata": {},
   "source": [
    "다른 예."
   ]
  },
  {
   "cell_type": "code",
   "execution_count": 44,
   "metadata": {},
   "outputs": [],
   "source": [
    "def is_prime(n):\n",
    "    return all([(n%j) for j in range(2, int(n**0.5)+1)]) and n>1"
   ]
  },
  {
   "cell_type": "code",
   "execution_count": 57,
   "metadata": {},
   "outputs": [
    {
     "name": "stdout",
     "output_type": "stream",
     "text": [
      "8.96453857421875e-05\n"
     ]
    }
   ],
   "source": [
    "s_time = time()\n",
    "is_prime(97)\n",
    "run_time = time() - s_time\n",
    "print(run_time)"
   ]
  },
  {
   "cell_type": "markdown",
   "metadata": {},
   "source": [
    "#### [백준](https://hongku.tistory.com/274)\n",
    "\n",
    "1부터 k까지 다 나누어봐도 되지만, 시간을 줄이기 위해 k의 제곱근까지만 확인"
   ]
  },
  {
   "cell_type": "code",
   "execution_count": 9,
   "metadata": {},
   "outputs": [
    {
     "name": "stdout",
     "output_type": "stream",
     "text": [
      "True\n",
      "run time:  0.0006740093231201172\n"
     ]
    }
   ],
   "source": [
    "import math\n",
    "\n",
    "def isPrime(num):\n",
    "    if num == 1: return False\n",
    "    \n",
    "    n = int(math.sqrt(num))\n",
    "    for k in range(2, n+1):\n",
    "        if num % k == 0: return False\n",
    "    return True\n",
    "\n",
    "s_time = time()\n",
    "print(isPrime(97))\n",
    "run_time = time() - s_time\n",
    "\n",
    "print('run time: ', run_time)"
   ]
  },
  {
   "cell_type": "markdown",
   "metadata": {},
   "source": [
    "소수를 체크하는 방법은 여러가지가 있고, 내가 푼 방법은 **에라토스테네스의 체**라는 방법이라고 한다.(물론 해당 방법을 중간 과정까지만 적용된 걸로..)  "
   ]
  }
 ],
 "metadata": {
  "kernelspec": {
   "display_name": "Python 3",
   "language": "python",
   "name": "python3"
  },
  "language_info": {
   "codemirror_mode": {
    "name": "ipython",
    "version": 3
   },
   "file_extension": ".py",
   "mimetype": "text/x-python",
   "name": "python",
   "nbconvert_exporter": "python",
   "pygments_lexer": "ipython3",
   "version": "3.6.0"
  }
 },
 "nbformat": 4,
 "nbformat_minor": 2
}

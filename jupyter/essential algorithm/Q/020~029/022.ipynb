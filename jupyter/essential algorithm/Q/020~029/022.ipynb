{
 "cells": [
  {
   "cell_type": "markdown",
   "metadata": {},
   "source": [
    "# 대리석 채우기"
   ]
  },
  {
   "cell_type": "markdown",
   "metadata": {},
   "source": [
    "- 크기가 2x1 또는 2x2 크기의 대리석 조각을 직사각형 모양의 벽면에 붙이려고 한다.\n",
    "- 직사각형은 2xn의 크기를 갖는다고 할 때 대리석 조각으로 직사각형을 모두 커버할 수 있는 가능한 수를 구하기\n",
    "- 2x1과 2x2 크기의 대리석 조각은 다음의 3가지 종류가 존재한다.\n",
    "```\n",
    "조각1  조각2    조각3\n",
    " []   [][]    [][]\n",
    " []           [][]\n",
    "```"
   ]
  },
  {
   "cell_type": "markdown",
   "metadata": {},
   "source": [
    "---\n",
    "조각 1,2,3 각각의 경우로 나눌 수 있다.\n",
    "\n",
    "1. 조각1(2x1)을 사용하는 경우: `f(n-1)`\n",
    "2. 조각2(1x2)을 사용하는 경우: `f(n-2)`\n",
    "3. 조각3(2x2)을 사용하는 경우: `f(n-2)`\n",
    "\n",
    "```\n",
    "f(n) = f(n-1) + f(n-2) + f(n-2)\n",
    "     = f(n-1) + 2f(n-2)\n",
    "```"
   ]
  },
  {
   "cell_type": "markdown",
   "metadata": {},
   "source": [
    "n에 따라 조각의 점화식을 표현할 수 있다.\n",
    "\n",
    "- n <= 1이면 f(1) = 1\n",
    "- n > 1이면 f(n-1) + 2f(n-2)"
   ]
  },
  {
   "cell_type": "code",
   "execution_count": 2,
   "metadata": {},
   "outputs": [],
   "source": [
    "def f(k, m):\n",
    "    if k <= 1:\n",
    "        return 1 % m\n",
    "    else:\n",
    "        return (f(k-1, m) + 2 * f(k-2, m)) % m"
   ]
  },
  {
   "cell_type": "code",
   "execution_count": 3,
   "metadata": {},
   "outputs": [
    {
     "name": "stdout",
     "output_type": "stream",
     "text": [
      "71\n"
     ]
    }
   ],
   "source": [
    "n = 8\n",
    "m = 100\n",
    "print(f(n,m))"
   ]
  }
 ],
 "metadata": {
  "kernelspec": {
   "display_name": "Python 3",
   "language": "python",
   "name": "python3"
  },
  "language_info": {
   "codemirror_mode": {
    "name": "ipython",
    "version": 3
   },
   "file_extension": ".py",
   "mimetype": "text/x-python",
   "name": "python",
   "nbconvert_exporter": "python",
   "pygments_lexer": "ipython3",
   "version": "3.5.2"
  }
 },
 "nbformat": 4,
 "nbformat_minor": 2
}

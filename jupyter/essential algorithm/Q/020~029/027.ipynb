{
 "cells": [
  {
   "cell_type": "markdown",
   "metadata": {},
   "source": [
    "# 반복문을 사용하여 팩토리얼 출력하기"
   ]
  },
  {
   "cell_type": "markdown",
   "metadata": {},
   "source": [
    "- 컴퓨터로 작성하는 알고리즘 분야에서는 고전에 속하는 문제 중 하나\n",
    "- 반복문을 사용하는 팩토리얼 알고리즘을 작성하라."
   ]
  },
  {
   "cell_type": "code",
   "execution_count": 2,
   "metadata": {},
   "outputs": [],
   "source": [
    "def factorial(n):\n",
    "    result = 1\n",
    "    i = 1\n",
    "    while i <= n:\n",
    "        result *= i\n",
    "        i += 1\n",
    "    return result"
   ]
  },
  {
   "cell_type": "code",
   "execution_count": 3,
   "metadata": {},
   "outputs": [
    {
     "data": {
      "text/plain": [
       "1"
      ]
     },
     "execution_count": 3,
     "metadata": {},
     "output_type": "execute_result"
    }
   ],
   "source": [
    "factorial(0)"
   ]
  },
  {
   "cell_type": "code",
   "execution_count": 3,
   "metadata": {},
   "outputs": [
    {
     "name": "stdout",
     "output_type": "stream",
     "text": [
      "0!: 1\n",
      "1!: 1\n",
      "2!: 2\n",
      "3!: 6\n",
      "4!: 24\n",
      "5!: 120\n",
      "6!: 720\n",
      "7!: 5040\n",
      "8!: 40320\n",
      "9!: 362880\n"
     ]
    }
   ],
   "source": [
    "for i in range(10):\n",
    "    print('{0}!: {1}'.format(i, factorial(i)))"
   ]
  },
  {
   "cell_type": "markdown",
   "metadata": {},
   "source": [
    "### 답안지"
   ]
  },
  {
   "cell_type": "code",
   "execution_count": 4,
   "metadata": {},
   "outputs": [],
   "source": [
    "def fact(n):\n",
    "    fact = 1\n",
    "    i = n\n",
    "    while i > 1:\n",
    "        fact = fact * i\n",
    "        i = i - 1\n",
    "    return fact"
   ]
  },
  {
   "cell_type": "code",
   "execution_count": 5,
   "metadata": {},
   "outputs": [
    {
     "name": "stdout",
     "output_type": "stream",
     "text": [
      " 0! =                    1 \n",
      " 1! =                    1 \n",
      " 2! =                    2 \n",
      " 3! =                    6 \n",
      " 4! =                   24 \n",
      " 5! =                  120 \n",
      " 6! =                  720 \n",
      " 7! =                 5040 \n",
      " 8! =                40320 \n",
      " 9! =               362880 \n"
     ]
    }
   ],
   "source": [
    "for i in range(10):\n",
    "    print(\"%2d! = %20d \"%(i, fact(i)))"
   ]
  }
 ],
 "metadata": {
  "kernelspec": {
   "display_name": "Python 3",
   "language": "python",
   "name": "python3"
  },
  "language_info": {
   "codemirror_mode": {
    "name": "ipython",
    "version": 3
   },
   "file_extension": ".py",
   "mimetype": "text/x-python",
   "name": "python",
   "nbconvert_exporter": "python",
   "pygments_lexer": "ipython3",
   "version": "3.5.2"
  }
 },
 "nbformat": 4,
 "nbformat_minor": 2
}

{
 "cells": [
  {
   "cell_type": "markdown",
   "metadata": {},
   "source": [
    "# 두 숫자간의 차이 구하기"
   ]
  },
  {
   "cell_type": "markdown",
   "metadata": {},
   "source": [
    "파이썬의 `abs()`를 통해 절대값을 구할 수 있지만, 직접 구현하시오."
   ]
  },
  {
   "cell_type": "code",
   "execution_count": 1,
   "metadata": {},
   "outputs": [],
   "source": [
    "def abs(a,b):\n",
    "    if a > b:\n",
    "        return a - b\n",
    "    else:\n",
    "        return b - a"
   ]
  },
  {
   "cell_type": "code",
   "execution_count": 2,
   "metadata": {},
   "outputs": [
    {
     "data": {
      "text/plain": [
       "20"
      ]
     },
     "execution_count": 2,
     "metadata": {},
     "output_type": "execute_result"
    }
   ],
   "source": [
    "a = 5\n",
    "b = 25\n",
    "abs(a, b)"
   ]
  },
  {
   "cell_type": "markdown",
   "metadata": {},
   "source": [
    "---\n",
    "\n",
    "#### `if __name__ == \"__main__\":`을 사용하는 이유!\n",
    "\n",
    "1. 해당 코드를 직접 실행하지 않고 다른 코드에서 임포트해서 사용하는 경우 `main()` 안의 코드를 실행하고 싶지 않고, 함수나 클래스 정의 등만을 사용하는 경우, 위 코드가 있으면 코드의 수정 없이 그대로 사용할 수 있다.\n",
    "\n",
    "2. 해당 파이썬 코드에서 `main()` 함수가 어디인지 알 수 있으므로 더 가독성이 좋고 구조적이기 때문이다."
   ]
  }
 ],
 "metadata": {
  "kernelspec": {
   "display_name": "Python 3",
   "language": "python",
   "name": "python3"
  },
  "language_info": {
   "codemirror_mode": {
    "name": "ipython",
    "version": 3
   },
   "file_extension": ".py",
   "mimetype": "text/x-python",
   "name": "python",
   "nbconvert_exporter": "python",
   "pygments_lexer": "ipython3",
   "version": "3.5.2"
  }
 },
 "nbformat": 4,
 "nbformat_minor": 2
}

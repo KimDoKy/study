{
 "cells": [
  {
   "cell_type": "markdown",
   "metadata": {},
   "source": [
    "# 최적화한 조합"
   ]
  },
  {
   "cell_type": "markdown",
   "metadata": {},
   "source": [
    "- 앞에서 다룬 재귀 호출을 사용한 조합 알고리즘을 만드는 방법은 `f(n-1, r)`과 `f(n-1, r-1)` 2개의 재귀 함수를 호출하게 된다.\n",
    "- 알고리즘 성능을 위해서는 재귀 함수를 줄이는 것이 중요하다."
   ]
  },
  {
   "cell_type": "markdown",
   "metadata": {},
   "source": [
    "- 조합 함수 `f(n, r)`\n",
    "```\n",
    "f(n, r) = n! / r!(n-r)!\n",
    "```\n",
    "- 조합 함수 `f(n, r-1)`\n",
    "```\n",
    "f(n, r-1) = n! / (r-1)!(n-r+1)!\n",
    "```\n",
    "- 수정된 조합 함수 `f(n, r)`\n",
    "```\n",
    "f(n, r) = f(n, r-1) * (n-r+1) / r\n",
    "```"
   ]
  },
  {
   "cell_type": "code",
   "execution_count": 1,
   "metadata": {},
   "outputs": [],
   "source": [
    "def combi(n, r):\n",
    "    if r == n or r == 1:\n",
    "        return 1\n",
    "    else:\n",
    "        return combi(n, r-1) * (n-r+1) // r"
   ]
  },
  {
   "cell_type": "code",
   "execution_count": 2,
   "metadata": {},
   "outputs": [
    {
     "name": "stdout",
     "output_type": "stream",
     "text": [
      "1 C 1 = 1\n",
      "2 C 1 = 1\n",
      "2 C 2 = 1\n",
      "3 C 1 = 1\n",
      "3 C 2 = 1\n",
      "3 C 3 = 1\n",
      "4 C 1 = 1\n",
      "4 C 2 = 1\n",
      "4 C 3 = 0\n",
      "4 C 4 = 1\n",
      "5 C 1 = 1\n",
      "5 C 2 = 2\n",
      "5 C 3 = 2\n",
      "5 C 4 = 1\n",
      "5 C 5 = 1\n"
     ]
    }
   ],
   "source": [
    "n = 1\n",
    "while n <= 5:\n",
    "    r = 1\n",
    "    while r <= n:\n",
    "        print(f'{n} C {r} = {combi(n,r)}')\n",
    "        r += 1\n",
    "    n += 1"
   ]
  }
 ],
 "metadata": {
  "kernelspec": {
   "display_name": "Python 3",
   "language": "python",
   "name": "python3"
  },
  "language_info": {
   "codemirror_mode": {
    "name": "ipython",
    "version": 3
   },
   "file_extension": ".py",
   "mimetype": "text/x-python",
   "name": "python",
   "nbconvert_exporter": "python",
   "pygments_lexer": "ipython3",
   "version": "3.6.0"
  }
 },
 "nbformat": 4,
 "nbformat_minor": 2
}

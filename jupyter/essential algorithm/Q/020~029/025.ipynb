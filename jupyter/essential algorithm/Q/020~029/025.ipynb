{
 "cells": [
  {
   "cell_type": "markdown",
   "metadata": {},
   "source": [
    "# 등수 구하기"
   ]
  },
  {
   "cell_type": "markdown",
   "metadata": {},
   "source": [
    "- 주어진 점수가 전체에서 몇 등인지 알아내는 알고리즘"
   ]
  },
  {
   "cell_type": "markdown",
   "metadata": {},
   "source": [
    "- 조건\n",
    " - 전체 점수의 처음부터 끝까지 반복하여 현재의 점수가 몇 번째의 크기를 갖는지를 계산한다."
   ]
  },
  {
   "cell_type": "code",
   "execution_count": 60,
   "metadata": {},
   "outputs": [],
   "source": [
    "a = [75, 25, 6, 73, 43, 46, 31, 13, 60, 90, 5, 43, 35, 65, 100, 28, 83, 95, 35, 45, -1]"
   ]
  },
  {
   "cell_type": "code",
   "execution_count": 59,
   "metadata": {},
   "outputs": [],
   "source": [
    "import time"
   ]
  },
  {
   "cell_type": "code",
   "execution_count": 38,
   "metadata": {},
   "outputs": [],
   "source": [
    "def ranking(l):\n",
    "    rank = sorted(l)\n",
    "    rank.reverse()\n",
    "    for i in l:\n",
    "        if i == -1: break\n",
    "        print('{0}점 : {1}등'.format(i, rank.index(i)+1))"
   ]
  },
  {
   "cell_type": "code",
   "execution_count": 61,
   "metadata": {},
   "outputs": [
    {
     "name": "stdout",
     "output_type": "stream",
     "text": [
      "75점 : 5등\n",
      "25점 : 17등\n",
      "6점 : 19등\n",
      "73점 : 6등\n",
      "43점 : 11등\n",
      "46점 : 9등\n",
      "31점 : 15등\n",
      "13점 : 18등\n",
      "60점 : 8등\n",
      "90점 : 3등\n",
      "5점 : 20등\n",
      "43점 : 11등\n",
      "35점 : 13등\n",
      "65점 : 7등\n",
      "100점 : 1등\n",
      "28점 : 16등\n",
      "83점 : 4등\n",
      "95점 : 2등\n",
      "35점 : 13등\n",
      "45점 : 10등\n",
      "0.0019559860229492188\n"
     ]
    }
   ],
   "source": [
    "s_time = time.time()\n",
    "ranking(a)\n",
    "r_time = time.time() - s_time\n",
    "print(r_time)"
   ]
  },
  {
   "cell_type": "markdown",
   "metadata": {},
   "source": [
    "### 답안지"
   ]
  },
  {
   "cell_type": "code",
   "execution_count": 40,
   "metadata": {},
   "outputs": [
    {
     "name": "stdout",
     "output_type": "stream",
     "text": [
      "    75 점 -:      5 등\n",
      "    25 점 -:     17 등\n",
      "     6 점 -:     19 등\n",
      "    73 점 -:      6 등\n",
      "    43 점 -:     11 등\n",
      "    46 점 -:      9 등\n",
      "    31 점 -:     15 등\n",
      "    13 점 -:     18 등\n",
      "    60 점 -:      8 등\n",
      "    90 점 -:      3 등\n",
      "     5 점 -:     20 등\n",
      "    43 점 -:     11 등\n",
      "    35 점 -:     13 등\n",
      "    65 점 -:      7 등\n",
      "   100 점 -:      1 등\n",
      "    28 점 -:     16 등\n",
      "    83 점 -:      4 등\n",
      "    95 점 -:      2 등\n",
      "    35 점 -:     13 등\n",
      "    45 점 -:     10 등\n",
      "    -1 점 -:      0 등\n"
     ]
    }
   ],
   "source": [
    "MAX = 30\n",
    "a = [75, 25, 6, 73, 43, 46, 31, 13, 60, 90, 5, 43, 35, 65, 100, 28, 83, 95, 35, 45, -1]\n",
    "\n",
    "rank = [0] * MAX\n",
    "\n",
    "i = 0\n",
    "while a[i] != -1:\n",
    "    rank[i] = 1\n",
    "    j = 0\n",
    "    while a[j] != -1:\n",
    "        if a[j] > a[i]:\n",
    "            rank[i] = rank[i] + 1\n",
    "        j = j + 1\n",
    "    i = i + 1\n",
    "    \n",
    "for i in range(len(a)):\n",
    "    print(\"%6d 점 -: %6d 등\"%(a[i], rank[i]))"
   ]
  },
  {
   "cell_type": "code",
   "execution_count": 43,
   "metadata": {},
   "outputs": [],
   "source": [
    "MAX = 30\n",
    "a = [75, 25, 6, 73, 43, 46, 31, 13, 60, 90, 5, 43, 35, 65, 100, 28, 83, 95, 35, 45, -1]\n",
    "\n",
    "rank = [0] * MAX\n",
    "\n",
    "def r(a):\n",
    "    i = 0\n",
    "    while a[i] != -1:\n",
    "        rank[i] = 1\n",
    "        j = 0\n",
    "        while a[j] != -1:\n",
    "            if a[j] > a[i]:\n",
    "                rank[i] = rank[i] + 1\n",
    "            j = j + 1\n",
    "        i = i + 1\n",
    "    \n",
    "    for i in range(len(a)):\n",
    "         print(\"%6d 점 -: %6d 등\"%(a[i], rank[i]))"
   ]
  },
  {
   "cell_type": "code",
   "execution_count": 51,
   "metadata": {},
   "outputs": [
    {
     "name": "stdout",
     "output_type": "stream",
     "text": [
      "    75 점 -:      5 등\n",
      "    25 점 -:     17 등\n",
      "     6 점 -:     19 등\n",
      "    73 점 -:      6 등\n",
      "    43 점 -:     11 등\n",
      "    46 점 -:      9 등\n",
      "    31 점 -:     15 등\n",
      "    13 점 -:     18 등\n",
      "    60 점 -:      8 등\n",
      "    90 점 -:      3 등\n",
      "     5 점 -:     20 등\n",
      "    43 점 -:     11 등\n",
      "    35 점 -:     13 등\n",
      "    65 점 -:      7 등\n",
      "   100 점 -:      1 등\n",
      "    28 점 -:     16 등\n",
      "    83 점 -:      4 등\n",
      "    95 점 -:      2 등\n",
      "    35 점 -:     13 등\n",
      "    45 점 -:     10 등\n",
      "    -1 점 -:      0 등\n",
      "0.0024039745330810547\n"
     ]
    }
   ],
   "source": [
    "s_time = time.time()\n",
    "r(a)\n",
    "r_time = time.time() - s_time\n",
    "print(r_time)"
   ]
  },
  {
   "cell_type": "markdown",
   "metadata": {},
   "source": [
    "---\n",
    "실행 시간을 여러번 비교해 본 결과, 내가 짠게 조금더 빨랐다.  \n",
    "반복문의 갯수 차이인 것 같다.  \n",
    "푸는 방식도 내껀 주어진 리스트를 정렬하여 인덱스를 사용하는 방식이고,  \n",
    "답안지의 방식은 모든 점수를 서로 모두 비교해가며 카운트를 쌓는 방식이다."
   ]
  }
 ],
 "metadata": {
  "kernelspec": {
   "display_name": "Python 3",
   "language": "python",
   "name": "python3"
  },
  "language_info": {
   "codemirror_mode": {
    "name": "ipython",
    "version": 3
   },
   "file_extension": ".py",
   "mimetype": "text/x-python",
   "name": "python",
   "nbconvert_exporter": "python",
   "pygments_lexer": "ipython3",
   "version": "3.5.2"
  }
 },
 "nbformat": 4,
 "nbformat_minor": 2
}

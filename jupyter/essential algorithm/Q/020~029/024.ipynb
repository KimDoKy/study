{
 "cells": [
  {
   "cell_type": "markdown",
   "metadata": {},
   "source": [
    "# 점수 분포 출력하기"
   ]
  },
  {
   "cell_type": "markdown",
   "metadata": {},
   "source": [
    "- 0부터 100까지 주어진 점수들을 10점씩 묶어서 각 점수대별로 정렬하는 알고리즘을 작성\n",
    "- 예를 들어 0점대는 3명, 10점대는 2명, 20점대는 5명 등의 표현 형식으로 정렬하여 각 점수별 분포를 출력하시오."
   ]
  },
  {
   "cell_type": "markdown",
   "metadata": {},
   "source": [
    "- 조건\n",
    " - 입력된 점수의 끝은 -1로 확인한다.\n",
    " - 점수를 10으로 나누어 저장할 점수대의 인덱스를 구한다."
   ]
  },
  {
   "cell_type": "markdown",
   "metadata": {},
   "source": [
    "### 직접 풀어보기"
   ]
  },
  {
   "cell_type": "code",
   "execution_count": 1,
   "metadata": {},
   "outputs": [],
   "source": [
    "a = [75, 25, 6, 73, 43, 46, 31, 13, 60, 90, 5, 43, 35, 65, 100, 28, 83, 95, 35, 45, -1]"
   ]
  },
  {
   "cell_type": "code",
   "execution_count": 4,
   "metadata": {},
   "outputs": [],
   "source": [
    "def check_score(l):\n",
    "    result = {str(i*10):0 for i in range(11)}\n",
    "    for i in l:\n",
    "        if i == -1:\n",
    "            break\n",
    "        else:\n",
    "            n = i // 10 * 10\n",
    "            result[str(n)] += 1\n",
    "    return sorted(result.items())"
   ]
  },
  {
   "cell_type": "code",
   "execution_count": 5,
   "metadata": {},
   "outputs": [
    {
     "name": "stdout",
     "output_type": "stream",
     "text": [
      "0점대는 2명, 10점대는 1명, 20점대는 2명, 30점대는 3명, 40점대는 4명, 50점대는 0명, 60점대는 2명, 70점대는 2명, 80점대는 1명, 90점대는 2명, 100점대는 1명\n"
     ]
    }
   ],
   "source": [
    "result = check_score(a)\n",
    "for k in result:\n",
    "    if k[0] == str(100):continue\n",
    "    print('{0}점대는 {1}명,'.format(k[0], k[1]), end=\" \")\n",
    "print('{0}점대는 {1}명'.format(result[2][0], result[2][1]))"
   ]
  },
  {
   "cell_type": "markdown",
   "metadata": {},
   "source": [
    "### 답안지"
   ]
  },
  {
   "cell_type": "code",
   "execution_count": 7,
   "metadata": {},
   "outputs": [
    {
     "name": "stdout",
     "output_type": "stream",
     "text": [
      "0점대 - : 2명\n",
      "10점대 - : 1명\n",
      "20점대 - : 2명\n",
      "30점대 - : 3명\n",
      "40점대 - : 4명\n",
      "50점대 - : 0명\n",
      "60점대 - : 2명\n",
      "70점대 - : 2명\n",
      "80점대 - : 1명\n",
      "90점대 - : 2명\n",
      "100점대 - : 1명\n"
     ]
    }
   ],
   "source": [
    "history = [0] * 11\n",
    "\n",
    "i = 0\n",
    "\n",
    "while a[i] != -1:\n",
    "    rank = a[i] // 10\n",
    "    if rank >= 0 and rank <= 10:\n",
    "        history[rank] = history[rank] + 1\n",
    "    i += 1\n",
    "\n",
    "for i in range(len(history)):\n",
    "    print('{0}점대 - : {1}명'.format(i*10, history[i]))"
   ]
  },
  {
   "cell_type": "markdown",
   "metadata": {},
   "source": [
    "---\n",
    "당연히 딕셔너리형으로 푸는 문제라 판단했고, 순차적으로 출력하기 위해 쓸데없이 복잡해졌다.  \n",
    "딕셔너리의 키값을 리스트의 인덱스로 응용하는 점은 참고하도록 하자."
   ]
  }
 ],
 "metadata": {
  "kernelspec": {
   "display_name": "Python 3",
   "language": "python",
   "name": "python3"
  },
  "language_info": {
   "codemirror_mode": {
    "name": "ipython",
    "version": 3
   },
   "file_extension": ".py",
   "mimetype": "text/x-python",
   "name": "python",
   "nbconvert_exporter": "python",
   "pygments_lexer": "ipython3",
   "version": "3.5.2"
  }
 },
 "nbformat": 4,
 "nbformat_minor": 2
}

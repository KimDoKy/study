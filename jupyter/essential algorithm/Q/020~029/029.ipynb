{
 "cells": [
  {
   "cell_type": "markdown",
   "metadata": {},
   "source": [
    "# 하노이의 탑"
   ]
  },
  {
   "cell_type": "markdown",
   "metadata": {},
   "source": [
    "- 조건\n",
    " - 한 번에 하나의 원판만 옮길 수 있다.\n",
    " - 큰 원판이 작은 원판 위에 있어서는 안된다."
   ]
  },
  {
   "cell_type": "markdown",
   "metadata": {},
   "source": [
    "- 재귀 호출을 이용하여 풀 수 있는 가장 유명한 고전 문제"
   ]
  },
  {
   "cell_type": "code",
   "execution_count": 1,
   "metadata": {},
   "outputs": [],
   "source": [
    "def hanoi(n, fr, to, aux):\n",
    "    global count\n",
    "    if n > 0:\n",
    "        hanoi(n-1, fr, aux, to)\n",
    "        print(\"%d번 원판을 %c에서 %c로 옮김\"%(n, fr, to))\n",
    "        hanoi(n-1, aux, to, fr)"
   ]
  },
  {
   "cell_type": "code",
   "execution_count": 2,
   "metadata": {},
   "outputs": [
    {
     "name": "stdout",
     "output_type": "stream",
     "text": [
      "원반 갯수:  2\n",
      "1번 원판을 a에서 c로 옮김\n",
      "2번 원판을 a에서 b로 옮김\n",
      "1번 원판을 c에서 b로 옮김\n"
     ]
    }
   ],
   "source": [
    "n = 2\n",
    "print(\"원반 갯수: \", n)\n",
    "hanoi(n, 'a', 'b', 'c')"
   ]
  }
 ],
 "metadata": {
  "kernelspec": {
   "display_name": "Python 3",
   "language": "python",
   "name": "python3"
  },
  "language_info": {
   "codemirror_mode": {
    "name": "ipython",
    "version": 3
   },
   "file_extension": ".py",
   "mimetype": "text/x-python",
   "name": "python",
   "nbconvert_exporter": "python",
   "pygments_lexer": "ipython3",
   "version": "3.5.2"
  }
 },
 "nbformat": 4,
 "nbformat_minor": 2
}

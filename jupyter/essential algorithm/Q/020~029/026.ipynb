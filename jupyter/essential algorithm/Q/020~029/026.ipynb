{
 "cells": [
  {
   "cell_type": "markdown",
   "metadata": {},
   "source": [
    "# 배열을 사용하여 16진수 변환하기"
   ]
  },
  {
   "cell_type": "markdown",
   "metadata": {},
   "source": [
    "- 파이썬과 같은 프로그래밍 언어에서는 10진수를 16진수로 변환하는 기능을 기본적으로 제공한다.\n",
    "- 배열을 이용하여 간단히 10진수를 16진수로 변환하는 알고리즘을 작성하자."
   ]
  },
  {
   "cell_type": "code",
   "execution_count": 1,
   "metadata": {},
   "outputs": [],
   "source": [
    "d = '0123456789ABCDEF'"
   ]
  },
  {
   "cell_type": "code",
   "execution_count": 54,
   "metadata": {},
   "outputs": [],
   "source": [
    "result = ''\n",
    "def f_16(n):\n",
    "    global result\n",
    "    if n <= 16:\n",
    "        result += d[n]\n",
    "        return result\n",
    "    else:\n",
    "        result += d[n//16]\n",
    "        n = n % 16\n",
    "        return f_16(n)"
   ]
  },
  {
   "cell_type": "code",
   "execution_count": 55,
   "metadata": {},
   "outputs": [
    {
     "data": {
      "text/plain": [
       "'F5'"
      ]
     },
     "execution_count": 55,
     "metadata": {},
     "output_type": "execute_result"
    }
   ],
   "source": [
    "f_16(245)"
   ]
  },
  {
   "cell_type": "markdown",
   "metadata": {},
   "source": [
    "### 답안지"
   ]
  },
  {
   "cell_type": "code",
   "execution_count": 72,
   "metadata": {},
   "outputs": [],
   "source": [
    "d = '0123456789ABCDEFGHI'\n",
    "\n",
    "def f(n, k):\n",
    "    if n > 0:\n",
    "        f(n//k, k)\n",
    "        print(\"%c\"%d[n%k])"
   ]
  },
  {
   "cell_type": "code",
   "execution_count": 73,
   "metadata": {},
   "outputs": [
    {
     "name": "stdout",
     "output_type": "stream",
     "text": [
      "F\n",
      "5\n"
     ]
    }
   ],
   "source": [
    "n = 245\n",
    "k = 16\n",
    "f(n, k)"
   ]
  },
  {
   "cell_type": "markdown",
   "metadata": {},
   "source": [
    "---\n",
    "... 답안지에 오타가 많아서 수정함.  \n",
    "그리고 답안지에 굳이 k 인자를 계속 넣을 필요가 있을까.  \n",
    "16진법이 아닌 다른 진법으로 변환시 유용하겠네.  \n",
    "책에 설명이 너무 부족함."
   ]
  },
  {
   "cell_type": "code",
   "execution_count": 74,
   "metadata": {},
   "outputs": [],
   "source": [
    "d = '0123456789ABCDEF'\n",
    "\n",
    "def f(n):\n",
    "    if n > 0:\n",
    "        f(n//16)\n",
    "        print(\"%c\"%d[n%16], end='')"
   ]
  },
  {
   "cell_type": "code",
   "execution_count": 75,
   "metadata": {},
   "outputs": [
    {
     "name": "stdout",
     "output_type": "stream",
     "text": [
      "F5"
     ]
    }
   ],
   "source": [
    "f(245)"
   ]
  }
 ],
 "metadata": {
  "kernelspec": {
   "display_name": "Python 3",
   "language": "python",
   "name": "python3"
  },
  "language_info": {
   "codemirror_mode": {
    "name": "ipython",
    "version": 3
   },
   "file_extension": ".py",
   "mimetype": "text/x-python",
   "name": "python",
   "nbconvert_exporter": "python",
   "pygments_lexer": "ipython3",
   "version": "3.5.2"
  }
 },
 "nbformat": 4,
 "nbformat_minor": 2
}

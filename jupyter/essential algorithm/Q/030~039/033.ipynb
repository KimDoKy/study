{
 "cells": [
  {
   "cell_type": "markdown",
   "metadata": {},
   "source": [
    "# 알파벳 순서대로 하나씩 줄여가며 출력하기(재귀 호출 사용)"
   ]
  },
  {
   "cell_type": "markdown",
   "metadata": {},
   "source": [
    "- 조건\n",
    " - 반복문을 사용하여 'A'부터 문자를 출력한다.\n",
    " - 'Z'부터 하나씩 감소하여 재귀 함수를 호출한다."
   ]
  },
  {
   "cell_type": "code",
   "execution_count": 1,
   "metadata": {},
   "outputs": [],
   "source": [
    "cnt = 26\n",
    "\n",
    "def f(cnt):\n",
    "    if cnt != 0:\n",
    "        for i in range(cnt):\n",
    "            print(chr(ord('A')+i), end='')\n",
    "        print()\n",
    "        f(cnt-1)"
   ]
  },
  {
   "cell_type": "code",
   "execution_count": 2,
   "metadata": {},
   "outputs": [
    {
     "name": "stdout",
     "output_type": "stream",
     "text": [
      "ABCDEFGHIJKLMNOPQRSTUVWXYZ\n",
      "ABCDEFGHIJKLMNOPQRSTUVWXY\n",
      "ABCDEFGHIJKLMNOPQRSTUVWX\n",
      "ABCDEFGHIJKLMNOPQRSTUVW\n",
      "ABCDEFGHIJKLMNOPQRSTUV\n",
      "ABCDEFGHIJKLMNOPQRSTU\n",
      "ABCDEFGHIJKLMNOPQRST\n",
      "ABCDEFGHIJKLMNOPQRS\n",
      "ABCDEFGHIJKLMNOPQR\n",
      "ABCDEFGHIJKLMNOPQ\n",
      "ABCDEFGHIJKLMNOP\n",
      "ABCDEFGHIJKLMNO\n",
      "ABCDEFGHIJKLMN\n",
      "ABCDEFGHIJKLM\n",
      "ABCDEFGHIJKL\n",
      "ABCDEFGHIJK\n",
      "ABCDEFGHIJ\n",
      "ABCDEFGHI\n",
      "ABCDEFGH\n",
      "ABCDEFG\n",
      "ABCDEF\n",
      "ABCDE\n",
      "ABCD\n",
      "ABC\n",
      "AB\n",
      "A\n"
     ]
    }
   ],
   "source": [
    "f(cnt)"
   ]
  },
  {
   "cell_type": "markdown",
   "metadata": {},
   "source": [
    "### 답안지"
   ]
  },
  {
   "cell_type": "code",
   "execution_count": 3,
   "metadata": {},
   "outputs": [],
   "source": [
    "def f(end):\n",
    "    if end < 'A' or end > 'Z':\n",
    "        return -1\n",
    "    c = ord('A')\n",
    "    while c <= ord(end):\n",
    "        print(\"%2c\"%(c), end=\"\")\n",
    "        c = c + 1\n",
    "    print()\n",
    "    next = ord(end) - 1\n",
    "    return f(chr(next))"
   ]
  },
  {
   "cell_type": "code",
   "execution_count": 4,
   "metadata": {},
   "outputs": [
    {
     "name": "stdout",
     "output_type": "stream",
     "text": [
      " A B C D E F G H I J K L M N O P Q R S T U V W X Y Z\n",
      " A B C D E F G H I J K L M N O P Q R S T U V W X Y\n",
      " A B C D E F G H I J K L M N O P Q R S T U V W X\n",
      " A B C D E F G H I J K L M N O P Q R S T U V W\n",
      " A B C D E F G H I J K L M N O P Q R S T U V\n",
      " A B C D E F G H I J K L M N O P Q R S T U\n",
      " A B C D E F G H I J K L M N O P Q R S T\n",
      " A B C D E F G H I J K L M N O P Q R S\n",
      " A B C D E F G H I J K L M N O P Q R\n",
      " A B C D E F G H I J K L M N O P Q\n",
      " A B C D E F G H I J K L M N O P\n",
      " A B C D E F G H I J K L M N O\n",
      " A B C D E F G H I J K L M N\n",
      " A B C D E F G H I J K L M\n",
      " A B C D E F G H I J K L\n",
      " A B C D E F G H I J K\n",
      " A B C D E F G H I J\n",
      " A B C D E F G H I\n",
      " A B C D E F G H\n",
      " A B C D E F G\n",
      " A B C D E F\n",
      " A B C D E\n",
      " A B C D\n",
      " A B C\n",
      " A B\n",
      " A\n"
     ]
    },
    {
     "data": {
      "text/plain": [
       "-1"
      ]
     },
     "execution_count": 4,
     "metadata": {},
     "output_type": "execute_result"
    }
   ],
   "source": [
    "f('Z')"
   ]
  },
  {
   "cell_type": "markdown",
   "metadata": {},
   "source": [
    "`chr()`를 사용하지 않고, `print()` 자체에서 문자로 변환하는 방법"
   ]
  }
 ],
 "metadata": {
  "kernelspec": {
   "display_name": "Python 3",
   "language": "python",
   "name": "python3"
  },
  "language_info": {
   "codemirror_mode": {
    "name": "ipython",
    "version": 3
   },
   "file_extension": ".py",
   "mimetype": "text/x-python",
   "name": "python",
   "nbconvert_exporter": "python",
   "pygments_lexer": "ipython3",
   "version": "3.6.0"
  }
 },
 "nbformat": 4,
 "nbformat_minor": 2
}

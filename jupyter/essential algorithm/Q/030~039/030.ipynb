{
 "cells": [
  {
   "cell_type": "markdown",
   "metadata": {},
   "source": [
    "# 이진 트리에서 두 노드 사이의 거리 구하기"
   ]
  },
  {
   "cell_type": "markdown",
   "metadata": {},
   "source": [
    "- 이진 트리에서 임의의 2개의 노드 사이의 거리를 구하는 문제"
   ]
  },
  {
   "cell_type": "markdown",
   "metadata": {},
   "source": [
    "- 조건\n",
    " - 전체 점수의 처음부터 끝까지 반복하여 현재의 점수가 몇 번째의 크기를 갖는지를 계산한다.\n",
    " - 이진트리에서 두 노드의 거리는 두 노드가 루트 노드가 될 때까지 부모 노드를 구하면 된다."
   ]
  },
  {
   "cell_type": "markdown",
   "metadata": {},
   "source": [
    "- 힌트\n",
    " - 주어진 노드 n의 부모 노드는 n/2가 된다. (n의 부모 노드는 (자식 노드/2)로 구할 수 있다.)\n",
    " - 두 노드의 거리는 두 노드가 루트 노드가 될 때까지 부모 노드를 구하면 된다."
   ]
  },
  {
   "cell_type": "code",
   "execution_count": 1,
   "metadata": {},
   "outputs": [],
   "source": [
    "def f(a, b):\n",
    "    if a == b:\n",
    "        return 0\n",
    "    \n",
    "    # 노드 b가 노드 a보다 루트 노드에서 더 멀다는 것을 의미\n",
    "    # 노드 b의 부모 노드를 매개 변수로 하여 f(a, b/2)를 재귀한다.\n",
    "    # 노드 b가 부모 노드인 b/2로 한 레벨 줄었기 때문에 거리를 1 증가 시킨다.\n",
    "    if b > a:\n",
    "        return f(a, b // 2) + 1\n",
    "    \n",
    "    # 위 내용과 대칭으로 동일\n",
    "    if a > b:\n",
    "        return f(a // 2, b) + 1"
   ]
  },
  {
   "cell_type": "code",
   "execution_count": 2,
   "metadata": {},
   "outputs": [
    {
     "name": "stdout",
     "output_type": "stream",
     "text": [
      "첫 번째 노드: 1 / 두 번째 노드: 6// 두 노드 사이의 거리: 2\n"
     ]
    }
   ],
   "source": [
    "a = 1\n",
    "b = 6\n",
    "print(f'첫 번째 노드: {a} / 두 번째 노드: {b}// 두 노드 사이의 거리: {f(a, b)}')"
   ]
  },
  {
   "cell_type": "markdown",
   "metadata": {},
   "source": [
    "알고리즘에서 사용하는 트리 중 2/3는 이진 트리이다. 이진 트리를 사용하는 경우는 이와 같이 재귀 호출을 기반으로한 다양한 알고리즘들을 사용할 수 있다."
   ]
  }
 ],
 "metadata": {
  "kernelspec": {
   "display_name": "Python 3",
   "language": "python",
   "name": "python3"
  },
  "language_info": {
   "codemirror_mode": {
    "name": "ipython",
    "version": 3
   },
   "file_extension": ".py",
   "mimetype": "text/x-python",
   "name": "python",
   "nbconvert_exporter": "python",
   "pygments_lexer": "ipython3",
   "version": "3.6.0"
  }
 },
 "nbformat": 4,
 "nbformat_minor": 2
}

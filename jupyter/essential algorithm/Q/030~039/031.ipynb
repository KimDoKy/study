{
 "cells": [
  {
   "cell_type": "markdown",
   "metadata": {},
   "source": [
    "# 제곱근 구하기"
   ]
  },
  {
   "cell_type": "markdown",
   "metadata": {},
   "source": [
    "- 정수의 제곱근을 구하는 알고리즘\n",
    "\n",
    "- ex\n",
    "```\n",
    "mysqrt(9) = 3\n",
    "mysqrt(10) = 3\n",
    "mysqrt(11) = 3\n",
    "...\n",
    "mysqrt(15) = 3\n",
    "mysqrt(16) = 4\n",
    "```"
   ]
  },
  {
   "cell_type": "markdown",
   "metadata": {},
   "source": [
    "- 조건\n",
    " - 어떤 정수 n의 제곱근을 구하기 위해서는 n에서 차례대로 1,3,5,7,9...를 빼서 다시 n에 저장한다.\n",
    " - n이 0보다 크거나 같을 때가지 이 과정을 반복하고, n이 0보다 작아지면 지금까지 뺀 횟수가 n의 정수제곱근이 된다."
   ]
  },
  {
   "cell_type": "markdown",
   "metadata": {},
   "source": [
    "- 힌트 \n",
    " - [바빌로니아법](https://ko.wikipedia.org/wiki/%EB%B0%94%EB%B9%8C%EB%A1%9C%EB%8B%88%EC%95%84_%EB%B2%95)\n",
    " - 제곱근에 빠르게 수렴하는 수열을 만들어 근사값을 구하는 방법\n",
    "\n",
    "```python\n",
    "# n의 제곱근을 구하는 방식의 골격 코드\n",
    "i = 0\n",
    "while n >= 0:\n",
    "    n = n - 2 * i + 1\n",
    "    i = i + 1\n",
    "return i - 1\n",
    "```"
   ]
  },
  {
   "cell_type": "code",
   "execution_count": 30,
   "metadata": {},
   "outputs": [],
   "source": [
    "def f(n):\n",
    "    if n <= 3:\n",
    "        return 1\n",
    "    \n",
    "    cnt = 0\n",
    "    odd_nums = [x for x in range(n) if x % 2 != 0]\n",
    "    for i in odd_nums:\n",
    "        if i <= n:\n",
    "            n -= i\n",
    "            cnt += 1\n",
    "            print(f'i: {i}, cnt: {cnt}')\n",
    "    return cnt\n",
    "        "
   ]
  },
  {
   "cell_type": "code",
   "execution_count": 31,
   "metadata": {},
   "outputs": [
    {
     "name": "stdout",
     "output_type": "stream",
     "text": [
      "i: 1, cnt: 1\n",
      "i: 3, cnt: 2\n",
      "i: 5, cnt: 3\n",
      "i: 7, cnt: 4\n"
     ]
    },
    {
     "data": {
      "text/plain": [
       "4"
      ]
     },
     "execution_count": 31,
     "metadata": {},
     "output_type": "execute_result"
    }
   ],
   "source": [
    "f(16)"
   ]
  },
  {
   "cell_type": "markdown",
   "metadata": {},
   "source": [
    "### 답안지"
   ]
  },
  {
   "cell_type": "code",
   "execution_count": 32,
   "metadata": {},
   "outputs": [],
   "source": [
    "def f(n):\n",
    "    a = [0] * 100\n",
    "    \n",
    "    i = 1\n",
    "    while i <= n:\n",
    "        a[i] = 0\n",
    "        i += 1\n",
    "        \n",
    "    i = 1\n",
    "    while i <= n:\n",
    "        j = i\n",
    "        while j <= n:\n",
    "            a[j] = 1 - a[j]\n",
    "            j += 1\n",
    "        i += 1\n",
    "\n",
    "    cnt = 0\n",
    "    i = 1\n",
    "    while i <= n:\n",
    "        if a[i] == 1:\n",
    "            cnt += 1\n",
    "        i += 1\n",
    "        \n",
    "    return cnt"
   ]
  },
  {
   "cell_type": "code",
   "execution_count": 33,
   "metadata": {},
   "outputs": [
    {
     "name": "stdout",
     "output_type": "stream",
     "text": [
      "10의 제곱근: 5\n"
     ]
    }
   ],
   "source": [
    "print(f'10의 제곱근: {f(10)}')"
   ]
  },
  {
   "cell_type": "markdown",
   "metadata": {},
   "source": [
    "---\n",
    "이제 틀린 답변 보기도 지쳐간다. 시간의 여유가 있다면 다 고쳐보겠지만, 바빠서 일단 패스."
   ]
  },
  {
   "cell_type": "markdown",
   "metadata": {},
   "source": [
    "파이썬에서 제공하는 제곱근 구하는 함수"
   ]
  },
  {
   "cell_type": "code",
   "execution_count": 22,
   "metadata": {},
   "outputs": [
    {
     "data": {
      "text/plain": [
       "3.7416573867739413"
      ]
     },
     "execution_count": 22,
     "metadata": {},
     "output_type": "execute_result"
    }
   ],
   "source": [
    "from math import sqrt\n",
    "sqrt(14)"
   ]
  }
 ],
 "metadata": {
  "kernelspec": {
   "display_name": "Python 3",
   "language": "python",
   "name": "python3"
  },
  "language_info": {
   "codemirror_mode": {
    "name": "ipython",
    "version": 3
   },
   "file_extension": ".py",
   "mimetype": "text/x-python",
   "name": "python",
   "nbconvert_exporter": "python",
   "pygments_lexer": "ipython3",
   "version": "3.6.0"
  }
 },
 "nbformat": 4,
 "nbformat_minor": 2
}

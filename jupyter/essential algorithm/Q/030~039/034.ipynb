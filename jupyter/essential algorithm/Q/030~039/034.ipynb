{
 "cells": [
  {
   "cell_type": "markdown",
   "metadata": {},
   "source": [
    "# 3x3 행렬 중 합이 최소가 되는 항목 선택하기"
   ]
  },
  {
   "cell_type": "markdown",
   "metadata": {},
   "source": [
    "- 주어진 3x3 행렬에서 각 행과 열이 중복되지 않도록 숫자를 선택하고, 선택한 숫자들의 최소합을 구하는 알고리즘을 작성"
   ]
  },
  {
   "cell_type": "markdown",
   "metadata": {},
   "source": [
    "- 조건\n",
    " - 파이썬에서 제공하는 최댓값 상수를 이용한다.\n",
    "```python\n",
    "import sys\n",
    "max = sys.maxsize\n",
    "min = sys.maxsize -1\n",
    "```\n",
    " - 백트래킹 기반의 재귀 함수를 이용한다.\n",
    " \n",
    "```python\n",
    "    def f(row, score):\n",
    "        for i in range(3):\n",
    "            r(row+1, score_matrix[row][i])\n",
    "```\n",
    " - 한 번 선택한 항목을 다시 선택하지 않도록 하기 위해 별도의 플래그 배열을 사용한다.\n",
    " \n",
    "```python\n",
    "checked = {False, False, False}\n",
    "\n",
    "def f(row, score):\n",
    "    for i in range(3):\n",
    "        if checked[i] == False:\n",
    "            checked[i] = True\n",
    "            f(row+1, score+matrix[row][i])\n",
    "            checked[i] = False\n",
    "```"
   ]
  },
  {
   "cell_type": "code",
   "execution_count": 2,
   "metadata": {},
   "outputs": [
    {
     "name": "stdout",
     "output_type": "stream",
     "text": [
      "9223372036854775807\n",
      "-9223372036854775808\n"
     ]
    }
   ],
   "source": [
    "import sys\n",
    "max = sys.maxsize\n",
    "min = -sys.maxsize -1\n",
    "print(max)\n",
    "print(min)"
   ]
  },
  {
   "cell_type": "code",
   "execution_count": 24,
   "metadata": {},
   "outputs": [],
   "source": [
    "INT_MAX = 10000\n",
    "\n",
    "m = [\n",
    "    [1,5,3],\n",
    "    [2,5,7],\n",
    "    [5,3,5]\n",
    "]\n",
    "\n",
    "col_check = [False, False, False]\n",
    "min_sol = INT_MAX"
   ]
  },
  {
   "cell_type": "code",
   "execution_count": 25,
   "metadata": {},
   "outputs": [],
   "source": [
    "def f(row, score):\n",
    "    global INT_MAX\n",
    "    global min_sol\n",
    "    \n",
    "    if row == 3:\n",
    "        if score < min_sol:\n",
    "            min_sol = score\n",
    "        return min_sol\n",
    "    \n",
    "    for i in range(3):\n",
    "        if col_check[i] == False:\n",
    "            col_check[i] = True\n",
    "            f(row+1, score + m[row][i])\n",
    "            col_check[i] = False\n",
    "            \n",
    "    return min_sol"
   ]
  },
  {
   "cell_type": "code",
   "execution_count": 26,
   "metadata": {},
   "outputs": [
    {
     "name": "stdout",
     "output_type": "stream",
     "text": [
      "min_sol: 8\n"
     ]
    }
   ],
   "source": [
    "print(f'min_sol: {f(0,0)}')"
   ]
  }
 ],
 "metadata": {
  "kernelspec": {
   "display_name": "Python 3",
   "language": "python",
   "name": "python3"
  },
  "language_info": {
   "codemirror_mode": {
    "name": "ipython",
    "version": 3
   },
   "file_extension": ".py",
   "mimetype": "text/x-python",
   "name": "python",
   "nbconvert_exporter": "python",
   "pygments_lexer": "ipython3",
   "version": "3.6.0"
  }
 },
 "nbformat": 4,
 "nbformat_minor": 2
}

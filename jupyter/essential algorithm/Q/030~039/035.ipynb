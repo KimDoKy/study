{
 "cells": [
  {
   "cell_type": "markdown",
   "metadata": {},
   "source": [
    "# 회문(palindrome) 확인하기"
   ]
  },
  {
   "cell_type": "markdown",
   "metadata": {},
   "source": [
    "- 거꾸로 읽어도 제대로 읽히는 문장이나 낱말\n",
    "- '구로구', 'level' 등\n",
    "- 띄어쓰기나 문장부호는 무시"
   ]
  },
  {
   "cell_type": "markdown",
   "metadata": {},
   "source": [
    "- 조건\n",
    " - 주어진 문자열의 처음과 끝의 문자를 비교하고 같으면 그 다음 문자를 비교하며, 아니면 빠져나온다."
   ]
  },
  {
   "cell_type": "code",
   "execution_count": 1,
   "metadata": {},
   "outputs": [],
   "source": [
    "str_1 = 'mississippi'\n",
    "str_2 = 'level'\n",
    "str_3 = '구로구'\n",
    "str_4 = 'apple'"
   ]
  },
  {
   "cell_type": "code",
   "execution_count": 2,
   "metadata": {},
   "outputs": [],
   "source": [
    "def check_palidrome(w):\n",
    "    for i in range(len(w)//2):\n",
    "        if w[i] != w[-i-1]: return False\n",
    "    return True\n",
    "        "
   ]
  },
  {
   "cell_type": "code",
   "execution_count": 3,
   "metadata": {},
   "outputs": [
    {
     "name": "stdout",
     "output_type": "stream",
     "text": [
      "False\n",
      "True\n",
      "True\n",
      "False\n"
     ]
    }
   ],
   "source": [
    "print(check_palidrome(str_1))\n",
    "print(check_palidrome(str_2))\n",
    "print(check_palidrome(str_3))\n",
    "print(check_palidrome(str_4))"
   ]
  },
  {
   "cell_type": "markdown",
   "metadata": {},
   "source": [
    "### 답안지"
   ]
  },
  {
   "cell_type": "code",
   "execution_count": 9,
   "metadata": {},
   "outputs": [],
   "source": [
    "length = 11\n",
    "str = 'mississippi'\n",
    "\n",
    "def f():\n",
    "    p = 0\n",
    "    c = 0\n",
    "    for i in range(length):\n",
    "        j = i + 1\n",
    "        while j < length:\n",
    "            p = j - i + 1\n",
    "            k = 0\n",
    "            while i + k < j - k:\n",
    "                if str[i+k] != str[j-k]:\n",
    "                    p = 0\n",
    "                    break\n",
    "                k = k + 1\n",
    "            c = c + p\n",
    "            j = j + 1\n",
    "    print(\"회문의 갯수: %d\"%(c))"
   ]
  },
  {
   "cell_type": "code",
   "execution_count": 10,
   "metadata": {},
   "outputs": [
    {
     "name": "stdout",
     "output_type": "stream",
     "text": [
      "회문의 갯수: 33\n"
     ]
    }
   ],
   "source": [
    "f()"
   ]
  },
  {
   "cell_type": "markdown",
   "metadata": {},
   "source": [
    "---  \n",
    "해당 결과는 회문이 이루어지는 단어들의 문자 갯수이다."
   ]
  }
 ],
 "metadata": {
  "kernelspec": {
   "display_name": "Python 3",
   "language": "python",
   "name": "python3"
  },
  "language_info": {
   "codemirror_mode": {
    "name": "ipython",
    "version": 3
   },
   "file_extension": ".py",
   "mimetype": "text/x-python",
   "name": "python",
   "nbconvert_exporter": "python",
   "pygments_lexer": "ipython3",
   "version": "3.6.0"
  }
 },
 "nbformat": 4,
 "nbformat_minor": 2
}

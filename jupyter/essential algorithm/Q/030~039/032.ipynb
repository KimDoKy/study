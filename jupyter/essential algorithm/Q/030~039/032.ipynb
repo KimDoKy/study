{
 "cells": [
  {
   "cell_type": "markdown",
   "metadata": {},
   "source": [
    "# 알파벳 순서대로 하나씩 줄여가며 출력하기 (반복문 사용)"
   ]
  },
  {
   "cell_type": "markdown",
   "metadata": {},
   "source": [
    "- 조건\n",
    " - 26행(a-z까지 총 26행)을 반복하여 출력\n",
    " - a부터 (z-a)만큼 출력한다."
   ]
  },
  {
   "cell_type": "markdown",
   "metadata": {},
   "source": [
    "- 힌트\n",
    " - `ord()`: 문자를 아스키 코드 번호로 변환\n",
    " - 결과는 10진수 형태로 출력되며, 10진수가 아닌 16진수 문자열로 출력하려면 `hex()`를 사용하면 된다.\n",
    " - `ord()`와 반대 기능인 아스키 코드 번호를 실제 문자로 변환하려면 `chr()`를 사용한다."
   ]
  },
  {
   "cell_type": "code",
   "execution_count": 1,
   "metadata": {},
   "outputs": [
    {
     "name": "stdout",
     "output_type": "stream",
     "text": [
      "97\n",
      "0x61\n",
      "a\n",
      "a\n"
     ]
    }
   ],
   "source": [
    "# ex: ord, hex, chr\n",
    "print(ord('a'))\n",
    "print(hex(ord('a')))\n",
    "print(chr(97))\n",
    "print(chr(0x61))"
   ]
  },
  {
   "cell_type": "markdown",
   "metadata": {},
   "source": [
    "### 직접 풀어보기"
   ]
  },
  {
   "cell_type": "code",
   "execution_count": 2,
   "metadata": {},
   "outputs": [],
   "source": [
    "def minus_alpha():\n",
    "    a = ord('A')\n",
    "    i = 26\n",
    "    while i != 0:\n",
    "        for j in range(i):\n",
    "            print(chr(a+j), end='')\n",
    "        print()\n",
    "        i -= 1"
   ]
  },
  {
   "cell_type": "code",
   "execution_count": 3,
   "metadata": {},
   "outputs": [],
   "source": [
    "from time import time as t"
   ]
  },
  {
   "cell_type": "code",
   "execution_count": 4,
   "metadata": {},
   "outputs": [
    {
     "name": "stdout",
     "output_type": "stream",
     "text": [
      "ABCDEFGHIJKLMNOPQRSTUVWXYZ\n",
      "ABCDEFGHIJKLMNOPQRSTUVWXY\n",
      "ABCDEFGHIJKLMNOPQRSTUVWX\n",
      "ABCDEFGHIJKLMNOPQRSTUVW\n",
      "ABCDEFGHIJKLMNOPQRSTUV\n",
      "ABCDEFGHIJKLMNOPQRSTU\n",
      "ABCDEFGHIJKLMNOPQRST\n",
      "ABCDEFGHIJKLMNOPQRS\n",
      "ABCDEFGHIJKLMNOPQR\n",
      "ABCDEFGHIJKLMNOPQ\n",
      "ABCDEFGHIJKLMNOP\n",
      "ABCDEFGHIJKLMNO\n",
      "ABCDEFGHIJKLMN\n",
      "ABCDEFGHIJKLM\n",
      "ABCDEFGHIJKL\n",
      "ABCDEFGHIJK\n",
      "ABCDEFGHIJ\n",
      "ABCDEFGHI\n",
      "ABCDEFGH\n",
      "ABCDEFG\n",
      "ABCDEF\n",
      "ABCDE\n",
      "ABCD\n",
      "ABC\n",
      "AB\n",
      "A\n",
      "0.012952089309692383\n"
     ]
    }
   ],
   "source": [
    "s_t = t()\n",
    "minus_alpha()\n",
    "r_t = t() - s_t\n",
    "print(r_t)"
   ]
  },
  {
   "cell_type": "markdown",
   "metadata": {},
   "source": [
    "### 답안지"
   ]
  },
  {
   "cell_type": "code",
   "execution_count": 5,
   "metadata": {},
   "outputs": [],
   "source": [
    "def f():\n",
    "    a = ord('A')\n",
    "    while a <= ord('Z'):\n",
    "        b = ord('A')\n",
    "        while b <= (ord('Z') - (a - 65)):\n",
    "            print('%2c'%(b), end='')\n",
    "            b = b + 1\n",
    "        print()\n",
    "        a = a + 1"
   ]
  },
  {
   "cell_type": "code",
   "execution_count": 6,
   "metadata": {},
   "outputs": [
    {
     "name": "stdout",
     "output_type": "stream",
     "text": [
      " A B C D E F G H I J K L M N O P Q R S T U V W X Y Z\n",
      " A B C D E F G H I J K L M N O P Q R S T U V W X Y\n",
      " A B C D E F G H I J K L M N O P Q R S T U V W X\n",
      " A B C D E F G H I J K L M N O P Q R S T U V W\n",
      " A B C D E F G H I J K L M N O P Q R S T U V\n",
      " A B C D E F G H I J K L M N O P Q R S T U\n",
      " A B C D E F G H I J K L M N O P Q R S T\n",
      " A B C D E F G H I J K L M N O P Q R S\n",
      " A B C D E F G H I J K L M N O P Q R\n",
      " A B C D E F G H I J K L M N O P Q\n",
      " A B C D E F G H I J K L M N O P\n",
      " A B C D E F G H I J K L M N O\n",
      " A B C D E F G H I J K L M N\n",
      " A B C D E F G H I J K L M\n",
      " A B C D E F G H I J K L\n",
      " A B C D E F G H I J K\n",
      " A B C D E F G H I J\n",
      " A B C D E F G H I\n",
      " A B C D E F G H\n",
      " A B C D E F G\n",
      " A B C D E F\n",
      " A B C D E\n",
      " A B C D\n",
      " A B C\n",
      " A B\n",
      " A\n",
      "0.011922121047973633\n"
     ]
    }
   ],
   "source": [
    "s_t = t()\n",
    "f()\n",
    "r_t = t() - s_t\n",
    "print(r_t)"
   ]
  }
 ],
 "metadata": {
  "kernelspec": {
   "display_name": "Python 3",
   "language": "python",
   "name": "python3"
  },
  "language_info": {
   "codemirror_mode": {
    "name": "ipython",
    "version": 3
   },
   "file_extension": ".py",
   "mimetype": "text/x-python",
   "name": "python",
   "nbconvert_exporter": "python",
   "pygments_lexer": "ipython3",
   "version": "3.6.0"
  }
 },
 "nbformat": 4,
 "nbformat_minor": 2
}

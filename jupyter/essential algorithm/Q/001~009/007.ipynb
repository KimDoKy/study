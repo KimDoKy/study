{
 "cells": [
  {
   "cell_type": "markdown",
   "metadata": {},
   "source": [
    "# 369 게임 만들기"
   ]
  },
  {
   "cell_type": "markdown",
   "metadata": {},
   "source": [
    "- 3의 배수에서만 박수를 치는 369 게임 제작"
   ]
  },
  {
   "cell_type": "markdown",
   "metadata": {},
   "source": [
    "### 직접 풀어보기"
   ]
  },
  {
   "cell_type": "code",
   "execution_count": 1,
   "metadata": {},
   "outputs": [],
   "source": [
    "def game_369(n):\n",
    "    for i in range(1, n+1):\n",
    "        if i % 3 == 0:\n",
    "            print('짝')\n",
    "        else:\n",
    "            print(i)"
   ]
  },
  {
   "cell_type": "code",
   "execution_count": 2,
   "metadata": {},
   "outputs": [
    {
     "name": "stdout",
     "output_type": "stream",
     "text": [
      "1\n",
      "2\n",
      "짝\n",
      "4\n",
      "5\n",
      "짝\n",
      "7\n",
      "8\n",
      "짝\n",
      "10\n",
      "11\n",
      "짝\n",
      "13\n",
      "14\n",
      "짝\n",
      "16\n",
      "17\n",
      "짝\n",
      "19\n",
      "20\n",
      "짝\n",
      "22\n",
      "23\n",
      "짝\n",
      "25\n",
      "26\n",
      "짝\n",
      "28\n",
      "29\n",
      "짝\n"
     ]
    }
   ],
   "source": [
    "game_369(30)"
   ]
  },
  {
   "cell_type": "markdown",
   "metadata": {},
   "source": [
    "### 답안지"
   ]
  },
  {
   "cell_type": "code",
   "execution_count": 3,
   "metadata": {},
   "outputs": [
    {
     "name": "stdout",
     "output_type": "stream",
     "text": [
      "1\n",
      "2\n",
      "X\n",
      "4\n",
      "5\n",
      "X\n",
      "7\n",
      "8\n",
      "X\n",
      "10\n",
      "11\n",
      "X\n",
      "13\n",
      "14\n",
      "X\n",
      "16\n",
      "17\n",
      "X\n",
      "19\n",
      "20\n",
      "X\n",
      "22\n",
      "23\n",
      "X\n",
      "25\n",
      "26\n",
      "X\n",
      "28\n",
      "29\n",
      "X\n"
     ]
    }
   ],
   "source": [
    "def solve(n):\n",
    "    i = 1\n",
    "    while i <= n:\n",
    "        if i % 3 == 0:\n",
    "            print(\"X\")\n",
    "        else:\n",
    "            print(i)\n",
    "        i = i + 1\n",
    "        \n",
    "solve(30)"
   ]
  },
  {
   "cell_type": "markdown",
   "metadata": {},
   "source": [
    "`for`과 `while`의 차이..  \n",
    "`for`문엔 `range()` 함수가 사용되기 때문에 효율성이 약간 떨어질지도..."
   ]
  }
 ],
 "metadata": {
  "kernelspec": {
   "display_name": "Python 3",
   "language": "python",
   "name": "python3"
  },
  "language_info": {
   "codemirror_mode": {
    "name": "ipython",
    "version": 3
   },
   "file_extension": ".py",
   "mimetype": "text/x-python",
   "name": "python",
   "nbconvert_exporter": "python",
   "pygments_lexer": "ipython3",
   "version": "3.6.0"
  }
 },
 "nbformat": 4,
 "nbformat_minor": 2
}

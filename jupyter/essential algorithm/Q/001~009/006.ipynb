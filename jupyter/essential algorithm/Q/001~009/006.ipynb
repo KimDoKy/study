{
 "cells": [
  {
   "cell_type": "markdown",
   "metadata": {},
   "source": [
    "# 숫자 뒤집기"
   ]
  },
  {
   "cell_type": "markdown",
   "metadata": {},
   "source": [
    "- 사용자로부터 입력 받은 데이터를 역순으로 출력"
   ]
  },
  {
   "cell_type": "code",
   "execution_count": 1,
   "metadata": {},
   "outputs": [],
   "source": [
    "def print_reverse(n):\n",
    "    print(' '.join(reversed(str(n))))"
   ]
  },
  {
   "cell_type": "code",
   "execution_count": 2,
   "metadata": {},
   "outputs": [
    {
     "name": "stdout",
     "output_type": "stream",
     "text": [
      "3 8 2 8 9 3 1\n"
     ]
    }
   ],
   "source": [
    "print_reverse(1398283)"
   ]
  },
  {
   "cell_type": "markdown",
   "metadata": {},
   "source": [
    "### 답안지"
   ]
  },
  {
   "cell_type": "code",
   "execution_count": 3,
   "metadata": {},
   "outputs": [
    {
     "name": "stdout",
     "output_type": "stream",
     "text": [
      "5 1 7 8 3 9 2 1 "
     ]
    }
   ],
   "source": [
    "def solve(n):\n",
    "    if n == 0:\n",
    "        return 0\n",
    "    print(n%10, end=' ')\n",
    "    solve(n//10)\n",
    "    \n",
    "solve(12938715)"
   ]
  },
  {
   "cell_type": "markdown",
   "metadata": {},
   "source": [
    "입력받은 데이터를 문자열로 간주하여 문자열의 끝부분부터 맨처음으로 역순으로 출력하는 방식으로 생각할 수도 있다.(그게 나에요...)  \n",
    "하지만 정수형 데이터를 입력받아 출력하는 방법은 정수값의 자릿수 개념으로 생각하면 쉽게 해결할 수 있다."
   ]
  }
 ],
 "metadata": {
  "kernelspec": {
   "display_name": "Python 3",
   "language": "python",
   "name": "python3"
  },
  "language_info": {
   "codemirror_mode": {
    "name": "ipython",
    "version": 3
   },
   "file_extension": ".py",
   "mimetype": "text/x-python",
   "name": "python",
   "nbconvert_exporter": "python",
   "pygments_lexer": "ipython3",
   "version": "3.6.0"
  }
 },
 "nbformat": 4,
 "nbformat_minor": 2
}

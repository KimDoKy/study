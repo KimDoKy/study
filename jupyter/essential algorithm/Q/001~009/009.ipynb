{
 "cells": [
  {
   "cell_type": "markdown",
   "metadata": {},
   "source": [
    "# 2 ~ N 사이의 모든 소수를 추출하기"
   ]
  },
  {
   "cell_type": "markdown",
   "metadata": {},
   "source": [
    "### 직접 풀어보기"
   ]
  },
  {
   "cell_type": "code",
   "execution_count": 1,
   "metadata": {},
   "outputs": [],
   "source": [
    "from math import sqrt\n",
    "\n",
    "def is_prime(num):\n",
    "    if num == 1: return Fasle\n",
    "    \n",
    "    n = int(sqrt(num))\n",
    "    for i in range(2, n+1):\n",
    "        if num % i == 0: return False\n",
    "    return True\n",
    "\n",
    "def print_prime(num):\n",
    "    for i in range(2, num+1):\n",
    "        if is_prime(i) == True: print(i)"
   ]
  },
  {
   "cell_type": "code",
   "execution_count": 3,
   "metadata": {},
   "outputs": [
    {
     "name": "stdout",
     "output_type": "stream",
     "text": [
      "2\n",
      "3\n",
      "5\n",
      "7\n",
      "11\n",
      "13\n",
      "17\n",
      "19\n",
      "23\n",
      "29\n",
      "31\n",
      "37\n",
      "41\n",
      "43\n",
      "47\n",
      "53\n",
      "59\n",
      "61\n",
      "67\n",
      "71\n",
      "73\n",
      "79\n",
      "83\n",
      "89\n",
      "97\n"
     ]
    }
   ],
   "source": [
    "print_prime(100)"
   ]
  },
  {
   "cell_type": "markdown",
   "metadata": {},
   "source": [
    "### 답안지"
   ]
  },
  {
   "cell_type": "code",
   "execution_count": 5,
   "metadata": {},
   "outputs": [
    {
     "name": "stdout",
     "output_type": "stream",
     "text": [
      "2는 소수\n",
      "3는 소수\n",
      "4는 합성수\n",
      "5는 소수\n",
      "6는 합성수\n",
      "7는 소수\n",
      "8는 합성수\n",
      "9는 합성수\n",
      "10는 합성수\n",
      "11는 소수\n",
      "12는 합성수\n",
      "13는 소수\n",
      "14는 합성수\n",
      "15는 합성수\n",
      "16는 합성수\n",
      "17는 소수\n",
      "18는 합성수\n",
      "19는 소수\n",
      "20는 합성수\n",
      "21는 합성수\n",
      "22는 합성수\n",
      "23는 소수\n",
      "24는 합성수\n",
      "25는 합성수\n",
      "26는 합성수\n",
      "27는 합성수\n",
      "28는 합성수\n",
      "29는 소수\n",
      "30는 합성수\n",
      "31는 소수\n",
      "32는 합성수\n",
      "33는 합성수\n",
      "34는 합성수\n",
      "35는 합성수\n",
      "36는 합성수\n",
      "37는 소수\n",
      "38는 합성수\n",
      "39는 합성수\n",
      "40는 합성수\n",
      "41는 소수\n",
      "42는 합성수\n",
      "43는 소수\n",
      "44는 합성수\n",
      "45는 합성수\n",
      "46는 합성수\n",
      "47는 소수\n",
      "48는 합성수\n",
      "49는 합성수\n",
      "50는 합성수\n",
      "51는 합성수\n",
      "52는 합성수\n",
      "53는 소수\n",
      "54는 합성수\n",
      "55는 합성수\n",
      "56는 합성수\n",
      "57는 합성수\n",
      "58는 합성수\n",
      "59는 소수\n",
      "60는 합성수\n",
      "61는 소수\n",
      "62는 합성수\n",
      "63는 합성수\n",
      "64는 합성수\n",
      "65는 합성수\n",
      "66는 합성수\n",
      "67는 소수\n",
      "68는 합성수\n",
      "69는 합성수\n",
      "70는 합성수\n",
      "71는 소수\n",
      "72는 합성수\n",
      "73는 소수\n",
      "74는 합성수\n",
      "75는 합성수\n",
      "76는 합성수\n",
      "77는 합성수\n",
      "78는 합성수\n",
      "79는 소수\n",
      "80는 합성수\n",
      "81는 합성수\n",
      "82는 합성수\n",
      "83는 소수\n",
      "84는 합성수\n",
      "85는 합성수\n",
      "86는 합성수\n",
      "87는 합성수\n",
      "88는 합성수\n",
      "89는 소수\n",
      "90는 합성수\n",
      "91는 합성수\n",
      "92는 합성수\n",
      "93는 합성수\n",
      "94는 합성수\n",
      "95는 합성수\n",
      "96는 합성수\n",
      "97는 소수\n",
      "98는 합성수\n",
      "99는 합성수\n",
      "100는 합성수\n"
     ]
    }
   ],
   "source": [
    "def check_prime(n):\n",
    "    i = 2\n",
    "    while i < n:\n",
    "        if n % i == 0:\n",
    "            break\n",
    "        i = i + 1\n",
    "        \n",
    "    if i == n:\n",
    "        print(f'{n}는 소수')\n",
    "    else:\n",
    "        print(f'{n}는 합성수')\n",
    "        \n",
    "i = 2\n",
    "while i <= 100:\n",
    "    check_prime(i)\n",
    "    i = i + 1"
   ]
  }
 ],
 "metadata": {
  "kernelspec": {
   "display_name": "Python 3",
   "language": "python",
   "name": "python3"
  },
  "language_info": {
   "codemirror_mode": {
    "name": "ipython",
    "version": 3
   },
   "file_extension": ".py",
   "mimetype": "text/x-python",
   "name": "python",
   "nbconvert_exporter": "python",
   "pygments_lexer": "ipython3",
   "version": "3.6.0"
  }
 },
 "nbformat": 4,
 "nbformat_minor": 2
}

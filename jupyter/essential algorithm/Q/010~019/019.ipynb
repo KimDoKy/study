{
 "cells": [
  {
   "cell_type": "markdown",
   "metadata": {},
   "source": [
    "# 반복문을 사용하여 조합(nCr) 구하기"
   ]
  },
  {
   "cell_type": "markdown",
   "metadata": {},
   "source": [
    "- n개 중에서 r개를 선택할 때의 경우의 수를 구하는 문제\n",
    "- 단순하게 공식을 외울 수도 있지만, 여러 알고리즘의 근간이 되는 코드를 배울 수 있으므로, 기본적인 원리에 대해서 학습해볼 필요가 있음\n"
   ]
  },
  {
   "cell_type": "markdown",
   "metadata": {},
   "source": [
    "- 공식: `nCr = n! / r!(n-r)!`\n",
    "- ex)\n",
    "```\n",
    "  10C3 = 10! / 3!(10-3)!\n",
    "       = 10 * 9 * 8 / 3 * 2 * 1\n",
    "       = 120\n",
    "```"
   ]
  },
  {
   "cell_type": "code",
   "execution_count": 1,
   "metadata": {},
   "outputs": [],
   "source": [
    "def combi(n, r):\n",
    "    i = 1\n",
    "    p = 1\n",
    "    while i <= r:\n",
    "        p = p * (n-i+1) // i\n",
    "        i = i + 1\n",
    "    return p"
   ]
  },
  {
   "cell_type": "code",
   "execution_count": 3,
   "metadata": {},
   "outputs": [
    {
     "name": "stdout",
     "output_type": "stream",
     "text": [
      "0 C 0 = 1\n",
      "1 C 0 = 1\n",
      "1 C 1 = 1\n",
      "2 C 0 = 1\n",
      "2 C 1 = 2\n",
      "2 C 2 = 1\n",
      "3 C 0 = 1\n",
      "3 C 1 = 3\n",
      "3 C 2 = 3\n",
      "3 C 3 = 1\n",
      "4 C 0 = 1\n",
      "4 C 1 = 4\n",
      "4 C 2 = 6\n",
      "4 C 3 = 4\n",
      "4 C 4 = 1\n",
      "5 C 0 = 1\n",
      "5 C 1 = 5\n",
      "5 C 2 = 10\n",
      "5 C 3 = 10\n",
      "5 C 4 = 5\n",
      "5 C 5 = 1\n"
     ]
    }
   ],
   "source": [
    "n = 0\n",
    "r \n",
    "while n <= 5:\n",
    "    r = 0\n",
    "    while r <= n:\n",
    "        print(f'{n} C {r} = {combi(n,r)}')\n",
    "        r = r + 1\n",
    "    n = n + 1"
   ]
  }
 ],
 "metadata": {
  "kernelspec": {
   "display_name": "Python 3",
   "language": "python",
   "name": "python3"
  },
  "language_info": {
   "codemirror_mode": {
    "name": "ipython",
    "version": 3
   },
   "file_extension": ".py",
   "mimetype": "text/x-python",
   "name": "python",
   "nbconvert_exporter": "python",
   "pygments_lexer": "ipython3",
   "version": "3.6.0"
  }
 },
 "nbformat": 4,
 "nbformat_minor": 2
}

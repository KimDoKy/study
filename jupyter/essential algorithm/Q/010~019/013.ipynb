{
 "cells": [
  {
   "cell_type": "markdown",
   "metadata": {},
   "source": [
    "# 반복문을 사용하여 최대공약수 구하기"
   ]
  },
  {
   "cell_type": "markdown",
   "metadata": {},
   "source": [
    "- 2개의 숫자에 대한 최대공약수를 찾아서 출력하기\n",
    "- 최대공약수는 소인수분해와 유클리드 호제법으로 구할 수 있다.\n",
    "- 유클리드 호제법을 사용하여 최대공약수를 구하는 코드를 작성하라."
   ]
  },
  {
   "cell_type": "markdown",
   "metadata": {},
   "source": [
    "#### 소인수분해"
   ]
  },
  {
   "cell_type": "markdown",
   "metadata": {},
   "source": [
    "ex) 192, 72\n",
    "192 = 2 * 2 * 2 * 2 ... * 3 = 2^6 * 3\n",
    "72 = 2 * 2 * 2 * 3 * 3 = 2^3 * 3*2  \n",
    "\n",
    "2개의 숫자를 소인수분해한 후에 결과가 중복되는 부분을 찾아 곱하면 최대공약수가 된다.  \n",
    "2^3 * 3 = 24 // 192와 72의 최대공약수는 24이다."
   ]
  },
  {
   "cell_type": "markdown",
   "metadata": {},
   "source": [
    "하지만 컴퓨터로 소인수분해를 빠르게 하는 방법은 아직 없다.  \n",
    "그래서 최대공약수를 구할 때는 유클리드 호제법을 사용한다."
   ]
  },
  {
   "cell_type": "markdown",
   "metadata": {},
   "source": [
    "#### 유클리드 호제법"
   ]
  },
  {
   "cell_type": "markdown",
   "metadata": {},
   "source": [
    "유클리드 호제법은 큰 숫자를 작은 숫자로 나누어 나머지를 구하고, 그 나머지와 작은 수를 나누어 나머지를 구하는 것을 반복하고, 0이 되었을때, 이전의 나머지 값이 최대공약수가 된다."
   ]
  },
  {
   "cell_type": "markdown",
   "metadata": {},
   "source": [
    "**2개의 수 a와 b에서 큰 수를 a라 하고, 작은 수를 b라고 했을 때 a%b가 0이 될 때까지 반복한다.**"
   ]
  },
  {
   "cell_type": "markdown",
   "metadata": {},
   "source": [
    "### 직접 풀어보기"
   ]
  },
  {
   "cell_type": "code",
   "execution_count": 33,
   "metadata": {},
   "outputs": [],
   "source": [
    "def max_divisor(a, b):\n",
    "    if a < b:\n",
    "        a, b = b, a\n",
    "    tmp = a % b\n",
    "    tmp_1 = b\n",
    "    while tmp > 0:\n",
    "        result = tmp\n",
    "        tmp = tmp_1 % tmp\n",
    "        tmp_1 = result\n",
    "    return result"
   ]
  },
  {
   "cell_type": "code",
   "execution_count": 34,
   "metadata": {},
   "outputs": [
    {
     "data": {
      "text/plain": [
       "2"
      ]
     },
     "execution_count": 34,
     "metadata": {},
     "output_type": "execute_result"
    }
   ],
   "source": [
    "max_divisor(192, 70)"
   ]
  },
  {
   "cell_type": "markdown",
   "metadata": {},
   "source": [
    "### 답안지"
   ]
  },
  {
   "cell_type": "code",
   "execution_count": 17,
   "metadata": {},
   "outputs": [],
   "source": [
    "def gcd(p, q):\n",
    "    if p > q:\n",
    "        a = p\n",
    "        b = q\n",
    "    else:\n",
    "        a = q\n",
    "        b = p\n",
    "    while b > 0:\n",
    "        c = b\n",
    "        b = a % b\n",
    "        a = c\n",
    "    return a"
   ]
  },
  {
   "cell_type": "code",
   "execution_count": 32,
   "metadata": {},
   "outputs": [
    {
     "name": "stdout",
     "output_type": "stream",
     "text": [
      "2\n"
     ]
    }
   ],
   "source": [
    "r = gcd(192, 70)\n",
    "print(r)"
   ]
  }
 ],
 "metadata": {
  "kernelspec": {
   "display_name": "Python 3",
   "language": "python",
   "name": "python3"
  },
  "language_info": {
   "codemirror_mode": {
    "name": "ipython",
    "version": 3
   },
   "file_extension": ".py",
   "mimetype": "text/x-python",
   "name": "python",
   "nbconvert_exporter": "python",
   "pygments_lexer": "ipython3",
   "version": "3.6.0"
  }
 },
 "nbformat": 4,
 "nbformat_minor": 2
}

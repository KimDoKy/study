{
 "cells": [
  {
   "cell_type": "markdown",
   "metadata": {},
   "source": [
    "# 배열 채우기(1)"
   ]
  },
  {
   "cell_type": "markdown",
   "metadata": {},
   "source": [
    "배열의 현재 항목을 계산할 때 이전 항목들은 연산하여 작성하는 코드를 작성하라.\n",
    "\n",
    "- 조건\n",
    " - 배열을 사용할 때 인덱스 + 1 개의 배열을 선언해야 한다.\n",
    " - 이전 2개의 항목을 더하여 현재 배열의 값으로 저장한다."
   ]
  },
  {
   "cell_type": "markdown",
   "metadata": {},
   "source": [
    "### 직접 풀어보기"
   ]
  },
  {
   "cell_type": "code",
   "execution_count": 1,
   "metadata": {},
   "outputs": [],
   "source": [
    "def charge_array(n):\n",
    "    arr = [0] * (n+1)\n",
    "    arr[0] = 1\n",
    "    arr[1] = 2\n",
    "    for i in range(len(arr)):\n",
    "        if i == 0 or i == 1:\n",
    "            pass\n",
    "        else:\n",
    "            arr[i] = arr[i-1] + arr[i-2]\n",
    "    return arr"
   ]
  },
  {
   "cell_type": "code",
   "execution_count": 3,
   "metadata": {},
   "outputs": [
    {
     "data": {
      "text/plain": [
       "[1, 2, 3, 5, 8, 13, 21, 34, 55]"
      ]
     },
     "execution_count": 3,
     "metadata": {},
     "output_type": "execute_result"
    }
   ],
   "source": [
    "charge_array(8)"
   ]
  },
  {
   "cell_type": "markdown",
   "metadata": {},
   "source": [
    "문제를 봤을때 피보나치 수열을 떠올렸지만, 조건에서 배열을 인덱스 +1 개를 선언해야한다고 해서 이렇게 풀어봄."
   ]
  },
  {
   "cell_type": "markdown",
   "metadata": {},
   "source": [
    "### 답안지"
   ]
  },
  {
   "cell_type": "code",
   "execution_count": 4,
   "metadata": {},
   "outputs": [
    {
     "name": "stdout",
     "output_type": "stream",
     "text": [
      "1\n",
      "1\n",
      "1\n",
      "3\n",
      "5\n",
      "9\n",
      "15\n",
      "25\n"
     ]
    }
   ],
   "source": [
    "a = [1] * 100\n",
    "def calc_array(n):\n",
    "    a[1] = 1\n",
    "    a[2] = 1\n",
    "    \n",
    "    i = 3\n",
    "    while i <= n:\n",
    "        a[i] = a[i-1] + a[i-2] + 1\n",
    "        i = i + 1\n",
    "        \n",
    "calc_array(10)\n",
    "i = 0\n",
    "while i <= 7:\n",
    "    print(a[i])\n",
    "    i = i + 1"
   ]
  },
  {
   "cell_type": "markdown",
   "metadata": {},
   "source": [
    "---\n",
    "내가 문제를 잘못 이해한건가..  \n",
    "해설을 보니 배열 인덱스를 다루는 문제인듯."
   ]
  }
 ],
 "metadata": {
  "kernelspec": {
   "display_name": "Python 3",
   "language": "python",
   "name": "python3"
  },
  "language_info": {
   "codemirror_mode": {
    "name": "ipython",
    "version": 3
   },
   "file_extension": ".py",
   "mimetype": "text/x-python",
   "name": "python",
   "nbconvert_exporter": "python",
   "pygments_lexer": "ipython3",
   "version": "3.6.0"
  }
 },
 "nbformat": 4,
 "nbformat_minor": 2
}

{
 "cells": [
  {
   "cell_type": "markdown",
   "metadata": {},
   "source": [
    "# 소수 구하기(에라토스테네스의 체)"
   ]
  },
  {
   "cell_type": "markdown",
   "metadata": {},
   "source": [
    "- 고대 그리스 수학자 에라토스테네스가 발견함\n",
    "- 자연수를 순서대로 늘어놓고 표에서 합성수를 차례대로 지워나가면서 소수를 얻는 방법"
   ]
  },
  {
   "cell_type": "markdown",
   "metadata": {},
   "source": [
    "### 직접 풀어보기"
   ]
  },
  {
   "cell_type": "code",
   "execution_count": 16,
   "metadata": {},
   "outputs": [],
   "source": [
    "from time import time"
   ]
  },
  {
   "cell_type": "code",
   "execution_count": 10,
   "metadata": {},
   "outputs": [],
   "source": [
    "import math\n",
    "\n",
    "def is_prime(num):\n",
    "    if num == 1: return False\n",
    "    n = int(math.sqrt(num))\n",
    "    for i in range(2, n+1):\n",
    "        if num % i == 0: return False\n",
    "    return True"
   ]
  },
  {
   "cell_type": "code",
   "execution_count": 11,
   "metadata": {},
   "outputs": [],
   "source": [
    "def print_prime(num):\n",
    "    for i in range(2, num):\n",
    "        if is_prime(i):\n",
    "            print(i)"
   ]
  },
  {
   "cell_type": "code",
   "execution_count": 19,
   "metadata": {},
   "outputs": [
    {
     "name": "stdout",
     "output_type": "stream",
     "text": [
      "2\n",
      "3\n",
      "5\n",
      "7\n",
      "11\n",
      "13\n",
      "17\n",
      "19\n",
      "0.0003981590270996094\n"
     ]
    }
   ],
   "source": [
    "s_time = time()\n",
    "print_prime(20)\n",
    "run_time = time() - s_time\n",
    "print(run_time)"
   ]
  },
  {
   "cell_type": "markdown",
   "metadata": {},
   "source": [
    "이전에 풀었던 문제들과 답안이 같다. 에라토스테네스의 체에 계산량을 줄이기 위해 제곱근을 추가한 것 외에는 같은 방법이었다."
   ]
  },
  {
   "cell_type": "markdown",
   "metadata": {},
   "source": [
    "### 답안지"
   ]
  },
  {
   "cell_type": "markdown",
   "metadata": {},
   "source": [
    "- 1: n까지의 숫자들 중 2의 배수인 숫자들을 전부 제거한다. (가장 작은 약수는 2)\n",
    "- 2: 남아있는 숫자들 중에서 그 다음 가장 작은 소수(3)을 1단계와 마찬가지로 모두 제거한다. 그 다음은 5, 7 ...을 반복한다.\n",
    "- 3: 지워지지 않은 모든 수는 소수이고, 지워진 수는 합성수이다."
   ]
  },
  {
   "cell_type": "code",
   "execution_count": 24,
   "metadata": {},
   "outputs": [],
   "source": [
    "def calc_prime(n):\n",
    "    check = [True] * 1000\n",
    "    cnt = 0\n",
    "    i = 2\n",
    "    k = 1\n",
    "    while i < n:\n",
    "        if check[i] == True:\n",
    "            print(i)\n",
    "            j = 1\n",
    "            while j < n:\n",
    "                check[j] = False\n",
    "                k = k + 1\n",
    "                j = i * k\n",
    "            k = 1\n",
    "        i = i + 1"
   ]
  },
  {
   "cell_type": "code",
   "execution_count": 25,
   "metadata": {},
   "outputs": [
    {
     "name": "stdout",
     "output_type": "stream",
     "text": [
      "2\n",
      "3\n",
      "5\n",
      "7\n",
      "11\n",
      "13\n",
      "17\n",
      "19\n",
      "0.00036597251892089844\n"
     ]
    }
   ],
   "source": [
    "n = 20\n",
    "s_time = time()\n",
    "calc_prime(n)\n",
    "run_time = time() - s_time\n",
    "print(run_time)"
   ]
  },
  {
   "cell_type": "markdown",
   "metadata": {},
   "source": [
    "답안지의 방법으로 구현하면 메모리 효율이 너무 떨어진다."
   ]
  }
 ],
 "metadata": {
  "kernelspec": {
   "display_name": "Python 3",
   "language": "python",
   "name": "python3"
  },
  "language_info": {
   "codemirror_mode": {
    "name": "ipython",
    "version": 3
   },
   "file_extension": ".py",
   "mimetype": "text/x-python",
   "name": "python",
   "nbconvert_exporter": "python",
   "pygments_lexer": "ipython3",
   "version": "3.6.0"
  }
 },
 "nbformat": 4,
 "nbformat_minor": 2
}

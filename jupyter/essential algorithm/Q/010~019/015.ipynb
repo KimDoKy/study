{
 "cells": [
  {
   "cell_type": "markdown",
   "metadata": {},
   "source": [
    "# 소인수분해 구하기 "
   ]
  },
  {
   "cell_type": "markdown",
   "metadata": {},
   "source": [
    "소인수분해: 소수가 아닌 합성수를 소수의 곱으로 나타내는 방법"
   ]
  },
  {
   "cell_type": "markdown",
   "metadata": {},
   "source": [
    "- 주어진 숫자 n이 i로 나누어지면 해당 i는 n의 인수에 해당하며, `n = n / i`로 저장하여 이 과정을 반복한다.\n",
    "- 반복문을 간소화하기 위해 무한 루프를 사용한다."
   ]
  },
  {
   "cell_type": "markdown",
   "metadata": {},
   "source": [
    "... 예제에 나오는 코드는 아름답지도 않고, 에러도 존재하여 다른 예제를 찾음."
   ]
  },
  {
   "cell_type": "markdown",
   "metadata": {},
   "source": [
    "## [모두의 파이썬](https://thebook.io/007026/day19/02/)의 설명이 더 좋음"
   ]
  },
  {
   "cell_type": "markdown",
   "metadata": {},
   "source": [
    "어떤 정수를 소수의 곱만으로 표현하는 것을 소인수분해라고 합니다.\n",
    "\n",
    "예를 들어 12를 소인수분해하면 2*2*3이 됩니다. 왜 이렇게 되는지 소인수분해 과정을 단계별로 풀어보면 다음과 같습니다.\n",
    "\n",
    " \n",
    "\n",
    "1 | 12를 가장 작은 소수인 2로 나눕니다.\n",
    "\n",
    "2 | 12는 2로 나누어지므로 2는 소인수입니다(2를 출력합니다).\n",
    "\n",
    "3 | 12를 2로 나눈 몫인 6을 대상으로 다시 생각합니다.\n",
    "\n",
    "4 | 6을 2로 나눕니다.\n",
    "\n",
    "5 | 6은 2로 나누어지므로 2는 다시 소인수에 포함됩니다(2를 출력합니다).\n",
    "\n",
    "6 | 6을 2로 나눈 몫인 3을 대상으로 다시 생각합니다.\n",
    "\n",
    "7 | 3은 2로 나누어지지 않습니다.\n",
    "\n",
    "8 | 이번에는 3으로 나눕니다.\n",
    "\n",
    "9 | 3은 3으로 나누어지므로 3은 소인수입니다(3을 출력합니다).\n",
    "\n",
    "10 | 3을 3으로 나누면 1이 되는데 제수(나누는 수)가 피제수(나뉘는 수)보다 크므로 계산을 멈춥니다.\n",
    "\n",
    " \n",
    "\n",
    "지금부터 이 단계를 파이썬 프로그램으로 만들어 보겠습니다."
   ]
  },
  {
   "cell_type": "code",
   "execution_count": 32,
   "metadata": {},
   "outputs": [],
   "source": [
    "def calc_prime(n):\n",
    "    d = 2\n",
    "    while d <= n:\n",
    "        if n % d == 0:\n",
    "            print(d)\n",
    "            n = n / d\n",
    "        else:\n",
    "            d = d + 1"
   ]
  },
  {
   "cell_type": "code",
   "execution_count": 36,
   "metadata": {},
   "outputs": [
    {
     "name": "stdout",
     "output_type": "stream",
     "text": [
      "2\n",
      "2\n",
      "2\n",
      "2\n",
      "3\n"
     ]
    }
   ],
   "source": [
    "calc_prime(48)"
   ]
  }
 ],
 "metadata": {
  "kernelspec": {
   "display_name": "Python 3",
   "language": "python",
   "name": "python3"
  },
  "language_info": {
   "codemirror_mode": {
    "name": "ipython",
    "version": 3
   },
   "file_extension": ".py",
   "mimetype": "text/x-python",
   "name": "python",
   "nbconvert_exporter": "python",
   "pygments_lexer": "ipython3",
   "version": "3.6.0"
  }
 },
 "nbformat": 4,
 "nbformat_minor": 2
}

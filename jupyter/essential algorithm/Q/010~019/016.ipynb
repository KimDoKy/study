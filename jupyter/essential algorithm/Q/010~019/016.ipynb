{
 "cells": [
  {
   "cell_type": "markdown",
   "metadata": {},
   "source": [
    "# 최소공배수 구하기"
   ]
  },
  {
   "cell_type": "markdown",
   "metadata": {},
   "source": [
    "- 2개의 숫자의 배수 중에서 공통된 가장 작은 배수\n",
    "- 2, 3의 최소공배수는 6"
   ]
  },
  {
   "cell_type": "markdown",
   "metadata": {},
   "source": [
    "### 직접 풀어보기"
   ]
  },
  {
   "cell_type": "code",
   "execution_count": 20,
   "metadata": {},
   "outputs": [],
   "source": [
    "def LCM(a, b):\n",
    "    if a < b:\n",
    "        a, b = b, a\n",
    "        \n",
    "    m = a * b\n",
    "    \n",
    "    result = 0\n",
    "    result_2 = 0\n",
    "    \n",
    "    while result <= m:\n",
    "        result += a\n",
    "        result_2 = 0\n",
    "        while result_2 <= m:\n",
    "            result_2 += b\n",
    "            if result == result_2:\n",
    "                return result\n",
    "    return m"
   ]
  },
  {
   "cell_type": "code",
   "execution_count": 31,
   "metadata": {},
   "outputs": [
    {
     "data": {
      "text/plain": [
       "24"
      ]
     },
     "execution_count": 31,
     "metadata": {},
     "output_type": "execute_result"
    }
   ],
   "source": [
    "LCM(3, 24)"
   ]
  },
  {
   "cell_type": "markdown",
   "metadata": {},
   "source": [
    "result_2는 이전에 계산한 과정을 반복함으로써 비효율적인 것으로 생각되지만, 처음에 계산한 result_2를 리스트에 저장하여 사용할 경우, 주어진 수가 크다면 메모리 공간적이 부분이 더 큰 손실이라 판단되어 반복 계산으로 처리"
   ]
  },
  {
   "cell_type": "markdown",
   "metadata": {},
   "source": [
    "### 답안지"
   ]
  },
  {
   "cell_type": "code",
   "execution_count": 24,
   "metadata": {},
   "outputs": [],
   "source": [
    "def calc_LCM(n):\n",
    "    a = 2\n",
    "    b = 3\n",
    "    c = 5\n",
    "    i = 2\n",
    "    \n",
    "    while i < n:\n",
    "        if (i % a == 0) and (i % b == 0) and (i % c == 0):\n",
    "            break\n",
    "        i = i + 1\n",
    "    print('2,3,5의 최소공배수: {0}'.format(i))"
   ]
  },
  {
   "cell_type": "code",
   "execution_count": 26,
   "metadata": {},
   "outputs": [
    {
     "name": "stdout",
     "output_type": "stream",
     "text": [
      "2,3,5의 최소공배수: 30\n"
     ]
    }
   ],
   "source": [
    "calc_LCM(100)"
   ]
  },
  {
   "cell_type": "markdown",
   "metadata": {},
   "source": [
    "---\n",
    "... 이봐 저자...  \n",
    "문제 조건과 답안의 조건이 전혀 다르잖소..."
   ]
  }
 ],
 "metadata": {
  "kernelspec": {
   "display_name": "Python 3",
   "language": "python",
   "name": "python3"
  },
  "language_info": {
   "codemirror_mode": {
    "name": "ipython",
    "version": 3
   },
   "file_extension": ".py",
   "mimetype": "text/x-python",
   "name": "python",
   "nbconvert_exporter": "python",
   "pygments_lexer": "ipython3",
   "version": "3.6.0"
  }
 },
 "nbformat": 4,
 "nbformat_minor": 2
}

{
 "cells": [
  {
   "cell_type": "markdown",
   "metadata": {},
   "source": [
    "# chap3. Linked List"
   ]
  },
  {
   "cell_type": "markdown",
   "metadata": {},
   "source": [
    "### 연결 리스트의 초기화"
   ]
  },
  {
   "cell_type": "code",
   "execution_count": 1,
   "metadata": {},
   "outputs": [],
   "source": [
    "class Node:\n",
    "    def __init__(self, data, next=None):\n",
    "        self.data = data\n",
    "        self.next = next"
   ]
  },
  {
   "cell_type": "code",
   "execution_count": 2,
   "metadata": {},
   "outputs": [
    {
     "name": "stdout",
     "output_type": "stream",
     "text": [
      "A\n",
      "B\n",
      "C\n",
      "D\n"
     ]
    }
   ],
   "source": [
    "def init_list():\n",
    "    global node_A\n",
    "    node_A = Node('A')\n",
    "    node_B = Node('B')\n",
    "    node_C = Node('C')\n",
    "    node_D = Node('D')\n",
    "    node_A.next = node_B\n",
    "    node_B.next = node_C\n",
    "    node_C.next = node_D\n",
    "    \n",
    "def print_list():\n",
    "    global node_A\n",
    "    node = node_A\n",
    "    while node:\n",
    "        print(node.data)\n",
    "        node = node.next\n",
    "    print\n",
    "    \n",
    "\n",
    "init_list()\n",
    "print_list()"
   ]
  },
  {
   "cell_type": "markdown",
   "metadata": {},
   "source": [
    "### 연결 리스트의 삽입, 삭제 알고리즘"
   ]
  },
  {
   "cell_type": "code",
   "execution_count": 3,
   "metadata": {},
   "outputs": [],
   "source": [
    "def delete_node(del_data):\n",
    "    global node_A\n",
    "    pre_node = node_A\n",
    "    next_node = pre_node.next\n",
    "    \n",
    "    if pre_node.data == del_data:\n",
    "        node_A = next_node\n",
    "        del pre_node\n",
    "        return\n",
    "    \n",
    "    while next_node:\n",
    "        if next_node.data == del_data:\n",
    "            pre_node.next = next_node.next\n",
    "            del next_node\n",
    "            break\n",
    "        pre_node = next_node\n",
    "        next_node = next_node.next\n",
    "        \n",
    "def insert_node(data):\n",
    "    global node_A\n",
    "    new_node = Node(data)\n",
    "    node_P = node_A\n",
    "    node_T = node_A\n",
    "    while node_T.data <= data:\n",
    "        node_P = node_T\n",
    "        node_T = node_T.next\n",
    "    new_node.next = node_T\n",
    "    node_P.next = new_node"
   ]
  },
  {
   "cell_type": "markdown",
   "metadata": {},
   "source": [
    "#### 삽입"
   ]
  },
  {
   "cell_type": "code",
   "execution_count": 4,
   "metadata": {},
   "outputs": [
    {
     "name": "stdout",
     "output_type": "stream",
     "text": [
      "연결 리스트 초기화 후\n",
      "A\n",
      "B\n",
      "D\n",
      "E\n",
      "노드 C를 추가한 후\n",
      "A\n",
      "B\n",
      "C\n",
      "D\n",
      "E\n"
     ]
    }
   ],
   "source": [
    "def init_list():\n",
    "    global node_A\n",
    "    node_A = Node('A')\n",
    "    node_B = Node('B')\n",
    "    node_D = Node('D')\n",
    "    node_E = Node('E')\n",
    "    node_A.next = node_B\n",
    "    node_B.next = node_D\n",
    "    node_D.next = node_E\n",
    "\n",
    "\n",
    "print('연결 리스트 초기화 후')\n",
    "init_list()\n",
    "print_list()\n",
    "print('노드 C를 추가한 후')\n",
    "insert_node('C')\n",
    "print_list()"
   ]
  },
  {
   "cell_type": "markdown",
   "metadata": {},
   "source": [
    "#### 삭제"
   ]
  },
  {
   "cell_type": "code",
   "execution_count": 5,
   "metadata": {},
   "outputs": [
    {
     "name": "stdout",
     "output_type": "stream",
     "text": [
      "연결 리스트 초기화 후\n",
      "A\n",
      "B\n",
      "D\n",
      "E\n",
      "노드 C를 추가한 후\n",
      "A\n",
      "B\n",
      "C\n",
      "D\n",
      "E\n",
      "노드 D를 삭제한 후\n",
      "A\n",
      "B\n",
      "C\n",
      "E\n"
     ]
    }
   ],
   "source": [
    "def init_list():\n",
    "    global node_A\n",
    "    node_A = Node('A')\n",
    "    node_B = Node('B')\n",
    "    node_D = Node('D')\n",
    "    node_E = Node('E')\n",
    "    node_A.next = node_B\n",
    "    node_B.next = node_D\n",
    "    node_D.next = node_E\n",
    "    \n",
    "print('연결 리스트 초기화 후')\n",
    "init_list()\n",
    "print_list()\n",
    "print('노드 C를 추가한 후')\n",
    "insert_node('C')\n",
    "print_list()\n",
    "print('노드 D를 삭제한 후')\n",
    "delete_node('D')\n",
    "print_list()"
   ]
  }
 ],
 "metadata": {
  "kernelspec": {
   "display_name": "Python 3",
   "language": "python",
   "name": "python3"
  },
  "language_info": {
   "codemirror_mode": {
    "name": "ipython",
    "version": 3
   },
   "file_extension": ".py",
   "mimetype": "text/x-python",
   "name": "python",
   "nbconvert_exporter": "python",
   "pygments_lexer": "ipython3",
   "version": "3.6.0"
  }
 },
 "nbformat": 4,
 "nbformat_minor": 2
}

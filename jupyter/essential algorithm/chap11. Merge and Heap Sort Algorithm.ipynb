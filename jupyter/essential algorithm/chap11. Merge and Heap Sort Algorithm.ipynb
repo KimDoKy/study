{
 "cells": [
  {
   "cell_type": "markdown",
   "metadata": {},
   "source": [
    "## Merge Sort Algorithm"
   ]
  },
  {
   "cell_type": "markdown",
   "metadata": {},
   "source": [
    "- 이미 정렬되어 있는 데이터들을 하나로 합쳐서 정렬하는 경우에 사용\n",
    "- 성능은 수치적으로만 보면 퀵 정렬 알고리즘과 비슷하다.(분할후 재귀 호출을 사용하기 때문)\n",
    "- 상당히 빠른 알고리즘에 해당\n",
    "- 이미 정렬된 상태에서는 성능이 급격히 저하된다.\n",
    "- 원래 데이터 이외의 별도의 데이터 공간이 필요하다는 단점이 있으나, 데이터들을 연결 리스트로 만들어 사용하면 극복할 수 있다."
   ]
  },
  {
   "cell_type": "code",
   "execution_count": 1,
   "metadata": {},
   "outputs": [],
   "source": [
    "def merge_sort(mylist):\n",
    "    if len(mylist) <= 1: return mylist\n",
    "    half = len(mylist) // 2\n",
    "    left_list = merge_sort(mylist[:half])\n",
    "    right_list = merge_sort(mylist[half:])\n",
    "    merged_list = []\n",
    "    \n",
    "    while len(left_list) > 0 and len(right_list) > 0:\n",
    "        if left_list[0] > right_list[0]:\n",
    "            merged_list.append(right_list[0])\n",
    "            right_list.pop(0)\n",
    "        else:\n",
    "            merged_list.append(left_list[0])\n",
    "            left_list.pop(0)\n",
    "    if len(left_list) > 0: merged_list += left_list\n",
    "    if len(right_list) > 0: merged_list += right_list\n",
    "    return merged_list"
   ]
  },
  {
   "cell_type": "code",
   "execution_count": 2,
   "metadata": {},
   "outputs": [],
   "source": [
    "from math import log10\n",
    "from random import randint"
   ]
  },
  {
   "cell_type": "code",
   "execution_count": 3,
   "metadata": {},
   "outputs": [
    {
     "name": "stdout",
     "output_type": "stream",
     "text": [
      "정렬할 데이터의 수: 10\n",
      "<before>\n",
      "[72166, 26135, 39818, 74101, 83527, 91089, 46670, 91971, 14833, 99232]\n",
      "<after>\n",
      "[14833, 26135, 39818, 46670, 72166, 74101, 83527, 91089, 91971, 99232]\n"
     ]
    }
   ],
   "source": [
    "input_n = input('정렬할 데이터의 수: ')\n",
    "data = [randint(1, 99999) for i in range(int(input_n))]\n",
    "\n",
    "print('<before>')\n",
    "print(data)\n",
    "\n",
    "\n",
    "sorted_data = merge_sort(data)\n",
    "\n",
    "print('<after>')\n",
    "print(sorted_data)"
   ]
  },
  {
   "cell_type": "markdown",
   "metadata": {},
   "source": [
    "## Heap Sort Algorithm"
   ]
  },
  {
   "cell_type": "markdown",
   "metadata": {},
   "source": [
    "- 운영체제나 네트워크 등 시스템 내부에서 가장 많이 사용되는 정렬 알고리즘\n",
    "- Priority Queue(우선순위 큐)를 이용하여 우선순위에 따라 정렬\n",
    "- 완전 이진 트리 구조로 정렬을 진행\n",
    "  \n",
    "- 힙을 다시 재구성하는 과정이 있기 때문에 퀵 알고리즘보다 성능이 떨어진다.\n",
    "- 트리 구조를 사용하고, 리스트를 사용해 구현이 가능하기 때문에 공간 효율성은 뛰어나다.\n",
    "- 단순히 트리 구조만 알면 되기 때문에, 다른 알고리즘들에 비해 코드의 효율성이 좋다."
   ]
  },
  {
   "cell_type": "code",
   "execution_count": 4,
   "metadata": {},
   "outputs": [],
   "source": [
    "def left_node(idx=None):\n",
    "    return ((idx + 1) << 1) - 1\n",
    "\n",
    "def right_node(idx=None):\n",
    "    return (idx + 1) << 1\n",
    "\n",
    "def up_heap(mylist=None, idx=None, heap_size=None):\n",
    "    l_node = left_node(idx)\n",
    "    r_node = right_node(idx)\n",
    "    \n",
    "    if l_node <= heap_size and mylist[l_node] > mylist[idx]:\n",
    "        largest = l_node\n",
    "    else:\n",
    "        largest = idx\n",
    "    if r_node <= heap_size and mylist[r_node] > mylist[largest]:\n",
    "        largest = r_node\n",
    "    if largest != idx:\n",
    "        mylist[idx], mylist[largest] = mylist[largest], mylist[idx]\n",
    "        up_heap(mylist, largest, heap_size)\n",
    "        \n",
    "def build_heap(mylist=None):\n",
    "    heap_size = len(mylist) - 1\n",
    "    for i in reversed(range(len(mylist) // 1)):\n",
    "        up_heap(mylist, i, heap_size)\n",
    "        \n",
    "def heap_sort(heap=None):\n",
    "    tmp_arry = list()\n",
    "    for i in range(len(heap)):\n",
    "        tmp_arry.append(heap.pop(0))\n",
    "        up_heap(heap, 0, len(heap) - 1)\n",
    "    return tmp_arry"
   ]
  },
  {
   "cell_type": "code",
   "execution_count": 7,
   "metadata": {},
   "outputs": [
    {
     "name": "stdout",
     "output_type": "stream",
     "text": [
      "<before>\n",
      "[24735, 48946, 50792, 78725, 56797, 33836, 73014, 93605, 44224, 12642]\n",
      "<after>\n",
      "[93605, 78725, 73014, 56797, 50792, 48946, 44224, 33836, 24735, 12642]\n"
     ]
    }
   ],
   "source": [
    "data = [randint(1, 99999) for x in range(int(input_n))]\n",
    "\n",
    "print('<before>')\n",
    "print(data)\n",
    "\n",
    "build_heap(data)\n",
    "\n",
    "sorted_data = heap_sort(data)\n",
    "\n",
    "print('<after>')\n",
    "print(sorted_data)"
   ]
  }
 ],
 "metadata": {
  "kernelspec": {
   "display_name": "Python 3",
   "language": "python",
   "name": "python3"
  },
  "language_info": {
   "codemirror_mode": {
    "name": "ipython",
    "version": 3
   },
   "file_extension": ".py",
   "mimetype": "text/x-python",
   "name": "python",
   "nbconvert_exporter": "python",
   "pygments_lexer": "ipython3",
   "version": "3.6.0"
  }
 },
 "nbformat": 4,
 "nbformat_minor": 2
}

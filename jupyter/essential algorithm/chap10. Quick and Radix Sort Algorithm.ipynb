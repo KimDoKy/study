{
 "cells": [
  {
   "cell_type": "markdown",
   "metadata": {},
   "source": [
    "## Quick Sort Algorithm"
   ]
  },
  {
   "cell_type": "markdown",
   "metadata": {},
   "source": [
    "- Divide and Conquer Algorithm (분할 정복 알고리즘)"
   ]
  },
  {
   "cell_type": "code",
   "execution_count": 1,
   "metadata": {},
   "outputs": [],
   "source": [
    "def swap(x, i, j):\n",
    "    x[i], x[j] = x[j], x[i]\n",
    "    \n",
    "def pivotFirst(x, lmark, rmark):\n",
    "    pivot_val = x[lmark]\n",
    "    pivot_idx = lmark\n",
    "    while lmark <= rmark:\n",
    "        while lmark <= rmark and x[lmark] <= pivot_val:\n",
    "            lmark += 1\n",
    "        while lmark <= rmark and x[rmark] >= pivot_val:\n",
    "            rmark -= 1\n",
    "        if lmark <= rmark:\n",
    "            swap(x, lmark, rmark)\n",
    "            lmark += 1\n",
    "            rmark -= 1\n",
    "    swap(x, pivot_idx, rmark)\n",
    "    return rmark"
   ]
  },
  {
   "cell_type": "code",
   "execution_count": 2,
   "metadata": {},
   "outputs": [],
   "source": [
    "def quickSort(x, pivotMethod=pivotFirst):\n",
    "    def _qsort(x, first, last):\n",
    "        if first < last:\n",
    "            splitpoint = pivotMethod(x, first, last)\n",
    "            _qsort(x, first, splitpoint-1)\n",
    "            _qsort(x, splitpoint+1, last)\n",
    "    _qsort(x, 0, len(x)-1)"
   ]
  },
  {
   "cell_type": "code",
   "execution_count": 4,
   "metadata": {
    "scrolled": false
   },
   "outputs": [
    {
     "name": "stdout",
     "output_type": "stream",
     "text": [
      "정렬할 데이터의 수: 100\n",
      "<before>\n",
      "[72, 17, 7, 90, 28, 53, 43, 16, 30, 58, 42, 79, 95, 23, 24, 63, 95, 89, 89, 32, 80, 61, 95, 97, 46, 48, 69, 79, 56, 18, 73, 79, 63, 61, 61, 89, 86, 42, 13, 41, 26, 9, 74, 15, 12, 91, 89, 46, 6, 97, 5, 8, 62, 31, 31, 69, 90, 16, 22, 17, 18, 41, 31, 13, 77, 62, 83, 73, 51, 61, 91, 30, 59, 69, 85, 49, 63, 19, 40, 65, 95, 12, 8, 22, 95, 33, 60, 18, 65, 23, 6, 47, 11, 45, 3, 37, 86, 35, 35, 72]\n",
      "<after>\n",
      "[3, 5, 6, 6, 7, 8, 8, 9, 11, 12, 12, 13, 13, 15, 16, 16, 17, 17, 18, 18, 18, 19, 22, 22, 23, 23, 24, 26, 28, 30, 30, 31, 31, 31, 32, 33, 35, 35, 37, 40, 41, 41, 42, 42, 43, 45, 46, 46, 47, 48, 49, 51, 53, 56, 58, 59, 60, 61, 61, 61, 61, 62, 62, 63, 63, 63, 65, 65, 69, 69, 69, 72, 72, 73, 73, 74, 77, 79, 79, 79, 80, 83, 85, 86, 86, 89, 89, 89, 89, 90, 90, 91, 91, 95, 95, 95, 95, 95, 97, 97]\n",
      "Running Time: 0.0003437995910644531\n"
     ]
    }
   ],
   "source": [
    "import random\n",
    "import time\n",
    "\n",
    "input_n = input(\"정렬할 데이터의 수: \")\n",
    "list = [random.randint(1, int(input_n)) for i in range(int(input_n))]\n",
    "\n",
    "print('<before>')\n",
    "print(list)\n",
    "\n",
    "start_time = time.time()\n",
    "quickSort(list)\n",
    "running_time = time.time() - start_time\n",
    "\n",
    "print('<after>')\n",
    "print(list)\n",
    "\n",
    "print(f'Running Time: {running_time}')"
   ]
  },
  {
   "cell_type": "markdown",
   "metadata": {},
   "source": [
    "##### pythonds code"
   ]
  },
  {
   "cell_type": "code",
   "execution_count": 5,
   "metadata": {},
   "outputs": [],
   "source": [
    "def quickSort(alist):\n",
    "    quickSortHelper(alist, 0, len(alist)-1)\n",
    "    \n",
    "def quickSortHelper(alist, first, last):\n",
    "    if first < last:\n",
    "        splitpoint = partition(alist, first, last)\n",
    "        quickSortHelper(alist, first, splitpoint-1)\n",
    "        quickSortHelper(alist, splitpoint+1, last)\n",
    "        \n",
    "def partition(alist, first, last):\n",
    "    pivotvalue = alist[first]\n",
    "    leftmark = first+1\n",
    "    rightmark = last\n",
    "    done = False\n",
    "    while not done:\n",
    "        while leftmark <= rightmark and alist[leftmark] <= pivotvalue:\n",
    "            leftmark = leftmark + 1\n",
    "        while rightmark >= leftmark and alist[rightmark] >= pivotvalue:\n",
    "            rightmark = rightmark - 1\n",
    "        if rightmark < leftmark:\n",
    "            done = True\n",
    "        else:\n",
    "            alist[leftmark], alist[rightmark] = alist[rightmark], alist[leftmark]\n",
    "\n",
    "    alist[first], alist[rightmark] = alist[rightmark], alist[first]\n",
    "    return rightmark"
   ]
  },
  {
   "cell_type": "code",
   "execution_count": 7,
   "metadata": {},
   "outputs": [
    {
     "name": "stdout",
     "output_type": "stream",
     "text": [
      "[13, 61, 2, 27, 76, 61, 70, 66, 46, 65, 53, 24, 80, 73, 60, 68, 24, 87, 100, 94, 56, 39, 37, 64, 59, 6, 95, 77, 90, 6, 60, 42, 24, 17, 5, 91, 68, 77, 74, 26, 14, 33, 73, 42, 86, 49, 76, 85, 55, 29, 54, 30, 46, 67, 1, 11, 31, 97, 49, 28, 88, 95, 62, 59, 13, 6, 98, 56, 99, 13, 1, 4, 81, 8, 85, 31, 48, 49, 89, 17, 74, 58, 7, 17, 17, 78, 32, 51, 66, 1, 94, 75, 44, 75, 96, 9, 56, 70, 61, 5]\n",
      "[1, 1, 1, 2, 4, 5, 5, 6, 6, 6, 7, 8, 9, 11, 13, 13, 13, 14, 17, 17, 17, 17, 24, 24, 24, 26, 27, 28, 29, 30, 31, 31, 32, 33, 37, 39, 42, 42, 44, 46, 46, 48, 49, 49, 49, 51, 53, 54, 55, 56, 56, 56, 58, 59, 59, 60, 60, 61, 61, 61, 62, 64, 65, 66, 66, 67, 68, 68, 70, 70, 73, 73, 74, 74, 75, 75, 76, 76, 77, 77, 78, 80, 81, 85, 85, 86, 87, 88, 89, 90, 91, 94, 94, 95, 95, 96, 97, 98, 99, 100]\n",
      "Running time:  0.0003437995910644531\n"
     ]
    }
   ],
   "source": [
    "alist = [random.randint(1,100) for x in range(100)]\n",
    "\n",
    "print(alist)\n",
    "start_time = time.time()\n",
    "quickSort(alist)\n",
    "runngint_time = time.time() - start_time\n",
    "print(alist)\n",
    "print('Running time: ', running_time)"
   ]
  },
  {
   "cell_type": "markdown",
   "metadata": {},
   "source": [
    "# Radix Sort Algorithm"
   ]
  },
  {
   "cell_type": "markdown",
   "metadata": {},
   "source": [
    "- 정렬할 제이터의 자릿수를 이용하여 정렬\n",
    "- 데이터를 비교하거나 이동하는 횟수가 거의 없다.\n",
    "- 정렬할 데이터 공간 이외의 별도의 큐를 위한 공간을 확보해야 하기 때문에, 메모리를 많이 소비한다.\n"
   ]
  },
  {
   "cell_type": "code",
   "execution_count": 8,
   "metadata": {},
   "outputs": [],
   "source": [
    "# 현재 자릿수(pos)와 진법(base)에 맞는 수 변환\n",
    "def get_digit(number, base, pos):\n",
    "    return (number // base ** pos) % base\n",
    "\n",
    "def prefix_sum(array):\n",
    "    for i in range(1, len(array)):\n",
    "        array[i] = array[i] + array[i-1]\n",
    "    return array"
   ]
  },
  {
   "cell_type": "code",
   "execution_count": 13,
   "metadata": {},
   "outputs": [],
   "source": [
    "def radixsort(l, base=10):\n",
    "    # 입력된 리스트중 최대값의 자릿수 확인\n",
    "    passes = int(log10(max(l))+1)\n",
    "    # 큐 생성\n",
    "    output = [0] * len(l)\n",
    "    \n",
    "    for pos in range(passes):\n",
    "        count = [0] * base\n",
    "        \n",
    "        # 자릿수별 빈도수\n",
    "        for i in l:\n",
    "            digit = get_digit(i, base, pos)\n",
    "            count[digit] += 1\n",
    "\n",
    "        count = prefix_sum(count)\n",
    "        \n",
    "        for i in reversed(l):\n",
    "            digit = get_digit(i, base, pos)\n",
    "            count[digit] -= 1\n",
    "            new_pos = count[digit]\n",
    "            output[new_pos] = i\n",
    "            \n",
    "    return output"
   ]
  },
  {
   "cell_type": "code",
   "execution_count": 14,
   "metadata": {},
   "outputs": [],
   "source": [
    "from math import log10"
   ]
  },
  {
   "cell_type": "code",
   "execution_count": 15,
   "metadata": {},
   "outputs": [
    {
     "name": "stdout",
     "output_type": "stream",
     "text": [
      "<before>\n",
      "[7405, 9131, 2710, 8536, 1272, 1483, 9421, 7493, 9409, 5196]\n",
      "<after>\n",
      "[1272, 1483, 2710, 5196, 7405, 7493, 8536, 9131, 9421, 9409]\n"
     ]
    }
   ],
   "source": [
    "l = [randint(1, 9999) for x in range(10)]\n",
    "\n",
    "print('<before>')\n",
    "print(l)\n",
    "\n",
    "sorted = radixsort(l)\n",
    "\n",
    "print('<after>')\n",
    "print(sorted)"
   ]
  }
 ],
 "metadata": {
  "kernelspec": {
   "display_name": "Python 3",
   "language": "python",
   "name": "python3"
  },
  "language_info": {
   "codemirror_mode": {
    "name": "ipython",
    "version": 3
   },
   "file_extension": ".py",
   "mimetype": "text/x-python",
   "name": "python",
   "nbconvert_exporter": "python",
   "pygments_lexer": "ipython3",
   "version": "3.6.0"
  }
 },
 "nbformat": 4,
 "nbformat_minor": 2
}

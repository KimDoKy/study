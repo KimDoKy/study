{
 "cells": [
  {
   "cell_type": "markdown",
   "metadata": {},
   "source": [
    "# Tree"
   ]
  },
  {
   "cell_type": "markdown",
   "metadata": {},
   "source": [
    "##### 용어\n",
    "- root\n",
    "- parent node\n",
    "- child node\n",
    "- leaf node\n",
    "- sibling node\n",
    "- level"
   ]
  },
  {
   "cell_type": "markdown",
   "metadata": {},
   "source": [
    "#### 이진 트리의 종류\n",
    "- full binary tree(정 이진 트리): 모든 노드가 2개의 자식을 가진 트리\n",
    "- perfect binary tree(포화 이진 트리): 모든 노드의 깊이가 같은 정 이진 트리\n",
    "- complete binary tree(완전 이진 트리): 마지막 레벨을 제외하고 모든 노드가 채워진 트리\n",
    "- balanced binary tree(균형 이진 트리): 모든 노드의 깊이 차리가 1 이하인 트리"
   ]
  }
 ],
 "metadata": {
  "kernelspec": {
   "display_name": "Python 3",
   "language": "python",
   "name": "python3"
  },
  "language_info": {
   "codemirror_mode": {
    "name": "ipython",
    "version": 3
   },
   "file_extension": ".py",
   "mimetype": "text/x-python",
   "name": "python",
   "nbconvert_exporter": "python",
   "pygments_lexer": "ipython3",
   "version": "3.6.0"
  }
 },
 "nbformat": 4,
 "nbformat_minor": 2
}

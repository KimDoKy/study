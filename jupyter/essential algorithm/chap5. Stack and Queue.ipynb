{
 "cells": [
  {
   "cell_type": "markdown",
   "metadata": {},
   "source": [
    "# Stack and Queue"
   ]
  },
  {
   "cell_type": "markdown",
   "metadata": {},
   "source": [
    "## Stack"
   ]
  },
  {
   "cell_type": "markdown",
   "metadata": {},
   "source": [
    "### 스택의 구현"
   ]
  },
  {
   "cell_type": "code",
   "execution_count": 1,
   "metadata": {},
   "outputs": [],
   "source": [
    "def push(item):\n",
    "    stack.append(item)\n",
    "    \n",
    "def pop():\n",
    "    return stack.pop()"
   ]
  },
  {
   "cell_type": "code",
   "execution_count": 2,
   "metadata": {},
   "outputs": [
    {
     "name": "stdout",
     "output_type": "stream",
     "text": [
      "stack:  [1, 2, 3]\n",
      "POP > 3\n",
      "POP > 2\n",
      "POP > 1\n"
     ]
    }
   ],
   "source": [
    "stack = []\n",
    "push(1)\n",
    "push(2)\n",
    "push(3)\n",
    "print('stack: ', stack)\n",
    "\n",
    "while stack:\n",
    "    print(f'POP > {pop()}')"
   ]
  },
  {
   "cell_type": "markdown",
   "metadata": {},
   "source": [
    "### 스택의 응용 : 계산기"
   ]
  },
  {
   "cell_type": "code",
   "execution_count": 11,
   "metadata": {},
   "outputs": [],
   "source": [
    "def calaculator(operand_1, operand_2, operator):\n",
    "    if operator == '+':\n",
    "        ret = operand_1 + operand_2\n",
    "    elif operator == '-':\n",
    "        ret = operand_1 - operand_2\n",
    "    elif operator == '*':\n",
    "        ret = operand_1 * operand_2\n",
    "    elif operator == '/':\n",
    "        ret = operand_1 // operand_2\n",
    "    print(f'{operand_1} {operator} {operand_2} = {ret}')"
   ]
  },
  {
   "cell_type": "code",
   "execution_count": 12,
   "metadata": {},
   "outputs": [
    {
     "name": "stdout",
     "output_type": "stream",
     "text": [
      "5 + 3 = 8\n",
      "5 - 3 = 2\n",
      "5 * 3 = 15\n",
      "5 / 3 = 1\n"
     ]
    }
   ],
   "source": [
    "a = 5\n",
    "b = 3\n",
    "calaculator(a,b,'+')\n",
    "calaculator(a,b,'-')\n",
    "calaculator(a,b,'*')\n",
    "calaculator(a,b,'/')"
   ]
  },
  {
   "cell_type": "markdown",
   "metadata": {},
   "source": [
    "## Queue"
   ]
  },
  {
   "cell_type": "code",
   "execution_count": 13,
   "metadata": {},
   "outputs": [],
   "source": [
    "def put(item):\n",
    "    queue.append(item)\n",
    "    \n",
    "def get():\n",
    "    return queue.pop()"
   ]
  },
  {
   "cell_type": "code",
   "execution_count": 15,
   "metadata": {},
   "outputs": [
    {
     "name": "stdout",
     "output_type": "stream",
     "text": [
      "Queue:  [1, 2, 3]\n",
      "POP > 3\n",
      "POP > 2\n",
      "POP > 1\n"
     ]
    }
   ],
   "source": [
    "queue = []\n",
    "put(1)\n",
    "put(2)\n",
    "put(3)\n",
    "\n",
    "print(\"Queue: \", queue)\n",
    "\n",
    "while queue:\n",
    "    print(f'POP > {get()}')"
   ]
  }
 ],
 "metadata": {
  "kernelspec": {
   "display_name": "Python 3",
   "language": "python",
   "name": "python3"
  },
  "language_info": {
   "codemirror_mode": {
    "name": "ipython",
    "version": 3
   },
   "file_extension": ".py",
   "mimetype": "text/x-python",
   "name": "python",
   "nbconvert_exporter": "python",
   "pygments_lexer": "ipython3",
   "version": "3.6.0"
  }
 },
 "nbformat": 4,
 "nbformat_minor": 2
}

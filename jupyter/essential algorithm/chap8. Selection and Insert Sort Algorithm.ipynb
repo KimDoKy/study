{
 "cells": [
  {
   "cell_type": "markdown",
   "metadata": {},
   "source": [
    "## Selection Sort Algorithm"
   ]
  },
  {
   "cell_type": "code",
   "execution_count": 1,
   "metadata": {},
   "outputs": [],
   "source": [
    "def selected_sort(random_list):\n",
    "    for sel in range(len(random_list)-1):\n",
    "        min = random_list[sel]\n",
    "        minindex = sel\n",
    "        # find min value\n",
    "        for step in range(sel+1, len(random_list)):\n",
    "            if min > random_list[step]:\n",
    "                min = random_list[step]\n",
    "                minindex = step\n",
    "        # swap\n",
    "        random_list[minindex] = random_list[sel]\n",
    "        random_list[sel] = min"
   ]
  },
  {
   "cell_type": "code",
   "execution_count": 2,
   "metadata": {},
   "outputs": [
    {
     "name": "stdout",
     "output_type": "stream",
     "text": [
      "<before>\n",
      "[9, 10, 4, 4, 3, 9, 7, 8, 7, 6]\n",
      "<after>\n",
      "[3, 4, 4, 6, 7, 7, 8, 9, 9, 10]\n"
     ]
    }
   ],
   "source": [
    "import random\n",
    "\n",
    "list = [random.randint(1,10) for x in range(10)]\n",
    "print('<before>')\n",
    "print(list)\n",
    "print('<after>')\n",
    "selected_sort(list)\n",
    "print(list)"
   ]
  },
  {
   "cell_type": "markdown",
   "metadata": {},
   "source": [
    "- 비교 횟수: N^2 / 2  \n",
    "- 교환 횟수: (N-1)  \n",
    "\n",
    "교환 횟수가 상대적으로 적기 때문에 정렬할 데이터의 크기가 큰 경우 다른 정렬 알고리즘보다 유용하다.  \n",
    "하지만 이미 정렬되어 있다고 해도, 비교하는 값들이 가장 작은 값이라는 것을 모두 확인할 때까지 검색 작업을 반복하기 때문에 N*(N-1)/2 정도의 검색 작업이 필요하다."
   ]
  },
  {
   "cell_type": "markdown",
   "metadata": {},
   "source": [
    "## Insert Sort Algorithm"
   ]
  },
  {
   "cell_type": "code",
   "execution_count": 3,
   "metadata": {},
   "outputs": [],
   "source": [
    "def insertion_sort(my_list):\n",
    "    global compare_counter, swap_counter\n",
    "    for s_idx in range(1, len(my_list)):\n",
    "        temp = my_list[s_idx]\n",
    "        ins_idx = s_idx\n",
    "        compare_counter += 1\n",
    "        while ins_idx>0 and my_list[ins_idx-1] > temp:\n",
    "            swap_counter += 1\n",
    "            my_list[ins_idx] = my_list[ins_idx-1]\n",
    "            ins_idx = ins_idx - 1\n",
    "        my_list[ins_idx] = temp"
   ]
  },
  {
   "cell_type": "code",
   "execution_count": 4,
   "metadata": {},
   "outputs": [],
   "source": [
    "import random\n",
    "import time"
   ]
  },
  {
   "cell_type": "code",
   "execution_count": 6,
   "metadata": {},
   "outputs": [
    {
     "name": "stdout",
     "output_type": "stream",
     "text": [
      "정렬할 데이터의 수: 100\n",
      "<before>\n",
      "[78, 2, 33, 41, 30, 21, 39, 68, 50, 24, 16, 20, 18, 25, 46, 61, 30, 62, 29, 31, 55, 51, 94, 7, 16, 89, 54, 34, 13, 30, 79, 62, 37, 78, 52, 75, 52, 86, 60, 64, 93, 82, 59, 18, 50, 76, 77, 100, 59, 50, 20, 24, 68, 4, 9, 73, 92, 45, 86, 64, 55, 38, 36, 19, 65, 45, 6, 11, 34, 59, 3, 26, 46, 34, 87, 95, 24, 49, 39, 88, 72, 65, 97, 76, 24, 79, 26, 65, 85, 31, 38, 6, 96, 96, 67, 97, 73, 74, 36, 88]\n",
      "<after>\n",
      "[2, 3, 4, 6, 6, 7, 9, 11, 13, 16, 16, 18, 18, 19, 20, 20, 21, 24, 24, 24, 24, 25, 26, 26, 29, 30, 30, 30, 31, 31, 33, 34, 34, 34, 36, 36, 37, 38, 38, 39, 39, 41, 45, 45, 46, 46, 49, 50, 50, 50, 51, 52, 52, 54, 55, 55, 59, 59, 59, 60, 61, 62, 62, 64, 64, 65, 65, 65, 67, 68, 68, 72, 73, 73, 74, 75, 76, 76, 77, 78, 78, 79, 79, 82, 85, 86, 86, 87, 88, 88, 89, 92, 93, 94, 95, 96, 96, 97, 97, 100]\n",
      "Data Value: 100\n",
      "Compare Counter: 99\n",
      "Swap counter: 2028\n",
      "Running Time: 0.0008618831634521484\n"
     ]
    }
   ],
   "source": [
    "compare_counter = 0\n",
    "swap_counter = 0\n",
    "\n",
    "input_n = input('정렬할 데이터의 수: ')\n",
    "list = [random.randint(1, int(input_n)) for i in range(int(input_n))]\n",
    "\n",
    "print('<before>')\n",
    "print(list)\n",
    "\n",
    "start_time = time.time()\n",
    "insertion_sort(list)\n",
    "running_time = time.time() - start_time\n",
    "\n",
    "print('<after>')\n",
    "print(list)\n",
    "\n",
    "print(f'Data Value: {int(input_n)}')\n",
    "print(f'Compare Counter: {compare_counter}')\n",
    "print(f'Swap counter: {swap_counter}')\n",
    "print(f'Running Time: {running_time}')"
   ]
  }
 ],
 "metadata": {
  "kernelspec": {
   "display_name": "Python 3",
   "language": "python",
   "name": "python3"
  },
  "language_info": {
   "codemirror_mode": {
    "name": "ipython",
    "version": 3
   },
   "file_extension": ".py",
   "mimetype": "text/x-python",
   "name": "python",
   "nbconvert_exporter": "python",
   "pygments_lexer": "ipython3",
   "version": "3.6.0"
  }
 },
 "nbformat": 4,
 "nbformat_minor": 2
}

{
 "cells": [
  {
   "cell_type": "markdown",
   "metadata": {},
   "source": [
    "## Bubble Sort Algorithm"
   ]
  },
  {
   "cell_type": "code",
   "execution_count": 1,
   "metadata": {},
   "outputs": [],
   "source": [
    "def bubble_sort(random_list):\n",
    "    for start_idx in range(len(random_list)-1):\n",
    "        for idx in range(1, len(random_list) - start_idx):\n",
    "            if random_list[idx-1] > random_list[idx]:\n",
    "                temp = random_list[idx-1]\n",
    "                random_list[idx-1] = random_list[idx]\n",
    "                random_list[idx] = temp"
   ]
  },
  {
   "cell_type": "code",
   "execution_count": 2,
   "metadata": {},
   "outputs": [],
   "source": [
    "import random\n",
    "import time"
   ]
  },
  {
   "cell_type": "code",
   "execution_count": 3,
   "metadata": {},
   "outputs": [
    {
     "name": "stdout",
     "output_type": "stream",
     "text": [
      "정렬할 데이터의 수: 100\n",
      "<before>\n",
      "[91, 94, 29, 44, 50, 95, 14, 73, 72, 35, 43, 26, 44, 19, 89, 28, 92, 68, 94, 24, 76, 11, 8, 100, 69, 52, 10, 67, 20, 84, 60, 41, 46, 89, 7, 50, 58, 94, 6, 45, 45, 70, 42, 68, 47, 90, 46, 13, 77, 30, 36, 94, 95, 2, 12, 79, 32, 28, 74, 93, 30, 7, 17, 63, 59, 91, 1, 26, 49, 68, 46, 83, 32, 2, 86, 93, 44, 71, 22, 64, 64, 3, 59, 77, 80, 61, 25, 60, 4, 98, 70, 95, 28, 37, 78, 95, 65, 63, 53, 8]\n",
      "<after>\n",
      "[1, 2, 2, 3, 4, 6, 7, 7, 8, 8, 10, 11, 12, 13, 14, 17, 19, 20, 22, 24, 25, 26, 26, 28, 28, 28, 29, 30, 30, 32, 32, 35, 36, 37, 41, 42, 43, 44, 44, 44, 45, 45, 46, 46, 46, 47, 49, 50, 50, 52, 53, 58, 59, 59, 60, 60, 61, 63, 63, 64, 64, 65, 67, 68, 68, 68, 69, 70, 70, 71, 72, 73, 74, 76, 77, 77, 78, 79, 80, 83, 84, 86, 89, 89, 90, 91, 91, 92, 93, 93, 94, 94, 94, 94, 95, 95, 95, 95, 98, 100]\n",
      "Data Value: 100\n",
      "Runngint time: 0.0012810230255126953\n"
     ]
    }
   ],
   "source": [
    "input_n = input('정렬할 데이터의 수: ')\n",
    "list = [random.randint(1, int(input_n)) for i in range(int(input_n))]\n",
    "\n",
    "print('<before>')\n",
    "print(list)\n",
    "\n",
    "start_time = time.time()\n",
    "bubble_sort(list)\n",
    "running_time = time.time() - start_time\n",
    "\n",
    "print('<after>')\n",
    "print(list)\n",
    "\n",
    "print(f'Data Value: {input_n}')\n",
    "print(f'Runngint time: {running_time}')"
   ]
  },
  {
   "cell_type": "markdown",
   "metadata": {},
   "source": [
    "## Shell Sort Algorithm"
   ]
  },
  {
   "cell_type": "markdown",
   "metadata": {},
   "source": [
    "기본 구조는 삽입 정렬 알고리즘과 같지만, 정렬할 데이터를 일정 구간별로 나누어서 구간 내에서 정렬한 후에 구간을 합쳐서 정렬하기 때문에, 비교 횟수나 데이터 이동 횟수가 훨씬 적다."
   ]
  },
  {
   "cell_type": "code",
   "execution_count": 4,
   "metadata": {},
   "outputs": [],
   "source": [
    "def shell_sort(random_list):\n",
    "    h = 1\n",
    "    while h < len(random_list):\n",
    "        h = h * 3 + 1\n",
    "    h = h // 3\n",
    "    \n",
    "    while h > 0:\n",
    "        for i in range(h):\n",
    "            start_idx = i + h\n",
    "            \n",
    "            while start_idx < len(random_list):\n",
    "                temp = random_list[start_idx]\n",
    "                insert_idx = start_idx\n",
    "                \n",
    "                while insert_idx > h - 1 and random_list[insert_idx-h] > temp:\n",
    "                    random_list[insert_idx] = random_list[insert_idx-h]\n",
    "                    insert_idx = insert_idx - h\n",
    "                    \n",
    "                random_list[insert_idx] = temp\n",
    "                start_idx = start_idx + h\n",
    "        h = h // 3"
   ]
  },
  {
   "cell_type": "code",
   "execution_count": 5,
   "metadata": {},
   "outputs": [
    {
     "name": "stdout",
     "output_type": "stream",
     "text": [
      "정렬할 데이터의 수: 100\n",
      "<before>\n",
      "[93, 22, 46, 19, 49, 63, 47, 32, 42, 18, 1, 32, 15, 30, 17, 48, 28, 17, 10, 13, 4, 74, 56, 93, 40, 84, 42, 30, 94, 70, 91, 22, 67, 77, 75, 26, 77, 45, 39, 4, 72, 68, 73, 50, 35, 93, 12, 36, 93, 78, 86, 23, 11, 65, 91, 27, 12, 17, 35, 50, 32, 12, 43, 30, 94, 40, 24, 87, 80, 60, 87, 63, 48, 20, 83, 94, 45, 35, 6, 49, 36, 97, 57, 44, 17, 7, 33, 36, 58, 96, 43, 92, 69, 59, 100, 66, 16, 33, 14, 8]\n",
      "<after>\n",
      "[1, 4, 4, 6, 7, 8, 10, 11, 12, 12, 12, 13, 14, 15, 16, 17, 17, 17, 17, 18, 19, 20, 22, 22, 23, 24, 26, 27, 28, 30, 30, 30, 32, 32, 32, 33, 33, 35, 35, 35, 36, 36, 36, 39, 40, 40, 42, 42, 43, 43, 44, 45, 45, 46, 47, 48, 48, 49, 49, 50, 50, 56, 57, 58, 59, 60, 63, 63, 65, 66, 67, 68, 69, 70, 72, 73, 74, 75, 77, 77, 78, 80, 83, 84, 86, 87, 87, 91, 91, 92, 93, 93, 93, 93, 94, 94, 94, 96, 97, 100]\n",
      "Data Value: 100\n",
      "Runngint time: 0.0004658699035644531\n"
     ]
    }
   ],
   "source": [
    "input_n = input('정렬할 데이터의 수: ')\n",
    "list = [random.randint(1, int(input_n)) for i in range(int(input_n))]\n",
    "\n",
    "print('<before>')\n",
    "print(list)\n",
    "\n",
    "start_time = time.time()\n",
    "shell_sort(list)\n",
    "running_time = time.time() - start_time\n",
    "\n",
    "print('<after>')\n",
    "print(list)\n",
    "\n",
    "print(f'Data Value: {input_n}')\n",
    "print(f'Runngint time: {running_time}')"
   ]
  }
 ],
 "metadata": {
  "kernelspec": {
   "display_name": "Python 3",
   "language": "python",
   "name": "python3"
  },
  "language_info": {
   "codemirror_mode": {
    "name": "ipython",
    "version": 3
   },
   "file_extension": ".py",
   "mimetype": "text/x-python",
   "name": "python",
   "nbconvert_exporter": "python",
   "pygments_lexer": "ipython3",
   "version": "3.6.0"
  }
 },
 "nbformat": 4,
 "nbformat_minor": 2
}

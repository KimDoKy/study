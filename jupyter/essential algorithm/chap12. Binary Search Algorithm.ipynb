{
 "cells": [
  {
   "cell_type": "markdown",
   "metadata": {},
   "source": [
    "## Binary Search Algorithm"
   ]
  },
  {
   "cell_type": "markdown",
   "metadata": {},
   "source": [
    "- 이미 정렬되어 있는 데이터를 절반씩 나누어 검색\n",
    "- 주어진 데이터를 여러 정렬 알고리즘을 사용하여 미리 정렬해두어야 한다.\n",
    "- 트리 구조를 사용한 이진 검색 알고리즘은 Binary Search Tree라고 부르며, 데이터베이스, 네트워크 등에서 응용된다."
   ]
  },
  {
   "cell_type": "code",
   "execution_count": 10,
   "metadata": {},
   "outputs": [],
   "source": [
    "def swap(x, i, j):\n",
    "    x[i], x[j] = x[j], x[i]\n",
    "    \n",
    "def pivotFirst(x, lmark, rmark):\n",
    "    pivot_val = x[lmark]\n",
    "    pivot_idx = lmark\n",
    "    while lmark <= rmark:\n",
    "        while lmark <= rmark and x[lmark] <= pivot_val:\n",
    "            lmark += 1\n",
    "        while lmark <= rmark and x[rmark] >= pivot_val:\n",
    "            rmark -= 1\n",
    "        if lmark <= rmark:\n",
    "            swap(x, lmark, rmark)\n",
    "            lmark += 1\n",
    "            rmark -= 1\n",
    "    swap(x, pivot_idx, rmark)\n",
    "    return rmark\n",
    "\n",
    "def quickSort(x, pivotMethod=pivotFirst):\n",
    "    def _qsort(x, first, last):\n",
    "        if first < last:\n",
    "            splitpoint = pivotMethod(x, first, last)\n",
    "            _qsort(x, first, splitpoint-1)\n",
    "            _qsort(x, splitpoint+1, last)\n",
    "    _qsort(x, 0, len(x) -1)"
   ]
  },
  {
   "cell_type": "code",
   "execution_count": 11,
   "metadata": {},
   "outputs": [],
   "source": [
    "def binary_search(a_list, wanted_data):\n",
    "    global counter\n",
    "    first = 0\n",
    "    last = len(a_list) - 1\n",
    "    \n",
    "    while first <= last:\n",
    "        idx = (first + last) // 2\n",
    "        counter += 1\n",
    "        if a_list[idx] == wanted_data:\n",
    "            print(f'{wanted_data} found at position {idx}')\n",
    "            return True\n",
    "        elif a_list[idx] > wanted_data:\n",
    "            last = idx - 1\n",
    "        elif a_list[idx] < wanted_data:\n",
    "            first = idx + 1\n",
    "        else:\n",
    "            print(f'{wanted_data} not found in the list')"
   ]
  },
  {
   "cell_type": "code",
   "execution_count": 12,
   "metadata": {},
   "outputs": [],
   "source": [
    "from random import randint"
   ]
  },
  {
   "cell_type": "code",
   "execution_count": 15,
   "metadata": {},
   "outputs": [
    {
     "name": "stdout",
     "output_type": "stream",
     "text": [
      "정렬할 데이터의 수: 100\n",
      "<before>\n",
      "[65, 94, 16, 58, 30, 60, 57, 13, 21, 92, 49, 81, 71, 84, 39, 98, 10, 89, 85, 74, 41, 67, 46, 15, 16, 54, 58, 8, 27, 97, 74, 81, 99, 64, 30, 97, 39, 79, 44, 59, 19, 72, 5, 12, 23, 13, 9, 27, 58, 82, 68, 1, 25, 49, 86, 35, 3, 45, 90, 67, 26, 30, 50, 91, 32, 76, 37, 29, 86, 67, 7, 35, 8, 65, 7, 62, 38, 69, 69, 67, 36, 2, 91, 53, 92, 98, 76, 73, 52, 85, 99, 6, 77, 18, 95, 21, 53, 97, 68, 99]\n",
      "<after>\n",
      "[1, 2, 3, 5, 6, 7, 7, 8, 8, 9, 10, 12, 13, 13, 15, 16, 16, 18, 19, 21, 21, 23, 25, 26, 27, 27, 29, 30, 30, 30, 32, 35, 35, 36, 37, 38, 39, 39, 41, 44, 45, 46, 49, 49, 50, 52, 53, 53, 54, 57, 58, 58, 58, 59, 60, 62, 64, 65, 65, 67, 67, 67, 67, 68, 68, 69, 69, 71, 72, 73, 74, 74, 76, 76, 77, 79, 81, 81, 82, 84, 85, 85, 86, 86, 89, 90, 91, 91, 92, 92, 94, 95, 97, 97, 97, 98, 98, 99, 99, 99]\n",
      "50 found at position 44\n",
      "총 7번의 비교만으로 50을 검색했습니다.\n",
      "True\n"
     ]
    }
   ],
   "source": [
    "counter = 0\n",
    "input_n = input('정렬할 데이터의 수: ')\n",
    "data = [randint(1, 100) for x in range(int(input_n))]\n",
    "\n",
    "print('<before>')\n",
    "print(data)\n",
    "\n",
    "print('<after>')\n",
    "quickSort(data)\n",
    "print(data)\n",
    "\n",
    "msg = binary_search(data, 50)\n",
    "if msg == True:\n",
    "    print(f'총 {counter}번의 비교만으로 {50}을 검색했습니다.')\n",
    "    \n",
    "print(msg)"
   ]
  },
  {
   "cell_type": "markdown",
   "metadata": {},
   "source": [
    "#### recursive binary search algorithm"
   ]
  },
  {
   "cell_type": "code",
   "execution_count": 16,
   "metadata": {},
   "outputs": [],
   "source": [
    "def binary_search_recursive(a_list, wanted_data):\n",
    "    global counter\n",
    "    first = 0\n",
    "    last = len(a_list) - 1\n",
    "    \n",
    "    if len(a_list) == 0:\n",
    "        print(f'{wanted_data} not found in the list.')\n",
    "        return False\n",
    "    else:\n",
    "        idx = (first + last) // 2\n",
    "        counter += 1\n",
    "        if wanted_data == a_list[idx]:\n",
    "            print(f'{wanted_data} found at position {idx}')\n",
    "            return True\n",
    "        else:\n",
    "            if a_list[idx] < wanted_data:\n",
    "                return binary_search_recursive(a_list[idx+1:], wanted_data)\n",
    "            else:\n",
    "                return binary_search_recursive(a_list[:idx], wanted_data)"
   ]
  },
  {
   "cell_type": "code",
   "execution_count": 17,
   "metadata": {},
   "outputs": [
    {
     "name": "stdout",
     "output_type": "stream",
     "text": [
      "<before>\n",
      "[80, 74, 16, 34, 83, 33, 42, 35, 60, 28, 92, 3, 85, 39, 57, 2, 98, 17, 84, 41, 76, 60, 26, 90, 31, 19, 94, 50, 3, 86, 28, 52, 16, 90, 67, 94, 71, 22, 100, 59, 22, 56, 83, 53, 64, 38, 33, 60, 24, 33, 99, 25, 93, 38, 66, 39, 79, 13, 40, 63, 38, 6, 2, 64, 68, 98, 71, 33, 53, 21, 73, 40, 90, 13, 38, 56, 50, 90, 36, 90, 11, 87, 86, 49, 60, 74, 83, 2, 79, 31, 88, 1, 15, 31, 68, 85, 4, 79, 66, 90]\n",
      "<after>\n",
      "[1, 2, 2, 2, 3, 3, 4, 6, 11, 13, 13, 15, 16, 16, 17, 19, 21, 22, 22, 24, 25, 26, 28, 28, 31, 31, 31, 33, 33, 33, 33, 34, 35, 36, 38, 38, 38, 38, 39, 39, 40, 40, 41, 42, 49, 50, 50, 52, 53, 53, 56, 56, 57, 59, 60, 60, 60, 60, 63, 64, 64, 66, 66, 67, 68, 68, 71, 71, 73, 74, 74, 76, 79, 79, 79, 80, 83, 83, 83, 84, 85, 85, 86, 86, 87, 88, 90, 90, 90, 90, 90, 90, 92, 93, 94, 94, 98, 98, 99, 100]\n",
      "50 found at position 2\n",
      "총 5번의 비교만으로 50을 검색했습니다.\n",
      "True\n"
     ]
    }
   ],
   "source": [
    "counter = 0\n",
    "data = [randint(1, 100) for x in range(int(input_n))]\n",
    "\n",
    "print('<before>')\n",
    "print(data)\n",
    "\n",
    "print('<after>')\n",
    "quickSort(data)\n",
    "print(data)\n",
    "\n",
    "msg = binary_search_recursive(data, 50)\n",
    "if msg == True:\n",
    "    print(f'총 {counter}번의 비교만으로 {50}을 검색했습니다.')\n",
    "print(msg)"
   ]
  }
 ],
 "metadata": {
  "kernelspec": {
   "display_name": "Python 3",
   "language": "python",
   "name": "python3"
  },
  "language_info": {
   "codemirror_mode": {
    "name": "ipython",
    "version": 3
   },
   "file_extension": ".py",
   "mimetype": "text/x-python",
   "name": "python",
   "nbconvert_exporter": "python",
   "pygments_lexer": "ipython3",
   "version": "3.6.0"
  }
 },
 "nbformat": 4,
 "nbformat_minor": 2
}

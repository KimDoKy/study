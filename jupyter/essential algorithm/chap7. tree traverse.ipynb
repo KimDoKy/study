{
 "cells": [
  {
   "cell_type": "markdown",
   "metadata": {},
   "source": [
    "# Tree Traverse"
   ]
  },
  {
   "cell_type": "markdown",
   "metadata": {},
   "source": [
    "## 트리 순회 알고리즘의 종류\n",
    "- 전위 순회(Pre-Order Traverse)\n",
    "- 중위 순회(In-Order Traverse)\n",
    "- 후위 순회(Post-Order Traverse)\n",
    "- 단계 순위 순회(Level-Order Traverse)"
   ]
  },
  {
   "cell_type": "markdown",
   "metadata": {},
   "source": [
    "#### 이진 트리, 초기화"
   ]
  },
  {
   "cell_type": "code",
   "execution_count": 1,
   "metadata": {},
   "outputs": [],
   "source": [
    "class Node:\n",
    "    def __init__(self, data):\n",
    "        self.data = data\n",
    "        self.left = None\n",
    "        self.right = None"
   ]
  },
  {
   "cell_type": "code",
   "execution_count": 2,
   "metadata": {},
   "outputs": [],
   "source": [
    "def init_item():\n",
    "    global root\n",
    "    \n",
    "    new_node = Node('A')\n",
    "    root = new_node\n",
    "    new_node = Node('B')\n",
    "    root.left = new_node\n",
    "    new_node = Node('C')\n",
    "    root.right = new_node\n",
    "    new_node_1 = Node('D')\n",
    "    new_node_2 = Node('E')\n",
    "    node = root.left\n",
    "    node.left = new_node_1\n",
    "    node.right = new_node_2\n",
    "    \n",
    "    new_node_1 = Node('F')\n",
    "    new_node_2 = Node('G')\n",
    "    node = root.right\n",
    "    node.left = new_node_1\n",
    "    node.right = new_node_2"
   ]
  },
  {
   "cell_type": "code",
   "execution_count": 3,
   "metadata": {},
   "outputs": [],
   "source": [
    "init_item()"
   ]
  },
  {
   "cell_type": "markdown",
   "metadata": {},
   "source": [
    "### Pre-Order Traverse (전위 순회 알고리즘)"
   ]
  },
  {
   "cell_type": "code",
   "execution_count": 4,
   "metadata": {},
   "outputs": [],
   "source": [
    "def preorder_traverse(node):\n",
    "    if node == None: return\n",
    "    print(node.data, end = ' -> ')\n",
    "    preorder_traverse(node.left)\n",
    "    preorder_traverse(node.right)"
   ]
  },
  {
   "cell_type": "code",
   "execution_count": 5,
   "metadata": {},
   "outputs": [
    {
     "name": "stdout",
     "output_type": "stream",
     "text": [
      "A -> B -> D -> E -> C -> F -> G -> "
     ]
    }
   ],
   "source": [
    "preorder_traverse(root)"
   ]
  },
  {
   "cell_type": "markdown",
   "metadata": {},
   "source": [
    "### Post-Order Traverse (후위 순회 알고리즘)"
   ]
  },
  {
   "cell_type": "code",
   "execution_count": 6,
   "metadata": {},
   "outputs": [],
   "source": [
    "def postorder_traverse(node):\n",
    "    if node == None: return\n",
    "    postorder_traverse(node.left)\n",
    "    postorder_traverse(node.right)\n",
    "    print(node.data, end = ' -> ')"
   ]
  },
  {
   "cell_type": "code",
   "execution_count": 7,
   "metadata": {},
   "outputs": [
    {
     "name": "stdout",
     "output_type": "stream",
     "text": [
      "D -> E -> B -> F -> G -> C -> A -> "
     ]
    }
   ],
   "source": [
    "postorder_traverse(root)"
   ]
  },
  {
   "cell_type": "markdown",
   "metadata": {},
   "source": [
    "### Level-Order Traverse (단계 순회 알고리즘)"
   ]
  },
  {
   "cell_type": "code",
   "execution_count": 8,
   "metadata": {},
   "outputs": [],
   "source": [
    "levelq = []"
   ]
  },
  {
   "cell_type": "code",
   "execution_count": 9,
   "metadata": {},
   "outputs": [],
   "source": [
    "def levelorder_traverse(node):\n",
    "    global levelq\n",
    "    levelq.append(node)\n",
    "    while len(levelq) != 0:\n",
    "        visit_node = levelq.pop(0)\n",
    "        print(visit_node.data, end = ' -> ')\n",
    "        \n",
    "        if visit_node.left != None:\n",
    "            levelq.append(visit_node.left)\n",
    "        if visit_node.right != None:\n",
    "            levelq.append(visit_node.right)"
   ]
  },
  {
   "cell_type": "code",
   "execution_count": 10,
   "metadata": {},
   "outputs": [
    {
     "name": "stdout",
     "output_type": "stream",
     "text": [
      "A -> B -> C -> D -> E -> F -> G -> "
     ]
    }
   ],
   "source": [
    "levelorder_traverse(root)"
   ]
  }
 ],
 "metadata": {
  "kernelspec": {
   "display_name": "Python 3",
   "language": "python",
   "name": "python3"
  },
  "language_info": {
   "codemirror_mode": {
    "name": "ipython",
    "version": 3
   },
   "file_extension": ".py",
   "mimetype": "text/x-python",
   "name": "python",
   "nbconvert_exporter": "python",
   "pygments_lexer": "ipython3",
   "version": "3.6.0"
  }
 },
 "nbformat": 4,
 "nbformat_minor": 2
}
